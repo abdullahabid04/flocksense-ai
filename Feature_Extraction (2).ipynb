{
  "nbformat": 4,
  "nbformat_minor": 0,
  "metadata": {
    "colab": {
      "provenance": [],
      "gpuType": "T4"
    },
    "kernelspec": {
      "name": "python3",
      "display_name": "Python 3"
    },
    "language_info": {
      "name": "python"
    },
    "accelerator": "GPU"
  },
  "cells": [
    {
      "cell_type": "code",
      "execution_count": null,
      "metadata": {
        "id": "MKb3hJl04TvW"
      },
      "outputs": [],
      "source": [
        "# Install required libraries\n",
        "!pip install -q opencv-python-headless\n",
        "\n",
        "# Import standard libraries\n",
        "import os\n",
        "import cv2\n",
        "import torch\n",
        "import numpy as np\n",
        "import pandas as pd\n",
        "from torchvision import models, transforms\n",
        "from PIL import Image\n",
        "from tqdm import tqdm"
      ]
    },
    {
      "cell_type": "code",
      "source": [
        "from google.colab import drive\n",
        "drive.mount('/content/drive')\n",
        "\n",
        "# ✅ Updated base path pointing to your segmented folders\n",
        "BASE_PATH = \"/content/drive/MyDrive/segmented\""
      ],
      "metadata": {
        "id": "9LRLdR6a45p3",
        "colab": {
          "base_uri": "https://localhost:8080/"
        },
        "outputId": "f219c8a8-781f-4df4-d090-2d20e90c638c"
      },
      "execution_count": null,
      "outputs": [
        {
          "output_type": "stream",
          "name": "stdout",
          "text": [
            "Mounted at /content/drive\n"
          ]
        }
      ]
    },
    {
      "cell_type": "code",
      "source": [
        "import os\n",
        "\n",
        "print(\"Checking BASE_PATH:\", BASE_PATH)\n",
        "if os.path.exists(BASE_PATH):\n",
        "    folders = os.listdir(BASE_PATH)\n",
        "    print(f\"✅ Found {len(folders)} folders in BASE_PATH.\")\n",
        "    print(\"Sample folder names:\", folders[:3])\n",
        "else:\n",
        "    print(\"❌ BASE_PATH does not exist. Check the path or re-mount your drive.\")\n"
      ],
      "metadata": {
        "colab": {
          "base_uri": "https://localhost:8080/"
        },
        "id": "mXV1_9A_X0Ej",
        "outputId": "2970056d-7f3c-4621-ea21-d8f6996a5d2e"
      },
      "execution_count": null,
      "outputs": [
        {
          "output_type": "stream",
          "name": "stdout",
          "text": [
            "Checking BASE_PATH: /content/drive/MyDrive/segmented\n",
            "✅ Found 135 folders in BASE_PATH.\n",
            "Sample folder names: ['chicken_sessions.csv', '20250721_114639_Monday_chicken-141_batch-32_chicken-age-32', '20250721_114526_Monday_chicken-140_batch-32_chicken-age-32']\n"
          ]
        }
      ]
    },
    {
      "cell_type": "code",
      "source": [
        "# Load pretrained ResNet50 and remove FC layers to get 2048-dim output\n",
        "device = torch.device(\"cuda\" if torch.cuda.is_available() else \"cpu\")\n",
        "\n",
        "resnet = models.resnet50(pretrained=True)\n",
        "resnet = torch.nn.Sequential(*list(resnet.children())[:-1])  # Remove FC layers\n",
        "resnet.to(device)\n",
        "resnet.eval()"
      ],
      "metadata": {
        "id": "pAuRZ6T-4-1P",
        "colab": {
          "base_uri": "https://localhost:8080/"
        },
        "outputId": "f6edddce-bb8b-422d-dcb1-8f8928218320"
      },
      "execution_count": null,
      "outputs": [
        {
          "output_type": "stream",
          "name": "stderr",
          "text": [
            "/usr/local/lib/python3.11/dist-packages/torchvision/models/_utils.py:208: UserWarning: The parameter 'pretrained' is deprecated since 0.13 and may be removed in the future, please use 'weights' instead.\n",
            "  warnings.warn(\n",
            "/usr/local/lib/python3.11/dist-packages/torchvision/models/_utils.py:223: UserWarning: Arguments other than a weight enum or `None` for 'weights' are deprecated since 0.13 and may be removed in the future. The current behavior is equivalent to passing `weights=ResNet50_Weights.IMAGENET1K_V1`. You can also use `weights=ResNet50_Weights.DEFAULT` to get the most up-to-date weights.\n",
            "  warnings.warn(msg)\n",
            "Downloading: \"https://download.pytorch.org/models/resnet50-0676ba61.pth\" to /root/.cache/torch/hub/checkpoints/resnet50-0676ba61.pth\n",
            "100%|██████████| 97.8M/97.8M [00:00<00:00, 185MB/s]\n"
          ]
        },
        {
          "output_type": "execute_result",
          "data": {
            "text/plain": [
              "Sequential(\n",
              "  (0): Conv2d(3, 64, kernel_size=(7, 7), stride=(2, 2), padding=(3, 3), bias=False)\n",
              "  (1): BatchNorm2d(64, eps=1e-05, momentum=0.1, affine=True, track_running_stats=True)\n",
              "  (2): ReLU(inplace=True)\n",
              "  (3): MaxPool2d(kernel_size=3, stride=2, padding=1, dilation=1, ceil_mode=False)\n",
              "  (4): Sequential(\n",
              "    (0): Bottleneck(\n",
              "      (conv1): Conv2d(64, 64, kernel_size=(1, 1), stride=(1, 1), bias=False)\n",
              "      (bn1): BatchNorm2d(64, eps=1e-05, momentum=0.1, affine=True, track_running_stats=True)\n",
              "      (conv2): Conv2d(64, 64, kernel_size=(3, 3), stride=(1, 1), padding=(1, 1), bias=False)\n",
              "      (bn2): BatchNorm2d(64, eps=1e-05, momentum=0.1, affine=True, track_running_stats=True)\n",
              "      (conv3): Conv2d(64, 256, kernel_size=(1, 1), stride=(1, 1), bias=False)\n",
              "      (bn3): BatchNorm2d(256, eps=1e-05, momentum=0.1, affine=True, track_running_stats=True)\n",
              "      (relu): ReLU(inplace=True)\n",
              "      (downsample): Sequential(\n",
              "        (0): Conv2d(64, 256, kernel_size=(1, 1), stride=(1, 1), bias=False)\n",
              "        (1): BatchNorm2d(256, eps=1e-05, momentum=0.1, affine=True, track_running_stats=True)\n",
              "      )\n",
              "    )\n",
              "    (1): Bottleneck(\n",
              "      (conv1): Conv2d(256, 64, kernel_size=(1, 1), stride=(1, 1), bias=False)\n",
              "      (bn1): BatchNorm2d(64, eps=1e-05, momentum=0.1, affine=True, track_running_stats=True)\n",
              "      (conv2): Conv2d(64, 64, kernel_size=(3, 3), stride=(1, 1), padding=(1, 1), bias=False)\n",
              "      (bn2): BatchNorm2d(64, eps=1e-05, momentum=0.1, affine=True, track_running_stats=True)\n",
              "      (conv3): Conv2d(64, 256, kernel_size=(1, 1), stride=(1, 1), bias=False)\n",
              "      (bn3): BatchNorm2d(256, eps=1e-05, momentum=0.1, affine=True, track_running_stats=True)\n",
              "      (relu): ReLU(inplace=True)\n",
              "    )\n",
              "    (2): Bottleneck(\n",
              "      (conv1): Conv2d(256, 64, kernel_size=(1, 1), stride=(1, 1), bias=False)\n",
              "      (bn1): BatchNorm2d(64, eps=1e-05, momentum=0.1, affine=True, track_running_stats=True)\n",
              "      (conv2): Conv2d(64, 64, kernel_size=(3, 3), stride=(1, 1), padding=(1, 1), bias=False)\n",
              "      (bn2): BatchNorm2d(64, eps=1e-05, momentum=0.1, affine=True, track_running_stats=True)\n",
              "      (conv3): Conv2d(64, 256, kernel_size=(1, 1), stride=(1, 1), bias=False)\n",
              "      (bn3): BatchNorm2d(256, eps=1e-05, momentum=0.1, affine=True, track_running_stats=True)\n",
              "      (relu): ReLU(inplace=True)\n",
              "    )\n",
              "  )\n",
              "  (5): Sequential(\n",
              "    (0): Bottleneck(\n",
              "      (conv1): Conv2d(256, 128, kernel_size=(1, 1), stride=(1, 1), bias=False)\n",
              "      (bn1): BatchNorm2d(128, eps=1e-05, momentum=0.1, affine=True, track_running_stats=True)\n",
              "      (conv2): Conv2d(128, 128, kernel_size=(3, 3), stride=(2, 2), padding=(1, 1), bias=False)\n",
              "      (bn2): BatchNorm2d(128, eps=1e-05, momentum=0.1, affine=True, track_running_stats=True)\n",
              "      (conv3): Conv2d(128, 512, kernel_size=(1, 1), stride=(1, 1), bias=False)\n",
              "      (bn3): BatchNorm2d(512, eps=1e-05, momentum=0.1, affine=True, track_running_stats=True)\n",
              "      (relu): ReLU(inplace=True)\n",
              "      (downsample): Sequential(\n",
              "        (0): Conv2d(256, 512, kernel_size=(1, 1), stride=(2, 2), bias=False)\n",
              "        (1): BatchNorm2d(512, eps=1e-05, momentum=0.1, affine=True, track_running_stats=True)\n",
              "      )\n",
              "    )\n",
              "    (1): Bottleneck(\n",
              "      (conv1): Conv2d(512, 128, kernel_size=(1, 1), stride=(1, 1), bias=False)\n",
              "      (bn1): BatchNorm2d(128, eps=1e-05, momentum=0.1, affine=True, track_running_stats=True)\n",
              "      (conv2): Conv2d(128, 128, kernel_size=(3, 3), stride=(1, 1), padding=(1, 1), bias=False)\n",
              "      (bn2): BatchNorm2d(128, eps=1e-05, momentum=0.1, affine=True, track_running_stats=True)\n",
              "      (conv3): Conv2d(128, 512, kernel_size=(1, 1), stride=(1, 1), bias=False)\n",
              "      (bn3): BatchNorm2d(512, eps=1e-05, momentum=0.1, affine=True, track_running_stats=True)\n",
              "      (relu): ReLU(inplace=True)\n",
              "    )\n",
              "    (2): Bottleneck(\n",
              "      (conv1): Conv2d(512, 128, kernel_size=(1, 1), stride=(1, 1), bias=False)\n",
              "      (bn1): BatchNorm2d(128, eps=1e-05, momentum=0.1, affine=True, track_running_stats=True)\n",
              "      (conv2): Conv2d(128, 128, kernel_size=(3, 3), stride=(1, 1), padding=(1, 1), bias=False)\n",
              "      (bn2): BatchNorm2d(128, eps=1e-05, momentum=0.1, affine=True, track_running_stats=True)\n",
              "      (conv3): Conv2d(128, 512, kernel_size=(1, 1), stride=(1, 1), bias=False)\n",
              "      (bn3): BatchNorm2d(512, eps=1e-05, momentum=0.1, affine=True, track_running_stats=True)\n",
              "      (relu): ReLU(inplace=True)\n",
              "    )\n",
              "    (3): Bottleneck(\n",
              "      (conv1): Conv2d(512, 128, kernel_size=(1, 1), stride=(1, 1), bias=False)\n",
              "      (bn1): BatchNorm2d(128, eps=1e-05, momentum=0.1, affine=True, track_running_stats=True)\n",
              "      (conv2): Conv2d(128, 128, kernel_size=(3, 3), stride=(1, 1), padding=(1, 1), bias=False)\n",
              "      (bn2): BatchNorm2d(128, eps=1e-05, momentum=0.1, affine=True, track_running_stats=True)\n",
              "      (conv3): Conv2d(128, 512, kernel_size=(1, 1), stride=(1, 1), bias=False)\n",
              "      (bn3): BatchNorm2d(512, eps=1e-05, momentum=0.1, affine=True, track_running_stats=True)\n",
              "      (relu): ReLU(inplace=True)\n",
              "    )\n",
              "  )\n",
              "  (6): Sequential(\n",
              "    (0): Bottleneck(\n",
              "      (conv1): Conv2d(512, 256, kernel_size=(1, 1), stride=(1, 1), bias=False)\n",
              "      (bn1): BatchNorm2d(256, eps=1e-05, momentum=0.1, affine=True, track_running_stats=True)\n",
              "      (conv2): Conv2d(256, 256, kernel_size=(3, 3), stride=(2, 2), padding=(1, 1), bias=False)\n",
              "      (bn2): BatchNorm2d(256, eps=1e-05, momentum=0.1, affine=True, track_running_stats=True)\n",
              "      (conv3): Conv2d(256, 1024, kernel_size=(1, 1), stride=(1, 1), bias=False)\n",
              "      (bn3): BatchNorm2d(1024, eps=1e-05, momentum=0.1, affine=True, track_running_stats=True)\n",
              "      (relu): ReLU(inplace=True)\n",
              "      (downsample): Sequential(\n",
              "        (0): Conv2d(512, 1024, kernel_size=(1, 1), stride=(2, 2), bias=False)\n",
              "        (1): BatchNorm2d(1024, eps=1e-05, momentum=0.1, affine=True, track_running_stats=True)\n",
              "      )\n",
              "    )\n",
              "    (1): Bottleneck(\n",
              "      (conv1): Conv2d(1024, 256, kernel_size=(1, 1), stride=(1, 1), bias=False)\n",
              "      (bn1): BatchNorm2d(256, eps=1e-05, momentum=0.1, affine=True, track_running_stats=True)\n",
              "      (conv2): Conv2d(256, 256, kernel_size=(3, 3), stride=(1, 1), padding=(1, 1), bias=False)\n",
              "      (bn2): BatchNorm2d(256, eps=1e-05, momentum=0.1, affine=True, track_running_stats=True)\n",
              "      (conv3): Conv2d(256, 1024, kernel_size=(1, 1), stride=(1, 1), bias=False)\n",
              "      (bn3): BatchNorm2d(1024, eps=1e-05, momentum=0.1, affine=True, track_running_stats=True)\n",
              "      (relu): ReLU(inplace=True)\n",
              "    )\n",
              "    (2): Bottleneck(\n",
              "      (conv1): Conv2d(1024, 256, kernel_size=(1, 1), stride=(1, 1), bias=False)\n",
              "      (bn1): BatchNorm2d(256, eps=1e-05, momentum=0.1, affine=True, track_running_stats=True)\n",
              "      (conv2): Conv2d(256, 256, kernel_size=(3, 3), stride=(1, 1), padding=(1, 1), bias=False)\n",
              "      (bn2): BatchNorm2d(256, eps=1e-05, momentum=0.1, affine=True, track_running_stats=True)\n",
              "      (conv3): Conv2d(256, 1024, kernel_size=(1, 1), stride=(1, 1), bias=False)\n",
              "      (bn3): BatchNorm2d(1024, eps=1e-05, momentum=0.1, affine=True, track_running_stats=True)\n",
              "      (relu): ReLU(inplace=True)\n",
              "    )\n",
              "    (3): Bottleneck(\n",
              "      (conv1): Conv2d(1024, 256, kernel_size=(1, 1), stride=(1, 1), bias=False)\n",
              "      (bn1): BatchNorm2d(256, eps=1e-05, momentum=0.1, affine=True, track_running_stats=True)\n",
              "      (conv2): Conv2d(256, 256, kernel_size=(3, 3), stride=(1, 1), padding=(1, 1), bias=False)\n",
              "      (bn2): BatchNorm2d(256, eps=1e-05, momentum=0.1, affine=True, track_running_stats=True)\n",
              "      (conv3): Conv2d(256, 1024, kernel_size=(1, 1), stride=(1, 1), bias=False)\n",
              "      (bn3): BatchNorm2d(1024, eps=1e-05, momentum=0.1, affine=True, track_running_stats=True)\n",
              "      (relu): ReLU(inplace=True)\n",
              "    )\n",
              "    (4): Bottleneck(\n",
              "      (conv1): Conv2d(1024, 256, kernel_size=(1, 1), stride=(1, 1), bias=False)\n",
              "      (bn1): BatchNorm2d(256, eps=1e-05, momentum=0.1, affine=True, track_running_stats=True)\n",
              "      (conv2): Conv2d(256, 256, kernel_size=(3, 3), stride=(1, 1), padding=(1, 1), bias=False)\n",
              "      (bn2): BatchNorm2d(256, eps=1e-05, momentum=0.1, affine=True, track_running_stats=True)\n",
              "      (conv3): Conv2d(256, 1024, kernel_size=(1, 1), stride=(1, 1), bias=False)\n",
              "      (bn3): BatchNorm2d(1024, eps=1e-05, momentum=0.1, affine=True, track_running_stats=True)\n",
              "      (relu): ReLU(inplace=True)\n",
              "    )\n",
              "    (5): Bottleneck(\n",
              "      (conv1): Conv2d(1024, 256, kernel_size=(1, 1), stride=(1, 1), bias=False)\n",
              "      (bn1): BatchNorm2d(256, eps=1e-05, momentum=0.1, affine=True, track_running_stats=True)\n",
              "      (conv2): Conv2d(256, 256, kernel_size=(3, 3), stride=(1, 1), padding=(1, 1), bias=False)\n",
              "      (bn2): BatchNorm2d(256, eps=1e-05, momentum=0.1, affine=True, track_running_stats=True)\n",
              "      (conv3): Conv2d(256, 1024, kernel_size=(1, 1), stride=(1, 1), bias=False)\n",
              "      (bn3): BatchNorm2d(1024, eps=1e-05, momentum=0.1, affine=True, track_running_stats=True)\n",
              "      (relu): ReLU(inplace=True)\n",
              "    )\n",
              "  )\n",
              "  (7): Sequential(\n",
              "    (0): Bottleneck(\n",
              "      (conv1): Conv2d(1024, 512, kernel_size=(1, 1), stride=(1, 1), bias=False)\n",
              "      (bn1): BatchNorm2d(512, eps=1e-05, momentum=0.1, affine=True, track_running_stats=True)\n",
              "      (conv2): Conv2d(512, 512, kernel_size=(3, 3), stride=(2, 2), padding=(1, 1), bias=False)\n",
              "      (bn2): BatchNorm2d(512, eps=1e-05, momentum=0.1, affine=True, track_running_stats=True)\n",
              "      (conv3): Conv2d(512, 2048, kernel_size=(1, 1), stride=(1, 1), bias=False)\n",
              "      (bn3): BatchNorm2d(2048, eps=1e-05, momentum=0.1, affine=True, track_running_stats=True)\n",
              "      (relu): ReLU(inplace=True)\n",
              "      (downsample): Sequential(\n",
              "        (0): Conv2d(1024, 2048, kernel_size=(1, 1), stride=(2, 2), bias=False)\n",
              "        (1): BatchNorm2d(2048, eps=1e-05, momentum=0.1, affine=True, track_running_stats=True)\n",
              "      )\n",
              "    )\n",
              "    (1): Bottleneck(\n",
              "      (conv1): Conv2d(2048, 512, kernel_size=(1, 1), stride=(1, 1), bias=False)\n",
              "      (bn1): BatchNorm2d(512, eps=1e-05, momentum=0.1, affine=True, track_running_stats=True)\n",
              "      (conv2): Conv2d(512, 512, kernel_size=(3, 3), stride=(1, 1), padding=(1, 1), bias=False)\n",
              "      (bn2): BatchNorm2d(512, eps=1e-05, momentum=0.1, affine=True, track_running_stats=True)\n",
              "      (conv3): Conv2d(512, 2048, kernel_size=(1, 1), stride=(1, 1), bias=False)\n",
              "      (bn3): BatchNorm2d(2048, eps=1e-05, momentum=0.1, affine=True, track_running_stats=True)\n",
              "      (relu): ReLU(inplace=True)\n",
              "    )\n",
              "    (2): Bottleneck(\n",
              "      (conv1): Conv2d(2048, 512, kernel_size=(1, 1), stride=(1, 1), bias=False)\n",
              "      (bn1): BatchNorm2d(512, eps=1e-05, momentum=0.1, affine=True, track_running_stats=True)\n",
              "      (conv2): Conv2d(512, 512, kernel_size=(3, 3), stride=(1, 1), padding=(1, 1), bias=False)\n",
              "      (bn2): BatchNorm2d(512, eps=1e-05, momentum=0.1, affine=True, track_running_stats=True)\n",
              "      (conv3): Conv2d(512, 2048, kernel_size=(1, 1), stride=(1, 1), bias=False)\n",
              "      (bn3): BatchNorm2d(2048, eps=1e-05, momentum=0.1, affine=True, track_running_stats=True)\n",
              "      (relu): ReLU(inplace=True)\n",
              "    )\n",
              "  )\n",
              "  (8): AdaptiveAvgPool2d(output_size=(1, 1))\n",
              ")"
            ]
          },
          "metadata": {},
          "execution_count": 4
        }
      ]
    },
    {
      "cell_type": "code",
      "source": [
        "# Preprocessing pipeline: normalize depth → JET map → resize → normalize for ResNet\n",
        "transform = transforms.Compose([\n",
        "    transforms.ToPILImage(),\n",
        "    transforms.Resize((224, 224)),\n",
        "    transforms.ToTensor(),\n",
        "    transforms.Normalize(mean=[0.485, 0.456, 0.406],\n",
        "                         std=[0.229, 0.224, 0.225])\n",
        "])\n",
        "\n",
        "def preprocess_depth_image(path):\n",
        "    try:\n",
        "        depth = cv2.imread(path, cv2.IMREAD_UNCHANGED)\n",
        "        depth = cv2.normalize(depth, None, 0, 255, cv2.NORM_MINMAX).astype(np.uint8)\n",
        "        jet = cv2.applyColorMap(depth, cv2.COLORMAP_JET)\n",
        "        return transform(jet)\n",
        "    except Exception as e:\n",
        "        print(f\"Error in preprocessing {path}: {e}\")\n",
        "        return None\n"
      ],
      "metadata": {
        "id": "cb9W62yc5DQH"
      },
      "execution_count": null,
      "outputs": []
    },
    {
      "cell_type": "code",
      "source": [
        "output_rows = []\n",
        "\n",
        "# Get all folders in the base directory\n",
        "chicken_folders = sorted([\n",
        "    d for d in os.listdir(BASE_PATH)\n",
        "    if os.path.isdir(os.path.join(BASE_PATH, d))\n",
        "])\n",
        "\n",
        "print(f\"🔍 Total folders (chickens/days) found: {len(chicken_folders)}\")\n",
        "\n",
        "for folder in tqdm(chicken_folders, desc=\"Processing Folders\"):\n",
        "    chicken_path = os.path.join(BASE_PATH, folder)\n",
        "\n",
        "    # Get all .png images (case-insensitive)\n",
        "    image_files = sorted([\n",
        "        f for f in os.listdir(chicken_path)\n",
        "        if f.lower().endswith(\".png\")\n",
        "    ])\n",
        "\n",
        "    print(f\"\\n📂 {folder} → Found {len(image_files)} PNG images\")\n",
        "\n",
        "    if len(image_files) == 0:\n",
        "        print(f\"⚠️ Skipping {folder} — No .png images found.\")\n",
        "        continue\n",
        "\n",
        "    for img_file in image_files:\n",
        "        img_path = os.path.join(chicken_path, img_file)\n",
        "\n",
        "        # Preprocess depth image\n",
        "        img_tensor = preprocess_depth_image(img_path)\n",
        "        if img_tensor is None:\n",
        "            print(f\"❌ Skipped {img_file} in {folder} — Preprocessing failed.\")\n",
        "            continue\n",
        "\n",
        "        img_tensor = img_tensor.unsqueeze(0).to(device)\n",
        "\n",
        "        try:\n",
        "            with torch.no_grad():\n",
        "                features = resnet(img_tensor).squeeze().cpu().numpy()\n",
        "            print(f\"✅ Extracted features from {img_file} in {folder}\")\n",
        "        except Exception as e:\n",
        "            print(f\"❌ Error extracting features from {img_file} in {folder}: {e}\")\n",
        "            continue\n",
        "\n",
        "        # Store metadata + feature vector\n",
        "        row = [folder, img_file] + features.tolist()\n",
        "        output_rows.append(row)\n",
        "\n",
        "# Summary after loop\n",
        "print(\"\\n📊 Feature Extraction Summary:\")\n",
        "print(f\"✅ Total folders processed: {len(chicken_folders)}\")\n",
        "print(f\"✅ Total images processed: {len(output_rows)}\")\n",
        "if len(output_rows) > 0:\n",
        "    print(f\"✅ Sample row: {output_rows[0][:5]}\")\n",
        "else:\n",
        "    print(\"❌ No features extracted. Check logs above.\")\n"
      ],
      "metadata": {
        "id": "QwqW_H215L1Y",
        "colab": {
          "base_uri": "https://localhost:8080/"
        },
        "outputId": "95634f76-2416-4486-e4b6-93d7dfa35428"
      },
      "execution_count": null,
      "outputs": [
        {
          "output_type": "stream",
          "name": "stdout",
          "text": [
            "🔍 Total folders (chickens/days) found: 133\n"
          ]
        },
        {
          "output_type": "stream",
          "name": "stderr",
          "text": [
            "\rProcessing Folders:   0%|          | 0/133 [00:00<?, ?it/s]"
          ]
        },
        {
          "output_type": "stream",
          "name": "stdout",
          "text": [
            "\n",
            "📂 20250712_105816_Saturday_chicken-2_batch-23_chicken-age-23 → Found 8 PNG images\n",
            "✅ Extracted features from rgb_20250712_105832_715015_instance-0.png in 20250712_105816_Saturday_chicken-2_batch-23_chicken-age-23\n",
            "✅ Extracted features from rgb_20250712_105835_034034_instance-0.png in 20250712_105816_Saturday_chicken-2_batch-23_chicken-age-23\n",
            "✅ Extracted features from rgb_20250712_105837_126723_instance-0.png in 20250712_105816_Saturday_chicken-2_batch-23_chicken-age-23\n",
            "✅ Extracted features from rgb_20250712_105841_967950_instance-0.png in 20250712_105816_Saturday_chicken-2_batch-23_chicken-age-23\n",
            "✅ Extracted features from rgb_20250712_105843_945226_instance-0.png in 20250712_105816_Saturday_chicken-2_batch-23_chicken-age-23\n",
            "✅ Extracted features from rgb_20250712_105852_571966_instance-0.png in 20250712_105816_Saturday_chicken-2_batch-23_chicken-age-23\n",
            "✅ Extracted features from rgb_20250712_105855_417582_instance-0.png in 20250712_105816_Saturday_chicken-2_batch-23_chicken-age-23\n"
          ]
        },
        {
          "output_type": "stream",
          "name": "stderr",
          "text": [
            "\rProcessing Folders:   1%|          | 1/133 [00:08<18:44,  8.52s/it]"
          ]
        },
        {
          "output_type": "stream",
          "name": "stdout",
          "text": [
            "✅ Extracted features from rgb_20250712_105857_082772_instance-0.png in 20250712_105816_Saturday_chicken-2_batch-23_chicken-age-23\n",
            "\n",
            "📂 20250712_105946_Saturday_chicken-3_batch-23_chicken-age-23 → Found 13 PNG images\n",
            "✅ Extracted features from rgb_20250712_105956_066403_instance-0.png in 20250712_105946_Saturday_chicken-3_batch-23_chicken-age-23\n",
            "✅ Extracted features from rgb_20250712_105957_237449_instance-0.png in 20250712_105946_Saturday_chicken-3_batch-23_chicken-age-23\n",
            "✅ Extracted features from rgb_20250712_105958_998218_instance-0.png in 20250712_105946_Saturday_chicken-3_batch-23_chicken-age-23\n",
            "✅ Extracted features from rgb_20250712_110000_113100_instance-0.png in 20250712_105946_Saturday_chicken-3_batch-23_chicken-age-23\n",
            "✅ Extracted features from rgb_20250712_110001_390137_instance-0.png in 20250712_105946_Saturday_chicken-3_batch-23_chicken-age-23\n",
            "✅ Extracted features from rgb_20250712_110002_672555_instance-0.png in 20250712_105946_Saturday_chicken-3_batch-23_chicken-age-23\n",
            "✅ Extracted features from rgb_20250712_110004_377920_instance-0.png in 20250712_105946_Saturday_chicken-3_batch-23_chicken-age-23\n",
            "✅ Extracted features from rgb_20250712_110006_579381_instance-0.png in 20250712_105946_Saturday_chicken-3_batch-23_chicken-age-23\n",
            "✅ Extracted features from rgb_20250712_110016_417318_instance-0.png in 20250712_105946_Saturday_chicken-3_batch-23_chicken-age-23\n",
            "✅ Extracted features from rgb_20250712_110017_955419_instance-0.png in 20250712_105946_Saturday_chicken-3_batch-23_chicken-age-23\n",
            "✅ Extracted features from rgb_20250712_110019_718305_instance-0.png in 20250712_105946_Saturday_chicken-3_batch-23_chicken-age-23\n",
            "✅ Extracted features from rgb_20250712_110021_642748_instance-0.png in 20250712_105946_Saturday_chicken-3_batch-23_chicken-age-23\n"
          ]
        },
        {
          "output_type": "stream",
          "name": "stderr",
          "text": [
            "\rProcessing Folders:   2%|▏         | 2/133 [00:21<23:46, 10.89s/it]"
          ]
        },
        {
          "output_type": "stream",
          "name": "stdout",
          "text": [
            "✅ Extracted features from rgb_20250712_110023_337509_instance-0.png in 20250712_105946_Saturday_chicken-3_batch-23_chicken-age-23\n",
            "\n",
            "📂 20250712_110040_Saturday_chicken-4_batch-23_chicken-age-23 → Found 8 PNG images\n",
            "✅ Extracted features from rgb_20250712_110057_240377_instance-0.png in 20250712_110040_Saturday_chicken-4_batch-23_chicken-age-23\n",
            "✅ Extracted features from rgb_20250712_110058_462221_instance-0.png in 20250712_110040_Saturday_chicken-4_batch-23_chicken-age-23\n",
            "✅ Extracted features from rgb_20250712_110059_709838_instance-0.png in 20250712_110040_Saturday_chicken-4_batch-23_chicken-age-23\n",
            "✅ Extracted features from rgb_20250712_110101_358165_instance-0.png in 20250712_110040_Saturday_chicken-4_batch-23_chicken-age-23\n",
            "✅ Extracted features from rgb_20250712_110102_549963_instance-0.png in 20250712_110040_Saturday_chicken-4_batch-23_chicken-age-23\n",
            "✅ Extracted features from rgb_20250712_110103_944203_instance-0.png in 20250712_110040_Saturday_chicken-4_batch-23_chicken-age-23\n",
            "✅ Extracted features from rgb_20250712_110105_389802_instance-0.png in 20250712_110040_Saturday_chicken-4_batch-23_chicken-age-23\n"
          ]
        },
        {
          "output_type": "stream",
          "name": "stderr",
          "text": [
            "\rProcessing Folders:   2%|▏         | 3/133 [00:28<20:26,  9.44s/it]"
          ]
        },
        {
          "output_type": "stream",
          "name": "stdout",
          "text": [
            "✅ Extracted features from rgb_20250712_110106_818733_instance-0.png in 20250712_110040_Saturday_chicken-4_batch-23_chicken-age-23\n",
            "\n",
            "📂 20250712_110126_Saturday_chicken-5_batch-23_chicken-age-23 → Found 12 PNG images\n",
            "✅ Extracted features from rgb_20250712_110138_566403_instance-0.png in 20250712_110126_Saturday_chicken-5_batch-23_chicken-age-23\n",
            "✅ Extracted features from rgb_20250712_110139_938222_instance-0.png in 20250712_110126_Saturday_chicken-5_batch-23_chicken-age-23\n",
            "✅ Extracted features from rgb_20250712_110141_274187_instance-0.png in 20250712_110126_Saturday_chicken-5_batch-23_chicken-age-23\n",
            "✅ Extracted features from rgb_20250712_110142_576514_instance-0.png in 20250712_110126_Saturday_chicken-5_batch-23_chicken-age-23\n",
            "✅ Extracted features from rgb_20250712_110143_926851_instance-0.png in 20250712_110126_Saturday_chicken-5_batch-23_chicken-age-23\n",
            "✅ Extracted features from rgb_20250712_110145_181155_instance-0.png in 20250712_110126_Saturday_chicken-5_batch-23_chicken-age-23\n",
            "✅ Extracted features from rgb_20250712_110146_445088_instance-0.png in 20250712_110126_Saturday_chicken-5_batch-23_chicken-age-23\n",
            "✅ Extracted features from rgb_20250712_110149_162886_instance-0.png in 20250712_110126_Saturday_chicken-5_batch-23_chicken-age-23\n",
            "✅ Extracted features from rgb_20250712_110150_423013_instance-0.png in 20250712_110126_Saturday_chicken-5_batch-23_chicken-age-23\n",
            "✅ Extracted features from rgb_20250712_110153_707319_instance-0.png in 20250712_110126_Saturday_chicken-5_batch-23_chicken-age-23\n",
            "✅ Extracted features from rgb_20250712_110155_082412_instance-0.png in 20250712_110126_Saturday_chicken-5_batch-23_chicken-age-23\n"
          ]
        },
        {
          "output_type": "stream",
          "name": "stderr",
          "text": [
            "\rProcessing Folders:   3%|▎         | 4/133 [00:40<22:03, 10.26s/it]"
          ]
        },
        {
          "output_type": "stream",
          "name": "stdout",
          "text": [
            "✅ Extracted features from rgb_20250712_110156_457095_instance-0.png in 20250712_110126_Saturday_chicken-5_batch-23_chicken-age-23\n",
            "\n",
            "📂 20250712_110210_Saturday_chicken-6_batch-23_chicken-age-23 → Found 10 PNG images\n",
            "✅ Extracted features from rgb_20250712_110236_312031_instance-0.png in 20250712_110210_Saturday_chicken-6_batch-23_chicken-age-23\n",
            "✅ Extracted features from rgb_20250712_110238_421053_instance-0.png in 20250712_110210_Saturday_chicken-6_batch-23_chicken-age-23\n",
            "✅ Extracted features from rgb_20250712_110239_862791_instance-0.png in 20250712_110210_Saturday_chicken-6_batch-23_chicken-age-23\n",
            "✅ Extracted features from rgb_20250712_110241_259679_instance-0.png in 20250712_110210_Saturday_chicken-6_batch-23_chicken-age-23\n",
            "✅ Extracted features from rgb_20250712_110242_566524_instance-0.png in 20250712_110210_Saturday_chicken-6_batch-23_chicken-age-23\n",
            "✅ Extracted features from rgb_20250712_110243_855195_instance-0.png in 20250712_110210_Saturday_chicken-6_batch-23_chicken-age-23\n",
            "✅ Extracted features from rgb_20250712_110245_309167_instance-0.png in 20250712_110210_Saturday_chicken-6_batch-23_chicken-age-23\n",
            "✅ Extracted features from rgb_20250712_110246_789034_instance-0.png in 20250712_110210_Saturday_chicken-6_batch-23_chicken-age-23\n",
            "✅ Extracted features from rgb_20250712_110248_150536_instance-0.png in 20250712_110210_Saturday_chicken-6_batch-23_chicken-age-23\n"
          ]
        },
        {
          "output_type": "stream",
          "name": "stderr",
          "text": [
            "\rProcessing Folders:   4%|▍         | 5/133 [00:49<21:24, 10.04s/it]"
          ]
        },
        {
          "output_type": "stream",
          "name": "stdout",
          "text": [
            "✅ Extracted features from rgb_20250712_110249_348974_instance-0.png in 20250712_110210_Saturday_chicken-6_batch-23_chicken-age-23\n",
            "\n",
            "📂 20250712_110310_Saturday_chicken-7_batch-23_chicken-age-23 → Found 12 PNG images\n",
            "✅ Extracted features from rgb_20250712_110321_955438_instance-0.png in 20250712_110310_Saturday_chicken-7_batch-23_chicken-age-23\n",
            "✅ Extracted features from rgb_20250712_110323_312217_instance-0.png in 20250712_110310_Saturday_chicken-7_batch-23_chicken-age-23\n",
            "✅ Extracted features from rgb_20250712_110324_722159_instance-0.png in 20250712_110310_Saturday_chicken-7_batch-23_chicken-age-23\n",
            "✅ Extracted features from rgb_20250712_110326_041510_instance-0.png in 20250712_110310_Saturday_chicken-7_batch-23_chicken-age-23\n",
            "✅ Extracted features from rgb_20250712_110327_383993_instance-0.png in 20250712_110310_Saturday_chicken-7_batch-23_chicken-age-23\n",
            "✅ Extracted features from rgb_20250712_110328_676131_instance-0.png in 20250712_110310_Saturday_chicken-7_batch-23_chicken-age-23\n",
            "✅ Extracted features from rgb_20250712_110329_928459_instance-0.png in 20250712_110310_Saturday_chicken-7_batch-23_chicken-age-23\n",
            "✅ Extracted features from rgb_20250712_110331_314063_instance-0.png in 20250712_110310_Saturday_chicken-7_batch-23_chicken-age-23\n",
            "✅ Extracted features from rgb_20250712_110332_888120_instance-0.png in 20250712_110310_Saturday_chicken-7_batch-23_chicken-age-23\n",
            "✅ Extracted features from rgb_20250712_110401_885455_instance-0.png in 20250712_110310_Saturday_chicken-7_batch-23_chicken-age-23\n",
            "✅ Extracted features from rgb_20250712_110403_421398_instance-0.png in 20250712_110310_Saturday_chicken-7_batch-23_chicken-age-23\n"
          ]
        },
        {
          "output_type": "stream",
          "name": "stderr",
          "text": [
            "\rProcessing Folders:   5%|▍         | 6/133 [01:01<21:59, 10.39s/it]"
          ]
        },
        {
          "output_type": "stream",
          "name": "stdout",
          "text": [
            "✅ Extracted features from rgb_20250712_110406_830364_instance-0.png in 20250712_110310_Saturday_chicken-7_batch-23_chicken-age-23\n",
            "\n",
            "📂 20250712_110443_Saturday_chicken-8_batch-23_chicken-age-23 → Found 8 PNG images\n",
            "✅ Extracted features from rgb_20250712_110452_639027_instance-0.png in 20250712_110443_Saturday_chicken-8_batch-23_chicken-age-23\n",
            "✅ Extracted features from rgb_20250712_110454_344621_instance-0.png in 20250712_110443_Saturday_chicken-8_batch-23_chicken-age-23\n",
            "✅ Extracted features from rgb_20250712_110456_266698_instance-0.png in 20250712_110443_Saturday_chicken-8_batch-23_chicken-age-23\n",
            "✅ Extracted features from rgb_20250712_110459_013092_instance-0.png in 20250712_110443_Saturday_chicken-8_batch-23_chicken-age-23\n",
            "✅ Extracted features from rgb_20250712_110500_654395_instance-0.png in 20250712_110443_Saturday_chicken-8_batch-23_chicken-age-23\n",
            "✅ Extracted features from rgb_20250712_110522_470924_instance-0.png in 20250712_110443_Saturday_chicken-8_batch-23_chicken-age-23\n",
            "✅ Extracted features from rgb_20250712_110523_778211_instance-0.png in 20250712_110443_Saturday_chicken-8_batch-23_chicken-age-23\n"
          ]
        },
        {
          "output_type": "stream",
          "name": "stderr",
          "text": [
            "\rProcessing Folders:   5%|▌         | 7/133 [01:08<19:44,  9.40s/it]"
          ]
        },
        {
          "output_type": "stream",
          "name": "stdout",
          "text": [
            "✅ Extracted features from rgb_20250712_110525_263862_instance-0.png in 20250712_110443_Saturday_chicken-8_batch-23_chicken-age-23\n",
            "\n",
            "📂 20250712_110543_Saturday_chicken-9_batch-23_chicken-age-23 → Found 7 PNG images\n",
            "✅ Extracted features from rgb_20250712_110552_103492_instance-0.png in 20250712_110543_Saturday_chicken-9_batch-23_chicken-age-23\n",
            "✅ Extracted features from rgb_20250712_110553_419990_instance-0.png in 20250712_110543_Saturday_chicken-9_batch-23_chicken-age-23\n",
            "✅ Extracted features from rgb_20250712_110555_117948_instance-0.png in 20250712_110543_Saturday_chicken-9_batch-23_chicken-age-23\n",
            "✅ Extracted features from rgb_20250712_110556_782080_instance-0.png in 20250712_110543_Saturday_chicken-9_batch-23_chicken-age-23\n",
            "✅ Extracted features from rgb_20250712_110558_899558_instance-0.png in 20250712_110543_Saturday_chicken-9_batch-23_chicken-age-23\n",
            "✅ Extracted features from rgb_20250712_110600_482881_instance-0.png in 20250712_110543_Saturday_chicken-9_batch-23_chicken-age-23\n"
          ]
        },
        {
          "output_type": "stream",
          "name": "stderr",
          "text": [
            "\rProcessing Folders:   6%|▌         | 8/133 [01:14<17:33,  8.43s/it]"
          ]
        },
        {
          "output_type": "stream",
          "name": "stdout",
          "text": [
            "✅ Extracted features from rgb_20250712_110602_320425_instance-0.png in 20250712_110543_Saturday_chicken-9_batch-23_chicken-age-23\n",
            "\n",
            "📂 20250712_110635_Saturday_chicken-10_batch-23_chicken-age-23 → Found 5 PNG images\n",
            "✅ Extracted features from rgb_20250712_110701_381073_instance-0.png in 20250712_110635_Saturday_chicken-10_batch-23_chicken-age-23\n",
            "✅ Extracted features from rgb_20250712_110702_878764_instance-0.png in 20250712_110635_Saturday_chicken-10_batch-23_chicken-age-23\n",
            "✅ Extracted features from rgb_20250712_110705_150759_instance-0.png in 20250712_110635_Saturday_chicken-10_batch-23_chicken-age-23\n",
            "✅ Extracted features from rgb_20250712_110706_461607_instance-0.png in 20250712_110635_Saturday_chicken-10_batch-23_chicken-age-23\n"
          ]
        },
        {
          "output_type": "stream",
          "name": "stderr",
          "text": [
            "\rProcessing Folders:   7%|▋         | 9/133 [01:19<14:51,  7.19s/it]"
          ]
        },
        {
          "output_type": "stream",
          "name": "stdout",
          "text": [
            "✅ Extracted features from rgb_20250712_110709_297617_instance-0.png in 20250712_110635_Saturday_chicken-10_batch-23_chicken-age-23\n",
            "\n",
            "📂 20250712_110728_Saturday_chicken-11_batch-23_chicken-age-23 → Found 15 PNG images\n",
            "✅ Extracted features from rgb_20250712_110806_438633_instance-0.png in 20250712_110728_Saturday_chicken-11_batch-23_chicken-age-23\n",
            "✅ Extracted features from rgb_20250712_110821_090918_instance-0.png in 20250712_110728_Saturday_chicken-11_batch-23_chicken-age-23\n",
            "✅ Extracted features from rgb_20250712_110822_351051_instance-0.png in 20250712_110728_Saturday_chicken-11_batch-23_chicken-age-23\n",
            "✅ Extracted features from rgb_20250712_110823_661306_instance-0.png in 20250712_110728_Saturday_chicken-11_batch-23_chicken-age-23\n",
            "✅ Extracted features from rgb_20250712_110825_171193_instance-0.png in 20250712_110728_Saturday_chicken-11_batch-23_chicken-age-23\n",
            "✅ Extracted features from rgb_20250712_110826_555430_instance-0.png in 20250712_110728_Saturday_chicken-11_batch-23_chicken-age-23\n",
            "✅ Extracted features from rgb_20250712_110827_877652_instance-0.png in 20250712_110728_Saturday_chicken-11_batch-23_chicken-age-23\n",
            "✅ Extracted features from rgb_20250712_110830_817803_instance-0.png in 20250712_110728_Saturday_chicken-11_batch-23_chicken-age-23\n",
            "✅ Extracted features from rgb_20250712_110832_280404_instance-0.png in 20250712_110728_Saturday_chicken-11_batch-23_chicken-age-23\n",
            "✅ Extracted features from rgb_20250712_110834_245136_instance-0.png in 20250712_110728_Saturday_chicken-11_batch-23_chicken-age-23\n",
            "✅ Extracted features from rgb_20250712_110838_009618_instance-0.png in 20250712_110728_Saturday_chicken-11_batch-23_chicken-age-23\n",
            "✅ Extracted features from rgb_20250712_110840_854898_instance-0.png in 20250712_110728_Saturday_chicken-11_batch-23_chicken-age-23\n",
            "✅ Extracted features from rgb_20250712_110842_139119_instance-0.png in 20250712_110728_Saturday_chicken-11_batch-23_chicken-age-23\n",
            "✅ Extracted features from rgb_20250712_110843_548495_instance-0.png in 20250712_110728_Saturday_chicken-11_batch-23_chicken-age-23\n"
          ]
        },
        {
          "output_type": "stream",
          "name": "stderr",
          "text": [
            "\rProcessing Folders:   8%|▊         | 10/133 [01:34<19:34,  9.55s/it]"
          ]
        },
        {
          "output_type": "stream",
          "name": "stdout",
          "text": [
            "✅ Extracted features from rgb_20250712_110844_823811_instance-0.png in 20250712_110728_Saturday_chicken-11_batch-23_chicken-age-23\n",
            "\n",
            "📂 20250712_110908_Saturday_chicken-12_batch-23_chicken-age-23 → Found 14 PNG images\n",
            "✅ Extracted features from rgb_20250712_110918_705440_instance-0.png in 20250712_110908_Saturday_chicken-12_batch-23_chicken-age-23\n",
            "✅ Extracted features from rgb_20250712_110920_537392_instance-0.png in 20250712_110908_Saturday_chicken-12_batch-23_chicken-age-23\n",
            "✅ Extracted features from rgb_20250712_110921_738801_instance-0.png in 20250712_110908_Saturday_chicken-12_batch-23_chicken-age-23\n",
            "✅ Extracted features from rgb_20250712_110923_036130_instance-0.png in 20250712_110908_Saturday_chicken-12_batch-23_chicken-age-23\n",
            "✅ Extracted features from rgb_20250712_110924_437437_instance-0.png in 20250712_110908_Saturday_chicken-12_batch-23_chicken-age-23\n",
            "✅ Extracted features from rgb_20250712_110925_747306_instance-0.png in 20250712_110908_Saturday_chicken-12_batch-23_chicken-age-23\n",
            "✅ Extracted features from rgb_20250712_110927_102350_instance-0.png in 20250712_110908_Saturday_chicken-12_batch-23_chicken-age-23\n",
            "✅ Extracted features from rgb_20250712_110928_467148_instance-0.png in 20250712_110908_Saturday_chicken-12_batch-23_chicken-age-23\n",
            "✅ Extracted features from rgb_20250712_110929_902551_instance-0.png in 20250712_110908_Saturday_chicken-12_batch-23_chicken-age-23\n",
            "✅ Extracted features from rgb_20250712_110931_231546_instance-0.png in 20250712_110908_Saturday_chicken-12_batch-23_chicken-age-23\n",
            "✅ Extracted features from rgb_20250712_110934_303879_instance-0.png in 20250712_110908_Saturday_chicken-12_batch-23_chicken-age-23\n",
            "✅ Extracted features from rgb_20250712_110935_848189_instance-0.png in 20250712_110908_Saturday_chicken-12_batch-23_chicken-age-23\n",
            "✅ Extracted features from rgb_20250712_110937_306147_instance-0.png in 20250712_110908_Saturday_chicken-12_batch-23_chicken-age-23\n"
          ]
        },
        {
          "output_type": "stream",
          "name": "stderr",
          "text": [
            "\rProcessing Folders:   8%|▊         | 11/133 [01:47<21:38, 10.64s/it]"
          ]
        },
        {
          "output_type": "stream",
          "name": "stdout",
          "text": [
            "✅ Extracted features from rgb_20250712_110938_562144_instance-0.png in 20250712_110908_Saturday_chicken-12_batch-23_chicken-age-23\n",
            "\n",
            "📂 20250712_111012_Saturday_chicken-13_batch-23_chicken-age-23 → Found 7 PNG images\n",
            "✅ Extracted features from rgb_20250712_111022_518711_instance-0.png in 20250712_111012_Saturday_chicken-13_batch-23_chicken-age-23\n",
            "✅ Extracted features from rgb_20250712_111027_365416_instance-0.png in 20250712_111012_Saturday_chicken-13_batch-23_chicken-age-23\n",
            "✅ Extracted features from rgb_20250712_111028_751196_instance-0.png in 20250712_111012_Saturday_chicken-13_batch-23_chicken-age-23\n",
            "✅ Extracted features from rgb_20250712_111030_044156_instance-0.png in 20250712_111012_Saturday_chicken-13_batch-23_chicken-age-23\n",
            "✅ Extracted features from rgb_20250712_111031_454315_instance-0.png in 20250712_111012_Saturday_chicken-13_batch-23_chicken-age-23\n",
            "✅ Extracted features from rgb_20250712_111032_731326_instance-0.png in 20250712_111012_Saturday_chicken-13_batch-23_chicken-age-23\n"
          ]
        },
        {
          "output_type": "stream",
          "name": "stderr",
          "text": [
            "\rProcessing Folders:   9%|▉         | 12/133 [01:53<18:54,  9.38s/it]"
          ]
        },
        {
          "output_type": "stream",
          "name": "stdout",
          "text": [
            "✅ Extracted features from rgb_20250712_111036_841362_instance-0.png in 20250712_111012_Saturday_chicken-13_batch-23_chicken-age-23\n",
            "\n",
            "📂 20250712_111055_Saturday_chicken-14_batch-23_chicken-age-23 → Found 8 PNG images\n",
            "✅ Extracted features from rgb_20250712_111104_248511_instance-0.png in 20250712_111055_Saturday_chicken-14_batch-23_chicken-age-23\n",
            "✅ Extracted features from rgb_20250712_111105_483405_instance-0.png in 20250712_111055_Saturday_chicken-14_batch-23_chicken-age-23\n",
            "✅ Extracted features from rgb_20250712_111106_729009_instance-0.png in 20250712_111055_Saturday_chicken-14_batch-23_chicken-age-23\n",
            "✅ Extracted features from rgb_20250712_111108_077265_instance-0.png in 20250712_111055_Saturday_chicken-14_batch-23_chicken-age-23\n",
            "✅ Extracted features from rgb_20250712_111110_973460_instance-0.png in 20250712_111055_Saturday_chicken-14_batch-23_chicken-age-23\n",
            "✅ Extracted features from rgb_20250712_111112_328281_instance-0.png in 20250712_111055_Saturday_chicken-14_batch-23_chicken-age-23\n",
            "✅ Extracted features from rgb_20250712_111113_632964_instance-0.png in 20250712_111055_Saturday_chicken-14_batch-23_chicken-age-23\n"
          ]
        },
        {
          "output_type": "stream",
          "name": "stderr",
          "text": [
            "\rProcessing Folders:  10%|▉         | 13/133 [02:01<17:44,  8.87s/it]"
          ]
        },
        {
          "output_type": "stream",
          "name": "stdout",
          "text": [
            "✅ Extracted features from rgb_20250712_111116_139155_instance-0.png in 20250712_111055_Saturday_chicken-14_batch-23_chicken-age-23\n",
            "\n",
            "📂 20250712_111142_Saturday_chicken-15_batch-23_chicken-age-23 → Found 4 PNG images\n",
            "✅ Extracted features from rgb_20250712_111156_255436_instance-0.png in 20250712_111142_Saturday_chicken-15_batch-23_chicken-age-23\n",
            "✅ Extracted features from rgb_20250712_111157_543991_instance-0.png in 20250712_111142_Saturday_chicken-15_batch-23_chicken-age-23\n",
            "✅ Extracted features from rgb_20250712_111210_081375_instance-0.png in 20250712_111142_Saturday_chicken-15_batch-23_chicken-age-23\n"
          ]
        },
        {
          "output_type": "stream",
          "name": "stderr",
          "text": [
            "\rProcessing Folders:  11%|█         | 14/133 [02:05<14:32,  7.34s/it]"
          ]
        },
        {
          "output_type": "stream",
          "name": "stdout",
          "text": [
            "✅ Extracted features from rgb_20250712_111212_488565_instance-0.png in 20250712_111142_Saturday_chicken-15_batch-23_chicken-age-23\n",
            "\n",
            "📂 20250712_111227_Saturday_chicken-16_batch-23_chicken-age-23 → Found 12 PNG images\n",
            "✅ Extracted features from rgb_20250712_111240_124982_instance-0.png in 20250712_111227_Saturday_chicken-16_batch-23_chicken-age-23\n",
            "✅ Extracted features from rgb_20250712_111242_840756_instance-0.png in 20250712_111227_Saturday_chicken-16_batch-23_chicken-age-23\n",
            "✅ Extracted features from rgb_20250712_111244_380535_instance-0.png in 20250712_111227_Saturday_chicken-16_batch-23_chicken-age-23\n",
            "✅ Extracted features from rgb_20250712_111247_523240_instance-0.png in 20250712_111227_Saturday_chicken-16_batch-23_chicken-age-23\n",
            "✅ Extracted features from rgb_20250712_111249_007656_instance-0.png in 20250712_111227_Saturday_chicken-16_batch-23_chicken-age-23\n",
            "✅ Extracted features from rgb_20250712_111252_684854_instance-0.png in 20250712_111227_Saturday_chicken-16_batch-23_chicken-age-23\n",
            "✅ Extracted features from rgb_20250712_111254_853459_instance-0.png in 20250712_111227_Saturday_chicken-16_batch-23_chicken-age-23\n",
            "✅ Extracted features from rgb_20250712_111256_512246_instance-0.png in 20250712_111227_Saturday_chicken-16_batch-23_chicken-age-23\n",
            "✅ Extracted features from rgb_20250712_111258_226554_instance-0.png in 20250712_111227_Saturday_chicken-16_batch-23_chicken-age-23\n",
            "✅ Extracted features from rgb_20250712_111259_960102_instance-0.png in 20250712_111227_Saturday_chicken-16_batch-23_chicken-age-23\n",
            "✅ Extracted features from rgb_20250712_111301_825099_instance-0.png in 20250712_111227_Saturday_chicken-16_batch-23_chicken-age-23\n"
          ]
        },
        {
          "output_type": "stream",
          "name": "stderr",
          "text": [
            "\rProcessing Folders:  11%|█▏        | 15/133 [02:16<16:45,  8.52s/it]"
          ]
        },
        {
          "output_type": "stream",
          "name": "stdout",
          "text": [
            "✅ Extracted features from rgb_20250712_111307_789787_instance-0.png in 20250712_111227_Saturday_chicken-16_batch-23_chicken-age-23\n",
            "\n",
            "📂 20250712_111357_Saturday_chicken-17_batch-23_chicken-age-23 → Found 15 PNG images\n",
            "✅ Extracted features from rgb_20250712_111435_991809_instance-0.png in 20250712_111357_Saturday_chicken-17_batch-23_chicken-age-23\n",
            "✅ Extracted features from rgb_20250712_111437_463902_instance-0.png in 20250712_111357_Saturday_chicken-17_batch-23_chicken-age-23\n",
            "✅ Extracted features from rgb_20250712_111446_489128_instance-0.png in 20250712_111357_Saturday_chicken-17_batch-23_chicken-age-23\n",
            "✅ Extracted features from rgb_20250712_111446_489128_instance-1.png in 20250712_111357_Saturday_chicken-17_batch-23_chicken-age-23\n",
            "✅ Extracted features from rgb_20250712_111447_991499_instance-0.png in 20250712_111357_Saturday_chicken-17_batch-23_chicken-age-23\n",
            "✅ Extracted features from rgb_20250712_111449_385518_instance-0.png in 20250712_111357_Saturday_chicken-17_batch-23_chicken-age-23\n",
            "✅ Extracted features from rgb_20250712_111452_139126_instance-0.png in 20250712_111357_Saturday_chicken-17_batch-23_chicken-age-23\n",
            "✅ Extracted features from rgb_20250712_111453_578177_instance-0.png in 20250712_111357_Saturday_chicken-17_batch-23_chicken-age-23\n",
            "✅ Extracted features from rgb_20250712_111455_094169_instance-0.png in 20250712_111357_Saturday_chicken-17_batch-23_chicken-age-23\n",
            "✅ Extracted features from rgb_20250712_111456_541016_instance-0.png in 20250712_111357_Saturday_chicken-17_batch-23_chicken-age-23\n",
            "✅ Extracted features from rgb_20250712_111457_974269_instance-0.png in 20250712_111357_Saturday_chicken-17_batch-23_chicken-age-23\n",
            "✅ Extracted features from rgb_20250712_111459_356500_instance-0.png in 20250712_111357_Saturday_chicken-17_batch-23_chicken-age-23\n",
            "✅ Extracted features from rgb_20250712_111500_712440_instance-0.png in 20250712_111357_Saturday_chicken-17_batch-23_chicken-age-23\n",
            "✅ Extracted features from rgb_20250712_111502_382799_instance-0.png in 20250712_111357_Saturday_chicken-17_batch-23_chicken-age-23\n"
          ]
        },
        {
          "output_type": "stream",
          "name": "stderr",
          "text": [
            "\rProcessing Folders:  12%|█▏        | 16/133 [02:29<19:30, 10.01s/it]"
          ]
        },
        {
          "output_type": "stream",
          "name": "stdout",
          "text": [
            "✅ Extracted features from rgb_20250712_111507_257709_instance-0.png in 20250712_111357_Saturday_chicken-17_batch-23_chicken-age-23\n",
            "\n",
            "📂 20250712_111529_Saturday_chicken-18_batch-23_chicken-age-23 → Found 14 PNG images\n",
            "✅ Extracted features from rgb_20250712_111549_920049_instance-0.png in 20250712_111529_Saturday_chicken-18_batch-23_chicken-age-23\n",
            "✅ Extracted features from rgb_20250712_111551_364957_instance-0.png in 20250712_111529_Saturday_chicken-18_batch-23_chicken-age-23\n",
            "✅ Extracted features from rgb_20250712_111552_563439_instance-0.png in 20250712_111529_Saturday_chicken-18_batch-23_chicken-age-23\n",
            "✅ Extracted features from rgb_20250712_111553_827132_instance-0.png in 20250712_111529_Saturday_chicken-18_batch-23_chicken-age-23\n",
            "✅ Extracted features from rgb_20250712_111554_861381_instance-0.png in 20250712_111529_Saturday_chicken-18_batch-23_chicken-age-23\n",
            "✅ Extracted features from rgb_20250712_111556_034026_instance-0.png in 20250712_111529_Saturday_chicken-18_batch-23_chicken-age-23\n",
            "✅ Extracted features from rgb_20250712_111604_039058_instance-0.png in 20250712_111529_Saturday_chicken-18_batch-23_chicken-age-23\n",
            "✅ Extracted features from rgb_20250712_111605_362155_instance-0.png in 20250712_111529_Saturday_chicken-18_batch-23_chicken-age-23\n",
            "✅ Extracted features from rgb_20250712_111607_928768_instance-0.png in 20250712_111529_Saturday_chicken-18_batch-23_chicken-age-23\n",
            "✅ Extracted features from rgb_20250712_111609_977516_instance-0.png in 20250712_111529_Saturday_chicken-18_batch-23_chicken-age-23\n",
            "✅ Extracted features from rgb_20250712_111611_377983_instance-0.png in 20250712_111529_Saturday_chicken-18_batch-23_chicken-age-23\n",
            "✅ Extracted features from rgb_20250712_111621_933152_instance-0.png in 20250712_111529_Saturday_chicken-18_batch-23_chicken-age-23\n",
            "✅ Extracted features from rgb_20250712_111624_563477_instance-0.png in 20250712_111529_Saturday_chicken-18_batch-23_chicken-age-23\n"
          ]
        },
        {
          "output_type": "stream",
          "name": "stderr",
          "text": [
            "\rProcessing Folders:  13%|█▎        | 17/133 [02:43<21:40, 11.21s/it]"
          ]
        },
        {
          "output_type": "stream",
          "name": "stdout",
          "text": [
            "✅ Extracted features from rgb_20250712_111628_802419_instance-0.png in 20250712_111529_Saturday_chicken-18_batch-23_chicken-age-23\n",
            "\n",
            "📂 20250712_111648_Saturday_chicken-19_batch-23_chicken-age-23 → Found 5 PNG images\n",
            "✅ Extracted features from rgb_20250712_111657_150868_instance-0.png in 20250712_111648_Saturday_chicken-19_batch-23_chicken-age-23\n",
            "✅ Extracted features from rgb_20250712_111658_570007_instance-0.png in 20250712_111648_Saturday_chicken-19_batch-23_chicken-age-23\n",
            "✅ Extracted features from rgb_20250712_111700_086553_instance-0.png in 20250712_111648_Saturday_chicken-19_batch-23_chicken-age-23\n",
            "✅ Extracted features from rgb_20250712_111701_502131_instance-0.png in 20250712_111648_Saturday_chicken-19_batch-23_chicken-age-23\n"
          ]
        },
        {
          "output_type": "stream",
          "name": "stderr",
          "text": [
            "\rProcessing Folders:  14%|█▎        | 18/133 [02:48<17:35,  9.18s/it]"
          ]
        },
        {
          "output_type": "stream",
          "name": "stdout",
          "text": [
            "✅ Extracted features from rgb_20250712_111702_933175_instance-0.png in 20250712_111648_Saturday_chicken-19_batch-23_chicken-age-23\n",
            "\n",
            "📂 20250712_111718_Saturday_chicken-20_batch-23_chicken-age-23 → Found 10 PNG images\n",
            "✅ Extracted features from rgb_20250712_111727_781090_instance-0.png in 20250712_111718_Saturday_chicken-20_batch-23_chicken-age-23\n",
            "✅ Extracted features from rgb_20250712_111753_526289_instance-0.png in 20250712_111718_Saturday_chicken-20_batch-23_chicken-age-23\n",
            "✅ Extracted features from rgb_20250712_111753_526289_instance-1.png in 20250712_111718_Saturday_chicken-20_batch-23_chicken-age-23\n",
            "✅ Extracted features from rgb_20250712_111753_526289_instance-2.png in 20250712_111718_Saturday_chicken-20_batch-23_chicken-age-23\n",
            "✅ Extracted features from rgb_20250712_111805_359289_instance-0.png in 20250712_111718_Saturday_chicken-20_batch-23_chicken-age-23\n",
            "✅ Extracted features from rgb_20250712_111806_714891_instance-0.png in 20250712_111718_Saturday_chicken-20_batch-23_chicken-age-23\n",
            "✅ Extracted features from rgb_20250712_111809_407626_instance-0.png in 20250712_111718_Saturday_chicken-20_batch-23_chicken-age-23\n",
            "✅ Extracted features from rgb_20250712_111810_612766_instance-0.png in 20250712_111718_Saturday_chicken-20_batch-23_chicken-age-23\n",
            "✅ Extracted features from rgb_20250712_111813_157850_instance-0.png in 20250712_111718_Saturday_chicken-20_batch-23_chicken-age-23\n"
          ]
        },
        {
          "output_type": "stream",
          "name": "stderr",
          "text": [
            "\rProcessing Folders:  14%|█▍        | 19/133 [02:58<17:44,  9.34s/it]"
          ]
        },
        {
          "output_type": "stream",
          "name": "stdout",
          "text": [
            "✅ Extracted features from rgb_20250712_111814_431102_instance-0.png in 20250712_111718_Saturday_chicken-20_batch-23_chicken-age-23\n",
            "\n",
            "📂 20250712_111844_Saturday_chicken-21_batch-23_chicken-age-23 → Found 10 PNG images\n",
            "✅ Extracted features from rgb_20250712_111902_357237_instance-0.png in 20250712_111844_Saturday_chicken-21_batch-23_chicken-age-23\n",
            "✅ Extracted features from rgb_20250712_111903_601144_instance-0.png in 20250712_111844_Saturday_chicken-21_batch-23_chicken-age-23\n",
            "✅ Extracted features from rgb_20250712_111904_800206_instance-0.png in 20250712_111844_Saturday_chicken-21_batch-23_chicken-age-23\n",
            "✅ Extracted features from rgb_20250712_111906_120837_instance-0.png in 20250712_111844_Saturday_chicken-21_batch-23_chicken-age-23\n",
            "✅ Extracted features from rgb_20250712_111909_892828_instance-0.png in 20250712_111844_Saturday_chicken-21_batch-23_chicken-age-23\n",
            "✅ Extracted features from rgb_20250712_111911_179044_instance-0.png in 20250712_111844_Saturday_chicken-21_batch-23_chicken-age-23\n",
            "✅ Extracted features from rgb_20250712_111912_465538_instance-0.png in 20250712_111844_Saturday_chicken-21_batch-23_chicken-age-23\n",
            "✅ Extracted features from rgb_20250712_111913_829778_instance-0.png in 20250712_111844_Saturday_chicken-21_batch-23_chicken-age-23\n",
            "✅ Extracted features from rgb_20250712_111917_371470_instance-0.png in 20250712_111844_Saturday_chicken-21_batch-23_chicken-age-23\n"
          ]
        },
        {
          "output_type": "stream",
          "name": "stderr",
          "text": [
            "\rProcessing Folders:  15%|█▌        | 20/133 [03:07<17:35,  9.34s/it]"
          ]
        },
        {
          "output_type": "stream",
          "name": "stdout",
          "text": [
            "✅ Extracted features from rgb_20250712_111918_617129_instance-0.png in 20250712_111844_Saturday_chicken-21_batch-23_chicken-age-23\n",
            "\n",
            "📂 20250712_111926_Saturday_chicken-22_batch-23_chicken-age-23 → Found 9 PNG images\n",
            "✅ Extracted features from rgb_20250712_111930_329939_instance-0.png in 20250712_111926_Saturday_chicken-22_batch-23_chicken-age-23\n",
            "✅ Extracted features from rgb_20250712_111931_590542_instance-0.png in 20250712_111926_Saturday_chicken-22_batch-23_chicken-age-23\n",
            "✅ Extracted features from rgb_20250712_111938_638603_instance-0.png in 20250712_111926_Saturday_chicken-22_batch-23_chicken-age-23\n",
            "✅ Extracted features from rgb_20250712_111939_923517_instance-0.png in 20250712_111926_Saturday_chicken-22_batch-23_chicken-age-23\n",
            "✅ Extracted features from rgb_20250712_111941_314289_instance-0.png in 20250712_111926_Saturday_chicken-22_batch-23_chicken-age-23\n",
            "✅ Extracted features from rgb_20250712_111942_719059_instance-0.png in 20250712_111926_Saturday_chicken-22_batch-23_chicken-age-23\n",
            "✅ Extracted features from rgb_20250712_111942_719059_instance-1.png in 20250712_111926_Saturday_chicken-22_batch-23_chicken-age-23\n",
            "✅ Extracted features from rgb_20250712_111944_035316_instance-0.png in 20250712_111926_Saturday_chicken-22_batch-23_chicken-age-23\n"
          ]
        },
        {
          "output_type": "stream",
          "name": "stderr",
          "text": [
            "\rProcessing Folders:  16%|█▌        | 21/133 [03:19<18:59, 10.18s/it]"
          ]
        },
        {
          "output_type": "stream",
          "name": "stdout",
          "text": [
            "✅ Extracted features from rgb_20250712_111944_035316_instance-1.png in 20250712_111926_Saturday_chicken-22_batch-23_chicken-age-23\n",
            "\n",
            "📂 20250712_111954_Saturday_chicken-23_batch-23_chicken-age-23 → Found 11 PNG images\n",
            "✅ Extracted features from rgb_20250712_112003_696574_instance-0.png in 20250712_111954_Saturday_chicken-23_batch-23_chicken-age-23\n",
            "✅ Extracted features from rgb_20250712_112005_034083_instance-0.png in 20250712_111954_Saturday_chicken-23_batch-23_chicken-age-23\n",
            "✅ Extracted features from rgb_20250712_112006_377175_instance-0.png in 20250712_111954_Saturday_chicken-23_batch-23_chicken-age-23\n",
            "✅ Extracted features from rgb_20250712_112007_685071_instance-0.png in 20250712_111954_Saturday_chicken-23_batch-23_chicken-age-23\n",
            "✅ Extracted features from rgb_20250712_112008_925512_instance-0.png in 20250712_111954_Saturday_chicken-23_batch-23_chicken-age-23\n",
            "✅ Extracted features from rgb_20250712_112010_258866_instance-0.png in 20250712_111954_Saturday_chicken-23_batch-23_chicken-age-23\n",
            "✅ Extracted features from rgb_20250712_112011_716230_instance-0.png in 20250712_111954_Saturday_chicken-23_batch-23_chicken-age-23\n",
            "✅ Extracted features from rgb_20250712_112013_145040_instance-0.png in 20250712_111954_Saturday_chicken-23_batch-23_chicken-age-23\n",
            "✅ Extracted features from rgb_20250712_112014_478870_instance-0.png in 20250712_111954_Saturday_chicken-23_batch-23_chicken-age-23\n",
            "✅ Extracted features from rgb_20250712_112015_834401_instance-0.png in 20250712_111954_Saturday_chicken-23_batch-23_chicken-age-23\n"
          ]
        },
        {
          "output_type": "stream",
          "name": "stderr",
          "text": [
            "\rProcessing Folders:  17%|█▋        | 22/133 [03:29<18:43, 10.12s/it]"
          ]
        },
        {
          "output_type": "stream",
          "name": "stdout",
          "text": [
            "✅ Extracted features from rgb_20250712_112017_123251_instance-0.png in 20250712_111954_Saturday_chicken-23_batch-23_chicken-age-23\n",
            "\n",
            "📂 20250712_112032_Saturday_chicken-24_batch-23_chicken-age-23 → Found 10 PNG images\n",
            "✅ Extracted features from rgb_20250712_112040_686242_instance-0.png in 20250712_112032_Saturday_chicken-24_batch-23_chicken-age-23\n",
            "✅ Extracted features from rgb_20250712_112041_887562_instance-0.png in 20250712_112032_Saturday_chicken-24_batch-23_chicken-age-23\n",
            "✅ Extracted features from rgb_20250712_112043_307779_instance-0.png in 20250712_112032_Saturday_chicken-24_batch-23_chicken-age-23\n",
            "✅ Extracted features from rgb_20250712_112044_979971_instance-0.png in 20250712_112032_Saturday_chicken-24_batch-23_chicken-age-23\n",
            "✅ Extracted features from rgb_20250712_112048_529865_instance-0.png in 20250712_112032_Saturday_chicken-24_batch-23_chicken-age-23\n",
            "✅ Extracted features from rgb_20250712_112050_954652_instance-0.png in 20250712_112032_Saturday_chicken-24_batch-23_chicken-age-23\n",
            "✅ Extracted features from rgb_20250712_112052_211420_instance-0.png in 20250712_112032_Saturday_chicken-24_batch-23_chicken-age-23\n",
            "✅ Extracted features from rgb_20250712_112053_514165_instance-0.png in 20250712_112032_Saturday_chicken-24_batch-23_chicken-age-23\n",
            "✅ Extracted features from rgb_20250712_112054_879568_instance-0.png in 20250712_112032_Saturday_chicken-24_batch-23_chicken-age-23\n"
          ]
        },
        {
          "output_type": "stream",
          "name": "stderr",
          "text": [
            "\rProcessing Folders:  17%|█▋        | 23/133 [03:40<19:07, 10.43s/it]"
          ]
        },
        {
          "output_type": "stream",
          "name": "stdout",
          "text": [
            "✅ Extracted features from rgb_20250712_112056_243947_instance-0.png in 20250712_112032_Saturday_chicken-24_batch-23_chicken-age-23\n",
            "\n",
            "📂 20250712_112136_Saturday_chicken-25_batch-23_chicken-age-23 → Found 7 PNG images\n",
            "✅ Extracted features from rgb_20250712_112152_951005_instance-0.png in 20250712_112136_Saturday_chicken-25_batch-23_chicken-age-23\n",
            "✅ Extracted features from rgb_20250712_112154_250948_instance-0.png in 20250712_112136_Saturday_chicken-25_batch-23_chicken-age-23\n",
            "✅ Extracted features from rgb_20250712_112157_295372_instance-0.png in 20250712_112136_Saturday_chicken-25_batch-23_chicken-age-23\n",
            "✅ Extracted features from rgb_20250712_112200_187000_instance-0.png in 20250712_112136_Saturday_chicken-25_batch-23_chicken-age-23\n",
            "✅ Extracted features from rgb_20250712_112207_147364_instance-0.png in 20250712_112136_Saturday_chicken-25_batch-23_chicken-age-23\n",
            "✅ Extracted features from rgb_20250712_112208_588434_instance-0.png in 20250712_112136_Saturday_chicken-25_batch-23_chicken-age-23\n"
          ]
        },
        {
          "output_type": "stream",
          "name": "stderr",
          "text": [
            "\rProcessing Folders:  18%|█▊        | 24/133 [03:47<17:03,  9.39s/it]"
          ]
        },
        {
          "output_type": "stream",
          "name": "stdout",
          "text": [
            "✅ Extracted features from rgb_20250712_112208_588434_instance-1.png in 20250712_112136_Saturday_chicken-25_batch-23_chicken-age-23\n",
            "\n",
            "📂 20250712_112247_Saturday_chicken-26_batch-23_chicken-age-23 → Found 10 PNG images\n",
            "✅ Extracted features from rgb_20250712_112301_330172_instance-0.png in 20250712_112247_Saturday_chicken-26_batch-23_chicken-age-23\n",
            "✅ Extracted features from rgb_20250712_112304_283740_instance-0.png in 20250712_112247_Saturday_chicken-26_batch-23_chicken-age-23\n",
            "✅ Extracted features from rgb_20250712_112306_203975_instance-0.png in 20250712_112247_Saturday_chicken-26_batch-23_chicken-age-23\n",
            "✅ Extracted features from rgb_20250712_112307_590455_instance-0.png in 20250712_112247_Saturday_chicken-26_batch-23_chicken-age-23\n",
            "✅ Extracted features from rgb_20250712_112309_027591_instance-0.png in 20250712_112247_Saturday_chicken-26_batch-23_chicken-age-23\n",
            "✅ Extracted features from rgb_20250712_112310_599915_instance-0.png in 20250712_112247_Saturday_chicken-26_batch-23_chicken-age-23\n",
            "✅ Extracted features from rgb_20250712_112312_105219_instance-0.png in 20250712_112247_Saturday_chicken-26_batch-23_chicken-age-23\n",
            "✅ Extracted features from rgb_20250712_112313_447553_instance-0.png in 20250712_112247_Saturday_chicken-26_batch-23_chicken-age-23\n",
            "✅ Extracted features from rgb_20250712_112314_890262_instance-0.png in 20250712_112247_Saturday_chicken-26_batch-23_chicken-age-23\n"
          ]
        },
        {
          "output_type": "stream",
          "name": "stderr",
          "text": [
            "\rProcessing Folders:  19%|█▉        | 25/133 [03:56<16:52,  9.38s/it]"
          ]
        },
        {
          "output_type": "stream",
          "name": "stdout",
          "text": [
            "✅ Extracted features from rgb_20250712_112316_050157_instance-0.png in 20250712_112247_Saturday_chicken-26_batch-23_chicken-age-23\n",
            "\n",
            "📂 20250712_112329_Saturday_chicken-27_batch-23_chicken-age-23 → Found 6 PNG images\n",
            "✅ Extracted features from rgb_20250712_112333_853162_instance-0.png in 20250712_112329_Saturday_chicken-27_batch-23_chicken-age-23\n",
            "✅ Extracted features from rgb_20250712_112335_158903_instance-0.png in 20250712_112329_Saturday_chicken-27_batch-23_chicken-age-23\n",
            "✅ Extracted features from rgb_20250712_112344_214299_instance-0.png in 20250712_112329_Saturday_chicken-27_batch-23_chicken-age-23\n",
            "✅ Extracted features from rgb_20250712_112345_560122_instance-0.png in 20250712_112329_Saturday_chicken-27_batch-23_chicken-age-23\n",
            "✅ Extracted features from rgb_20250712_112346_894114_instance-0.png in 20250712_112329_Saturday_chicken-27_batch-23_chicken-age-23\n"
          ]
        },
        {
          "output_type": "stream",
          "name": "stderr",
          "text": [
            "\rProcessing Folders:  20%|█▉        | 26/133 [04:02<14:45,  8.28s/it]"
          ]
        },
        {
          "output_type": "stream",
          "name": "stdout",
          "text": [
            "✅ Extracted features from rgb_20250712_112348_270329_instance-0.png in 20250712_112329_Saturday_chicken-27_batch-23_chicken-age-23\n",
            "\n",
            "📂 20250712_112404_Saturday_chicken-28_batch-23_chicken-age-23 → Found 10 PNG images\n",
            "✅ Extracted features from rgb_20250712_112411_694956_instance-0.png in 20250712_112404_Saturday_chicken-28_batch-23_chicken-age-23\n",
            "✅ Extracted features from rgb_20250712_112412_852560_instance-0.png in 20250712_112404_Saturday_chicken-28_batch-23_chicken-age-23\n",
            "✅ Extracted features from rgb_20250712_112415_729289_instance-0.png in 20250712_112404_Saturday_chicken-28_batch-23_chicken-age-23\n",
            "✅ Extracted features from rgb_20250712_112419_711571_instance-0.png in 20250712_112404_Saturday_chicken-28_batch-23_chicken-age-23\n",
            "✅ Extracted features from rgb_20250712_112421_142512_instance-0.png in 20250712_112404_Saturday_chicken-28_batch-23_chicken-age-23\n",
            "✅ Extracted features from rgb_20250712_112422_576339_instance-0.png in 20250712_112404_Saturday_chicken-28_batch-23_chicken-age-23\n",
            "✅ Extracted features from rgb_20250712_112424_432716_instance-0.png in 20250712_112404_Saturday_chicken-28_batch-23_chicken-age-23\n",
            "✅ Extracted features from rgb_20250712_112426_469838_instance-0.png in 20250712_112404_Saturday_chicken-28_batch-23_chicken-age-23\n",
            "✅ Extracted features from rgb_20250712_112427_802191_instance-0.png in 20250712_112404_Saturday_chicken-28_batch-23_chicken-age-23\n"
          ]
        },
        {
          "output_type": "stream",
          "name": "stderr",
          "text": [
            "\rProcessing Folders:  20%|██        | 27/133 [04:11<15:06,  8.55s/it]"
          ]
        },
        {
          "output_type": "stream",
          "name": "stdout",
          "text": [
            "✅ Extracted features from rgb_20250712_112429_131087_instance-0.png in 20250712_112404_Saturday_chicken-28_batch-23_chicken-age-23\n",
            "\n",
            "📂 20250712_112435_Saturday_chicken-29_batch-23_chicken-age-23 → Found 6 PNG images\n",
            "✅ Extracted features from rgb_20250712_112445_797277_instance-0.png in 20250712_112435_Saturday_chicken-29_batch-23_chicken-age-23\n",
            "✅ Extracted features from rgb_20250712_112447_231157_instance-0.png in 20250712_112435_Saturday_chicken-29_batch-23_chicken-age-23\n",
            "✅ Extracted features from rgb_20250712_112451_789779_instance-0.png in 20250712_112435_Saturday_chicken-29_batch-23_chicken-age-23\n",
            "✅ Extracted features from rgb_20250712_112456_943390_instance-0.png in 20250712_112435_Saturday_chicken-29_batch-23_chicken-age-23\n",
            "✅ Extracted features from rgb_20250712_112456_943390_instance-1.png in 20250712_112435_Saturday_chicken-29_batch-23_chicken-age-23\n"
          ]
        },
        {
          "output_type": "stream",
          "name": "stderr",
          "text": [
            "\rProcessing Folders:  21%|██        | 28/133 [04:17<13:21,  7.63s/it]"
          ]
        },
        {
          "output_type": "stream",
          "name": "stdout",
          "text": [
            "✅ Extracted features from rgb_20250712_112501_673578_instance-0.png in 20250712_112435_Saturday_chicken-29_batch-23_chicken-age-23\n",
            "\n",
            "📂 20250712_112515_Saturday_chicken-30_batch-23_chicken-age-23 → Found 8 PNG images\n",
            "✅ Extracted features from rgb_20250712_112522_317037_instance-0.png in 20250712_112515_Saturday_chicken-30_batch-23_chicken-age-23\n",
            "✅ Extracted features from rgb_20250712_112525_323614_instance-0.png in 20250712_112515_Saturday_chicken-30_batch-23_chicken-age-23\n",
            "✅ Extracted features from rgb_20250712_112526_824763_instance-0.png in 20250712_112515_Saturday_chicken-30_batch-23_chicken-age-23\n",
            "✅ Extracted features from rgb_20250712_112529_596300_instance-0.png in 20250712_112515_Saturday_chicken-30_batch-23_chicken-age-23\n",
            "✅ Extracted features from rgb_20250712_112530_941136_instance-0.png in 20250712_112515_Saturday_chicken-30_batch-23_chicken-age-23\n",
            "✅ Extracted features from rgb_20250712_112532_488491_instance-0.png in 20250712_112515_Saturday_chicken-30_batch-23_chicken-age-23\n",
            "✅ Extracted features from rgb_20250712_112534_362879_instance-0.png in 20250712_112515_Saturday_chicken-30_batch-23_chicken-age-23\n"
          ]
        },
        {
          "output_type": "stream",
          "name": "stderr",
          "text": [
            "\rProcessing Folders:  22%|██▏       | 29/133 [04:24<13:06,  7.56s/it]"
          ]
        },
        {
          "output_type": "stream",
          "name": "stdout",
          "text": [
            "✅ Extracted features from rgb_20250712_112535_762626_instance-0.png in 20250712_112515_Saturday_chicken-30_batch-23_chicken-age-23\n",
            "\n",
            "📂 20250714_131039_Monday_chicken-33_batch-25_chicken-age-25 → Found 10 PNG images\n",
            "✅ Extracted features from rgb_20250714_131056_752037_instance-0.png in 20250714_131039_Monday_chicken-33_batch-25_chicken-age-25\n",
            "✅ Extracted features from rgb_20250714_131056_752037_instance-1.png in 20250714_131039_Monday_chicken-33_batch-25_chicken-age-25\n",
            "✅ Extracted features from rgb_20250714_131058_746260_instance-0.png in 20250714_131039_Monday_chicken-33_batch-25_chicken-age-25\n",
            "✅ Extracted features from rgb_20250714_131058_746260_instance-1.png in 20250714_131039_Monday_chicken-33_batch-25_chicken-age-25\n",
            "✅ Extracted features from rgb_20250714_131103_482272_instance-0.png in 20250714_131039_Monday_chicken-33_batch-25_chicken-age-25\n",
            "✅ Extracted features from rgb_20250714_131106_383243_instance-0.png in 20250714_131039_Monday_chicken-33_batch-25_chicken-age-25\n",
            "✅ Extracted features from rgb_20250714_131108_314814_instance-0.png in 20250714_131039_Monday_chicken-33_batch-25_chicken-age-25\n",
            "✅ Extracted features from rgb_20250714_131110_099440_instance-0.png in 20250714_131039_Monday_chicken-33_batch-25_chicken-age-25\n",
            "✅ Extracted features from rgb_20250714_131111_872932_instance-0.png in 20250714_131039_Monday_chicken-33_batch-25_chicken-age-25\n"
          ]
        },
        {
          "output_type": "stream",
          "name": "stderr",
          "text": [
            "\rProcessing Folders:  23%|██▎       | 30/133 [04:33<13:47,  8.04s/it]"
          ]
        },
        {
          "output_type": "stream",
          "name": "stdout",
          "text": [
            "✅ Extracted features from rgb_20250714_131114_361654_instance-0.png in 20250714_131039_Monday_chicken-33_batch-25_chicken-age-25\n",
            "\n",
            "📂 20250714_131124_Monday_chicken-34_batch-25_chicken-age-25 → Found 8 PNG images\n",
            "✅ Extracted features from rgb_20250714_131140_670656_instance-0.png in 20250714_131124_Monday_chicken-34_batch-25_chicken-age-25\n",
            "✅ Extracted features from rgb_20250714_131144_413620_instance-0.png in 20250714_131124_Monday_chicken-34_batch-25_chicken-age-25\n",
            "✅ Extracted features from rgb_20250714_131147_759003_instance-0.png in 20250714_131124_Monday_chicken-34_batch-25_chicken-age-25\n",
            "✅ Extracted features from rgb_20250714_131149_317402_instance-0.png in 20250714_131124_Monday_chicken-34_batch-25_chicken-age-25\n",
            "✅ Extracted features from rgb_20250714_131150_817905_instance-0.png in 20250714_131124_Monday_chicken-34_batch-25_chicken-age-25\n",
            "✅ Extracted features from rgb_20250714_131157_860889_instance-0.png in 20250714_131124_Monday_chicken-34_batch-25_chicken-age-25\n",
            "✅ Extracted features from rgb_20250714_131159_693146_instance-0.png in 20250714_131124_Monday_chicken-34_batch-25_chicken-age-25\n"
          ]
        },
        {
          "output_type": "stream",
          "name": "stderr",
          "text": [
            "\rProcessing Folders:  23%|██▎       | 31/133 [04:41<13:16,  7.81s/it]"
          ]
        },
        {
          "output_type": "stream",
          "name": "stdout",
          "text": [
            "✅ Extracted features from rgb_20250714_131202_461411_instance-0.png in 20250714_131124_Monday_chicken-34_batch-25_chicken-age-25\n",
            "\n",
            "📂 20250714_131221_Monday_chicken-35_batch-25_chicken-age-25 → Found 8 PNG images\n",
            "✅ Extracted features from rgb_20250714_131228_296650_instance-0.png in 20250714_131221_Monday_chicken-35_batch-25_chicken-age-25\n",
            "✅ Extracted features from rgb_20250714_131229_845109_instance-0.png in 20250714_131221_Monday_chicken-35_batch-25_chicken-age-25\n",
            "✅ Extracted features from rgb_20250714_131232_259896_instance-0.png in 20250714_131221_Monday_chicken-35_batch-25_chicken-age-25\n",
            "✅ Extracted features from rgb_20250714_131254_151661_instance-0.png in 20250714_131221_Monday_chicken-35_batch-25_chicken-age-25\n",
            "✅ Extracted features from rgb_20250714_131307_638105_instance-0.png in 20250714_131221_Monday_chicken-35_batch-25_chicken-age-25\n",
            "✅ Extracted features from rgb_20250714_131310_102145_instance-0.png in 20250714_131221_Monday_chicken-35_batch-25_chicken-age-25\n",
            "✅ Extracted features from rgb_20250714_131312_478959_instance-0.png in 20250714_131221_Monday_chicken-35_batch-25_chicken-age-25\n"
          ]
        },
        {
          "output_type": "stream",
          "name": "stderr",
          "text": [
            "\rProcessing Folders:  24%|██▍       | 32/133 [04:49<13:17,  7.89s/it]"
          ]
        },
        {
          "output_type": "stream",
          "name": "stdout",
          "text": [
            "✅ Extracted features from rgb_20250714_131314_518739_instance-0.png in 20250714_131221_Monday_chicken-35_batch-25_chicken-age-25\n",
            "\n",
            "📂 20250714_131323_Monday_chicken-36_batch-25_chicken-age-25 → Found 8 PNG images\n",
            "✅ Extracted features from rgb_20250714_131331_968196_instance-0.png in 20250714_131323_Monday_chicken-36_batch-25_chicken-age-25\n",
            "✅ Extracted features from rgb_20250714_131333_819941_instance-0.png in 20250714_131323_Monday_chicken-36_batch-25_chicken-age-25\n",
            "✅ Extracted features from rgb_20250714_131335_663409_instance-0.png in 20250714_131323_Monday_chicken-36_batch-25_chicken-age-25\n",
            "✅ Extracted features from rgb_20250714_131337_315581_instance-0.png in 20250714_131323_Monday_chicken-36_batch-25_chicken-age-25\n",
            "✅ Extracted features from rgb_20250714_131339_300547_instance-0.png in 20250714_131323_Monday_chicken-36_batch-25_chicken-age-25\n",
            "✅ Extracted features from rgb_20250714_131340_616803_instance-0.png in 20250714_131323_Monday_chicken-36_batch-25_chicken-age-25\n",
            "✅ Extracted features from rgb_20250714_131342_271570_instance-0.png in 20250714_131323_Monday_chicken-36_batch-25_chicken-age-25\n"
          ]
        },
        {
          "output_type": "stream",
          "name": "stderr",
          "text": [
            "\rProcessing Folders:  25%|██▍       | 33/133 [04:56<12:57,  7.77s/it]"
          ]
        },
        {
          "output_type": "stream",
          "name": "stdout",
          "text": [
            "✅ Extracted features from rgb_20250714_131343_551918_instance-0.png in 20250714_131323_Monday_chicken-36_batch-25_chicken-age-25\n",
            "\n",
            "📂 20250714_131357_Monday_chicken-37_batch-25_chicken-age-25 → Found 7 PNG images\n",
            "✅ Extracted features from rgb_20250714_131436_388219_instance-0.png in 20250714_131357_Monday_chicken-37_batch-25_chicken-age-25\n",
            "✅ Extracted features from rgb_20250714_131437_785905_instance-0.png in 20250714_131357_Monday_chicken-37_batch-25_chicken-age-25\n",
            "✅ Extracted features from rgb_20250714_131439_289623_instance-0.png in 20250714_131357_Monday_chicken-37_batch-25_chicken-age-25\n",
            "✅ Extracted features from rgb_20250714_131440_526887_instance-0.png in 20250714_131357_Monday_chicken-37_batch-25_chicken-age-25\n",
            "✅ Extracted features from rgb_20250714_131441_566694_instance-0.png in 20250714_131357_Monday_chicken-37_batch-25_chicken-age-25\n",
            "✅ Extracted features from rgb_20250714_131442_804763_instance-0.png in 20250714_131357_Monday_chicken-37_batch-25_chicken-age-25\n"
          ]
        },
        {
          "output_type": "stream",
          "name": "stderr",
          "text": [
            "\rProcessing Folders:  26%|██▌       | 34/133 [05:02<12:04,  7.32s/it]"
          ]
        },
        {
          "output_type": "stream",
          "name": "stdout",
          "text": [
            "✅ Extracted features from rgb_20250714_131444_952858_instance-0.png in 20250714_131357_Monday_chicken-37_batch-25_chicken-age-25\n",
            "\n",
            "📂 20250714_131453_Monday_chicken-38_batch-25_chicken-age-25 → Found 7 PNG images\n",
            "✅ Extracted features from rgb_20250714_131503_641659_instance-0.png in 20250714_131453_Monday_chicken-38_batch-25_chicken-age-25\n",
            "✅ Extracted features from rgb_20250714_131504_746297_instance-0.png in 20250714_131453_Monday_chicken-38_batch-25_chicken-age-25\n",
            "✅ Extracted features from rgb_20250714_131508_737501_instance-0.png in 20250714_131453_Monday_chicken-38_batch-25_chicken-age-25\n",
            "✅ Extracted features from rgb_20250714_131510_628181_instance-0.png in 20250714_131453_Monday_chicken-38_batch-25_chicken-age-25\n",
            "✅ Extracted features from rgb_20250714_131545_989659_instance-0.png in 20250714_131453_Monday_chicken-38_batch-25_chicken-age-25\n",
            "✅ Extracted features from rgb_20250714_131547_184801_instance-0.png in 20250714_131453_Monday_chicken-38_batch-25_chicken-age-25\n"
          ]
        },
        {
          "output_type": "stream",
          "name": "stderr",
          "text": [
            "\rProcessing Folders:  26%|██▋       | 35/133 [05:09<11:32,  7.07s/it]"
          ]
        },
        {
          "output_type": "stream",
          "name": "stdout",
          "text": [
            "✅ Extracted features from rgb_20250714_131548_599484_instance-0.png in 20250714_131453_Monday_chicken-38_batch-25_chicken-age-25\n",
            "\n",
            "📂 20250714_131602_Monday_chicken-39_batch-25_chicken-age-25 → Found 7 PNG images\n",
            "✅ Extracted features from rgb_20250714_131611_966312_instance-0.png in 20250714_131602_Monday_chicken-39_batch-25_chicken-age-25\n",
            "✅ Extracted features from rgb_20250714_131613_796658_instance-0.png in 20250714_131602_Monday_chicken-39_batch-25_chicken-age-25\n",
            "✅ Extracted features from rgb_20250714_131615_203417_instance-0.png in 20250714_131602_Monday_chicken-39_batch-25_chicken-age-25\n",
            "✅ Extracted features from rgb_20250714_131617_113242_instance-0.png in 20250714_131602_Monday_chicken-39_batch-25_chicken-age-25\n",
            "✅ Extracted features from rgb_20250714_131620_682041_instance-0.png in 20250714_131602_Monday_chicken-39_batch-25_chicken-age-25\n",
            "✅ Extracted features from rgb_20250714_131624_368250_instance-0.png in 20250714_131602_Monday_chicken-39_batch-25_chicken-age-25\n"
          ]
        },
        {
          "output_type": "stream",
          "name": "stderr",
          "text": [
            "\rProcessing Folders:  27%|██▋       | 36/133 [05:16<11:20,  7.01s/it]"
          ]
        },
        {
          "output_type": "stream",
          "name": "stdout",
          "text": [
            "✅ Extracted features from rgb_20250714_131626_717418_instance-0.png in 20250714_131602_Monday_chicken-39_batch-25_chicken-age-25\n",
            "\n",
            "📂 20250714_131634_Monday_chicken-40_batch-25_chicken-age-25 → Found 9 PNG images\n",
            "✅ Extracted features from rgb_20250714_131640_081280_instance-0.png in 20250714_131634_Monday_chicken-40_batch-25_chicken-age-25\n",
            "✅ Extracted features from rgb_20250714_131641_261129_instance-0.png in 20250714_131634_Monday_chicken-40_batch-25_chicken-age-25\n",
            "✅ Extracted features from rgb_20250714_131642_923333_instance-0.png in 20250714_131634_Monday_chicken-40_batch-25_chicken-age-25\n",
            "✅ Extracted features from rgb_20250714_131644_496256_instance-0.png in 20250714_131634_Monday_chicken-40_batch-25_chicken-age-25\n",
            "✅ Extracted features from rgb_20250714_131645_651058_instance-0.png in 20250714_131634_Monday_chicken-40_batch-25_chicken-age-25\n",
            "✅ Extracted features from rgb_20250714_131646_892892_instance-0.png in 20250714_131634_Monday_chicken-40_batch-25_chicken-age-25\n",
            "✅ Extracted features from rgb_20250714_131648_167145_instance-0.png in 20250714_131634_Monday_chicken-40_batch-25_chicken-age-25\n",
            "✅ Extracted features from rgb_20250714_131649_550473_instance-0.png in 20250714_131634_Monday_chicken-40_batch-25_chicken-age-25\n"
          ]
        },
        {
          "output_type": "stream",
          "name": "stderr",
          "text": [
            "\rProcessing Folders:  28%|██▊       | 37/133 [05:24<11:46,  7.35s/it]"
          ]
        },
        {
          "output_type": "stream",
          "name": "stdout",
          "text": [
            "✅ Extracted features from rgb_20250714_131650_916130_instance-0.png in 20250714_131634_Monday_chicken-40_batch-25_chicken-age-25\n",
            "\n",
            "📂 20250714_131706_Monday_chicken-41_batch-25_chicken-age-25 → Found 10 PNG images\n",
            "✅ Extracted features from rgb_20250714_131720_209863_instance-0.png in 20250714_131706_Monday_chicken-41_batch-25_chicken-age-25\n",
            "✅ Extracted features from rgb_20250714_131721_960438_instance-0.png in 20250714_131706_Monday_chicken-41_batch-25_chicken-age-25\n",
            "✅ Extracted features from rgb_20250714_131723_583345_instance-0.png in 20250714_131706_Monday_chicken-41_batch-25_chicken-age-25\n",
            "✅ Extracted features from rgb_20250714_131725_826270_instance-0.png in 20250714_131706_Monday_chicken-41_batch-25_chicken-age-25\n",
            "✅ Extracted features from rgb_20250714_131729_348736_instance-0.png in 20250714_131706_Monday_chicken-41_batch-25_chicken-age-25\n",
            "✅ Extracted features from rgb_20250714_131731_167522_instance-0.png in 20250714_131706_Monday_chicken-41_batch-25_chicken-age-25\n",
            "✅ Extracted features from rgb_20250714_131733_162374_instance-0.png in 20250714_131706_Monday_chicken-41_batch-25_chicken-age-25\n",
            "✅ Extracted features from rgb_20250714_131734_567052_instance-0.png in 20250714_131706_Monday_chicken-41_batch-25_chicken-age-25\n",
            "✅ Extracted features from rgb_20250714_131736_342565_instance-0.png in 20250714_131706_Monday_chicken-41_batch-25_chicken-age-25\n"
          ]
        },
        {
          "output_type": "stream",
          "name": "stderr",
          "text": [
            "\rProcessing Folders:  29%|██▊       | 38/133 [05:33<12:20,  7.79s/it]"
          ]
        },
        {
          "output_type": "stream",
          "name": "stdout",
          "text": [
            "✅ Extracted features from rgb_20250714_131737_850171_instance-0.png in 20250714_131706_Monday_chicken-41_batch-25_chicken-age-25\n",
            "\n",
            "📂 20250714_131748_Monday_chicken-42_batch-25_chicken-age-25 → Found 10 PNG images\n",
            "✅ Extracted features from rgb_20250714_131753_212706_instance-0.png in 20250714_131748_Monday_chicken-42_batch-25_chicken-age-25\n",
            "✅ Extracted features from rgb_20250714_131755_135024_instance-0.png in 20250714_131748_Monday_chicken-42_batch-25_chicken-age-25\n",
            "✅ Extracted features from rgb_20250714_131801_704835_instance-0.png in 20250714_131748_Monday_chicken-42_batch-25_chicken-age-25\n",
            "✅ Extracted features from rgb_20250714_131802_869219_instance-0.png in 20250714_131748_Monday_chicken-42_batch-25_chicken-age-25\n",
            "✅ Extracted features from rgb_20250714_131808_870188_instance-0.png in 20250714_131748_Monday_chicken-42_batch-25_chicken-age-25\n",
            "✅ Extracted features from rgb_20250714_131810_850395_instance-0.png in 20250714_131748_Monday_chicken-42_batch-25_chicken-age-25\n",
            "✅ Extracted features from rgb_20250714_131812_587075_instance-0.png in 20250714_131748_Monday_chicken-42_batch-25_chicken-age-25\n",
            "✅ Extracted features from rgb_20250714_131813_671494_instance-0.png in 20250714_131748_Monday_chicken-42_batch-25_chicken-age-25\n",
            "✅ Extracted features from rgb_20250714_131815_448163_instance-0.png in 20250714_131748_Monday_chicken-42_batch-25_chicken-age-25\n"
          ]
        },
        {
          "output_type": "stream",
          "name": "stderr",
          "text": [
            "\rProcessing Folders:  29%|██▉       | 39/133 [05:42<13:03,  8.33s/it]"
          ]
        },
        {
          "output_type": "stream",
          "name": "stdout",
          "text": [
            "✅ Extracted features from rgb_20250714_131817_014302_instance-0.png in 20250714_131748_Monday_chicken-42_batch-25_chicken-age-25\n",
            "\n",
            "📂 20250714_131823_Monday_chicken-43_batch-25_chicken-age-25 → Found 9 PNG images\n",
            "✅ Extracted features from rgb_20250714_131828_810600_instance-0.png in 20250714_131823_Monday_chicken-43_batch-25_chicken-age-25\n",
            "✅ Extracted features from rgb_20250714_131831_084170_instance-0.png in 20250714_131823_Monday_chicken-43_batch-25_chicken-age-25\n",
            "✅ Extracted features from rgb_20250714_131832_906428_instance-0.png in 20250714_131823_Monday_chicken-43_batch-25_chicken-age-25\n",
            "✅ Extracted features from rgb_20250714_131834_543884_instance-0.png in 20250714_131823_Monday_chicken-43_batch-25_chicken-age-25\n",
            "✅ Extracted features from rgb_20250714_131838_541212_instance-0.png in 20250714_131823_Monday_chicken-43_batch-25_chicken-age-25\n",
            "✅ Extracted features from rgb_20250714_131840_907738_instance-0.png in 20250714_131823_Monday_chicken-43_batch-25_chicken-age-25\n",
            "✅ Extracted features from rgb_20250714_131843_415039_instance-0.png in 20250714_131823_Monday_chicken-43_batch-25_chicken-age-25\n",
            "✅ Extracted features from rgb_20250714_131846_431153_instance-0.png in 20250714_131823_Monday_chicken-43_batch-25_chicken-age-25\n"
          ]
        },
        {
          "output_type": "stream",
          "name": "stderr",
          "text": [
            "\rProcessing Folders:  30%|███       | 40/133 [05:50<12:47,  8.26s/it]"
          ]
        },
        {
          "output_type": "stream",
          "name": "stdout",
          "text": [
            "✅ Extracted features from rgb_20250714_131848_716321_instance-0.png in 20250714_131823_Monday_chicken-43_batch-25_chicken-age-25\n",
            "\n",
            "📂 20250714_131900_Monday_chicken-44_batch-25_chicken-age-25 → Found 10 PNG images\n",
            "✅ Extracted features from rgb_20250714_131914_567804_instance-0.png in 20250714_131900_Monday_chicken-44_batch-25_chicken-age-25\n",
            "✅ Extracted features from rgb_20250714_131916_356185_instance-0.png in 20250714_131900_Monday_chicken-44_batch-25_chicken-age-25\n",
            "✅ Extracted features from rgb_20250714_131918_226041_instance-0.png in 20250714_131900_Monday_chicken-44_batch-25_chicken-age-25\n",
            "✅ Extracted features from rgb_20250714_131920_174909_instance-0.png in 20250714_131900_Monday_chicken-44_batch-25_chicken-age-25\n",
            "✅ Extracted features from rgb_20250714_131921_791288_instance-0.png in 20250714_131900_Monday_chicken-44_batch-25_chicken-age-25\n",
            "✅ Extracted features from rgb_20250714_131922_789653_instance-0.png in 20250714_131900_Monday_chicken-44_batch-25_chicken-age-25\n",
            "✅ Extracted features from rgb_20250714_131923_954997_instance-0.png in 20250714_131900_Monday_chicken-44_batch-25_chicken-age-25\n",
            "✅ Extracted features from rgb_20250714_131925_080092_instance-0.png in 20250714_131900_Monday_chicken-44_batch-25_chicken-age-25\n",
            "✅ Extracted features from rgb_20250714_131926_498153_instance-0.png in 20250714_131900_Monday_chicken-44_batch-25_chicken-age-25\n"
          ]
        },
        {
          "output_type": "stream",
          "name": "stderr",
          "text": [
            "\rProcessing Folders:  31%|███       | 41/133 [06:00<13:03,  8.52s/it]"
          ]
        },
        {
          "output_type": "stream",
          "name": "stdout",
          "text": [
            "✅ Extracted features from rgb_20250714_131927_477927_instance-0.png in 20250714_131900_Monday_chicken-44_batch-25_chicken-age-25\n",
            "\n",
            "📂 20250714_131934_Monday_chicken-45_batch-25_chicken-age-25 → Found 15 PNG images\n",
            "✅ Extracted features from rgb_20250714_131938_393072_instance-0.png in 20250714_131934_Monday_chicken-45_batch-25_chicken-age-25\n",
            "✅ Extracted features from rgb_20250714_131939_631969_instance-0.png in 20250714_131934_Monday_chicken-45_batch-25_chicken-age-25\n",
            "✅ Extracted features from rgb_20250714_131941_120430_instance-0.png in 20250714_131934_Monday_chicken-45_batch-25_chicken-age-25\n",
            "✅ Extracted features from rgb_20250714_131943_701841_instance-0.png in 20250714_131934_Monday_chicken-45_batch-25_chicken-age-25\n",
            "✅ Extracted features from rgb_20250714_131946_062338_instance-0.png in 20250714_131934_Monday_chicken-45_batch-25_chicken-age-25\n",
            "✅ Extracted features from rgb_20250714_131947_486430_instance-0.png in 20250714_131934_Monday_chicken-45_batch-25_chicken-age-25\n",
            "✅ Extracted features from rgb_20250714_131948_722624_instance-0.png in 20250714_131934_Monday_chicken-45_batch-25_chicken-age-25\n",
            "✅ Extracted features from rgb_20250714_131950_937878_instance-0.png in 20250714_131934_Monday_chicken-45_batch-25_chicken-age-25\n",
            "✅ Extracted features from rgb_20250714_131952_925973_instance-0.png in 20250714_131934_Monday_chicken-45_batch-25_chicken-age-25\n",
            "✅ Extracted features from rgb_20250714_131954_255227_instance-0.png in 20250714_131934_Monday_chicken-45_batch-25_chicken-age-25\n",
            "✅ Extracted features from rgb_20250714_131955_643530_instance-0.png in 20250714_131934_Monday_chicken-45_batch-25_chicken-age-25\n",
            "✅ Extracted features from rgb_20250714_131957_318156_instance-0.png in 20250714_131934_Monday_chicken-45_batch-25_chicken-age-25\n",
            "✅ Extracted features from rgb_20250714_132000_195983_instance-0.png in 20250714_131934_Monday_chicken-45_batch-25_chicken-age-25\n",
            "✅ Extracted features from rgb_20250714_132002_167344_instance-0.png in 20250714_131934_Monday_chicken-45_batch-25_chicken-age-25\n"
          ]
        },
        {
          "output_type": "stream",
          "name": "stderr",
          "text": [
            "\rProcessing Folders:  32%|███▏      | 42/133 [06:14<15:25, 10.17s/it]"
          ]
        },
        {
          "output_type": "stream",
          "name": "stdout",
          "text": [
            "✅ Extracted features from rgb_20250714_132004_879394_instance-0.png in 20250714_131934_Monday_chicken-45_batch-25_chicken-age-25\n",
            "\n",
            "📂 20250714_132011_Monday_chicken-46_batch-25_chicken-age-25 → Found 8 PNG images\n",
            "✅ Extracted features from rgb_20250714_132025_401227_instance-0.png in 20250714_132011_Monday_chicken-46_batch-25_chicken-age-25\n",
            "✅ Extracted features from rgb_20250714_132028_700687_instance-0.png in 20250714_132011_Monday_chicken-46_batch-25_chicken-age-25\n",
            "✅ Extracted features from rgb_20250714_132030_868971_instance-0.png in 20250714_132011_Monday_chicken-46_batch-25_chicken-age-25\n",
            "✅ Extracted features from rgb_20250714_132032_740698_instance-0.png in 20250714_132011_Monday_chicken-46_batch-25_chicken-age-25\n",
            "✅ Extracted features from rgb_20250714_132034_039945_instance-0.png in 20250714_132011_Monday_chicken-46_batch-25_chicken-age-25\n",
            "✅ Extracted features from rgb_20250714_132035_416465_instance-0.png in 20250714_132011_Monday_chicken-46_batch-25_chicken-age-25\n",
            "✅ Extracted features from rgb_20250714_132037_091733_instance-0.png in 20250714_132011_Monday_chicken-46_batch-25_chicken-age-25\n"
          ]
        },
        {
          "output_type": "stream",
          "name": "stderr",
          "text": [
            "\rProcessing Folders:  32%|███▏      | 43/133 [06:21<13:59,  9.33s/it]"
          ]
        },
        {
          "output_type": "stream",
          "name": "stdout",
          "text": [
            "✅ Extracted features from rgb_20250714_132039_318288_instance-0.png in 20250714_132011_Monday_chicken-46_batch-25_chicken-age-25\n",
            "\n",
            "📂 20250714_132050_Monday_chicken-47_batch-25_chicken-age-25 → Found 9 PNG images\n",
            "✅ Extracted features from rgb_20250714_132059_297381_instance-0.png in 20250714_132050_Monday_chicken-47_batch-25_chicken-age-25\n",
            "✅ Extracted features from rgb_20250714_132101_065126_instance-0.png in 20250714_132050_Monday_chicken-47_batch-25_chicken-age-25\n",
            "✅ Extracted features from rgb_20250714_132102_608110_instance-0.png in 20250714_132050_Monday_chicken-47_batch-25_chicken-age-25\n",
            "✅ Extracted features from rgb_20250714_132104_137517_instance-0.png in 20250714_132050_Monday_chicken-47_batch-25_chicken-age-25\n",
            "✅ Extracted features from rgb_20250714_132105_831855_instance-0.png in 20250714_132050_Monday_chicken-47_batch-25_chicken-age-25\n",
            "✅ Extracted features from rgb_20250714_132107_174301_instance-0.png in 20250714_132050_Monday_chicken-47_batch-25_chicken-age-25\n",
            "✅ Extracted features from rgb_20250714_132108_411401_instance-0.png in 20250714_132050_Monday_chicken-47_batch-25_chicken-age-25\n",
            "✅ Extracted features from rgb_20250714_132109_822475_instance-0.png in 20250714_132050_Monday_chicken-47_batch-25_chicken-age-25\n"
          ]
        },
        {
          "output_type": "stream",
          "name": "stderr",
          "text": [
            "\rProcessing Folders:  33%|███▎      | 44/133 [06:29<13:25,  9.05s/it]"
          ]
        },
        {
          "output_type": "stream",
          "name": "stdout",
          "text": [
            "✅ Extracted features from rgb_20250714_132110_743568_instance-0.png in 20250714_132050_Monday_chicken-47_batch-25_chicken-age-25\n",
            "\n",
            "📂 20250714_132121_Monday_chicken-48_batch-25_chicken-age-25 → Found 11 PNG images\n",
            "✅ Extracted features from rgb_20250714_132137_690135_instance-0.png in 20250714_132121_Monday_chicken-48_batch-25_chicken-age-25\n",
            "✅ Extracted features from rgb_20250714_132138_775398_instance-0.png in 20250714_132121_Monday_chicken-48_batch-25_chicken-age-25\n",
            "✅ Extracted features from rgb_20250714_132139_958354_instance-0.png in 20250714_132121_Monday_chicken-48_batch-25_chicken-age-25\n",
            "✅ Extracted features from rgb_20250714_132141_509332_instance-0.png in 20250714_132121_Monday_chicken-48_batch-25_chicken-age-25\n",
            "✅ Extracted features from rgb_20250714_132142_762312_instance-0.png in 20250714_132121_Monday_chicken-48_batch-25_chicken-age-25\n",
            "✅ Extracted features from rgb_20250714_132145_541145_instance-0.png in 20250714_132121_Monday_chicken-48_batch-25_chicken-age-25\n",
            "✅ Extracted features from rgb_20250714_132147_208203_instance-0.png in 20250714_132121_Monday_chicken-48_batch-25_chicken-age-25\n",
            "✅ Extracted features from rgb_20250714_132148_700844_instance-0.png in 20250714_132121_Monday_chicken-48_batch-25_chicken-age-25\n",
            "✅ Extracted features from rgb_20250714_132150_042102_instance-0.png in 20250714_132121_Monday_chicken-48_batch-25_chicken-age-25\n",
            "✅ Extracted features from rgb_20250714_132153_069049_instance-0.png in 20250714_132121_Monday_chicken-48_batch-25_chicken-age-25\n"
          ]
        },
        {
          "output_type": "stream",
          "name": "stderr",
          "text": [
            "\rProcessing Folders:  34%|███▍      | 45/133 [06:40<13:51,  9.45s/it]"
          ]
        },
        {
          "output_type": "stream",
          "name": "stdout",
          "text": [
            "✅ Extracted features from rgb_20250714_132155_476888_instance-0.png in 20250714_132121_Monday_chicken-48_batch-25_chicken-age-25\n",
            "\n",
            "📂 20250714_132202_Monday_chicken-49_batch-25_chicken-age-25 → Found 18 PNG images\n",
            "✅ Extracted features from rgb_20250714_132212_020093_instance-0.png in 20250714_132202_Monday_chicken-49_batch-25_chicken-age-25\n",
            "✅ Extracted features from rgb_20250714_132214_396563_instance-0.png in 20250714_132202_Monday_chicken-49_batch-25_chicken-age-25\n",
            "✅ Extracted features from rgb_20250714_132215_902472_instance-0.png in 20250714_132202_Monday_chicken-49_batch-25_chicken-age-25\n",
            "✅ Extracted features from rgb_20250714_132218_010552_instance-0.png in 20250714_132202_Monday_chicken-49_batch-25_chicken-age-25\n",
            "✅ Extracted features from rgb_20250714_132219_099782_instance-0.png in 20250714_132202_Monday_chicken-49_batch-25_chicken-age-25\n",
            "✅ Extracted features from rgb_20250714_132220_160672_instance-0.png in 20250714_132202_Monday_chicken-49_batch-25_chicken-age-25\n",
            "✅ Extracted features from rgb_20250714_132226_407005_instance-0.png in 20250714_132202_Monday_chicken-49_batch-25_chicken-age-25\n",
            "✅ Extracted features from rgb_20250714_132228_952259_instance-0.png in 20250714_132202_Monday_chicken-49_batch-25_chicken-age-25\n",
            "✅ Extracted features from rgb_20250714_132230_581537_instance-0.png in 20250714_132202_Monday_chicken-49_batch-25_chicken-age-25\n",
            "✅ Extracted features from rgb_20250714_132232_721474_instance-0.png in 20250714_132202_Monday_chicken-49_batch-25_chicken-age-25\n",
            "✅ Extracted features from rgb_20250714_132233_920470_instance-0.png in 20250714_132202_Monday_chicken-49_batch-25_chicken-age-25\n",
            "✅ Extracted features from rgb_20250714_132235_337367_instance-0.png in 20250714_132202_Monday_chicken-49_batch-25_chicken-age-25\n",
            "✅ Extracted features from rgb_20250714_132237_570814_instance-0.png in 20250714_132202_Monday_chicken-49_batch-25_chicken-age-25\n",
            "✅ Extracted features from rgb_20250714_132238_821816_instance-0.png in 20250714_132202_Monday_chicken-49_batch-25_chicken-age-25\n",
            "✅ Extracted features from rgb_20250714_132240_288810_instance-0.png in 20250714_132202_Monday_chicken-49_batch-25_chicken-age-25\n",
            "✅ Extracted features from rgb_20250714_132241_464216_instance-0.png in 20250714_132202_Monday_chicken-49_batch-25_chicken-age-25\n",
            "✅ Extracted features from rgb_20250714_132242_707537_instance-0.png in 20250714_132202_Monday_chicken-49_batch-25_chicken-age-25\n"
          ]
        },
        {
          "output_type": "stream",
          "name": "stderr",
          "text": [
            "\rProcessing Folders:  35%|███▍      | 46/133 [06:57<16:55, 11.67s/it]"
          ]
        },
        {
          "output_type": "stream",
          "name": "stdout",
          "text": [
            "✅ Extracted features from rgb_20250714_132243_905624_instance-0.png in 20250714_132202_Monday_chicken-49_batch-25_chicken-age-25\n",
            "\n",
            "📂 20250714_132250_Monday_chicken-50_batch-25_chicken-age-25 → Found 11 PNG images\n",
            "✅ Extracted features from rgb_20250714_132257_626639_instance-0.png in 20250714_132250_Monday_chicken-50_batch-25_chicken-age-25\n",
            "✅ Extracted features from rgb_20250714_132259_128487_instance-0.png in 20250714_132250_Monday_chicken-50_batch-25_chicken-age-25\n",
            "✅ Extracted features from rgb_20250714_132301_037711_instance-0.png in 20250714_132250_Monday_chicken-50_batch-25_chicken-age-25\n",
            "✅ Extracted features from rgb_20250714_132302_919145_instance-0.png in 20250714_132250_Monday_chicken-50_batch-25_chicken-age-25\n",
            "✅ Extracted features from rgb_20250714_132304_846468_instance-0.png in 20250714_132250_Monday_chicken-50_batch-25_chicken-age-25\n",
            "✅ Extracted features from rgb_20250714_132306_347023_instance-0.png in 20250714_132250_Monday_chicken-50_batch-25_chicken-age-25\n",
            "✅ Extracted features from rgb_20250714_132307_789144_instance-0.png in 20250714_132250_Monday_chicken-50_batch-25_chicken-age-25\n",
            "✅ Extracted features from rgb_20250714_132309_408656_instance-0.png in 20250714_132250_Monday_chicken-50_batch-25_chicken-age-25\n",
            "✅ Extracted features from rgb_20250714_132324_561694_instance-0.png in 20250714_132250_Monday_chicken-50_batch-25_chicken-age-25\n",
            "✅ Extracted features from rgb_20250714_132325_833922_instance-0.png in 20250714_132250_Monday_chicken-50_batch-25_chicken-age-25\n"
          ]
        },
        {
          "output_type": "stream",
          "name": "stderr",
          "text": [
            "\rProcessing Folders:  35%|███▌      | 47/133 [07:09<17:05, 11.92s/it]"
          ]
        },
        {
          "output_type": "stream",
          "name": "stdout",
          "text": [
            "✅ Extracted features from rgb_20250714_132326_794529_instance-0.png in 20250714_132250_Monday_chicken-50_batch-25_chicken-age-25\n",
            "\n",
            "📂 20250714_132335_Monday_chicken-51_batch-25_chicken-age-25 → Found 11 PNG images\n",
            "✅ Extracted features from rgb_20250714_132353_523389_instance-0.png in 20250714_132335_Monday_chicken-51_batch-25_chicken-age-25\n",
            "✅ Extracted features from rgb_20250714_132355_092399_instance-0.png in 20250714_132335_Monday_chicken-51_batch-25_chicken-age-25\n",
            "✅ Extracted features from rgb_20250714_132356_184158_instance-0.png in 20250714_132335_Monday_chicken-51_batch-25_chicken-age-25\n",
            "✅ Extracted features from rgb_20250714_132357_287262_instance-0.png in 20250714_132335_Monday_chicken-51_batch-25_chicken-age-25\n",
            "✅ Extracted features from rgb_20250714_132358_805583_instance-0.png in 20250714_132335_Monday_chicken-51_batch-25_chicken-age-25\n",
            "✅ Extracted features from rgb_20250714_132400_641835_instance-0.png in 20250714_132335_Monday_chicken-51_batch-25_chicken-age-25\n",
            "✅ Extracted features from rgb_20250714_132403_355186_instance-0.png in 20250714_132335_Monday_chicken-51_batch-25_chicken-age-25\n",
            "✅ Extracted features from rgb_20250714_132407_364191_instance-0.png in 20250714_132335_Monday_chicken-51_batch-25_chicken-age-25\n",
            "✅ Extracted features from rgb_20250714_132413_866192_instance-0.png in 20250714_132335_Monday_chicken-51_batch-25_chicken-age-25\n",
            "✅ Extracted features from rgb_20250714_132414_960436_instance-0.png in 20250714_132335_Monday_chicken-51_batch-25_chicken-age-25\n"
          ]
        },
        {
          "output_type": "stream",
          "name": "stderr",
          "text": [
            "\rProcessing Folders:  36%|███▌      | 48/133 [07:20<16:15, 11.47s/it]"
          ]
        },
        {
          "output_type": "stream",
          "name": "stdout",
          "text": [
            "✅ Extracted features from rgb_20250714_132416_346508_instance-0.png in 20250714_132335_Monday_chicken-51_batch-25_chicken-age-25\n",
            "\n",
            "📂 20250714_132429_Monday_chicken-52_batch-25_chicken-age-25 → Found 9 PNG images\n",
            "✅ Extracted features from rgb_20250714_132446_232195_instance-0.png in 20250714_132429_Monday_chicken-52_batch-25_chicken-age-25\n",
            "✅ Extracted features from rgb_20250714_132447_398301_instance-0.png in 20250714_132429_Monday_chicken-52_batch-25_chicken-age-25\n",
            "✅ Extracted features from rgb_20250714_132448_720746_instance-0.png in 20250714_132429_Monday_chicken-52_batch-25_chicken-age-25\n",
            "✅ Extracted features from rgb_20250714_132450_025204_instance-0.png in 20250714_132429_Monday_chicken-52_batch-25_chicken-age-25\n",
            "✅ Extracted features from rgb_20250714_132456_954384_instance-0.png in 20250714_132429_Monday_chicken-52_batch-25_chicken-age-25\n",
            "✅ Extracted features from rgb_20250714_132500_442718_instance-0.png in 20250714_132429_Monday_chicken-52_batch-25_chicken-age-25\n",
            "✅ Extracted features from rgb_20250714_132506_034932_instance-0.png in 20250714_132429_Monday_chicken-52_batch-25_chicken-age-25\n",
            "✅ Extracted features from rgb_20250714_132507_233464_instance-0.png in 20250714_132429_Monday_chicken-52_batch-25_chicken-age-25\n"
          ]
        },
        {
          "output_type": "stream",
          "name": "stderr",
          "text": [
            "\rProcessing Folders:  37%|███▋      | 49/133 [07:28<14:55, 10.66s/it]"
          ]
        },
        {
          "output_type": "stream",
          "name": "stdout",
          "text": [
            "✅ Extracted features from rgb_20250714_132508_537063_instance-0.png in 20250714_132429_Monday_chicken-52_batch-25_chicken-age-25\n",
            "\n",
            "📂 20250714_132515_Monday_chicken-53_batch-25_chicken-age-25 → Found 9 PNG images\n",
            "✅ Extracted features from rgb_20250714_132528_082785_instance-0.png in 20250714_132515_Monday_chicken-53_batch-25_chicken-age-25\n",
            "✅ Extracted features from rgb_20250714_132530_017110_instance-0.png in 20250714_132515_Monday_chicken-53_batch-25_chicken-age-25\n",
            "✅ Extracted features from rgb_20250714_132531_233035_instance-0.png in 20250714_132515_Monday_chicken-53_batch-25_chicken-age-25\n",
            "✅ Extracted features from rgb_20250714_132532_289135_instance-0.png in 20250714_132515_Monday_chicken-53_batch-25_chicken-age-25\n",
            "✅ Extracted features from rgb_20250714_132534_716281_instance-0.png in 20250714_132515_Monday_chicken-53_batch-25_chicken-age-25\n",
            "✅ Extracted features from rgb_20250714_132536_372485_instance-0.png in 20250714_132515_Monday_chicken-53_batch-25_chicken-age-25\n",
            "✅ Extracted features from rgb_20250714_132537_415577_instance-0.png in 20250714_132515_Monday_chicken-53_batch-25_chicken-age-25\n",
            "✅ Extracted features from rgb_20250714_132538_600528_instance-0.png in 20250714_132515_Monday_chicken-53_batch-25_chicken-age-25\n"
          ]
        },
        {
          "output_type": "stream",
          "name": "stderr",
          "text": [
            "\rProcessing Folders:  38%|███▊      | 50/133 [07:37<13:45,  9.95s/it]"
          ]
        },
        {
          "output_type": "stream",
          "name": "stdout",
          "text": [
            "✅ Extracted features from rgb_20250714_132539_735185_instance-0.png in 20250714_132515_Monday_chicken-53_batch-25_chicken-age-25\n",
            "\n",
            "📂 20250714_132552_Monday_chicken-54_batch-25_chicken-age-25 → Found 9 PNG images\n",
            "✅ Extracted features from rgb_20250714_132645_729737_instance-0.png in 20250714_132552_Monday_chicken-54_batch-25_chicken-age-25\n",
            "✅ Extracted features from rgb_20250714_132646_656106_instance-0.png in 20250714_132552_Monday_chicken-54_batch-25_chicken-age-25\n",
            "✅ Extracted features from rgb_20250714_132647_573046_instance-0.png in 20250714_132552_Monday_chicken-54_batch-25_chicken-age-25\n",
            "✅ Extracted features from rgb_20250714_132648_590330_instance-0.png in 20250714_132552_Monday_chicken-54_batch-25_chicken-age-25\n",
            "✅ Extracted features from rgb_20250714_132649_523436_instance-0.png in 20250714_132552_Monday_chicken-54_batch-25_chicken-age-25\n",
            "✅ Extracted features from rgb_20250714_132650_682914_instance-0.png in 20250714_132552_Monday_chicken-54_batch-25_chicken-age-25\n",
            "✅ Extracted features from rgb_20250714_132651_698744_instance-0.png in 20250714_132552_Monday_chicken-54_batch-25_chicken-age-25\n",
            "✅ Extracted features from rgb_20250714_132652_667471_instance-0.png in 20250714_132552_Monday_chicken-54_batch-25_chicken-age-25\n"
          ]
        },
        {
          "output_type": "stream",
          "name": "stderr",
          "text": [
            "\rProcessing Folders:  38%|███▊      | 51/133 [07:45<12:58,  9.49s/it]"
          ]
        },
        {
          "output_type": "stream",
          "name": "stdout",
          "text": [
            "✅ Extracted features from rgb_20250714_132653_508014_instance-0.png in 20250714_132552_Monday_chicken-54_batch-25_chicken-age-25\n",
            "\n",
            "📂 20250714_132703_Monday_chicken-55_batch-25_chicken-age-25 → Found 11 PNG images\n",
            "✅ Extracted features from rgb_20250714_132711_897876_instance-0.png in 20250714_132703_Monday_chicken-55_batch-25_chicken-age-25\n",
            "✅ Extracted features from rgb_20250714_132713_235792_instance-0.png in 20250714_132703_Monday_chicken-55_batch-25_chicken-age-25\n",
            "✅ Extracted features from rgb_20250714_132714_351453_instance-0.png in 20250714_132703_Monday_chicken-55_batch-25_chicken-age-25\n",
            "✅ Extracted features from rgb_20250714_132715_445116_instance-0.png in 20250714_132703_Monday_chicken-55_batch-25_chicken-age-25\n",
            "✅ Extracted features from rgb_20250714_132716_575053_instance-0.png in 20250714_132703_Monday_chicken-55_batch-25_chicken-age-25\n",
            "✅ Extracted features from rgb_20250714_132717_644425_instance-0.png in 20250714_132703_Monday_chicken-55_batch-25_chicken-age-25\n",
            "✅ Extracted features from rgb_20250714_132718_876980_instance-0.png in 20250714_132703_Monday_chicken-55_batch-25_chicken-age-25\n",
            "✅ Extracted features from rgb_20250714_132719_898342_instance-0.png in 20250714_132703_Monday_chicken-55_batch-25_chicken-age-25\n",
            "✅ Extracted features from rgb_20250714_132722_382545_instance-0.png in 20250714_132703_Monday_chicken-55_batch-25_chicken-age-25\n",
            "✅ Extracted features from rgb_20250714_132723_936698_instance-0.png in 20250714_132703_Monday_chicken-55_batch-25_chicken-age-25\n"
          ]
        },
        {
          "output_type": "stream",
          "name": "stderr",
          "text": [
            "\rProcessing Folders:  39%|███▉      | 52/133 [07:55<13:09,  9.75s/it]"
          ]
        },
        {
          "output_type": "stream",
          "name": "stdout",
          "text": [
            "✅ Extracted features from rgb_20250714_132725_919139_instance-0.png in 20250714_132703_Monday_chicken-55_batch-25_chicken-age-25\n",
            "\n",
            "📂 20250714_132733_Monday_chicken-56_batch-25_chicken-age-25 → Found 11 PNG images\n",
            "✅ Extracted features from rgb_20250714_132745_148808_instance-0.png in 20250714_132733_Monday_chicken-56_batch-25_chicken-age-25\n",
            "✅ Extracted features from rgb_20250714_132746_808731_instance-0.png in 20250714_132733_Monday_chicken-56_batch-25_chicken-age-25\n",
            "✅ Extracted features from rgb_20250714_132746_808731_instance-1.png in 20250714_132733_Monday_chicken-56_batch-25_chicken-age-25\n",
            "✅ Extracted features from rgb_20250714_132749_970495_instance-0.png in 20250714_132733_Monday_chicken-56_batch-25_chicken-age-25\n",
            "✅ Extracted features from rgb_20250714_132751_207803_instance-0.png in 20250714_132733_Monday_chicken-56_batch-25_chicken-age-25\n",
            "✅ Extracted features from rgb_20250714_132751_207803_instance-1.png in 20250714_132733_Monday_chicken-56_batch-25_chicken-age-25\n",
            "✅ Extracted features from rgb_20250714_132752_775415_instance-0.png in 20250714_132733_Monday_chicken-56_batch-25_chicken-age-25\n",
            "✅ Extracted features from rgb_20250714_132754_013726_instance-0.png in 20250714_132733_Monday_chicken-56_batch-25_chicken-age-25\n",
            "✅ Extracted features from rgb_20250714_132755_259092_instance-0.png in 20250714_132733_Monday_chicken-56_batch-25_chicken-age-25\n",
            "✅ Extracted features from rgb_20250714_132756_398886_instance-0.png in 20250714_132733_Monday_chicken-56_batch-25_chicken-age-25\n"
          ]
        },
        {
          "output_type": "stream",
          "name": "stderr",
          "text": [
            "\rProcessing Folders:  40%|███▉      | 53/133 [08:06<13:11,  9.89s/it]"
          ]
        },
        {
          "output_type": "stream",
          "name": "stdout",
          "text": [
            "✅ Extracted features from rgb_20250714_132758_113580_instance-0.png in 20250714_132733_Monday_chicken-56_batch-25_chicken-age-25\n",
            "\n",
            "📂 20250714_132806_Monday_chicken-57_batch-25_chicken-age-25 → Found 11 PNG images\n",
            "✅ Extracted features from rgb_20250714_132816_012290_instance-0.png in 20250714_132806_Monday_chicken-57_batch-25_chicken-age-25\n",
            "✅ Extracted features from rgb_20250714_132817_898343_instance-0.png in 20250714_132806_Monday_chicken-57_batch-25_chicken-age-25\n",
            "✅ Extracted features from rgb_20250714_132819_006451_instance-0.png in 20250714_132806_Monday_chicken-57_batch-25_chicken-age-25\n",
            "✅ Extracted features from rgb_20250714_132820_073849_instance-0.png in 20250714_132806_Monday_chicken-57_batch-25_chicken-age-25\n",
            "✅ Extracted features from rgb_20250714_132821_023966_instance-0.png in 20250714_132806_Monday_chicken-57_batch-25_chicken-age-25\n",
            "✅ Extracted features from rgb_20250714_132822_115164_instance-0.png in 20250714_132806_Monday_chicken-57_batch-25_chicken-age-25\n",
            "✅ Extracted features from rgb_20250714_132823_256139_instance-0.png in 20250714_132806_Monday_chicken-57_batch-25_chicken-age-25\n",
            "✅ Extracted features from rgb_20250714_132824_654590_instance-0.png in 20250714_132806_Monday_chicken-57_batch-25_chicken-age-25\n",
            "✅ Extracted features from rgb_20250714_132825_333862_instance-0.png in 20250714_132806_Monday_chicken-57_batch-25_chicken-age-25\n",
            "✅ Extracted features from rgb_20250714_132827_135911_instance-0.png in 20250714_132806_Monday_chicken-57_batch-25_chicken-age-25\n"
          ]
        },
        {
          "output_type": "stream",
          "name": "stderr",
          "text": [
            "\rProcessing Folders:  41%|████      | 54/133 [08:16<13:06,  9.96s/it]"
          ]
        },
        {
          "output_type": "stream",
          "name": "stdout",
          "text": [
            "✅ Extracted features from rgb_20250714_132829_099461_instance-0.png in 20250714_132806_Monday_chicken-57_batch-25_chicken-age-25\n",
            "\n",
            "📂 20250714_132846_Monday_chicken-58_batch-25_chicken-age-25 → Found 16 PNG images\n",
            "✅ Extracted features from rgb_20250714_132853_309020_instance-0.png in 20250714_132846_Monday_chicken-58_batch-25_chicken-age-25\n",
            "✅ Extracted features from rgb_20250714_132854_622928_instance-0.png in 20250714_132846_Monday_chicken-58_batch-25_chicken-age-25\n",
            "✅ Extracted features from rgb_20250714_132855_720294_instance-0.png in 20250714_132846_Monday_chicken-58_batch-25_chicken-age-25\n",
            "✅ Extracted features from rgb_20250714_132856_887034_instance-0.png in 20250714_132846_Monday_chicken-58_batch-25_chicken-age-25\n",
            "✅ Extracted features from rgb_20250714_132858_213253_instance-0.png in 20250714_132846_Monday_chicken-58_batch-25_chicken-age-25\n",
            "✅ Extracted features from rgb_20250714_132859_707155_instance-0.png in 20250714_132846_Monday_chicken-58_batch-25_chicken-age-25\n",
            "✅ Extracted features from rgb_20250714_132900_984059_instance-0.png in 20250714_132846_Monday_chicken-58_batch-25_chicken-age-25\n",
            "✅ Extracted features from rgb_20250714_132902_181182_instance-0.png in 20250714_132846_Monday_chicken-58_batch-25_chicken-age-25\n",
            "✅ Extracted features from rgb_20250714_132903_438379_instance-0.png in 20250714_132846_Monday_chicken-58_batch-25_chicken-age-25\n",
            "✅ Extracted features from rgb_20250714_132905_081863_instance-0.png in 20250714_132846_Monday_chicken-58_batch-25_chicken-age-25\n",
            "✅ Extracted features from rgb_20250714_132906_563880_instance-0.png in 20250714_132846_Monday_chicken-58_batch-25_chicken-age-25\n",
            "✅ Extracted features from rgb_20250714_132907_971904_instance-0.png in 20250714_132846_Monday_chicken-58_batch-25_chicken-age-25\n",
            "✅ Extracted features from rgb_20250714_132909_418694_instance-0.png in 20250714_132846_Monday_chicken-58_batch-25_chicken-age-25\n",
            "✅ Extracted features from rgb_20250714_132910_743411_instance-0.png in 20250714_132846_Monday_chicken-58_batch-25_chicken-age-25\n",
            "✅ Extracted features from rgb_20250714_132912_140585_instance-0.png in 20250714_132846_Monday_chicken-58_batch-25_chicken-age-25\n"
          ]
        },
        {
          "output_type": "stream",
          "name": "stderr",
          "text": [
            "\rProcessing Folders:  41%|████▏     | 55/133 [08:31<14:56, 11.49s/it]"
          ]
        },
        {
          "output_type": "stream",
          "name": "stdout",
          "text": [
            "✅ Extracted features from rgb_20250714_132913_238165_instance-0.png in 20250714_132846_Monday_chicken-58_batch-25_chicken-age-25\n",
            "\n",
            "📂 20250716_143734_Wednesday_chicken-60_batch-27_chicken-age-27 → Found 5 PNG images\n",
            "✅ Extracted features from rgb_20250716_143841_534936_instance-0.png in 20250716_143734_Wednesday_chicken-60_batch-27_chicken-age-27\n",
            "✅ Extracted features from rgb_20250716_143841_534936_instance-1.png in 20250716_143734_Wednesday_chicken-60_batch-27_chicken-age-27\n",
            "✅ Extracted features from rgb_20250716_143904_228499_instance-0.png in 20250716_143734_Wednesday_chicken-60_batch-27_chicken-age-27\n",
            "✅ Extracted features from rgb_20250716_143905_613378_instance-0.png in 20250716_143734_Wednesday_chicken-60_batch-27_chicken-age-27\n"
          ]
        },
        {
          "output_type": "stream",
          "name": "stderr",
          "text": [
            "\rProcessing Folders:  42%|████▏     | 56/133 [08:36<12:08,  9.47s/it]"
          ]
        },
        {
          "output_type": "stream",
          "name": "stdout",
          "text": [
            "✅ Extracted features from rgb_20250716_143930_207961_instance-0.png in 20250716_143734_Wednesday_chicken-60_batch-27_chicken-age-27\n",
            "\n",
            "📂 20250716_144038_Wednesday_chicken-61_batch-27_chicken-age-27 → Found 12 PNG images\n",
            "✅ Extracted features from rgb_20250716_144045_177474_instance-0.png in 20250716_144038_Wednesday_chicken-61_batch-27_chicken-age-27\n",
            "✅ Extracted features from rgb_20250716_144045_177474_instance-1.png in 20250716_144038_Wednesday_chicken-61_batch-27_chicken-age-27\n",
            "✅ Extracted features from rgb_20250716_144045_177474_instance-2.png in 20250716_144038_Wednesday_chicken-61_batch-27_chicken-age-27\n",
            "✅ Extracted features from rgb_20250716_144046_756166_instance-0.png in 20250716_144038_Wednesday_chicken-61_batch-27_chicken-age-27\n",
            "✅ Extracted features from rgb_20250716_144046_756166_instance-1.png in 20250716_144038_Wednesday_chicken-61_batch-27_chicken-age-27\n",
            "✅ Extracted features from rgb_20250716_144049_618607_instance-0.png in 20250716_144038_Wednesday_chicken-61_batch-27_chicken-age-27\n",
            "✅ Extracted features from rgb_20250716_144049_618607_instance-1.png in 20250716_144038_Wednesday_chicken-61_batch-27_chicken-age-27\n",
            "✅ Extracted features from rgb_20250716_144050_887175_instance-0.png in 20250716_144038_Wednesday_chicken-61_batch-27_chicken-age-27\n",
            "✅ Extracted features from rgb_20250716_144050_887175_instance-1.png in 20250716_144038_Wednesday_chicken-61_batch-27_chicken-age-27\n",
            "✅ Extracted features from rgb_20250716_144052_002764_instance-0.png in 20250716_144038_Wednesday_chicken-61_batch-27_chicken-age-27\n",
            "✅ Extracted features from rgb_20250716_144055_691580_instance-0.png in 20250716_144038_Wednesday_chicken-61_batch-27_chicken-age-27\n"
          ]
        },
        {
          "output_type": "stream",
          "name": "stderr",
          "text": [
            "\rProcessing Folders:  43%|████▎     | 57/133 [08:47<12:40, 10.01s/it]"
          ]
        },
        {
          "output_type": "stream",
          "name": "stdout",
          "text": [
            "✅ Extracted features from rgb_20250716_144057_127381_instance-0.png in 20250716_144038_Wednesday_chicken-61_batch-27_chicken-age-27\n",
            "\n",
            "📂 20250716_144125_Wednesday_chicken-62_batch-27_chicken-age-27 → Found 8 PNG images\n",
            "✅ Extracted features from rgb_20250716_144138_545807_instance-0.png in 20250716_144125_Wednesday_chicken-62_batch-27_chicken-age-27\n",
            "✅ Extracted features from rgb_20250716_144139_304442_instance-0.png in 20250716_144125_Wednesday_chicken-62_batch-27_chicken-age-27\n",
            "✅ Extracted features from rgb_20250716_144140_175564_instance-0.png in 20250716_144125_Wednesday_chicken-62_batch-27_chicken-age-27\n",
            "✅ Extracted features from rgb_20250716_144141_047875_instance-0.png in 20250716_144125_Wednesday_chicken-62_batch-27_chicken-age-27\n",
            "✅ Extracted features from rgb_20250716_144141_908810_instance-0.png in 20250716_144125_Wednesday_chicken-62_batch-27_chicken-age-27\n",
            "✅ Extracted features from rgb_20250716_144143_341559_instance-0.png in 20250716_144125_Wednesday_chicken-62_batch-27_chicken-age-27\n",
            "✅ Extracted features from rgb_20250716_144146_804256_instance-0.png in 20250716_144125_Wednesday_chicken-62_batch-27_chicken-age-27\n"
          ]
        },
        {
          "output_type": "stream",
          "name": "stderr",
          "text": [
            "\rProcessing Folders:  44%|████▎     | 58/133 [08:54<11:35,  9.27s/it]"
          ]
        },
        {
          "output_type": "stream",
          "name": "stdout",
          "text": [
            "✅ Extracted features from rgb_20250716_144148_316270_instance-0.png in 20250716_144125_Wednesday_chicken-62_batch-27_chicken-age-27\n",
            "\n",
            "📂 20250716_144214_Wednesday_chicken-63_batch-27_chicken-age-27 → Found 8 PNG images\n",
            "✅ Extracted features from rgb_20250716_144221_316939_instance-0.png in 20250716_144214_Wednesday_chicken-63_batch-27_chicken-age-27\n",
            "✅ Extracted features from rgb_20250716_144222_323406_instance-0.png in 20250716_144214_Wednesday_chicken-63_batch-27_chicken-age-27\n",
            "✅ Extracted features from rgb_20250716_144223_165563_instance-0.png in 20250716_144214_Wednesday_chicken-63_batch-27_chicken-age-27\n",
            "✅ Extracted features from rgb_20250716_144224_309741_instance-0.png in 20250716_144214_Wednesday_chicken-63_batch-27_chicken-age-27\n",
            "✅ Extracted features from rgb_20250716_144225_380631_instance-0.png in 20250716_144214_Wednesday_chicken-63_batch-27_chicken-age-27\n",
            "✅ Extracted features from rgb_20250716_144226_423551_instance-0.png in 20250716_144214_Wednesday_chicken-63_batch-27_chicken-age-27\n",
            "✅ Extracted features from rgb_20250716_144227_365029_instance-0.png in 20250716_144214_Wednesday_chicken-63_batch-27_chicken-age-27\n"
          ]
        },
        {
          "output_type": "stream",
          "name": "stderr",
          "text": [
            "\rProcessing Folders:  44%|████▍     | 59/133 [09:02<10:45,  8.73s/it]"
          ]
        },
        {
          "output_type": "stream",
          "name": "stdout",
          "text": [
            "✅ Extracted features from rgb_20250716_144228_529321_instance-0.png in 20250716_144214_Wednesday_chicken-63_batch-27_chicken-age-27\n",
            "\n",
            "📂 20250716_144345_Wednesday_chicken-65_batch-27_chicken-age-27 → Found 9 PNG images\n",
            "✅ Extracted features from rgb_20250716_144358_578346_instance-0.png in 20250716_144345_Wednesday_chicken-65_batch-27_chicken-age-27\n",
            "✅ Extracted features from rgb_20250716_144359_819975_instance-0.png in 20250716_144345_Wednesday_chicken-65_batch-27_chicken-age-27\n",
            "✅ Extracted features from rgb_20250716_144400_607237_instance-0.png in 20250716_144345_Wednesday_chicken-65_batch-27_chicken-age-27\n",
            "✅ Extracted features from rgb_20250716_144403_803041_instance-0.png in 20250716_144345_Wednesday_chicken-65_batch-27_chicken-age-27\n",
            "✅ Extracted features from rgb_20250716_144404_875266_instance-0.png in 20250716_144345_Wednesday_chicken-65_batch-27_chicken-age-27\n",
            "✅ Extracted features from rgb_20250716_144405_554650_instance-0.png in 20250716_144345_Wednesday_chicken-65_batch-27_chicken-age-27\n",
            "✅ Extracted features from rgb_20250716_144406_314304_instance-0.png in 20250716_144345_Wednesday_chicken-65_batch-27_chicken-age-27\n",
            "✅ Extracted features from rgb_20250716_144407_273140_instance-0.png in 20250716_144345_Wednesday_chicken-65_batch-27_chicken-age-27\n"
          ]
        },
        {
          "output_type": "stream",
          "name": "stderr",
          "text": [
            "\rProcessing Folders:  45%|████▌     | 60/133 [09:11<10:38,  8.75s/it]"
          ]
        },
        {
          "output_type": "stream",
          "name": "stdout",
          "text": [
            "✅ Extracted features from rgb_20250716_144408_317574_instance-0.png in 20250716_144345_Wednesday_chicken-65_batch-27_chicken-age-27\n",
            "\n",
            "📂 20250716_144440_Wednesday_chicken-66_batch-27_chicken-age-27 → Found 7 PNG images\n",
            "✅ Extracted features from rgb_20250716_144450_841704_instance-0.png in 20250716_144440_Wednesday_chicken-66_batch-27_chicken-age-27\n",
            "✅ Extracted features from rgb_20250716_144451_780484_instance-0.png in 20250716_144440_Wednesday_chicken-66_batch-27_chicken-age-27\n",
            "✅ Extracted features from rgb_20250716_144452_469966_instance-0.png in 20250716_144440_Wednesday_chicken-66_batch-27_chicken-age-27\n",
            "✅ Extracted features from rgb_20250716_144453_586476_instance-0.png in 20250716_144440_Wednesday_chicken-66_batch-27_chicken-age-27\n",
            "✅ Extracted features from rgb_20250716_144454_297227_instance-0.png in 20250716_144440_Wednesday_chicken-66_batch-27_chicken-age-27\n",
            "✅ Extracted features from rgb_20250716_144454_973985_instance-0.png in 20250716_144440_Wednesday_chicken-66_batch-27_chicken-age-27\n"
          ]
        },
        {
          "output_type": "stream",
          "name": "stderr",
          "text": [
            "\rProcessing Folders:  46%|████▌     | 61/133 [09:17<09:37,  8.02s/it]"
          ]
        },
        {
          "output_type": "stream",
          "name": "stdout",
          "text": [
            "✅ Extracted features from rgb_20250716_144457_763025_instance-0.png in 20250716_144440_Wednesday_chicken-66_batch-27_chicken-age-27\n",
            "\n",
            "📂 20250716_144513_Wednesday_chicken-67_batch-27_chicken-age-27 → Found 10 PNG images\n",
            "✅ Extracted features from rgb_20250716_144534_054409_instance-0.png in 20250716_144513_Wednesday_chicken-67_batch-27_chicken-age-27\n",
            "✅ Extracted features from rgb_20250716_144535_097585_instance-0.png in 20250716_144513_Wednesday_chicken-67_batch-27_chicken-age-27\n",
            "✅ Extracted features from rgb_20250716_144536_123118_instance-0.png in 20250716_144513_Wednesday_chicken-67_batch-27_chicken-age-27\n",
            "✅ Extracted features from rgb_20250716_144537_040614_instance-0.png in 20250716_144513_Wednesday_chicken-67_batch-27_chicken-age-27\n",
            "✅ Extracted features from rgb_20250716_144538_130604_instance-0.png in 20250716_144513_Wednesday_chicken-67_batch-27_chicken-age-27\n",
            "✅ Extracted features from rgb_20250716_144539_210068_instance-0.png in 20250716_144513_Wednesday_chicken-67_batch-27_chicken-age-27\n",
            "✅ Extracted features from rgb_20250716_144540_243843_instance-0.png in 20250716_144513_Wednesday_chicken-67_batch-27_chicken-age-27\n",
            "✅ Extracted features from rgb_20250716_144541_027765_instance-0.png in 20250716_144513_Wednesday_chicken-67_batch-27_chicken-age-27\n",
            "✅ Extracted features from rgb_20250716_144542_210815_instance-0.png in 20250716_144513_Wednesday_chicken-67_batch-27_chicken-age-27\n"
          ]
        },
        {
          "output_type": "stream",
          "name": "stderr",
          "text": [
            "\rProcessing Folders:  47%|████▋     | 62/133 [09:27<10:03,  8.49s/it]"
          ]
        },
        {
          "output_type": "stream",
          "name": "stdout",
          "text": [
            "✅ Extracted features from rgb_20250716_144545_295005_instance-0.png in 20250716_144513_Wednesday_chicken-67_batch-27_chicken-age-27\n",
            "\n",
            "📂 20250716_144555_Wednesday_chicken-68_batch-27_chicken-age-27 → Found 10 PNG images\n",
            "✅ Extracted features from rgb_20250716_144624_309820_instance-0.png in 20250716_144555_Wednesday_chicken-68_batch-27_chicken-age-27\n",
            "✅ Extracted features from rgb_20250716_144625_351439_instance-0.png in 20250716_144555_Wednesday_chicken-68_batch-27_chicken-age-27\n",
            "✅ Extracted features from rgb_20250716_144626_361965_instance-0.png in 20250716_144555_Wednesday_chicken-68_batch-27_chicken-age-27\n",
            "✅ Extracted features from rgb_20250716_144627_471385_instance-0.png in 20250716_144555_Wednesday_chicken-68_batch-27_chicken-age-27\n",
            "✅ Extracted features from rgb_20250716_144628_592428_instance-0.png in 20250716_144555_Wednesday_chicken-68_batch-27_chicken-age-27\n",
            "✅ Extracted features from rgb_20250716_144629_723015_instance-0.png in 20250716_144555_Wednesday_chicken-68_batch-27_chicken-age-27\n",
            "✅ Extracted features from rgb_20250716_144630_797134_instance-0.png in 20250716_144555_Wednesday_chicken-68_batch-27_chicken-age-27\n",
            "✅ Extracted features from rgb_20250716_144631_902741_instance-0.png in 20250716_144555_Wednesday_chicken-68_batch-27_chicken-age-27\n",
            "✅ Extracted features from rgb_20250716_144632_985922_instance-0.png in 20250716_144555_Wednesday_chicken-68_batch-27_chicken-age-27\n"
          ]
        },
        {
          "output_type": "stream",
          "name": "stderr",
          "text": [
            "\rProcessing Folders:  47%|████▋     | 63/133 [09:36<10:04,  8.63s/it]"
          ]
        },
        {
          "output_type": "stream",
          "name": "stdout",
          "text": [
            "✅ Extracted features from rgb_20250716_144634_053110_instance-0.png in 20250716_144555_Wednesday_chicken-68_batch-27_chicken-age-27\n",
            "\n",
            "📂 20250716_144657_Wednesday_chicken-69_batch-27_chicken-age-27 → Found 8 PNG images\n",
            "✅ Extracted features from rgb_20250716_144712_938580_instance-0.png in 20250716_144657_Wednesday_chicken-69_batch-27_chicken-age-27\n",
            "✅ Extracted features from rgb_20250716_144714_042364_instance-0.png in 20250716_144657_Wednesday_chicken-69_batch-27_chicken-age-27\n",
            "✅ Extracted features from rgb_20250716_144715_158477_instance-0.png in 20250716_144657_Wednesday_chicken-69_batch-27_chicken-age-27\n",
            "✅ Extracted features from rgb_20250716_144716_012108_instance-0.png in 20250716_144657_Wednesday_chicken-69_batch-27_chicken-age-27\n",
            "✅ Extracted features from rgb_20250716_144716_932162_instance-0.png in 20250716_144657_Wednesday_chicken-69_batch-27_chicken-age-27\n",
            "✅ Extracted features from rgb_20250716_144717_923856_instance-0.png in 20250716_144657_Wednesday_chicken-69_batch-27_chicken-age-27\n",
            "✅ Extracted features from rgb_20250716_144718_747227_instance-0.png in 20250716_144657_Wednesday_chicken-69_batch-27_chicken-age-27\n"
          ]
        },
        {
          "output_type": "stream",
          "name": "stderr",
          "text": [
            "\rProcessing Folders:  48%|████▊     | 64/133 [09:43<09:32,  8.30s/it]"
          ]
        },
        {
          "output_type": "stream",
          "name": "stdout",
          "text": [
            "✅ Extracted features from rgb_20250716_144719_856093_instance-0.png in 20250716_144657_Wednesday_chicken-69_batch-27_chicken-age-27\n",
            "\n",
            "📂 20250717_105614_Thursday_chicken-74_batch-28_chicken-age-28 → Found 14 PNG images\n",
            "✅ Extracted features from rgb_20250717_105630_047834_instance-0.png in 20250717_105614_Thursday_chicken-74_batch-28_chicken-age-28\n",
            "✅ Extracted features from rgb_20250717_105631_155595_instance-0.png in 20250717_105614_Thursday_chicken-74_batch-28_chicken-age-28\n",
            "✅ Extracted features from rgb_20250717_105632_686017_instance-0.png in 20250717_105614_Thursday_chicken-74_batch-28_chicken-age-28\n",
            "✅ Extracted features from rgb_20250717_105634_058031_instance-0.png in 20250717_105614_Thursday_chicken-74_batch-28_chicken-age-28\n",
            "✅ Extracted features from rgb_20250717_105637_527314_instance-0.png in 20250717_105614_Thursday_chicken-74_batch-28_chicken-age-28\n",
            "✅ Extracted features from rgb_20250717_105642_158308_instance-0.png in 20250717_105614_Thursday_chicken-74_batch-28_chicken-age-28\n",
            "✅ Extracted features from rgb_20250717_105645_039067_instance-0.png in 20250717_105614_Thursday_chicken-74_batch-28_chicken-age-28\n",
            "✅ Extracted features from rgb_20250717_105646_750139_instance-0.png in 20250717_105614_Thursday_chicken-74_batch-28_chicken-age-28\n",
            "✅ Extracted features from rgb_20250717_105648_051411_instance-0.png in 20250717_105614_Thursday_chicken-74_batch-28_chicken-age-28\n",
            "✅ Extracted features from rgb_20250717_105648_051411_instance-1.png in 20250717_105614_Thursday_chicken-74_batch-28_chicken-age-28\n",
            "✅ Extracted features from rgb_20250717_105653_915534_instance-0.png in 20250717_105614_Thursday_chicken-74_batch-28_chicken-age-28\n",
            "✅ Extracted features from rgb_20250717_105653_915534_instance-1.png in 20250717_105614_Thursday_chicken-74_batch-28_chicken-age-28\n",
            "✅ Extracted features from rgb_20250717_105655_132713_instance-0.png in 20250717_105614_Thursday_chicken-74_batch-28_chicken-age-28\n"
          ]
        },
        {
          "output_type": "stream",
          "name": "stderr",
          "text": [
            "\rProcessing Folders:  49%|████▉     | 65/133 [09:56<10:57,  9.67s/it]"
          ]
        },
        {
          "output_type": "stream",
          "name": "stdout",
          "text": [
            "✅ Extracted features from rgb_20250717_105655_132713_instance-1.png in 20250717_105614_Thursday_chicken-74_batch-28_chicken-age-28\n",
            "\n",
            "📂 20250717_105713_Thursday_chicken-75_batch-28_chicken-age-28 → Found 12 PNG images\n",
            "✅ Extracted features from rgb_20250717_105727_014176_instance-0.png in 20250717_105713_Thursday_chicken-75_batch-28_chicken-age-28\n",
            "✅ Extracted features from rgb_20250717_105728_904062_instance-0.png in 20250717_105713_Thursday_chicken-75_batch-28_chicken-age-28\n",
            "✅ Extracted features from rgb_20250717_105730_304713_instance-0.png in 20250717_105713_Thursday_chicken-75_batch-28_chicken-age-28\n",
            "✅ Extracted features from rgb_20250717_105731_813674_instance-0.png in 20250717_105713_Thursday_chicken-75_batch-28_chicken-age-28\n",
            "✅ Extracted features from rgb_20250717_105746_408640_instance-0.png in 20250717_105713_Thursday_chicken-75_batch-28_chicken-age-28\n",
            "✅ Extracted features from rgb_20250717_105746_408640_instance-1.png in 20250717_105713_Thursday_chicken-75_batch-28_chicken-age-28\n",
            "✅ Extracted features from rgb_20250717_105748_174490_instance-0.png in 20250717_105713_Thursday_chicken-75_batch-28_chicken-age-28\n",
            "✅ Extracted features from rgb_20250717_105748_174490_instance-1.png in 20250717_105713_Thursday_chicken-75_batch-28_chicken-age-28\n",
            "✅ Extracted features from rgb_20250717_105750_072929_instance-0.png in 20250717_105713_Thursday_chicken-75_batch-28_chicken-age-28\n",
            "✅ Extracted features from rgb_20250717_105750_072929_instance-1.png in 20250717_105713_Thursday_chicken-75_batch-28_chicken-age-28\n",
            "✅ Extracted features from rgb_20250717_105751_247445_instance-0.png in 20250717_105713_Thursday_chicken-75_batch-28_chicken-age-28\n"
          ]
        },
        {
          "output_type": "stream",
          "name": "stderr",
          "text": [
            "\rProcessing Folders:  50%|████▉     | 66/133 [10:07<11:15, 10.09s/it]"
          ]
        },
        {
          "output_type": "stream",
          "name": "stdout",
          "text": [
            "✅ Extracted features from rgb_20250717_105751_247445_instance-1.png in 20250717_105713_Thursday_chicken-75_batch-28_chicken-age-28\n",
            "\n",
            "📂 20250717_105809_Thursday_chicken-76_batch-28_chicken-age-28 → Found 16 PNG images\n",
            "✅ Extracted features from rgb_20250717_105826_059661_instance-0.png in 20250717_105809_Thursday_chicken-76_batch-28_chicken-age-28\n",
            "✅ Extracted features from rgb_20250717_105827_253757_instance-0.png in 20250717_105809_Thursday_chicken-76_batch-28_chicken-age-28\n",
            "✅ Extracted features from rgb_20250717_105838_496631_instance-0.png in 20250717_105809_Thursday_chicken-76_batch-28_chicken-age-28\n",
            "✅ Extracted features from rgb_20250717_105839_963673_instance-0.png in 20250717_105809_Thursday_chicken-76_batch-28_chicken-age-28\n",
            "✅ Extracted features from rgb_20250717_105842_094516_instance-0.png in 20250717_105809_Thursday_chicken-76_batch-28_chicken-age-28\n",
            "✅ Extracted features from rgb_20250717_105844_081312_instance-0.png in 20250717_105809_Thursday_chicken-76_batch-28_chicken-age-28\n",
            "✅ Extracted features from rgb_20250717_105846_765768_instance-0.png in 20250717_105809_Thursday_chicken-76_batch-28_chicken-age-28\n",
            "✅ Extracted features from rgb_20250717_105846_765768_instance-1.png in 20250717_105809_Thursday_chicken-76_batch-28_chicken-age-28\n",
            "✅ Extracted features from rgb_20250717_105848_514947_instance-0.png in 20250717_105809_Thursday_chicken-76_batch-28_chicken-age-28\n",
            "✅ Extracted features from rgb_20250717_105848_514947_instance-1.png in 20250717_105809_Thursday_chicken-76_batch-28_chicken-age-28\n",
            "✅ Extracted features from rgb_20250717_105850_371932_instance-0.png in 20250717_105809_Thursday_chicken-76_batch-28_chicken-age-28\n",
            "✅ Extracted features from rgb_20250717_105850_371932_instance-1.png in 20250717_105809_Thursday_chicken-76_batch-28_chicken-age-28\n",
            "✅ Extracted features from rgb_20250717_105852_966328_instance-0.png in 20250717_105809_Thursday_chicken-76_batch-28_chicken-age-28\n",
            "✅ Extracted features from rgb_20250717_105852_966328_instance-1.png in 20250717_105809_Thursday_chicken-76_batch-28_chicken-age-28\n",
            "✅ Extracted features from rgb_20250717_105854_889817_instance-0.png in 20250717_105809_Thursday_chicken-76_batch-28_chicken-age-28\n"
          ]
        },
        {
          "output_type": "stream",
          "name": "stderr",
          "text": [
            "\rProcessing Folders:  50%|█████     | 67/133 [10:22<12:34, 11.44s/it]"
          ]
        },
        {
          "output_type": "stream",
          "name": "stdout",
          "text": [
            "✅ Extracted features from rgb_20250717_105854_889817_instance-1.png in 20250717_105809_Thursday_chicken-76_batch-28_chicken-age-28\n",
            "\n",
            "📂 20250717_105924_Thursday_chicken-77_batch-28_chicken-age-28 → Found 10 PNG images\n",
            "✅ Extracted features from rgb_20250717_105936_809365_instance-0.png in 20250717_105924_Thursday_chicken-77_batch-28_chicken-age-28\n",
            "✅ Extracted features from rgb_20250717_105938_274044_instance-0.png in 20250717_105924_Thursday_chicken-77_batch-28_chicken-age-28\n",
            "✅ Extracted features from rgb_20250717_105940_131870_instance-0.png in 20250717_105924_Thursday_chicken-77_batch-28_chicken-age-28\n",
            "✅ Extracted features from rgb_20250717_105944_028627_instance-0.png in 20250717_105924_Thursday_chicken-77_batch-28_chicken-age-28\n",
            "✅ Extracted features from rgb_20250717_105946_891755_instance-0.png in 20250717_105924_Thursday_chicken-77_batch-28_chicken-age-28\n",
            "✅ Extracted features from rgb_20250717_105948_838295_instance-0.png in 20250717_105924_Thursday_chicken-77_batch-28_chicken-age-28\n",
            "✅ Extracted features from rgb_20250717_105950_697167_instance-0.png in 20250717_105924_Thursday_chicken-77_batch-28_chicken-age-28\n",
            "✅ Extracted features from rgb_20250717_105953_824651_instance-0.png in 20250717_105924_Thursday_chicken-77_batch-28_chicken-age-28\n",
            "✅ Extracted features from rgb_20250717_105956_041506_instance-0.png in 20250717_105924_Thursday_chicken-77_batch-28_chicken-age-28\n"
          ]
        },
        {
          "output_type": "stream",
          "name": "stderr",
          "text": [
            "\rProcessing Folders:  51%|█████     | 68/133 [10:31<11:40, 10.78s/it]"
          ]
        },
        {
          "output_type": "stream",
          "name": "stdout",
          "text": [
            "✅ Extracted features from rgb_20250717_110000_842604_instance-0.png in 20250717_105924_Thursday_chicken-77_batch-28_chicken-age-28\n",
            "\n",
            "📂 20250717_110007_Thursday_chicken-78_batch-28_chicken-age-28 → Found 9 PNG images\n",
            "✅ Extracted features from rgb_20250717_110026_148277_instance-0.png in 20250717_110007_Thursday_chicken-78_batch-28_chicken-age-28\n",
            "✅ Extracted features from rgb_20250717_110027_558935_instance-0.png in 20250717_110007_Thursday_chicken-78_batch-28_chicken-age-28\n",
            "✅ Extracted features from rgb_20250717_110031_476064_instance-0.png in 20250717_110007_Thursday_chicken-78_batch-28_chicken-age-28\n",
            "✅ Extracted features from rgb_20250717_110033_732232_instance-0.png in 20250717_110007_Thursday_chicken-78_batch-28_chicken-age-28\n",
            "✅ Extracted features from rgb_20250717_110035_808124_instance-0.png in 20250717_110007_Thursday_chicken-78_batch-28_chicken-age-28\n",
            "✅ Extracted features from rgb_20250717_110042_143027_instance-0.png in 20250717_110007_Thursday_chicken-78_batch-28_chicken-age-28\n",
            "✅ Extracted features from rgb_20250717_110044_313638_instance-0.png in 20250717_110007_Thursday_chicken-78_batch-28_chicken-age-28\n",
            "✅ Extracted features from rgb_20250717_110047_359209_instance-0.png in 20250717_110007_Thursday_chicken-78_batch-28_chicken-age-28\n"
          ]
        },
        {
          "output_type": "stream",
          "name": "stderr",
          "text": [
            "\rProcessing Folders:  52%|█████▏    | 69/133 [10:39<10:36,  9.94s/it]"
          ]
        },
        {
          "output_type": "stream",
          "name": "stdout",
          "text": [
            "✅ Extracted features from rgb_20250717_110053_126143_instance-0.png in 20250717_110007_Thursday_chicken-78_batch-28_chicken-age-28\n",
            "\n",
            "📂 20250717_110102_Thursday_chicken-79_batch-28_chicken-age-28 → Found 8 PNG images\n",
            "✅ Extracted features from rgb_20250717_110112_465211_instance-0.png in 20250717_110102_Thursday_chicken-79_batch-28_chicken-age-28\n",
            "✅ Extracted features from rgb_20250717_110114_293465_instance-0.png in 20250717_110102_Thursday_chicken-79_batch-28_chicken-age-28\n",
            "✅ Extracted features from rgb_20250717_110116_462626_instance-0.png in 20250717_110102_Thursday_chicken-79_batch-28_chicken-age-28\n",
            "✅ Extracted features from rgb_20250717_110118_011575_instance-0.png in 20250717_110102_Thursday_chicken-79_batch-28_chicken-age-28\n",
            "✅ Extracted features from rgb_20250717_110135_282277_instance-0.png in 20250717_110102_Thursday_chicken-79_batch-28_chicken-age-28\n",
            "✅ Extracted features from rgb_20250717_110137_054943_instance-0.png in 20250717_110102_Thursday_chicken-79_batch-28_chicken-age-28\n",
            "✅ Extracted features from rgb_20250717_110139_122265_instance-0.png in 20250717_110102_Thursday_chicken-79_batch-28_chicken-age-28\n"
          ]
        },
        {
          "output_type": "stream",
          "name": "stderr",
          "text": [
            "\rProcessing Folders:  53%|█████▎    | 70/133 [10:46<09:38,  9.18s/it]"
          ]
        },
        {
          "output_type": "stream",
          "name": "stdout",
          "text": [
            "✅ Extracted features from rgb_20250717_110141_366810_instance-0.png in 20250717_110102_Thursday_chicken-79_batch-28_chicken-age-28\n",
            "\n",
            "📂 20250717_110155_Thursday_chicken-80_batch-28_chicken-age-28 → Found 16 PNG images\n",
            "✅ Extracted features from rgb_20250717_110208_110479_instance-0.png in 20250717_110155_Thursday_chicken-80_batch-28_chicken-age-28\n",
            "✅ Extracted features from rgb_20250717_110209_498640_instance-0.png in 20250717_110155_Thursday_chicken-80_batch-28_chicken-age-28\n",
            "✅ Extracted features from rgb_20250717_110211_321752_instance-0.png in 20250717_110155_Thursday_chicken-80_batch-28_chicken-age-28\n",
            "✅ Extracted features from rgb_20250717_110213_683312_instance-0.png in 20250717_110155_Thursday_chicken-80_batch-28_chicken-age-28\n",
            "✅ Extracted features from rgb_20250717_110218_724177_instance-0.png in 20250717_110155_Thursday_chicken-80_batch-28_chicken-age-28\n",
            "✅ Extracted features from rgb_20250717_110218_724177_instance-1.png in 20250717_110155_Thursday_chicken-80_batch-28_chicken-age-28\n",
            "✅ Extracted features from rgb_20250717_110221_477800_instance-0.png in 20250717_110155_Thursday_chicken-80_batch-28_chicken-age-28\n",
            "✅ Extracted features from rgb_20250717_110221_477800_instance-1.png in 20250717_110155_Thursday_chicken-80_batch-28_chicken-age-28\n",
            "✅ Extracted features from rgb_20250717_110226_632059_instance-0.png in 20250717_110155_Thursday_chicken-80_batch-28_chicken-age-28\n",
            "✅ Extracted features from rgb_20250717_110226_632059_instance-1.png in 20250717_110155_Thursday_chicken-80_batch-28_chicken-age-28\n",
            "✅ Extracted features from rgb_20250717_110229_751722_instance-0.png in 20250717_110155_Thursday_chicken-80_batch-28_chicken-age-28\n",
            "✅ Extracted features from rgb_20250717_110229_751722_instance-1.png in 20250717_110155_Thursday_chicken-80_batch-28_chicken-age-28\n",
            "✅ Extracted features from rgb_20250717_110231_035642_instance-0.png in 20250717_110155_Thursday_chicken-80_batch-28_chicken-age-28\n",
            "✅ Extracted features from rgb_20250717_110231_035642_instance-1.png in 20250717_110155_Thursday_chicken-80_batch-28_chicken-age-28\n",
            "✅ Extracted features from rgb_20250717_110236_731995_instance-0.png in 20250717_110155_Thursday_chicken-80_batch-28_chicken-age-28\n"
          ]
        },
        {
          "output_type": "stream",
          "name": "stderr",
          "text": [
            "\rProcessing Folders:  53%|█████▎    | 71/133 [11:01<11:13, 10.87s/it]"
          ]
        },
        {
          "output_type": "stream",
          "name": "stdout",
          "text": [
            "✅ Extracted features from rgb_20250717_110236_731995_instance-1.png in 20250717_110155_Thursday_chicken-80_batch-28_chicken-age-28\n",
            "\n",
            "📂 20250717_110245_Thursday_chicken-81_batch-28_chicken-age-28 → Found 10 PNG images\n",
            "✅ Extracted features from rgb_20250717_110257_744590_instance-0.png in 20250717_110245_Thursday_chicken-81_batch-28_chicken-age-28\n",
            "✅ Extracted features from rgb_20250717_110259_518875_instance-0.png in 20250717_110245_Thursday_chicken-81_batch-28_chicken-age-28\n",
            "✅ Extracted features from rgb_20250717_110301_800522_instance-0.png in 20250717_110245_Thursday_chicken-81_batch-28_chicken-age-28\n",
            "✅ Extracted features from rgb_20250717_110304_375471_instance-0.png in 20250717_110245_Thursday_chicken-81_batch-28_chicken-age-28\n",
            "✅ Extracted features from rgb_20250717_110307_080506_instance-0.png in 20250717_110245_Thursday_chicken-81_batch-28_chicken-age-28\n",
            "✅ Extracted features from rgb_20250717_110312_639387_instance-0.png in 20250717_110245_Thursday_chicken-81_batch-28_chicken-age-28\n",
            "✅ Extracted features from rgb_20250717_110317_297070_instance-0.png in 20250717_110245_Thursday_chicken-81_batch-28_chicken-age-28\n",
            "✅ Extracted features from rgb_20250717_110321_214415_instance-0.png in 20250717_110245_Thursday_chicken-81_batch-28_chicken-age-28\n",
            "✅ Extracted features from rgb_20250717_110324_923200_instance-0.png in 20250717_110245_Thursday_chicken-81_batch-28_chicken-age-28\n"
          ]
        },
        {
          "output_type": "stream",
          "name": "stderr",
          "text": [
            "\rProcessing Folders:  54%|█████▍    | 72/133 [11:10<10:36, 10.44s/it]"
          ]
        },
        {
          "output_type": "stream",
          "name": "stdout",
          "text": [
            "✅ Extracted features from rgb_20250717_110327_600970_instance-0.png in 20250717_110245_Thursday_chicken-81_batch-28_chicken-age-28\n",
            "\n",
            "📂 20250717_110353_Thursday_chicken-82_batch-28_chicken-age-28 → Found 15 PNG images\n",
            "✅ Extracted features from rgb_20250717_110406_228836_instance-0.png in 20250717_110353_Thursday_chicken-82_batch-28_chicken-age-28\n",
            "✅ Extracted features from rgb_20250717_110406_228836_instance-1.png in 20250717_110353_Thursday_chicken-82_batch-28_chicken-age-28\n",
            "✅ Extracted features from rgb_20250717_110406_228836_instance-2.png in 20250717_110353_Thursday_chicken-82_batch-28_chicken-age-28\n",
            "✅ Extracted features from rgb_20250717_110443_874586_instance-0.png in 20250717_110353_Thursday_chicken-82_batch-28_chicken-age-28\n",
            "✅ Extracted features from rgb_20250717_110447_409327_instance-0.png in 20250717_110353_Thursday_chicken-82_batch-28_chicken-age-28\n",
            "✅ Extracted features from rgb_20250717_110455_655675_instance-0.png in 20250717_110353_Thursday_chicken-82_batch-28_chicken-age-28\n",
            "✅ Extracted features from rgb_20250717_110458_306716_instance-0.png in 20250717_110353_Thursday_chicken-82_batch-28_chicken-age-28\n",
            "✅ Extracted features from rgb_20250717_110500_001640_instance-0.png in 20250717_110353_Thursday_chicken-82_batch-28_chicken-age-28\n",
            "✅ Extracted features from rgb_20250717_110501_553886_instance-0.png in 20250717_110353_Thursday_chicken-82_batch-28_chicken-age-28\n",
            "✅ Extracted features from rgb_20250717_110504_775512_instance-0.png in 20250717_110353_Thursday_chicken-82_batch-28_chicken-age-28\n",
            "✅ Extracted features from rgb_20250717_110506_405760_instance-0.png in 20250717_110353_Thursday_chicken-82_batch-28_chicken-age-28\n",
            "✅ Extracted features from rgb_20250717_110508_325117_instance-0.png in 20250717_110353_Thursday_chicken-82_batch-28_chicken-age-28\n",
            "✅ Extracted features from rgb_20250717_110509_525045_instance-0.png in 20250717_110353_Thursday_chicken-82_batch-28_chicken-age-28\n",
            "✅ Extracted features from rgb_20250717_110510_782365_instance-0.png in 20250717_110353_Thursday_chicken-82_batch-28_chicken-age-28\n"
          ]
        },
        {
          "output_type": "stream",
          "name": "stderr",
          "text": [
            "\rProcessing Folders:  55%|█████▍    | 73/133 [11:25<11:43, 11.72s/it]"
          ]
        },
        {
          "output_type": "stream",
          "name": "stdout",
          "text": [
            "✅ Extracted features from rgb_20250717_110513_287516_instance-0.png in 20250717_110353_Thursday_chicken-82_batch-28_chicken-age-28\n",
            "\n",
            "📂 20250717_110533_Thursday_chicken-83_batch-28_chicken-age-28 → Found 12 PNG images\n",
            "✅ Extracted features from rgb_20250717_110556_133708_instance-0.png in 20250717_110533_Thursday_chicken-83_batch-28_chicken-age-28\n",
            "✅ Extracted features from rgb_20250717_110557_711796_instance-0.png in 20250717_110533_Thursday_chicken-83_batch-28_chicken-age-28\n",
            "✅ Extracted features from rgb_20250717_110608_085877_instance-0.png in 20250717_110533_Thursday_chicken-83_batch-28_chicken-age-28\n",
            "✅ Extracted features from rgb_20250717_110609_473267_instance-0.png in 20250717_110533_Thursday_chicken-83_batch-28_chicken-age-28\n",
            "✅ Extracted features from rgb_20250717_110610_870213_instance-0.png in 20250717_110533_Thursday_chicken-83_batch-28_chicken-age-28\n",
            "✅ Extracted features from rgb_20250717_110613_223439_instance-0.png in 20250717_110533_Thursday_chicken-83_batch-28_chicken-age-28\n",
            "✅ Extracted features from rgb_20250717_110615_396372_instance-0.png in 20250717_110533_Thursday_chicken-83_batch-28_chicken-age-28\n",
            "✅ Extracted features from rgb_20250717_110638_404990_instance-0.png in 20250717_110533_Thursday_chicken-83_batch-28_chicken-age-28\n",
            "✅ Extracted features from rgb_20250717_110639_817047_instance-0.png in 20250717_110533_Thursday_chicken-83_batch-28_chicken-age-28\n",
            "✅ Extracted features from rgb_20250717_110641_825543_instance-0.png in 20250717_110533_Thursday_chicken-83_batch-28_chicken-age-28\n",
            "✅ Extracted features from rgb_20250717_110643_390905_instance-0.png in 20250717_110533_Thursday_chicken-83_batch-28_chicken-age-28\n"
          ]
        },
        {
          "output_type": "stream",
          "name": "stderr",
          "text": [
            "\rProcessing Folders:  56%|█████▌    | 74/133 [11:36<11:24, 11.60s/it]"
          ]
        },
        {
          "output_type": "stream",
          "name": "stdout",
          "text": [
            "✅ Extracted features from rgb_20250717_110645_707232_instance-0.png in 20250717_110533_Thursday_chicken-83_batch-28_chicken-age-28\n",
            "\n",
            "📂 20250717_110713_Thursday_chicken-84_batch-28_chicken-age-28 → Found 6 PNG images\n",
            "✅ Extracted features from rgb_20250717_110732_242268_instance-0.png in 20250717_110713_Thursday_chicken-84_batch-28_chicken-age-28\n",
            "✅ Extracted features from rgb_20250717_110737_691186_instance-0.png in 20250717_110713_Thursday_chicken-84_batch-28_chicken-age-28\n",
            "✅ Extracted features from rgb_20250717_110739_997853_instance-0.png in 20250717_110713_Thursday_chicken-84_batch-28_chicken-age-28\n",
            "✅ Extracted features from rgb_20250717_110742_360440_instance-0.png in 20250717_110713_Thursday_chicken-84_batch-28_chicken-age-28\n",
            "✅ Extracted features from rgb_20250717_110745_072946_instance-0.png in 20250717_110713_Thursday_chicken-84_batch-28_chicken-age-28\n"
          ]
        },
        {
          "output_type": "stream",
          "name": "stderr",
          "text": [
            "\rProcessing Folders:  56%|█████▋    | 75/133 [11:42<09:25,  9.74s/it]"
          ]
        },
        {
          "output_type": "stream",
          "name": "stdout",
          "text": [
            "✅ Extracted features from rgb_20250717_110749_870579_instance-0.png in 20250717_110713_Thursday_chicken-84_batch-28_chicken-age-28\n",
            "\n",
            "📂 20250717_110825_Thursday_chicken-85_batch-28_chicken-age-28 → Found 10 PNG images\n",
            "✅ Extracted features from rgb_20250717_110835_804961_instance-0.png in 20250717_110825_Thursday_chicken-85_batch-28_chicken-age-28\n",
            "✅ Extracted features from rgb_20250717_110837_160772_instance-0.png in 20250717_110825_Thursday_chicken-85_batch-28_chicken-age-28\n",
            "✅ Extracted features from rgb_20250717_110838_763208_instance-0.png in 20250717_110825_Thursday_chicken-85_batch-28_chicken-age-28\n",
            "✅ Extracted features from rgb_20250717_110840_965381_instance-0.png in 20250717_110825_Thursday_chicken-85_batch-28_chicken-age-28\n",
            "✅ Extracted features from rgb_20250717_110843_391246_instance-0.png in 20250717_110825_Thursday_chicken-85_batch-28_chicken-age-28\n",
            "✅ Extracted features from rgb_20250717_110846_419827_instance-0.png in 20250717_110825_Thursday_chicken-85_batch-28_chicken-age-28\n",
            "✅ Extracted features from rgb_20250717_110846_419827_instance-1.png in 20250717_110825_Thursday_chicken-85_batch-28_chicken-age-28\n",
            "✅ Extracted features from rgb_20250717_110853_071653_instance-0.png in 20250717_110825_Thursday_chicken-85_batch-28_chicken-age-28\n",
            "✅ Extracted features from rgb_20250717_110855_491437_instance-0.png in 20250717_110825_Thursday_chicken-85_batch-28_chicken-age-28\n"
          ]
        },
        {
          "output_type": "stream",
          "name": "stderr",
          "text": [
            "\rProcessing Folders:  57%|█████▋    | 76/133 [11:52<09:20,  9.83s/it]"
          ]
        },
        {
          "output_type": "stream",
          "name": "stdout",
          "text": [
            "✅ Extracted features from rgb_20250717_110858_368964_instance-0.png in 20250717_110825_Thursday_chicken-85_batch-28_chicken-age-28\n",
            "\n",
            "📂 20250717_110940_Thursday_chicken-86_batch-28_chicken-age-28 → Found 18 PNG images\n",
            "✅ Extracted features from rgb_20250717_110955_064915_instance-0.png in 20250717_110940_Thursday_chicken-86_batch-28_chicken-age-28\n",
            "✅ Extracted features from rgb_20250717_110955_064915_instance-1.png in 20250717_110940_Thursday_chicken-86_batch-28_chicken-age-28\n",
            "✅ Extracted features from rgb_20250717_110956_708973_instance-0.png in 20250717_110940_Thursday_chicken-86_batch-28_chicken-age-28\n",
            "✅ Extracted features from rgb_20250717_111000_835558_instance-0.png in 20250717_110940_Thursday_chicken-86_batch-28_chicken-age-28\n",
            "✅ Extracted features from rgb_20250717_111004_535257_instance-0.png in 20250717_110940_Thursday_chicken-86_batch-28_chicken-age-28\n",
            "✅ Extracted features from rgb_20250717_111007_940300_instance-0.png in 20250717_110940_Thursday_chicken-86_batch-28_chicken-age-28\n",
            "✅ Extracted features from rgb_20250717_111009_610383_instance-0.png in 20250717_110940_Thursday_chicken-86_batch-28_chicken-age-28\n",
            "✅ Extracted features from rgb_20250717_111013_425000_instance-0.png in 20250717_110940_Thursday_chicken-86_batch-28_chicken-age-28\n",
            "✅ Extracted features from rgb_20250717_111015_287953_instance-0.png in 20250717_110940_Thursday_chicken-86_batch-28_chicken-age-28\n",
            "✅ Extracted features from rgb_20250717_111016_607737_instance-0.png in 20250717_110940_Thursday_chicken-86_batch-28_chicken-age-28\n",
            "✅ Extracted features from rgb_20250717_111017_790831_instance-0.png in 20250717_110940_Thursday_chicken-86_batch-28_chicken-age-28\n",
            "✅ Extracted features from rgb_20250717_111018_860021_instance-0.png in 20250717_110940_Thursday_chicken-86_batch-28_chicken-age-28\n",
            "✅ Extracted features from rgb_20250717_111020_124755_instance-0.png in 20250717_110940_Thursday_chicken-86_batch-28_chicken-age-28\n",
            "✅ Extracted features from rgb_20250717_111021_133621_instance-0.png in 20250717_110940_Thursday_chicken-86_batch-28_chicken-age-28\n",
            "✅ Extracted features from rgb_20250717_111022_280948_instance-0.png in 20250717_110940_Thursday_chicken-86_batch-28_chicken-age-28\n",
            "✅ Extracted features from rgb_20250717_111023_295518_instance-0.png in 20250717_110940_Thursday_chicken-86_batch-28_chicken-age-28\n",
            "✅ Extracted features from rgb_20250717_111025_097273_instance-0.png in 20250717_110940_Thursday_chicken-86_batch-28_chicken-age-28\n"
          ]
        },
        {
          "output_type": "stream",
          "name": "stderr",
          "text": [
            "\rProcessing Folders:  58%|█████▊    | 77/133 [12:08<10:57, 11.74s/it]"
          ]
        },
        {
          "output_type": "stream",
          "name": "stdout",
          "text": [
            "✅ Extracted features from rgb_20250717_111026_657577_instance-0.png in 20250717_110940_Thursday_chicken-86_batch-28_chicken-age-28\n",
            "\n",
            "📂 20250717_111103_Thursday_chicken-87_batch-28_chicken-age-28 → Found 22 PNG images\n",
            "✅ Extracted features from rgb_20250717_111118_998999_instance-0.png in 20250717_111103_Thursday_chicken-87_batch-28_chicken-age-28\n",
            "✅ Extracted features from rgb_20250717_111120_692659_instance-0.png in 20250717_111103_Thursday_chicken-87_batch-28_chicken-age-28\n",
            "✅ Extracted features from rgb_20250717_111122_878549_instance-0.png in 20250717_111103_Thursday_chicken-87_batch-28_chicken-age-28\n",
            "✅ Extracted features from rgb_20250717_111124_384886_instance-0.png in 20250717_111103_Thursday_chicken-87_batch-28_chicken-age-28\n",
            "✅ Extracted features from rgb_20250717_111125_913807_instance-0.png in 20250717_111103_Thursday_chicken-87_batch-28_chicken-age-28\n",
            "✅ Extracted features from rgb_20250717_111129_768946_instance-0.png in 20250717_111103_Thursday_chicken-87_batch-28_chicken-age-28\n",
            "✅ Extracted features from rgb_20250717_111131_459463_instance-0.png in 20250717_111103_Thursday_chicken-87_batch-28_chicken-age-28\n",
            "✅ Extracted features from rgb_20250717_111134_388588_instance-0.png in 20250717_111103_Thursday_chicken-87_batch-28_chicken-age-28\n",
            "✅ Extracted features from rgb_20250717_111136_791180_instance-0.png in 20250717_111103_Thursday_chicken-87_batch-28_chicken-age-28\n",
            "✅ Extracted features from rgb_20250717_111153_816290_instance-0.png in 20250717_111103_Thursday_chicken-87_batch-28_chicken-age-28\n",
            "✅ Extracted features from rgb_20250717_111153_816290_instance-1.png in 20250717_111103_Thursday_chicken-87_batch-28_chicken-age-28\n",
            "✅ Extracted features from rgb_20250717_111159_703528_instance-0.png in 20250717_111103_Thursday_chicken-87_batch-28_chicken-age-28\n",
            "✅ Extracted features from rgb_20250717_111201_282767_instance-0.png in 20250717_111103_Thursday_chicken-87_batch-28_chicken-age-28\n",
            "✅ Extracted features from rgb_20250717_111202_249810_instance-0.png in 20250717_111103_Thursday_chicken-87_batch-28_chicken-age-28\n",
            "✅ Extracted features from rgb_20250717_111202_249810_instance-1.png in 20250717_111103_Thursday_chicken-87_batch-28_chicken-age-28\n",
            "✅ Extracted features from rgb_20250717_111203_225618_instance-0.png in 20250717_111103_Thursday_chicken-87_batch-28_chicken-age-28\n",
            "✅ Extracted features from rgb_20250717_111203_225618_instance-1.png in 20250717_111103_Thursday_chicken-87_batch-28_chicken-age-28\n",
            "✅ Extracted features from rgb_20250717_111204_355538_instance-0.png in 20250717_111103_Thursday_chicken-87_batch-28_chicken-age-28\n",
            "✅ Extracted features from rgb_20250717_111205_502484_instance-0.png in 20250717_111103_Thursday_chicken-87_batch-28_chicken-age-28\n",
            "✅ Extracted features from rgb_20250717_111206_702220_instance-0.png in 20250717_111103_Thursday_chicken-87_batch-28_chicken-age-28\n",
            "✅ Extracted features from rgb_20250717_111207_501778_instance-0.png in 20250717_111103_Thursday_chicken-87_batch-28_chicken-age-28\n"
          ]
        },
        {
          "output_type": "stream",
          "name": "stderr",
          "text": [
            "\rProcessing Folders:  59%|█████▊    | 78/133 [12:29<13:15, 14.46s/it]"
          ]
        },
        {
          "output_type": "stream",
          "name": "stdout",
          "text": [
            "✅ Extracted features from rgb_20250717_111208_653769_instance-0.png in 20250717_111103_Thursday_chicken-87_batch-28_chicken-age-28\n",
            "\n",
            "📂 20250717_111226_Thursday_chicken-88_batch-28_chicken-age-28 → Found 9 PNG images\n",
            "✅ Extracted features from rgb_20250717_111240_769346_instance-0.png in 20250717_111226_Thursday_chicken-88_batch-28_chicken-age-28\n",
            "✅ Extracted features from rgb_20250717_111242_006683_instance-0.png in 20250717_111226_Thursday_chicken-88_batch-28_chicken-age-28\n",
            "✅ Extracted features from rgb_20250717_111243_417846_instance-0.png in 20250717_111226_Thursday_chicken-88_batch-28_chicken-age-28\n",
            "✅ Extracted features from rgb_20250717_111244_748121_instance-0.png in 20250717_111226_Thursday_chicken-88_batch-28_chicken-age-28\n",
            "✅ Extracted features from rgb_20250717_111246_071705_instance-0.png in 20250717_111226_Thursday_chicken-88_batch-28_chicken-age-28\n",
            "✅ Extracted features from rgb_20250717_111247_491370_instance-0.png in 20250717_111226_Thursday_chicken-88_batch-28_chicken-age-28\n",
            "✅ Extracted features from rgb_20250717_111253_037317_instance-0.png in 20250717_111226_Thursday_chicken-88_batch-28_chicken-age-28\n",
            "✅ Extracted features from rgb_20250717_111256_601737_instance-0.png in 20250717_111226_Thursday_chicken-88_batch-28_chicken-age-28\n"
          ]
        },
        {
          "output_type": "stream",
          "name": "stderr",
          "text": [
            "\rProcessing Folders:  59%|█████▉    | 79/133 [12:37<11:20, 12.61s/it]"
          ]
        },
        {
          "output_type": "stream",
          "name": "stdout",
          "text": [
            "✅ Extracted features from rgb_20250717_111256_601737_instance-1.png in 20250717_111226_Thursday_chicken-88_batch-28_chicken-age-28\n",
            "\n",
            "📂 20250717_111337_Thursday_chicken-89_batch-28_chicken-age-28 → Found 36 PNG images\n",
            "✅ Extracted features from rgb_20250717_111349_710732_instance-0.png in 20250717_111337_Thursday_chicken-89_batch-28_chicken-age-28\n",
            "✅ Extracted features from rgb_20250717_111350_768190_instance-0.png in 20250717_111337_Thursday_chicken-89_batch-28_chicken-age-28\n",
            "✅ Extracted features from rgb_20250717_111352_060509_instance-0.png in 20250717_111337_Thursday_chicken-89_batch-28_chicken-age-28\n",
            "✅ Extracted features from rgb_20250717_111353_439142_instance-0.png in 20250717_111337_Thursday_chicken-89_batch-28_chicken-age-28\n",
            "✅ Extracted features from rgb_20250717_111354_933436_instance-0.png in 20250717_111337_Thursday_chicken-89_batch-28_chicken-age-28\n",
            "✅ Extracted features from rgb_20250717_111356_344254_instance-0.png in 20250717_111337_Thursday_chicken-89_batch-28_chicken-age-28\n",
            "✅ Extracted features from rgb_20250717_111359_404321_instance-0.png in 20250717_111337_Thursday_chicken-89_batch-28_chicken-age-28\n",
            "✅ Extracted features from rgb_20250717_111359_404321_instance-1.png in 20250717_111337_Thursday_chicken-89_batch-28_chicken-age-28\n",
            "✅ Extracted features from rgb_20250717_111402_721854_instance-0.png in 20250717_111337_Thursday_chicken-89_batch-28_chicken-age-28\n",
            "✅ Extracted features from rgb_20250717_111405_582149_instance-0.png in 20250717_111337_Thursday_chicken-89_batch-28_chicken-age-28\n",
            "✅ Extracted features from rgb_20250717_111405_582149_instance-1.png in 20250717_111337_Thursday_chicken-89_batch-28_chicken-age-28\n",
            "✅ Extracted features from rgb_20250717_111407_290518_instance-0.png in 20250717_111337_Thursday_chicken-89_batch-28_chicken-age-28\n",
            "✅ Extracted features from rgb_20250717_111407_290518_instance-1.png in 20250717_111337_Thursday_chicken-89_batch-28_chicken-age-28\n",
            "✅ Extracted features from rgb_20250717_111407_290518_instance-2.png in 20250717_111337_Thursday_chicken-89_batch-28_chicken-age-28\n",
            "✅ Extracted features from rgb_20250717_111407_290518_instance-3.png in 20250717_111337_Thursday_chicken-89_batch-28_chicken-age-28\n",
            "✅ Extracted features from rgb_20250717_111411_856392_instance-0.png in 20250717_111337_Thursday_chicken-89_batch-28_chicken-age-28\n",
            "✅ Extracted features from rgb_20250717_111411_856392_instance-1.png in 20250717_111337_Thursday_chicken-89_batch-28_chicken-age-28\n",
            "✅ Extracted features from rgb_20250717_111411_856392_instance-2.png in 20250717_111337_Thursday_chicken-89_batch-28_chicken-age-28\n",
            "✅ Extracted features from rgb_20250717_111414_166886_instance-0.png in 20250717_111337_Thursday_chicken-89_batch-28_chicken-age-28\n",
            "✅ Extracted features from rgb_20250717_111414_166886_instance-1.png in 20250717_111337_Thursday_chicken-89_batch-28_chicken-age-28\n",
            "✅ Extracted features from rgb_20250717_111414_166886_instance-2.png in 20250717_111337_Thursday_chicken-89_batch-28_chicken-age-28\n",
            "✅ Extracted features from rgb_20250717_111414_166886_instance-3.png in 20250717_111337_Thursday_chicken-89_batch-28_chicken-age-28\n",
            "✅ Extracted features from rgb_20250717_111416_851770_instance-0.png in 20250717_111337_Thursday_chicken-89_batch-28_chicken-age-28\n",
            "✅ Extracted features from rgb_20250717_111416_851770_instance-1.png in 20250717_111337_Thursday_chicken-89_batch-28_chicken-age-28\n",
            "✅ Extracted features from rgb_20250717_111416_851770_instance-2.png in 20250717_111337_Thursday_chicken-89_batch-28_chicken-age-28\n",
            "✅ Extracted features from rgb_20250717_111418_447812_instance-0.png in 20250717_111337_Thursday_chicken-89_batch-28_chicken-age-28\n",
            "✅ Extracted features from rgb_20250717_111418_447812_instance-1.png in 20250717_111337_Thursday_chicken-89_batch-28_chicken-age-28\n",
            "✅ Extracted features from rgb_20250717_111419_619210_instance-0.png in 20250717_111337_Thursday_chicken-89_batch-28_chicken-age-28\n",
            "✅ Extracted features from rgb_20250717_111419_619210_instance-1.png in 20250717_111337_Thursday_chicken-89_batch-28_chicken-age-28\n",
            "✅ Extracted features from rgb_20250717_111419_619210_instance-2.png in 20250717_111337_Thursday_chicken-89_batch-28_chicken-age-28\n",
            "✅ Extracted features from rgb_20250717_111421_275482_instance-0.png in 20250717_111337_Thursday_chicken-89_batch-28_chicken-age-28\n",
            "✅ Extracted features from rgb_20250717_111421_275482_instance-1.png in 20250717_111337_Thursday_chicken-89_batch-28_chicken-age-28\n",
            "✅ Extracted features from rgb_20250717_111421_275482_instance-2.png in 20250717_111337_Thursday_chicken-89_batch-28_chicken-age-28\n",
            "✅ Extracted features from rgb_20250717_111422_261938_instance-0.png in 20250717_111337_Thursday_chicken-89_batch-28_chicken-age-28\n",
            "✅ Extracted features from rgb_20250717_111422_261938_instance-1.png in 20250717_111337_Thursday_chicken-89_batch-28_chicken-age-28\n"
          ]
        },
        {
          "output_type": "stream",
          "name": "stderr",
          "text": [
            "\rProcessing Folders:  60%|██████    | 80/133 [13:12<16:59, 19.23s/it]"
          ]
        },
        {
          "output_type": "stream",
          "name": "stdout",
          "text": [
            "✅ Extracted features from rgb_20250717_111422_261938_instance-2.png in 20250717_111337_Thursday_chicken-89_batch-28_chicken-age-28\n",
            "\n",
            "📂 20250717_111445_Thursday_chicken-90_batch-28_chicken-age-28 → Found 8 PNG images\n",
            "✅ Extracted features from rgb_20250717_111502_070813_instance-0.png in 20250717_111445_Thursday_chicken-90_batch-28_chicken-age-28\n",
            "✅ Extracted features from rgb_20250717_111503_765398_instance-0.png in 20250717_111445_Thursday_chicken-90_batch-28_chicken-age-28\n",
            "✅ Extracted features from rgb_20250717_111505_351849_instance-0.png in 20250717_111445_Thursday_chicken-90_batch-28_chicken-age-28\n",
            "✅ Extracted features from rgb_20250717_111506_925631_instance-0.png in 20250717_111445_Thursday_chicken-90_batch-28_chicken-age-28\n",
            "✅ Extracted features from rgb_20250717_111509_987886_instance-0.png in 20250717_111445_Thursday_chicken-90_batch-28_chicken-age-28\n",
            "✅ Extracted features from rgb_20250717_111512_253171_instance-0.png in 20250717_111445_Thursday_chicken-90_batch-28_chicken-age-28\n",
            "✅ Extracted features from rgb_20250717_111512_253171_instance-1.png in 20250717_111445_Thursday_chicken-90_batch-28_chicken-age-28\n"
          ]
        },
        {
          "output_type": "stream",
          "name": "stderr",
          "text": [
            "\rProcessing Folders:  61%|██████    | 81/133 [13:20<13:48, 15.93s/it]"
          ]
        },
        {
          "output_type": "stream",
          "name": "stdout",
          "text": [
            "✅ Extracted features from rgb_20250717_111518_932445_instance-0.png in 20250717_111445_Thursday_chicken-90_batch-28_chicken-age-28\n",
            "\n",
            "📂 20250717_111555_Thursday_chicken-91_batch-28_chicken-age-28 → Found 16 PNG images\n",
            "✅ Extracted features from rgb_20250717_111607_935536_instance-0.png in 20250717_111555_Thursday_chicken-91_batch-28_chicken-age-28\n",
            "✅ Extracted features from rgb_20250717_111607_935536_instance-1.png in 20250717_111555_Thursday_chicken-91_batch-28_chicken-age-28\n",
            "✅ Extracted features from rgb_20250717_111609_332964_instance-0.png in 20250717_111555_Thursday_chicken-91_batch-28_chicken-age-28\n",
            "✅ Extracted features from rgb_20250717_111610_648418_instance-0.png in 20250717_111555_Thursday_chicken-91_batch-28_chicken-age-28\n",
            "✅ Extracted features from rgb_20250717_111612_038384_instance-0.png in 20250717_111555_Thursday_chicken-91_batch-28_chicken-age-28\n",
            "✅ Extracted features from rgb_20250717_111613_677010_instance-0.png in 20250717_111555_Thursday_chicken-91_batch-28_chicken-age-28\n",
            "✅ Extracted features from rgb_20250717_111615_371630_instance-0.png in 20250717_111555_Thursday_chicken-91_batch-28_chicken-age-28\n",
            "✅ Extracted features from rgb_20250717_111617_203627_instance-0.png in 20250717_111555_Thursday_chicken-91_batch-28_chicken-age-28\n",
            "✅ Extracted features from rgb_20250717_111626_590213_instance-0.png in 20250717_111555_Thursday_chicken-91_batch-28_chicken-age-28\n",
            "✅ Extracted features from rgb_20250717_111628_464791_instance-0.png in 20250717_111555_Thursday_chicken-91_batch-28_chicken-age-28\n",
            "✅ Extracted features from rgb_20250717_111630_758633_instance-0.png in 20250717_111555_Thursday_chicken-91_batch-28_chicken-age-28\n",
            "✅ Extracted features from rgb_20250717_111632_722344_instance-0.png in 20250717_111555_Thursday_chicken-91_batch-28_chicken-age-28\n",
            "✅ Extracted features from rgb_20250717_111634_399010_instance-0.png in 20250717_111555_Thursday_chicken-91_batch-28_chicken-age-28\n",
            "✅ Extracted features from rgb_20250717_111636_222809_instance-0.png in 20250717_111555_Thursday_chicken-91_batch-28_chicken-age-28\n",
            "✅ Extracted features from rgb_20250717_111638_320077_instance-0.png in 20250717_111555_Thursday_chicken-91_batch-28_chicken-age-28\n"
          ]
        },
        {
          "output_type": "stream",
          "name": "stderr",
          "text": [
            "\rProcessing Folders:  62%|██████▏   | 82/133 [13:36<13:26, 15.82s/it]"
          ]
        },
        {
          "output_type": "stream",
          "name": "stdout",
          "text": [
            "✅ Extracted features from rgb_20250717_111639_553805_instance-0.png in 20250717_111555_Thursday_chicken-91_batch-28_chicken-age-28\n",
            "\n",
            "📂 20250717_111714_Thursday_chicken-92_batch-28_chicken-age-28 → Found 20 PNG images\n",
            "✅ Extracted features from rgb_20250717_111723_650998_instance-0.png in 20250717_111714_Thursday_chicken-92_batch-28_chicken-age-28\n",
            "✅ Extracted features from rgb_20250717_111724_713673_instance-0.png in 20250717_111714_Thursday_chicken-92_batch-28_chicken-age-28\n",
            "✅ Extracted features from rgb_20250717_111726_071914_instance-0.png in 20250717_111714_Thursday_chicken-92_batch-28_chicken-age-28\n",
            "✅ Extracted features from rgb_20250717_111728_044051_instance-0.png in 20250717_111714_Thursday_chicken-92_batch-28_chicken-age-28\n",
            "✅ Extracted features from rgb_20250717_111732_542108_instance-0.png in 20250717_111714_Thursday_chicken-92_batch-28_chicken-age-28\n",
            "✅ Extracted features from rgb_20250717_111734_883068_instance-0.png in 20250717_111714_Thursday_chicken-92_batch-28_chicken-age-28\n",
            "✅ Extracted features from rgb_20250717_111736_832751_instance-0.png in 20250717_111714_Thursday_chicken-92_batch-28_chicken-age-28\n",
            "✅ Extracted features from rgb_20250717_111742_423483_instance-0.png in 20250717_111714_Thursday_chicken-92_batch-28_chicken-age-28\n",
            "✅ Extracted features from rgb_20250717_111743_922844_instance-0.png in 20250717_111714_Thursday_chicken-92_batch-28_chicken-age-28\n",
            "✅ Extracted features from rgb_20250717_111746_614279_instance-0.png in 20250717_111714_Thursday_chicken-92_batch-28_chicken-age-28\n",
            "✅ Extracted features from rgb_20250717_111750_264054_instance-0.png in 20250717_111714_Thursday_chicken-92_batch-28_chicken-age-28\n",
            "✅ Extracted features from rgb_20250717_111750_264054_instance-1.png in 20250717_111714_Thursday_chicken-92_batch-28_chicken-age-28\n",
            "✅ Extracted features from rgb_20250717_111753_648351_instance-0.png in 20250717_111714_Thursday_chicken-92_batch-28_chicken-age-28\n",
            "✅ Extracted features from rgb_20250717_111753_648351_instance-1.png in 20250717_111714_Thursday_chicken-92_batch-28_chicken-age-28\n",
            "✅ Extracted features from rgb_20250717_111756_916139_instance-0.png in 20250717_111714_Thursday_chicken-92_batch-28_chicken-age-28\n",
            "✅ Extracted features from rgb_20250717_111756_916139_instance-1.png in 20250717_111714_Thursday_chicken-92_batch-28_chicken-age-28\n",
            "✅ Extracted features from rgb_20250717_111800_803666_instance-0.png in 20250717_111714_Thursday_chicken-92_batch-28_chicken-age-28\n",
            "✅ Extracted features from rgb_20250717_111800_803666_instance-1.png in 20250717_111714_Thursday_chicken-92_batch-28_chicken-age-28\n",
            "✅ Extracted features from rgb_20250717_111805_213378_instance-0.png in 20250717_111714_Thursday_chicken-92_batch-28_chicken-age-28\n"
          ]
        },
        {
          "output_type": "stream",
          "name": "stderr",
          "text": [
            "\rProcessing Folders:  62%|██████▏   | 83/133 [13:54<13:54, 16.69s/it]"
          ]
        },
        {
          "output_type": "stream",
          "name": "stdout",
          "text": [
            "✅ Extracted features from rgb_20250717_111805_213378_instance-1.png in 20250717_111714_Thursday_chicken-92_batch-28_chicken-age-28\n",
            "\n",
            "📂 20250717_111815_Thursday_chicken-93_batch-28_chicken-age-28 → Found 11 PNG images\n",
            "✅ Extracted features from rgb_20250717_111826_148091_instance-0.png in 20250717_111815_Thursday_chicken-93_batch-28_chicken-age-28\n",
            "✅ Extracted features from rgb_20250717_111826_148091_instance-1.png in 20250717_111815_Thursday_chicken-93_batch-28_chicken-age-28\n",
            "✅ Extracted features from rgb_20250717_111827_675726_instance-0.png in 20250717_111815_Thursday_chicken-93_batch-28_chicken-age-28\n",
            "✅ Extracted features from rgb_20250717_111829_039003_instance-0.png in 20250717_111815_Thursday_chicken-93_batch-28_chicken-age-28\n",
            "✅ Extracted features from rgb_20250717_111831_027191_instance-0.png in 20250717_111815_Thursday_chicken-93_batch-28_chicken-age-28\n",
            "✅ Extracted features from rgb_20250717_111832_809484_instance-0.png in 20250717_111815_Thursday_chicken-93_batch-28_chicken-age-28\n",
            "✅ Extracted features from rgb_20250717_111834_524044_instance-0.png in 20250717_111815_Thursday_chicken-93_batch-28_chicken-age-28\n",
            "✅ Extracted features from rgb_20250717_111839_297740_instance-0.png in 20250717_111815_Thursday_chicken-93_batch-28_chicken-age-28\n",
            "✅ Extracted features from rgb_20250717_111840_999404_instance-0.png in 20250717_111815_Thursday_chicken-93_batch-28_chicken-age-28\n",
            "✅ Extracted features from rgb_20250717_111844_009387_instance-0.png in 20250717_111815_Thursday_chicken-93_batch-28_chicken-age-28\n"
          ]
        },
        {
          "output_type": "stream",
          "name": "stderr",
          "text": [
            "\rProcessing Folders:  63%|██████▎   | 84/133 [14:05<12:07, 14.86s/it]"
          ]
        },
        {
          "output_type": "stream",
          "name": "stdout",
          "text": [
            "✅ Extracted features from rgb_20250717_111845_481432_instance-0.png in 20250717_111815_Thursday_chicken-93_batch-28_chicken-age-28\n",
            "\n",
            "📂 20250717_111924_Thursday_chicken-94_batch-28_chicken-age-28 → Found 12 PNG images\n",
            "✅ Extracted features from rgb_20250717_111935_450286_instance-0.png in 20250717_111924_Thursday_chicken-94_batch-28_chicken-age-28\n",
            "✅ Extracted features from rgb_20250717_111936_830297_instance-0.png in 20250717_111924_Thursday_chicken-94_batch-28_chicken-age-28\n",
            "✅ Extracted features from rgb_20250717_111938_458534_instance-0.png in 20250717_111924_Thursday_chicken-94_batch-28_chicken-age-28\n",
            "✅ Extracted features from rgb_20250717_111939_946501_instance-0.png in 20250717_111924_Thursday_chicken-94_batch-28_chicken-age-28\n",
            "✅ Extracted features from rgb_20250717_111941_937932_instance-0.png in 20250717_111924_Thursday_chicken-94_batch-28_chicken-age-28\n",
            "✅ Extracted features from rgb_20250717_111943_732880_instance-0.png in 20250717_111924_Thursday_chicken-94_batch-28_chicken-age-28\n",
            "✅ Extracted features from rgb_20250717_111945_593185_instance-0.png in 20250717_111924_Thursday_chicken-94_batch-28_chicken-age-28\n",
            "✅ Extracted features from rgb_20250717_111947_615383_instance-0.png in 20250717_111924_Thursday_chicken-94_batch-28_chicken-age-28\n",
            "✅ Extracted features from rgb_20250717_111949_213448_instance-0.png in 20250717_111924_Thursday_chicken-94_batch-28_chicken-age-28\n",
            "✅ Extracted features from rgb_20250717_111951_267520_instance-0.png in 20250717_111924_Thursday_chicken-94_batch-28_chicken-age-28\n",
            "✅ Extracted features from rgb_20250717_111953_595678_instance-0.png in 20250717_111924_Thursday_chicken-94_batch-28_chicken-age-28\n"
          ]
        },
        {
          "output_type": "stream",
          "name": "stderr",
          "text": [
            "\rProcessing Folders:  64%|██████▍   | 85/133 [14:17<11:05, 13.87s/it]"
          ]
        },
        {
          "output_type": "stream",
          "name": "stdout",
          "text": [
            "✅ Extracted features from rgb_20250717_111954_666274_instance-0.png in 20250717_111924_Thursday_chicken-94_batch-28_chicken-age-28\n",
            "\n",
            "📂 20250717_112030_Thursday_chicken-95_batch-28_chicken-age-28 → Found 11 PNG images\n",
            "✅ Extracted features from rgb_20250717_112059_865781_instance-0.png in 20250717_112030_Thursday_chicken-95_batch-28_chicken-age-28\n",
            "✅ Extracted features from rgb_20250717_112101_687700_instance-0.png in 20250717_112030_Thursday_chicken-95_batch-28_chicken-age-28\n",
            "✅ Extracted features from rgb_20250717_112104_366360_instance-0.png in 20250717_112030_Thursday_chicken-95_batch-28_chicken-age-28\n",
            "✅ Extracted features from rgb_20250717_112105_690304_instance-0.png in 20250717_112030_Thursday_chicken-95_batch-28_chicken-age-28\n",
            "✅ Extracted features from rgb_20250717_112106_823134_instance-0.png in 20250717_112030_Thursday_chicken-95_batch-28_chicken-age-28\n",
            "✅ Extracted features from rgb_20250717_112117_679307_instance-0.png in 20250717_112030_Thursday_chicken-95_batch-28_chicken-age-28\n",
            "✅ Extracted features from rgb_20250717_112119_514051_instance-0.png in 20250717_112030_Thursday_chicken-95_batch-28_chicken-age-28\n",
            "✅ Extracted features from rgb_20250717_112124_015430_instance-0.png in 20250717_112030_Thursday_chicken-95_batch-28_chicken-age-28\n",
            "✅ Extracted features from rgb_20250717_112125_142785_instance-0.png in 20250717_112030_Thursday_chicken-95_batch-28_chicken-age-28\n",
            "✅ Extracted features from rgb_20250717_112126_842398_instance-0.png in 20250717_112030_Thursday_chicken-95_batch-28_chicken-age-28\n"
          ]
        },
        {
          "output_type": "stream",
          "name": "stderr",
          "text": [
            "\rProcessing Folders:  65%|██████▍   | 86/133 [14:26<09:56, 12.69s/it]"
          ]
        },
        {
          "output_type": "stream",
          "name": "stdout",
          "text": [
            "✅ Extracted features from rgb_20250717_112128_254202_instance-0.png in 20250717_112030_Thursday_chicken-95_batch-28_chicken-age-28\n",
            "\n",
            "📂 20250717_112155_Thursday_chicken-96_batch-28_chicken-age-28 → Found 14 PNG images\n",
            "✅ Extracted features from rgb_20250717_112221_284156_instance-0.png in 20250717_112155_Thursday_chicken-96_batch-28_chicken-age-28\n",
            "✅ Extracted features from rgb_20250717_112222_795893_instance-0.png in 20250717_112155_Thursday_chicken-96_batch-28_chicken-age-28\n",
            "✅ Extracted features from rgb_20250717_112224_630065_instance-0.png in 20250717_112155_Thursday_chicken-96_batch-28_chicken-age-28\n",
            "✅ Extracted features from rgb_20250717_112226_877513_instance-0.png in 20250717_112155_Thursday_chicken-96_batch-28_chicken-age-28\n",
            "✅ Extracted features from rgb_20250717_112230_187224_instance-0.png in 20250717_112155_Thursday_chicken-96_batch-28_chicken-age-28\n",
            "✅ Extracted features from rgb_20250717_112232_299530_instance-0.png in 20250717_112155_Thursday_chicken-96_batch-28_chicken-age-28\n",
            "✅ Extracted features from rgb_20250717_112233_884332_instance-0.png in 20250717_112155_Thursday_chicken-96_batch-28_chicken-age-28\n",
            "✅ Extracted features from rgb_20250717_112243_261188_instance-0.png in 20250717_112155_Thursday_chicken-96_batch-28_chicken-age-28\n",
            "✅ Extracted features from rgb_20250717_112245_055369_instance-0.png in 20250717_112155_Thursday_chicken-96_batch-28_chicken-age-28\n",
            "✅ Extracted features from rgb_20250717_112246_375443_instance-0.png in 20250717_112155_Thursday_chicken-96_batch-28_chicken-age-28\n",
            "✅ Extracted features from rgb_20250717_112247_541480_instance-0.png in 20250717_112155_Thursday_chicken-96_batch-28_chicken-age-28\n",
            "✅ Extracted features from rgb_20250717_112249_692931_instance-0.png in 20250717_112155_Thursday_chicken-96_batch-28_chicken-age-28\n",
            "✅ Extracted features from rgb_20250717_112254_290968_instance-0.png in 20250717_112155_Thursday_chicken-96_batch-28_chicken-age-28\n"
          ]
        },
        {
          "output_type": "stream",
          "name": "stderr",
          "text": [
            "\rProcessing Folders:  65%|██████▌   | 87/133 [14:39<09:45, 12.73s/it]"
          ]
        },
        {
          "output_type": "stream",
          "name": "stdout",
          "text": [
            "✅ Extracted features from rgb_20250717_112254_290968_instance-1.png in 20250717_112155_Thursday_chicken-96_batch-28_chicken-age-28\n",
            "\n",
            "📂 20250717_112309_Thursday_chicken-97_batch-28_chicken-age-28 → Found 18 PNG images\n",
            "✅ Extracted features from rgb_20250717_112322_764573_instance-0.png in 20250717_112309_Thursday_chicken-97_batch-28_chicken-age-28\n",
            "✅ Extracted features from rgb_20250717_112322_764573_instance-1.png in 20250717_112309_Thursday_chicken-97_batch-28_chicken-age-28\n",
            "✅ Extracted features from rgb_20250717_112322_764573_instance-2.png in 20250717_112309_Thursday_chicken-97_batch-28_chicken-age-28\n",
            "✅ Extracted features from rgb_20250717_112332_225472_instance-0.png in 20250717_112309_Thursday_chicken-97_batch-28_chicken-age-28\n",
            "✅ Extracted features from rgb_20250717_112333_594413_instance-0.png in 20250717_112309_Thursday_chicken-97_batch-28_chicken-age-28\n",
            "✅ Extracted features from rgb_20250717_112334_686778_instance-0.png in 20250717_112309_Thursday_chicken-97_batch-28_chicken-age-28\n",
            "✅ Extracted features from rgb_20250717_112336_373964_instance-0.png in 20250717_112309_Thursday_chicken-97_batch-28_chicken-age-28\n",
            "✅ Extracted features from rgb_20250717_112336_373964_instance-1.png in 20250717_112309_Thursday_chicken-97_batch-28_chicken-age-28\n",
            "✅ Extracted features from rgb_20250717_112338_375961_instance-0.png in 20250717_112309_Thursday_chicken-97_batch-28_chicken-age-28\n",
            "✅ Extracted features from rgb_20250717_112338_375961_instance-1.png in 20250717_112309_Thursday_chicken-97_batch-28_chicken-age-28\n",
            "✅ Extracted features from rgb_20250717_112340_100417_instance-0.png in 20250717_112309_Thursday_chicken-97_batch-28_chicken-age-28\n",
            "✅ Extracted features from rgb_20250717_112341_415923_instance-0.png in 20250717_112309_Thursday_chicken-97_batch-28_chicken-age-28\n",
            "✅ Extracted features from rgb_20250717_112343_608825_instance-0.png in 20250717_112309_Thursday_chicken-97_batch-28_chicken-age-28\n",
            "✅ Extracted features from rgb_20250717_112345_217669_instance-0.png in 20250717_112309_Thursday_chicken-97_batch-28_chicken-age-28\n",
            "✅ Extracted features from rgb_20250717_112345_217669_instance-1.png in 20250717_112309_Thursday_chicken-97_batch-28_chicken-age-28\n",
            "✅ Extracted features from rgb_20250717_112400_878190_instance-0.png in 20250717_112309_Thursday_chicken-97_batch-28_chicken-age-28\n",
            "✅ Extracted features from rgb_20250717_112402_183306_instance-0.png in 20250717_112309_Thursday_chicken-97_batch-28_chicken-age-28\n"
          ]
        },
        {
          "output_type": "stream",
          "name": "stderr",
          "text": [
            "\rProcessing Folders:  66%|██████▌   | 88/133 [14:56<10:26, 13.93s/it]"
          ]
        },
        {
          "output_type": "stream",
          "name": "stdout",
          "text": [
            "✅ Extracted features from rgb_20250717_112403_061859_instance-0.png in 20250717_112309_Thursday_chicken-97_batch-28_chicken-age-28\n",
            "\n",
            "📂 20250719_110629_Saturday_chicken-98_batch-30_chicken-age-30 → Found 10 PNG images\n",
            "✅ Extracted features from rgb_20250719_110653_245482_instance-0.png in 20250719_110629_Saturday_chicken-98_batch-30_chicken-age-30\n",
            "✅ Extracted features from rgb_20250719_110655_542729_instance-0.png in 20250719_110629_Saturday_chicken-98_batch-30_chicken-age-30\n",
            "✅ Extracted features from rgb_20250719_110657_676725_instance-0.png in 20250719_110629_Saturday_chicken-98_batch-30_chicken-age-30\n",
            "✅ Extracted features from rgb_20250719_110700_235186_instance-0.png in 20250719_110629_Saturday_chicken-98_batch-30_chicken-age-30\n",
            "✅ Extracted features from rgb_20250719_110703_391890_instance-0.png in 20250719_110629_Saturday_chicken-98_batch-30_chicken-age-30\n",
            "✅ Extracted features from rgb_20250719_110707_596204_instance-0.png in 20250719_110629_Saturday_chicken-98_batch-30_chicken-age-30\n",
            "✅ Extracted features from rgb_20250719_110709_456380_instance-0.png in 20250719_110629_Saturday_chicken-98_batch-30_chicken-age-30\n",
            "✅ Extracted features from rgb_20250719_110711_764956_instance-0.png in 20250719_110629_Saturday_chicken-98_batch-30_chicken-age-30\n",
            "✅ Extracted features from rgb_20250719_110714_702676_instance-0.png in 20250719_110629_Saturday_chicken-98_batch-30_chicken-age-30\n"
          ]
        },
        {
          "output_type": "stream",
          "name": "stderr",
          "text": [
            "\rProcessing Folders:  67%|██████▋   | 89/133 [15:06<09:18, 12.69s/it]"
          ]
        },
        {
          "output_type": "stream",
          "name": "stdout",
          "text": [
            "✅ Extracted features from rgb_20250719_110718_706272_instance-0.png in 20250719_110629_Saturday_chicken-98_batch-30_chicken-age-30\n",
            "\n",
            "📂 20250719_110739_Saturday_chicken-99_batch-30_chicken-age-30 → Found 23 PNG images\n",
            "✅ Extracted features from rgb_20250719_110813_639192_instance-0.png in 20250719_110739_Saturday_chicken-99_batch-30_chicken-age-30\n",
            "✅ Extracted features from rgb_20250719_110814_683658_instance-0.png in 20250719_110739_Saturday_chicken-99_batch-30_chicken-age-30\n",
            "✅ Extracted features from rgb_20250719_110815_755836_instance-0.png in 20250719_110739_Saturday_chicken-99_batch-30_chicken-age-30\n",
            "✅ Extracted features from rgb_20250719_110817_131289_instance-0.png in 20250719_110739_Saturday_chicken-99_batch-30_chicken-age-30\n",
            "✅ Extracted features from rgb_20250719_110818_175956_instance-0.png in 20250719_110739_Saturday_chicken-99_batch-30_chicken-age-30\n",
            "✅ Extracted features from rgb_20250719_110820_311143_instance-0.png in 20250719_110739_Saturday_chicken-99_batch-30_chicken-age-30\n",
            "✅ Extracted features from rgb_20250719_110821_661398_instance-0.png in 20250719_110739_Saturday_chicken-99_batch-30_chicken-age-30\n",
            "✅ Extracted features from rgb_20250719_110822_746124_instance-0.png in 20250719_110739_Saturday_chicken-99_batch-30_chicken-age-30\n",
            "✅ Extracted features from rgb_20250719_110822_746124_instance-1.png in 20250719_110739_Saturday_chicken-99_batch-30_chicken-age-30\n",
            "✅ Extracted features from rgb_20250719_110823_917190_instance-0.png in 20250719_110739_Saturday_chicken-99_batch-30_chicken-age-30\n",
            "✅ Extracted features from rgb_20250719_110825_066286_instance-0.png in 20250719_110739_Saturday_chicken-99_batch-30_chicken-age-30\n",
            "✅ Extracted features from rgb_20250719_110825_066286_instance-1.png in 20250719_110739_Saturday_chicken-99_batch-30_chicken-age-30\n",
            "✅ Extracted features from rgb_20250719_110826_120546_instance-0.png in 20250719_110739_Saturday_chicken-99_batch-30_chicken-age-30\n",
            "✅ Extracted features from rgb_20250719_110827_544481_instance-0.png in 20250719_110739_Saturday_chicken-99_batch-30_chicken-age-30\n",
            "✅ Extracted features from rgb_20250719_110827_544481_instance-1.png in 20250719_110739_Saturday_chicken-99_batch-30_chicken-age-30\n",
            "✅ Extracted features from rgb_20250719_110829_231255_instance-0.png in 20250719_110739_Saturday_chicken-99_batch-30_chicken-age-30\n",
            "✅ Extracted features from rgb_20250719_110829_231255_instance-1.png in 20250719_110739_Saturday_chicken-99_batch-30_chicken-age-30\n",
            "✅ Extracted features from rgb_20250719_110830_499445_instance-0.png in 20250719_110739_Saturday_chicken-99_batch-30_chicken-age-30\n",
            "✅ Extracted features from rgb_20250719_110831_796215_instance-0.png in 20250719_110739_Saturday_chicken-99_batch-30_chicken-age-30\n",
            "✅ Extracted features from rgb_20250719_110833_405284_instance-0.png in 20250719_110739_Saturday_chicken-99_batch-30_chicken-age-30\n",
            "✅ Extracted features from rgb_20250719_110834_714994_instance-0.png in 20250719_110739_Saturday_chicken-99_batch-30_chicken-age-30\n",
            "✅ Extracted features from rgb_20250719_110836_039821_instance-0.png in 20250719_110739_Saturday_chicken-99_batch-30_chicken-age-30\n"
          ]
        },
        {
          "output_type": "stream",
          "name": "stderr",
          "text": [
            "\rProcessing Folders:  68%|██████▊   | 90/133 [15:27<10:57, 15.29s/it]"
          ]
        },
        {
          "output_type": "stream",
          "name": "stdout",
          "text": [
            "✅ Extracted features from rgb_20250719_110837_672855_instance-0.png in 20250719_110739_Saturday_chicken-99_batch-30_chicken-age-30\n",
            "\n",
            "📂 20250719_110852_Saturday_chicken-100_batch-30_chicken-age-30 → Found 11 PNG images\n",
            "✅ Extracted features from rgb_20250719_110907_829713_instance-0.png in 20250719_110852_Saturday_chicken-100_batch-30_chicken-age-30\n",
            "✅ Extracted features from rgb_20250719_110910_744165_instance-0.png in 20250719_110852_Saturday_chicken-100_batch-30_chicken-age-30\n",
            "✅ Extracted features from rgb_20250719_110910_744165_instance-1.png in 20250719_110852_Saturday_chicken-100_batch-30_chicken-age-30\n",
            "✅ Extracted features from rgb_20250719_110912_633657_instance-0.png in 20250719_110852_Saturday_chicken-100_batch-30_chicken-age-30\n",
            "✅ Extracted features from rgb_20250719_110913_903441_instance-0.png in 20250719_110852_Saturday_chicken-100_batch-30_chicken-age-30\n",
            "✅ Extracted features from rgb_20250719_110915_561662_instance-0.png in 20250719_110852_Saturday_chicken-100_batch-30_chicken-age-30\n",
            "✅ Extracted features from rgb_20250719_110918_222851_instance-0.png in 20250719_110852_Saturday_chicken-100_batch-30_chicken-age-30\n",
            "✅ Extracted features from rgb_20250719_110918_222851_instance-1.png in 20250719_110852_Saturday_chicken-100_batch-30_chicken-age-30\n",
            "✅ Extracted features from rgb_20250719_110920_090881_instance-0.png in 20250719_110852_Saturday_chicken-100_batch-30_chicken-age-30\n",
            "✅ Extracted features from rgb_20250719_110925_873003_instance-0.png in 20250719_110852_Saturday_chicken-100_batch-30_chicken-age-30\n"
          ]
        },
        {
          "output_type": "stream",
          "name": "stderr",
          "text": [
            "\rProcessing Folders:  68%|██████▊   | 91/133 [15:38<09:41, 13.84s/it]"
          ]
        },
        {
          "output_type": "stream",
          "name": "stdout",
          "text": [
            "✅ Extracted features from rgb_20250719_110927_716063_instance-0.png in 20250719_110852_Saturday_chicken-100_batch-30_chicken-age-30\n",
            "\n",
            "📂 20250719_110946_Saturday_chicken-101_batch-30_chicken-age-30 → Found 8 PNG images\n",
            "✅ Extracted features from rgb_20250719_110957_702482_instance-0.png in 20250719_110946_Saturday_chicken-101_batch-30_chicken-age-30\n",
            "✅ Extracted features from rgb_20250719_110959_457180_instance-0.png in 20250719_110946_Saturday_chicken-101_batch-30_chicken-age-30\n",
            "✅ Extracted features from rgb_20250719_111000_860819_instance-0.png in 20250719_110946_Saturday_chicken-101_batch-30_chicken-age-30\n",
            "✅ Extracted features from rgb_20250719_111004_407816_instance-0.png in 20250719_110946_Saturday_chicken-101_batch-30_chicken-age-30\n",
            "✅ Extracted features from rgb_20250719_111006_191748_instance-0.png in 20250719_110946_Saturday_chicken-101_batch-30_chicken-age-30\n",
            "✅ Extracted features from rgb_20250719_111014_726379_instance-0.png in 20250719_110946_Saturday_chicken-101_batch-30_chicken-age-30\n",
            "✅ Extracted features from rgb_20250719_111016_527172_instance-0.png in 20250719_110946_Saturday_chicken-101_batch-30_chicken-age-30\n"
          ]
        },
        {
          "output_type": "stream",
          "name": "stderr",
          "text": [
            "\rProcessing Folders:  69%|██████▉   | 92/133 [15:45<08:11, 11.99s/it]"
          ]
        },
        {
          "output_type": "stream",
          "name": "stdout",
          "text": [
            "✅ Extracted features from rgb_20250719_111018_458197_instance-0.png in 20250719_110946_Saturday_chicken-101_batch-30_chicken-age-30\n",
            "\n",
            "📂 20250719_111035_Saturday_chicken-102_batch-30_chicken-age-30 → Found 8 PNG images\n",
            "✅ Extracted features from rgb_20250719_111044_656637_instance-0.png in 20250719_111035_Saturday_chicken-102_batch-30_chicken-age-30\n",
            "✅ Extracted features from rgb_20250719_111045_756330_instance-0.png in 20250719_111035_Saturday_chicken-102_batch-30_chicken-age-30\n",
            "✅ Extracted features from rgb_20250719_111047_167161_instance-0.png in 20250719_111035_Saturday_chicken-102_batch-30_chicken-age-30\n",
            "✅ Extracted features from rgb_20250719_111057_854043_instance-0.png in 20250719_111035_Saturday_chicken-102_batch-30_chicken-age-30\n",
            "✅ Extracted features from rgb_20250719_111059_352088_instance-0.png in 20250719_111035_Saturday_chicken-102_batch-30_chicken-age-30\n",
            "✅ Extracted features from rgb_20250719_111103_811447_instance-0.png in 20250719_111035_Saturday_chicken-102_batch-30_chicken-age-30\n",
            "✅ Extracted features from rgb_20250719_111105_708396_instance-0.png in 20250719_111035_Saturday_chicken-102_batch-30_chicken-age-30\n"
          ]
        },
        {
          "output_type": "stream",
          "name": "stderr",
          "text": [
            "\rProcessing Folders:  70%|██████▉   | 93/133 [15:53<07:04, 10.61s/it]"
          ]
        },
        {
          "output_type": "stream",
          "name": "stdout",
          "text": [
            "✅ Extracted features from rgb_20250719_111107_343848_instance-0.png in 20250719_111035_Saturday_chicken-102_batch-30_chicken-age-30\n",
            "\n",
            "📂 20250719_111151_Saturday_chicken-103_batch-30_chicken-age-30 → Found 10 PNG images\n",
            "✅ Extracted features from rgb_20250719_111205_677583_instance-0.png in 20250719_111151_Saturday_chicken-103_batch-30_chicken-age-30\n",
            "✅ Extracted features from rgb_20250719_111225_459587_instance-0.png in 20250719_111151_Saturday_chicken-103_batch-30_chicken-age-30\n",
            "✅ Extracted features from rgb_20250719_111226_816193_instance-0.png in 20250719_111151_Saturday_chicken-103_batch-30_chicken-age-30\n",
            "✅ Extracted features from rgb_20250719_111227_948436_instance-0.png in 20250719_111151_Saturday_chicken-103_batch-30_chicken-age-30\n",
            "✅ Extracted features from rgb_20250719_111229_210291_instance-0.png in 20250719_111151_Saturday_chicken-103_batch-30_chicken-age-30\n",
            "✅ Extracted features from rgb_20250719_111230_647254_instance-0.png in 20250719_111151_Saturday_chicken-103_batch-30_chicken-age-30\n",
            "✅ Extracted features from rgb_20250719_111233_375650_instance-0.png in 20250719_111151_Saturday_chicken-103_batch-30_chicken-age-30\n",
            "✅ Extracted features from rgb_20250719_111234_877956_instance-0.png in 20250719_111151_Saturday_chicken-103_batch-30_chicken-age-30\n",
            "✅ Extracted features from rgb_20250719_111236_184611_instance-0.png in 20250719_111151_Saturday_chicken-103_batch-30_chicken-age-30\n"
          ]
        },
        {
          "output_type": "stream",
          "name": "stderr",
          "text": [
            "\rProcessing Folders:  71%|███████   | 94/133 [16:03<06:51, 10.56s/it]"
          ]
        },
        {
          "output_type": "stream",
          "name": "stdout",
          "text": [
            "✅ Extracted features from rgb_20250719_111237_681467_instance-0.png in 20250719_111151_Saturday_chicken-103_batch-30_chicken-age-30\n",
            "\n",
            "📂 20250719_111246_Saturday_chicken-104_batch-30_chicken-age-30 → Found 14 PNG images\n",
            "✅ Extracted features from rgb_20250719_111315_459400_instance-0.png in 20250719_111246_Saturday_chicken-104_batch-30_chicken-age-30\n",
            "✅ Extracted features from rgb_20250719_111316_842927_instance-0.png in 20250719_111246_Saturday_chicken-104_batch-30_chicken-age-30\n",
            "✅ Extracted features from rgb_20250719_111318_112229_instance-0.png in 20250719_111246_Saturday_chicken-104_batch-30_chicken-age-30\n",
            "✅ Extracted features from rgb_20250719_111320_038218_instance-0.png in 20250719_111246_Saturday_chicken-104_batch-30_chicken-age-30\n",
            "✅ Extracted features from rgb_20250719_111321_209981_instance-0.png in 20250719_111246_Saturday_chicken-104_batch-30_chicken-age-30\n",
            "✅ Extracted features from rgb_20250719_111322_436615_instance-0.png in 20250719_111246_Saturday_chicken-104_batch-30_chicken-age-30\n",
            "✅ Extracted features from rgb_20250719_111323_631347_instance-0.png in 20250719_111246_Saturday_chicken-104_batch-30_chicken-age-30\n",
            "✅ Extracted features from rgb_20250719_111324_770962_instance-0.png in 20250719_111246_Saturday_chicken-104_batch-30_chicken-age-30\n",
            "✅ Extracted features from rgb_20250719_111325_700541_instance-0.png in 20250719_111246_Saturday_chicken-104_batch-30_chicken-age-30\n",
            "✅ Extracted features from rgb_20250719_111328_651425_instance-0.png in 20250719_111246_Saturday_chicken-104_batch-30_chicken-age-30\n",
            "✅ Extracted features from rgb_20250719_111330_827702_instance-0.png in 20250719_111246_Saturday_chicken-104_batch-30_chicken-age-30\n",
            "✅ Extracted features from rgb_20250719_111333_585278_instance-0.png in 20250719_111246_Saturday_chicken-104_batch-30_chicken-age-30\n",
            "✅ Extracted features from rgb_20250719_111335_694357_instance-0.png in 20250719_111246_Saturday_chicken-104_batch-30_chicken-age-30\n"
          ]
        },
        {
          "output_type": "stream",
          "name": "stderr",
          "text": [
            "\rProcessing Folders:  71%|███████▏  | 95/133 [16:19<07:38, 12.07s/it]"
          ]
        },
        {
          "output_type": "stream",
          "name": "stdout",
          "text": [
            "✅ Extracted features from rgb_20250719_111336_872621_instance-0.png in 20250719_111246_Saturday_chicken-104_batch-30_chicken-age-30\n",
            "\n",
            "📂 20250719_111415_Saturday_chicken-105_batch-30_chicken-age-30 → Found 13 PNG images\n",
            "✅ Extracted features from rgb_20250719_111424_788654_instance-0.png in 20250719_111415_Saturday_chicken-105_batch-30_chicken-age-30\n",
            "✅ Extracted features from rgb_20250719_111426_135609_instance-0.png in 20250719_111415_Saturday_chicken-105_batch-30_chicken-age-30\n",
            "✅ Extracted features from rgb_20250719_111430_044193_instance-0.png in 20250719_111415_Saturday_chicken-105_batch-30_chicken-age-30\n",
            "✅ Extracted features from rgb_20250719_111431_566739_instance-0.png in 20250719_111415_Saturday_chicken-105_batch-30_chicken-age-30\n",
            "✅ Extracted features from rgb_20250719_111433_455380_instance-0.png in 20250719_111415_Saturday_chicken-105_batch-30_chicken-age-30\n",
            "✅ Extracted features from rgb_20250719_111435_392929_instance-0.png in 20250719_111415_Saturday_chicken-105_batch-30_chicken-age-30\n",
            "✅ Extracted features from rgb_20250719_111436_894031_instance-0.png in 20250719_111415_Saturday_chicken-105_batch-30_chicken-age-30\n",
            "✅ Extracted features from rgb_20250719_111438_835788_instance-0.png in 20250719_111415_Saturday_chicken-105_batch-30_chicken-age-30\n",
            "✅ Extracted features from rgb_20250719_111440_557053_instance-0.png in 20250719_111415_Saturday_chicken-105_batch-30_chicken-age-30\n",
            "✅ Extracted features from rgb_20250719_111442_175878_instance-0.png in 20250719_111415_Saturday_chicken-105_batch-30_chicken-age-30\n",
            "✅ Extracted features from rgb_20250719_111445_534714_instance-0.png in 20250719_111415_Saturday_chicken-105_batch-30_chicken-age-30\n",
            "✅ Extracted features from rgb_20250719_111447_722945_instance-0.png in 20250719_111415_Saturday_chicken-105_batch-30_chicken-age-30\n"
          ]
        },
        {
          "output_type": "stream",
          "name": "stderr",
          "text": [
            "\rProcessing Folders:  72%|███████▏  | 96/133 [16:30<07:22, 11.96s/it]"
          ]
        },
        {
          "output_type": "stream",
          "name": "stdout",
          "text": [
            "✅ Extracted features from rgb_20250719_111448_591300_instance-0.png in 20250719_111415_Saturday_chicken-105_batch-30_chicken-age-30\n",
            "\n",
            "📂 20250719_111521_Saturday_chicken-106_batch-30_chicken-age-30 → Found 10 PNG images\n",
            "✅ Extracted features from rgb_20250719_111542_831190_instance-0.png in 20250719_111521_Saturday_chicken-106_batch-30_chicken-age-30\n",
            "✅ Extracted features from rgb_20250719_111544_514432_instance-0.png in 20250719_111521_Saturday_chicken-106_batch-30_chicken-age-30\n",
            "✅ Extracted features from rgb_20250719_111547_251560_instance-0.png in 20250719_111521_Saturday_chicken-106_batch-30_chicken-age-30\n",
            "✅ Extracted features from rgb_20250719_111549_786461_instance-0.png in 20250719_111521_Saturday_chicken-106_batch-30_chicken-age-30\n",
            "✅ Extracted features from rgb_20250719_111554_676816_instance-0.png in 20250719_111521_Saturday_chicken-106_batch-30_chicken-age-30\n",
            "✅ Extracted features from rgb_20250719_111555_930835_instance-0.png in 20250719_111521_Saturday_chicken-106_batch-30_chicken-age-30\n",
            "✅ Extracted features from rgb_20250719_111558_149197_instance-0.png in 20250719_111521_Saturday_chicken-106_batch-30_chicken-age-30\n",
            "✅ Extracted features from rgb_20250719_111559_437021_instance-0.png in 20250719_111521_Saturday_chicken-106_batch-30_chicken-age-30\n",
            "✅ Extracted features from rgb_20250719_111601_881596_instance-0.png in 20250719_111521_Saturday_chicken-106_batch-30_chicken-age-30\n"
          ]
        },
        {
          "output_type": "stream",
          "name": "stderr",
          "text": [
            "\rProcessing Folders:  73%|███████▎  | 97/133 [16:40<06:45, 11.26s/it]"
          ]
        },
        {
          "output_type": "stream",
          "name": "stdout",
          "text": [
            "✅ Extracted features from rgb_20250719_111604_282692_instance-0.png in 20250719_111521_Saturday_chicken-106_batch-30_chicken-age-30\n",
            "\n",
            "📂 20250719_111628_Saturday_chicken-107_batch-30_chicken-age-30 → Found 15 PNG images\n",
            "✅ Extracted features from rgb_20250719_111640_242585_instance-0.png in 20250719_111628_Saturday_chicken-107_batch-30_chicken-age-30\n",
            "✅ Extracted features from rgb_20250719_111641_575646_instance-0.png in 20250719_111628_Saturday_chicken-107_batch-30_chicken-age-30\n",
            "✅ Extracted features from rgb_20250719_111643_097597_instance-0.png in 20250719_111628_Saturday_chicken-107_batch-30_chicken-age-30\n",
            "✅ Extracted features from rgb_20250719_111644_437067_instance-0.png in 20250719_111628_Saturday_chicken-107_batch-30_chicken-age-30\n",
            "✅ Extracted features from rgb_20250719_111645_758859_instance-0.png in 20250719_111628_Saturday_chicken-107_batch-30_chicken-age-30\n",
            "✅ Extracted features from rgb_20250719_111647_153340_instance-0.png in 20250719_111628_Saturday_chicken-107_batch-30_chicken-age-30\n",
            "✅ Extracted features from rgb_20250719_111648_235747_instance-0.png in 20250719_111628_Saturday_chicken-107_batch-30_chicken-age-30\n",
            "✅ Extracted features from rgb_20250719_111650_459357_instance-0.png in 20250719_111628_Saturday_chicken-107_batch-30_chicken-age-30\n",
            "✅ Extracted features from rgb_20250719_111656_370628_instance-0.png in 20250719_111628_Saturday_chicken-107_batch-30_chicken-age-30\n",
            "✅ Extracted features from rgb_20250719_111659_459322_instance-0.png in 20250719_111628_Saturday_chicken-107_batch-30_chicken-age-30\n",
            "✅ Extracted features from rgb_20250719_111701_529238_instance-0.png in 20250719_111628_Saturday_chicken-107_batch-30_chicken-age-30\n",
            "✅ Extracted features from rgb_20250719_111703_988297_instance-0.png in 20250719_111628_Saturday_chicken-107_batch-30_chicken-age-30\n",
            "✅ Extracted features from rgb_20250719_111703_988297_instance-1.png in 20250719_111628_Saturday_chicken-107_batch-30_chicken-age-30\n",
            "✅ Extracted features from rgb_20250719_111706_510855_instance-0.png in 20250719_111628_Saturday_chicken-107_batch-30_chicken-age-30\n"
          ]
        },
        {
          "output_type": "stream",
          "name": "stderr",
          "text": [
            "\rProcessing Folders:  74%|███████▎  | 98/133 [16:54<06:58, 11.95s/it]"
          ]
        },
        {
          "output_type": "stream",
          "name": "stdout",
          "text": [
            "✅ Extracted features from rgb_20250719_111706_510855_instance-1.png in 20250719_111628_Saturday_chicken-107_batch-30_chicken-age-30\n",
            "\n",
            "📂 20250719_111728_Saturday_chicken-108_batch-30_chicken-age-30 → Found 23 PNG images\n",
            "✅ Extracted features from rgb_20250719_111741_074108_instance-0.png in 20250719_111728_Saturday_chicken-108_batch-30_chicken-age-30\n",
            "✅ Extracted features from rgb_20250719_111742_775963_instance-0.png in 20250719_111728_Saturday_chicken-108_batch-30_chicken-age-30\n",
            "✅ Extracted features from rgb_20250719_111744_183539_instance-0.png in 20250719_111728_Saturday_chicken-108_batch-30_chicken-age-30\n",
            "✅ Extracted features from rgb_20250719_111745_796523_instance-0.png in 20250719_111728_Saturday_chicken-108_batch-30_chicken-age-30\n",
            "✅ Extracted features from rgb_20250719_111750_158344_instance-0.png in 20250719_111728_Saturday_chicken-108_batch-30_chicken-age-30\n",
            "✅ Extracted features from rgb_20250719_111752_627617_instance-0.png in 20250719_111728_Saturday_chicken-108_batch-30_chicken-age-30\n",
            "✅ Extracted features from rgb_20250719_111755_526877_instance-0.png in 20250719_111728_Saturday_chicken-108_batch-30_chicken-age-30\n",
            "✅ Extracted features from rgb_20250719_111759_489239_instance-0.png in 20250719_111728_Saturday_chicken-108_batch-30_chicken-age-30\n",
            "✅ Extracted features from rgb_20250719_111759_489239_instance-1.png in 20250719_111728_Saturday_chicken-108_batch-30_chicken-age-30\n",
            "✅ Extracted features from rgb_20250719_111802_448574_instance-0.png in 20250719_111728_Saturday_chicken-108_batch-30_chicken-age-30\n",
            "✅ Extracted features from rgb_20250719_111804_433147_instance-0.png in 20250719_111728_Saturday_chicken-108_batch-30_chicken-age-30\n",
            "✅ Extracted features from rgb_20250719_111806_190316_instance-0.png in 20250719_111728_Saturday_chicken-108_batch-30_chicken-age-30\n",
            "✅ Extracted features from rgb_20250719_111807_349847_instance-0.png in 20250719_111728_Saturday_chicken-108_batch-30_chicken-age-30\n",
            "✅ Extracted features from rgb_20250719_111808_580096_instance-0.png in 20250719_111728_Saturday_chicken-108_batch-30_chicken-age-30\n",
            "✅ Extracted features from rgb_20250719_111809_717418_instance-0.png in 20250719_111728_Saturday_chicken-108_batch-30_chicken-age-30\n",
            "✅ Extracted features from rgb_20250719_111810_724315_instance-0.png in 20250719_111728_Saturday_chicken-108_batch-30_chicken-age-30\n",
            "✅ Extracted features from rgb_20250719_111811_816778_instance-0.png in 20250719_111728_Saturday_chicken-108_batch-30_chicken-age-30\n",
            "✅ Extracted features from rgb_20250719_111813_041824_instance-0.png in 20250719_111728_Saturday_chicken-108_batch-30_chicken-age-30\n",
            "✅ Extracted features from rgb_20250719_111813_985564_instance-0.png in 20250719_111728_Saturday_chicken-108_batch-30_chicken-age-30\n",
            "✅ Extracted features from rgb_20250719_111815_268313_instance-0.png in 20250719_111728_Saturday_chicken-108_batch-30_chicken-age-30\n",
            "✅ Extracted features from rgb_20250719_111816_518613_instance-0.png in 20250719_111728_Saturday_chicken-108_batch-30_chicken-age-30\n",
            "✅ Extracted features from rgb_20250719_111818_012388_instance-0.png in 20250719_111728_Saturday_chicken-108_batch-30_chicken-age-30\n"
          ]
        },
        {
          "output_type": "stream",
          "name": "stderr",
          "text": [
            "\rProcessing Folders:  74%|███████▍  | 99/133 [17:15<08:19, 14.69s/it]"
          ]
        },
        {
          "output_type": "stream",
          "name": "stdout",
          "text": [
            "✅ Extracted features from rgb_20250719_111821_130767_instance-0.png in 20250719_111728_Saturday_chicken-108_batch-30_chicken-age-30\n",
            "\n",
            "📂 20250719_111827_Saturday_chicken-109_batch-30_chicken-age-30 → Found 13 PNG images\n",
            "✅ Extracted features from rgb_20250719_111842_981912_instance-0.png in 20250719_111827_Saturday_chicken-109_batch-30_chicken-age-30\n",
            "✅ Extracted features from rgb_20250719_111844_093430_instance-0.png in 20250719_111827_Saturday_chicken-109_batch-30_chicken-age-30\n",
            "✅ Extracted features from rgb_20250719_111847_743506_instance-0.png in 20250719_111827_Saturday_chicken-109_batch-30_chicken-age-30\n",
            "✅ Extracted features from rgb_20250719_111849_277481_instance-0.png in 20250719_111827_Saturday_chicken-109_batch-30_chicken-age-30\n",
            "✅ Extracted features from rgb_20250719_111850_816407_instance-0.png in 20250719_111827_Saturday_chicken-109_batch-30_chicken-age-30\n",
            "✅ Extracted features from rgb_20250719_111852_283414_instance-0.png in 20250719_111827_Saturday_chicken-109_batch-30_chicken-age-30\n",
            "✅ Extracted features from rgb_20250719_111904_321908_instance-0.png in 20250719_111827_Saturday_chicken-109_batch-30_chicken-age-30\n",
            "✅ Extracted features from rgb_20250719_111906_209208_instance-0.png in 20250719_111827_Saturday_chicken-109_batch-30_chicken-age-30\n",
            "✅ Extracted features from rgb_20250719_111910_943329_instance-0.png in 20250719_111827_Saturday_chicken-109_batch-30_chicken-age-30\n",
            "✅ Extracted features from rgb_20250719_111914_344030_instance-0.png in 20250719_111827_Saturday_chicken-109_batch-30_chicken-age-30\n",
            "✅ Extracted features from rgb_20250719_111915_660799_instance-0.png in 20250719_111827_Saturday_chicken-109_batch-30_chicken-age-30\n",
            "✅ Extracted features from rgb_20250719_111916_926125_instance-0.png in 20250719_111827_Saturday_chicken-109_batch-30_chicken-age-30\n"
          ]
        },
        {
          "output_type": "stream",
          "name": "stderr",
          "text": [
            "\rProcessing Folders:  75%|███████▌  | 100/133 [17:27<07:38, 13.91s/it]"
          ]
        },
        {
          "output_type": "stream",
          "name": "stdout",
          "text": [
            "✅ Extracted features from rgb_20250719_111919_048479_instance-0.png in 20250719_111827_Saturday_chicken-109_batch-30_chicken-age-30\n",
            "\n",
            "📂 20250719_111929_Saturday_chicken-110_batch-30_chicken-age-30 → Found 5 PNG images\n",
            "✅ Extracted features from rgb_20250719_111946_746154_instance-0.png in 20250719_111929_Saturday_chicken-110_batch-30_chicken-age-30\n",
            "✅ Extracted features from rgb_20250719_111950_192636_instance-0.png in 20250719_111929_Saturday_chicken-110_batch-30_chicken-age-30\n",
            "✅ Extracted features from rgb_20250719_111952_899424_instance-0.png in 20250719_111929_Saturday_chicken-110_batch-30_chicken-age-30\n",
            "✅ Extracted features from rgb_20250719_111954_942250_instance-0.png in 20250719_111929_Saturday_chicken-110_batch-30_chicken-age-30\n"
          ]
        },
        {
          "output_type": "stream",
          "name": "stderr",
          "text": [
            "\rProcessing Folders:  76%|███████▌  | 101/133 [17:33<06:14, 11.72s/it]"
          ]
        },
        {
          "output_type": "stream",
          "name": "stdout",
          "text": [
            "✅ Extracted features from rgb_20250719_112023_228827_instance-0.png in 20250719_111929_Saturday_chicken-110_batch-30_chicken-age-30\n",
            "\n",
            "📂 20250719_112051_Saturday_chicken-111_batch-30_chicken-age-30 → Found 12 PNG images\n",
            "✅ Extracted features from rgb_20250719_112105_755558_instance-0.png in 20250719_112051_Saturday_chicken-111_batch-30_chicken-age-30\n",
            "✅ Extracted features from rgb_20250719_112107_362243_instance-0.png in 20250719_112051_Saturday_chicken-111_batch-30_chicken-age-30\n",
            "✅ Extracted features from rgb_20250719_112108_575751_instance-0.png in 20250719_112051_Saturday_chicken-111_batch-30_chicken-age-30\n",
            "✅ Extracted features from rgb_20250719_112112_179974_instance-0.png in 20250719_112051_Saturday_chicken-111_batch-30_chicken-age-30\n",
            "✅ Extracted features from rgb_20250719_112113_913384_instance-0.png in 20250719_112051_Saturday_chicken-111_batch-30_chicken-age-30\n",
            "✅ Extracted features from rgb_20250719_112115_853514_instance-0.png in 20250719_112051_Saturday_chicken-111_batch-30_chicken-age-30\n",
            "✅ Extracted features from rgb_20250719_112117_900155_instance-0.png in 20250719_112051_Saturday_chicken-111_batch-30_chicken-age-30\n",
            "✅ Extracted features from rgb_20250719_112121_930693_instance-0.png in 20250719_112051_Saturday_chicken-111_batch-30_chicken-age-30\n",
            "✅ Extracted features from rgb_20250719_112123_919563_instance-0.png in 20250719_112051_Saturday_chicken-111_batch-30_chicken-age-30\n",
            "✅ Extracted features from rgb_20250719_112130_605660_instance-0.png in 20250719_112051_Saturday_chicken-111_batch-30_chicken-age-30\n",
            "✅ Extracted features from rgb_20250719_112132_190310_instance-0.png in 20250719_112051_Saturday_chicken-111_batch-30_chicken-age-30\n"
          ]
        },
        {
          "output_type": "stream",
          "name": "stderr",
          "text": [
            "\rProcessing Folders:  77%|███████▋  | 102/133 [17:45<06:04, 11.77s/it]"
          ]
        },
        {
          "output_type": "stream",
          "name": "stdout",
          "text": [
            "✅ Extracted features from rgb_20250719_112133_715645_instance-0.png in 20250719_112051_Saturday_chicken-111_batch-30_chicken-age-30\n",
            "\n",
            "📂 20250719_112204_Saturday_chicken-112_batch-30_chicken-age-30 → Found 11 PNG images\n",
            "✅ Extracted features from rgb_20250719_112217_898505_instance-0.png in 20250719_112204_Saturday_chicken-112_batch-30_chicken-age-30\n",
            "✅ Extracted features from rgb_20250719_112219_409626_instance-0.png in 20250719_112204_Saturday_chicken-112_batch-30_chicken-age-30\n",
            "✅ Extracted features from rgb_20250719_112225_521720_instance-0.png in 20250719_112204_Saturday_chicken-112_batch-30_chicken-age-30\n",
            "✅ Extracted features from rgb_20250719_112226_914289_instance-0.png in 20250719_112204_Saturday_chicken-112_batch-30_chicken-age-30\n",
            "✅ Extracted features from rgb_20250719_112228_423948_instance-0.png in 20250719_112204_Saturday_chicken-112_batch-30_chicken-age-30\n",
            "✅ Extracted features from rgb_20250719_112230_343067_instance-0.png in 20250719_112204_Saturday_chicken-112_batch-30_chicken-age-30\n",
            "✅ Extracted features from rgb_20250719_112233_573079_instance-0.png in 20250719_112204_Saturday_chicken-112_batch-30_chicken-age-30\n",
            "✅ Extracted features from rgb_20250719_112235_530125_instance-0.png in 20250719_112204_Saturday_chicken-112_batch-30_chicken-age-30\n",
            "✅ Extracted features from rgb_20250719_112241_642228_instance-0.png in 20250719_112204_Saturday_chicken-112_batch-30_chicken-age-30\n",
            "✅ Extracted features from rgb_20250719_112243_153681_instance-0.png in 20250719_112204_Saturday_chicken-112_batch-30_chicken-age-30\n"
          ]
        },
        {
          "output_type": "stream",
          "name": "stderr",
          "text": [
            "\rProcessing Folders:  77%|███████▋  | 103/133 [17:55<05:37, 11.25s/it]"
          ]
        },
        {
          "output_type": "stream",
          "name": "stdout",
          "text": [
            "✅ Extracted features from rgb_20250719_112245_249334_instance-0.png in 20250719_112204_Saturday_chicken-112_batch-30_chicken-age-30\n",
            "\n",
            "📂 20250719_112309_Saturday_chicken-113_batch-30_chicken-age-30 → Found 8 PNG images\n",
            "✅ Extracted features from rgb_20250719_112319_410523_instance-0.png in 20250719_112309_Saturday_chicken-113_batch-30_chicken-age-30\n",
            "✅ Extracted features from rgb_20250719_112322_207472_instance-0.png in 20250719_112309_Saturday_chicken-113_batch-30_chicken-age-30\n",
            "✅ Extracted features from rgb_20250719_112324_257794_instance-0.png in 20250719_112309_Saturday_chicken-113_batch-30_chicken-age-30\n",
            "✅ Extracted features from rgb_20250719_112330_769392_instance-0.png in 20250719_112309_Saturday_chicken-113_batch-30_chicken-age-30\n",
            "✅ Extracted features from rgb_20250719_112333_766676_instance-0.png in 20250719_112309_Saturday_chicken-113_batch-30_chicken-age-30\n",
            "✅ Extracted features from rgb_20250719_112337_042006_instance-0.png in 20250719_112309_Saturday_chicken-113_batch-30_chicken-age-30\n",
            "✅ Extracted features from rgb_20250719_112341_347069_instance-0.png in 20250719_112309_Saturday_chicken-113_batch-30_chicken-age-30\n"
          ]
        },
        {
          "output_type": "stream",
          "name": "stderr",
          "text": [
            "\rProcessing Folders:  78%|███████▊  | 104/133 [18:03<04:50, 10.03s/it]"
          ]
        },
        {
          "output_type": "stream",
          "name": "stdout",
          "text": [
            "✅ Extracted features from rgb_20250719_112344_172710_instance-0.png in 20250719_112309_Saturday_chicken-113_batch-30_chicken-age-30\n",
            "\n",
            "📂 20250719_112422_Saturday_chicken-114_batch-30_chicken-age-30 → Found 7 PNG images\n",
            "✅ Extracted features from rgb_20250719_112440_218733_instance-0.png in 20250719_112422_Saturday_chicken-114_batch-30_chicken-age-30\n",
            "✅ Extracted features from rgb_20250719_112441_963251_instance-0.png in 20250719_112422_Saturday_chicken-114_batch-30_chicken-age-30\n",
            "✅ Extracted features from rgb_20250719_112445_552475_instance-0.png in 20250719_112422_Saturday_chicken-114_batch-30_chicken-age-30\n",
            "✅ Extracted features from rgb_20250719_112452_107410_instance-0.png in 20250719_112422_Saturday_chicken-114_batch-30_chicken-age-30\n",
            "✅ Extracted features from rgb_20250719_112455_795522_instance-0.png in 20250719_112422_Saturday_chicken-114_batch-30_chicken-age-30\n",
            "✅ Extracted features from rgb_20250719_112458_506052_instance-0.png in 20250719_112422_Saturday_chicken-114_batch-30_chicken-age-30\n"
          ]
        },
        {
          "output_type": "stream",
          "name": "stderr",
          "text": [
            "\rProcessing Folders:  79%|███████▉  | 105/133 [18:10<04:17,  9.21s/it]"
          ]
        },
        {
          "output_type": "stream",
          "name": "stdout",
          "text": [
            "✅ Extracted features from rgb_20250719_112501_806628_instance-0.png in 20250719_112422_Saturday_chicken-114_batch-30_chicken-age-30\n",
            "\n",
            "📂 20250719_112536_Saturday_chicken-115_batch-30_chicken-age-30 → Found 11 PNG images\n",
            "✅ Extracted features from rgb_20250719_112611_376530_instance-0.png in 20250719_112536_Saturday_chicken-115_batch-30_chicken-age-30\n",
            "✅ Extracted features from rgb_20250719_112612_715826_instance-0.png in 20250719_112536_Saturday_chicken-115_batch-30_chicken-age-30\n",
            "✅ Extracted features from rgb_20250719_112613_955026_instance-0.png in 20250719_112536_Saturday_chicken-115_batch-30_chicken-age-30\n",
            "✅ Extracted features from rgb_20250719_112616_042992_instance-0.png in 20250719_112536_Saturday_chicken-115_batch-30_chicken-age-30\n",
            "✅ Extracted features from rgb_20250719_112617_009979_instance-0.png in 20250719_112536_Saturday_chicken-115_batch-30_chicken-age-30\n",
            "✅ Extracted features from rgb_20250719_112618_123816_instance-0.png in 20250719_112536_Saturday_chicken-115_batch-30_chicken-age-30\n",
            "✅ Extracted features from rgb_20250719_112619_815569_instance-0.png in 20250719_112536_Saturday_chicken-115_batch-30_chicken-age-30\n",
            "✅ Extracted features from rgb_20250719_112621_533324_instance-0.png in 20250719_112536_Saturday_chicken-115_batch-30_chicken-age-30\n",
            "✅ Extracted features from rgb_20250719_112623_102669_instance-0.png in 20250719_112536_Saturday_chicken-115_batch-30_chicken-age-30\n",
            "✅ Extracted features from rgb_20250719_112624_516646_instance-0.png in 20250719_112536_Saturday_chicken-115_batch-30_chicken-age-30\n"
          ]
        },
        {
          "output_type": "stream",
          "name": "stderr",
          "text": [
            "\rProcessing Folders:  80%|███████▉  | 106/133 [18:20<04:17,  9.55s/it]"
          ]
        },
        {
          "output_type": "stream",
          "name": "stdout",
          "text": [
            "✅ Extracted features from rgb_20250719_112626_897494_instance-0.png in 20250719_112536_Saturday_chicken-115_batch-30_chicken-age-30\n",
            "\n",
            "📂 20250719_112655_Saturday_chicken-116_batch-30_chicken-age-30 → Found 12 PNG images\n",
            "✅ Extracted features from rgb_20250719_112709_788728_instance-0.png in 20250719_112655_Saturday_chicken-116_batch-30_chicken-age-30\n",
            "✅ Extracted features from rgb_20250719_112711_230408_instance-0.png in 20250719_112655_Saturday_chicken-116_batch-30_chicken-age-30\n",
            "✅ Extracted features from rgb_20250719_112713_159864_instance-0.png in 20250719_112655_Saturday_chicken-116_batch-30_chicken-age-30\n",
            "✅ Extracted features from rgb_20250719_112716_742530_instance-0.png in 20250719_112655_Saturday_chicken-116_batch-30_chicken-age-30\n",
            "✅ Extracted features from rgb_20250719_112718_207539_instance-0.png in 20250719_112655_Saturday_chicken-116_batch-30_chicken-age-30\n",
            "✅ Extracted features from rgb_20250719_112719_508974_instance-0.png in 20250719_112655_Saturday_chicken-116_batch-30_chicken-age-30\n",
            "✅ Extracted features from rgb_20250719_112725_479726_instance-0.png in 20250719_112655_Saturday_chicken-116_batch-30_chicken-age-30\n",
            "✅ Extracted features from rgb_20250719_112727_012814_instance-0.png in 20250719_112655_Saturday_chicken-116_batch-30_chicken-age-30\n",
            "✅ Extracted features from rgb_20250719_112731_509514_instance-0.png in 20250719_112655_Saturday_chicken-116_batch-30_chicken-age-30\n",
            "✅ Extracted features from rgb_20250719_112738_134148_instance-0.png in 20250719_112655_Saturday_chicken-116_batch-30_chicken-age-30\n",
            "✅ Extracted features from rgb_20250719_112739_548276_instance-0.png in 20250719_112655_Saturday_chicken-116_batch-30_chicken-age-30\n"
          ]
        },
        {
          "output_type": "stream",
          "name": "stderr",
          "text": [
            "\rProcessing Folders:  80%|████████  | 107/133 [18:31<04:21, 10.07s/it]"
          ]
        },
        {
          "output_type": "stream",
          "name": "stdout",
          "text": [
            "✅ Extracted features from rgb_20250719_112743_546864_instance-0.png in 20250719_112655_Saturday_chicken-116_batch-30_chicken-age-30\n",
            "\n",
            "📂 20250719_112753_Saturday_chicken-117_batch-30_chicken-age-30 → Found 11 PNG images\n",
            "✅ Extracted features from rgb_20250719_112827_539615_instance-0.png in 20250719_112753_Saturday_chicken-117_batch-30_chicken-age-30\n",
            "✅ Extracted features from rgb_20250719_112830_249937_instance-0.png in 20250719_112753_Saturday_chicken-117_batch-30_chicken-age-30\n",
            "✅ Extracted features from rgb_20250719_112832_466777_instance-0.png in 20250719_112753_Saturday_chicken-117_batch-30_chicken-age-30\n",
            "✅ Extracted features from rgb_20250719_112834_515174_instance-0.png in 20250719_112753_Saturday_chicken-117_batch-30_chicken-age-30\n",
            "✅ Extracted features from rgb_20250719_112836_534664_instance-0.png in 20250719_112753_Saturday_chicken-117_batch-30_chicken-age-30\n",
            "✅ Extracted features from rgb_20250719_112838_629784_instance-0.png in 20250719_112753_Saturday_chicken-117_batch-30_chicken-age-30\n",
            "✅ Extracted features from rgb_20250719_112840_355221_instance-0.png in 20250719_112753_Saturday_chicken-117_batch-30_chicken-age-30\n",
            "✅ Extracted features from rgb_20250719_112843_198727_instance-0.png in 20250719_112753_Saturday_chicken-117_batch-30_chicken-age-30\n",
            "✅ Extracted features from rgb_20250719_112846_440798_instance-0.png in 20250719_112753_Saturday_chicken-117_batch-30_chicken-age-30\n",
            "✅ Extracted features from rgb_20250719_112854_641564_instance-0.png in 20250719_112753_Saturday_chicken-117_batch-30_chicken-age-30\n"
          ]
        },
        {
          "output_type": "stream",
          "name": "stderr",
          "text": [
            "\rProcessing Folders:  81%|████████  | 108/133 [18:41<04:11, 10.07s/it]"
          ]
        },
        {
          "output_type": "stream",
          "name": "stdout",
          "text": [
            "✅ Extracted features from rgb_20250719_112856_432171_instance-0.png in 20250719_112753_Saturday_chicken-117_batch-30_chicken-age-30\n",
            "\n",
            "📂 20250719_112928_Saturday_chicken-118_batch-30_chicken-age-30 → Found 1 PNG images\n"
          ]
        },
        {
          "output_type": "stream",
          "name": "stderr",
          "text": [
            "\rProcessing Folders:  82%|████████▏ | 109/133 [18:42<02:56,  7.34s/it]"
          ]
        },
        {
          "output_type": "stream",
          "name": "stdout",
          "text": [
            "✅ Extracted features from rgb_20250719_112953_858083_instance-0.png in 20250719_112928_Saturday_chicken-118_batch-30_chicken-age-30\n",
            "\n",
            "📂 20250719_113043_Saturday_chicken-119_batch-30_chicken-age-30 → Found 13 PNG images\n",
            "✅ Extracted features from rgb_20250719_113054_619629_instance-0.png in 20250719_113043_Saturday_chicken-119_batch-30_chicken-age-30\n",
            "✅ Extracted features from rgb_20250719_113056_296956_instance-0.png in 20250719_113043_Saturday_chicken-119_batch-30_chicken-age-30\n",
            "✅ Extracted features from rgb_20250719_113059_305640_instance-0.png in 20250719_113043_Saturday_chicken-119_batch-30_chicken-age-30\n",
            "✅ Extracted features from rgb_20250719_113100_833671_instance-0.png in 20250719_113043_Saturday_chicken-119_batch-30_chicken-age-30\n",
            "✅ Extracted features from rgb_20250719_113102_287241_instance-0.png in 20250719_113043_Saturday_chicken-119_batch-30_chicken-age-30\n",
            "✅ Extracted features from rgb_20250719_113104_076449_instance-0.png in 20250719_113043_Saturday_chicken-119_batch-30_chicken-age-30\n",
            "✅ Extracted features from rgb_20250719_113105_457641_instance-0.png in 20250719_113043_Saturday_chicken-119_batch-30_chicken-age-30\n",
            "✅ Extracted features from rgb_20250719_113106_818913_instance-0.png in 20250719_113043_Saturday_chicken-119_batch-30_chicken-age-30\n",
            "✅ Extracted features from rgb_20250719_113108_256220_instance-0.png in 20250719_113043_Saturday_chicken-119_batch-30_chicken-age-30\n",
            "✅ Extracted features from rgb_20250719_113109_737750_instance-0.png in 20250719_113043_Saturday_chicken-119_batch-30_chicken-age-30\n",
            "✅ Extracted features from rgb_20250719_113112_560925_instance-0.png in 20250719_113043_Saturday_chicken-119_batch-30_chicken-age-30\n",
            "✅ Extracted features from rgb_20250719_113115_739354_instance-0.png in 20250719_113043_Saturday_chicken-119_batch-30_chicken-age-30\n"
          ]
        },
        {
          "output_type": "stream",
          "name": "stderr",
          "text": [
            "\rProcessing Folders:  83%|████████▎ | 110/133 [18:55<03:23,  8.85s/it]"
          ]
        },
        {
          "output_type": "stream",
          "name": "stdout",
          "text": [
            "✅ Extracted features from rgb_20250719_113117_181390_instance-0.png in 20250719_113043_Saturday_chicken-119_batch-30_chicken-age-30\n",
            "\n",
            "📂 20250719_113140_Saturday_chicken-120_batch-30_chicken-age-30 → Found 5 PNG images\n",
            "✅ Extracted features from rgb_20250719_113154_489081_instance-0.png in 20250719_113140_Saturday_chicken-120_batch-30_chicken-age-30\n",
            "✅ Extracted features from rgb_20250719_113155_798630_instance-0.png in 20250719_113140_Saturday_chicken-120_batch-30_chicken-age-30\n",
            "✅ Extracted features from rgb_20250719_113157_340863_instance-0.png in 20250719_113140_Saturday_chicken-120_batch-30_chicken-age-30\n",
            "✅ Extracted features from rgb_20250719_113206_627884_instance-0.png in 20250719_113140_Saturday_chicken-120_batch-30_chicken-age-30\n"
          ]
        },
        {
          "output_type": "stream",
          "name": "stderr",
          "text": [
            "\rProcessing Folders:  83%|████████▎ | 111/133 [18:59<02:46,  7.55s/it]"
          ]
        },
        {
          "output_type": "stream",
          "name": "stdout",
          "text": [
            "✅ Extracted features from rgb_20250719_113217_886367_instance-0.png in 20250719_113140_Saturday_chicken-120_batch-30_chicken-age-30\n",
            "\n",
            "📂 20250719_113251_Saturday_chicken-121_batch-30_chicken-age-30 → Found 19 PNG images\n",
            "✅ Extracted features from rgb_20250719_113303_323941_instance-0.png in 20250719_113251_Saturday_chicken-121_batch-30_chicken-age-30\n",
            "✅ Extracted features from rgb_20250719_113304_839746_instance-0.png in 20250719_113251_Saturday_chicken-121_batch-30_chicken-age-30\n",
            "✅ Extracted features from rgb_20250719_113304_839746_instance-1.png in 20250719_113251_Saturday_chicken-121_batch-30_chicken-age-30\n",
            "✅ Extracted features from rgb_20250719_113306_419496_instance-0.png in 20250719_113251_Saturday_chicken-121_batch-30_chicken-age-30\n",
            "✅ Extracted features from rgb_20250719_113307_861700_instance-0.png in 20250719_113251_Saturday_chicken-121_batch-30_chicken-age-30\n",
            "✅ Extracted features from rgb_20250719_113309_494168_instance-0.png in 20250719_113251_Saturday_chicken-121_batch-30_chicken-age-30\n",
            "✅ Extracted features from rgb_20250719_113311_103687_instance-0.png in 20250719_113251_Saturday_chicken-121_batch-30_chicken-age-30\n",
            "✅ Extracted features from rgb_20250719_113312_651774_instance-0.png in 20250719_113251_Saturday_chicken-121_batch-30_chicken-age-30\n",
            "✅ Extracted features from rgb_20250719_113314_177588_instance-0.png in 20250719_113251_Saturday_chicken-121_batch-30_chicken-age-30\n",
            "✅ Extracted features from rgb_20250719_113315_668355_instance-0.png in 20250719_113251_Saturday_chicken-121_batch-30_chicken-age-30\n",
            "✅ Extracted features from rgb_20250719_113317_334218_instance-0.png in 20250719_113251_Saturday_chicken-121_batch-30_chicken-age-30\n",
            "✅ Extracted features from rgb_20250719_113320_439871_instance-0.png in 20250719_113251_Saturday_chicken-121_batch-30_chicken-age-30\n",
            "✅ Extracted features from rgb_20250719_113321_921780_instance-0.png in 20250719_113251_Saturday_chicken-121_batch-30_chicken-age-30\n",
            "✅ Extracted features from rgb_20250719_113323_373084_instance-0.png in 20250719_113251_Saturday_chicken-121_batch-30_chicken-age-30\n",
            "✅ Extracted features from rgb_20250719_113324_861705_instance-0.png in 20250719_113251_Saturday_chicken-121_batch-30_chicken-age-30\n",
            "✅ Extracted features from rgb_20250719_113326_331016_instance-0.png in 20250719_113251_Saturday_chicken-121_batch-30_chicken-age-30\n",
            "✅ Extracted features from rgb_20250719_113328_022129_instance-0.png in 20250719_113251_Saturday_chicken-121_batch-30_chicken-age-30\n",
            "✅ Extracted features from rgb_20250719_113334_312805_instance-0.png in 20250719_113251_Saturday_chicken-121_batch-30_chicken-age-30\n"
          ]
        },
        {
          "output_type": "stream",
          "name": "stderr",
          "text": [
            "\rProcessing Folders:  84%|████████▍ | 112/133 [19:18<03:47, 10.82s/it]"
          ]
        },
        {
          "output_type": "stream",
          "name": "stdout",
          "text": [
            "✅ Extracted features from rgb_20250719_113337_664221_instance-0.png in 20250719_113251_Saturday_chicken-121_batch-30_chicken-age-30\n",
            "\n",
            "📂 20250719_113354_Saturday_chicken-122_batch-30_chicken-age-30 → Found 14 PNG images\n",
            "✅ Extracted features from rgb_20250719_113406_713704_instance-0.png in 20250719_113354_Saturday_chicken-122_batch-30_chicken-age-30\n",
            "✅ Extracted features from rgb_20250719_113406_713704_instance-1.png in 20250719_113354_Saturday_chicken-122_batch-30_chicken-age-30\n",
            "✅ Extracted features from rgb_20250719_113408_883306_instance-0.png in 20250719_113354_Saturday_chicken-122_batch-30_chicken-age-30\n",
            "✅ Extracted features from rgb_20250719_113410_536038_instance-0.png in 20250719_113354_Saturday_chicken-122_batch-30_chicken-age-30\n",
            "✅ Extracted features from rgb_20250719_113412_227815_instance-0.png in 20250719_113354_Saturday_chicken-122_batch-30_chicken-age-30\n",
            "✅ Extracted features from rgb_20250719_113413_882044_instance-0.png in 20250719_113354_Saturday_chicken-122_batch-30_chicken-age-30\n",
            "✅ Extracted features from rgb_20250719_113415_586757_instance-0.png in 20250719_113354_Saturday_chicken-122_batch-30_chicken-age-30\n",
            "✅ Extracted features from rgb_20250719_113417_563373_instance-0.png in 20250719_113354_Saturday_chicken-122_batch-30_chicken-age-30\n",
            "✅ Extracted features from rgb_20250719_113419_326267_instance-0.png in 20250719_113354_Saturday_chicken-122_batch-30_chicken-age-30\n",
            "✅ Extracted features from rgb_20250719_113421_716069_instance-0.png in 20250719_113354_Saturday_chicken-122_batch-30_chicken-age-30\n",
            "✅ Extracted features from rgb_20250719_113425_256908_instance-0.png in 20250719_113354_Saturday_chicken-122_batch-30_chicken-age-30\n",
            "✅ Extracted features from rgb_20250719_113426_970119_instance-0.png in 20250719_113354_Saturday_chicken-122_batch-30_chicken-age-30\n",
            "✅ Extracted features from rgb_20250719_113428_807354_instance-0.png in 20250719_113354_Saturday_chicken-122_batch-30_chicken-age-30\n"
          ]
        },
        {
          "output_type": "stream",
          "name": "stderr",
          "text": [
            "\rProcessing Folders:  85%|████████▍ | 113/133 [19:31<03:47, 11.40s/it]"
          ]
        },
        {
          "output_type": "stream",
          "name": "stdout",
          "text": [
            "✅ Extracted features from rgb_20250719_113432_818203_instance-0.png in 20250719_113354_Saturday_chicken-122_batch-30_chicken-age-30\n",
            "\n",
            "📂 20250719_113453_Saturday_chicken-123_batch-30_chicken-age-30 → Found 14 PNG images\n",
            "✅ Extracted features from rgb_20250719_113507_811477_instance-0.png in 20250719_113453_Saturday_chicken-123_batch-30_chicken-age-30\n",
            "✅ Extracted features from rgb_20250719_113510_224917_instance-0.png in 20250719_113453_Saturday_chicken-123_batch-30_chicken-age-30\n",
            "✅ Extracted features from rgb_20250719_113512_628386_instance-0.png in 20250719_113453_Saturday_chicken-123_batch-30_chicken-age-30\n",
            "✅ Extracted features from rgb_20250719_113535_589091_instance-0.png in 20250719_113453_Saturday_chicken-123_batch-30_chicken-age-30\n",
            "✅ Extracted features from rgb_20250719_113537_020567_instance-0.png in 20250719_113453_Saturday_chicken-123_batch-30_chicken-age-30\n",
            "✅ Extracted features from rgb_20250719_113538_661059_instance-0.png in 20250719_113453_Saturday_chicken-123_batch-30_chicken-age-30\n",
            "✅ Extracted features from rgb_20250719_113541_762094_instance-0.png in 20250719_113453_Saturday_chicken-123_batch-30_chicken-age-30\n",
            "✅ Extracted features from rgb_20250719_113543_202946_instance-0.png in 20250719_113453_Saturday_chicken-123_batch-30_chicken-age-30\n",
            "✅ Extracted features from rgb_20250719_113546_765468_instance-0.png in 20250719_113453_Saturday_chicken-123_batch-30_chicken-age-30\n",
            "✅ Extracted features from rgb_20250719_113548_178756_instance-0.png in 20250719_113453_Saturday_chicken-123_batch-30_chicken-age-30\n",
            "✅ Extracted features from rgb_20250719_113549_470007_instance-0.png in 20250719_113453_Saturday_chicken-123_batch-30_chicken-age-30\n",
            "✅ Extracted features from rgb_20250719_113550_831956_instance-0.png in 20250719_113453_Saturday_chicken-123_batch-30_chicken-age-30\n",
            "✅ Extracted features from rgb_20250719_113551_847802_instance-0.png in 20250719_113453_Saturday_chicken-123_batch-30_chicken-age-30\n"
          ]
        },
        {
          "output_type": "stream",
          "name": "stderr",
          "text": [
            "\rProcessing Folders:  86%|████████▌ | 114/133 [19:44<03:46, 11.90s/it]"
          ]
        },
        {
          "output_type": "stream",
          "name": "stdout",
          "text": [
            "✅ Extracted features from rgb_20250719_113552_840375_instance-0.png in 20250719_113453_Saturday_chicken-123_batch-30_chicken-age-30\n",
            "\n",
            "📂 20250719_113609_Saturday_chicken-124_batch-30_chicken-age-30 → Found 19 PNG images\n",
            "✅ Extracted features from rgb_20250719_113619_157336_instance-0.png in 20250719_113609_Saturday_chicken-124_batch-30_chicken-age-30\n",
            "✅ Extracted features from rgb_20250719_113623_810271_instance-0.png in 20250719_113609_Saturday_chicken-124_batch-30_chicken-age-30\n",
            "✅ Extracted features from rgb_20250719_113630_140952_instance-0.png in 20250719_113609_Saturday_chicken-124_batch-30_chicken-age-30\n",
            "✅ Extracted features from rgb_20250719_113632_459848_instance-0.png in 20250719_113609_Saturday_chicken-124_batch-30_chicken-age-30\n",
            "✅ Extracted features from rgb_20250719_113639_996137_instance-0.png in 20250719_113609_Saturday_chicken-124_batch-30_chicken-age-30\n",
            "✅ Extracted features from rgb_20250719_113641_965200_instance-0.png in 20250719_113609_Saturday_chicken-124_batch-30_chicken-age-30\n",
            "✅ Extracted features from rgb_20250719_113643_198235_instance-0.png in 20250719_113609_Saturday_chicken-124_batch-30_chicken-age-30\n",
            "✅ Extracted features from rgb_20250719_113644_560043_instance-0.png in 20250719_113609_Saturday_chicken-124_batch-30_chicken-age-30\n",
            "✅ Extracted features from rgb_20250719_113651_525507_instance-0.png in 20250719_113609_Saturday_chicken-124_batch-30_chicken-age-30\n",
            "✅ Extracted features from rgb_20250719_113700_816908_instance-0.png in 20250719_113609_Saturday_chicken-124_batch-30_chicken-age-30\n",
            "✅ Extracted features from rgb_20250719_113702_217370_instance-0.png in 20250719_113609_Saturday_chicken-124_batch-30_chicken-age-30\n",
            "✅ Extracted features from rgb_20250719_113703_589820_instance-0.png in 20250719_113609_Saturday_chicken-124_batch-30_chicken-age-30\n",
            "✅ Extracted features from rgb_20250719_113704_927513_instance-0.png in 20250719_113609_Saturday_chicken-124_batch-30_chicken-age-30\n",
            "✅ Extracted features from rgb_20250719_113706_639523_instance-0.png in 20250719_113609_Saturday_chicken-124_batch-30_chicken-age-30\n",
            "✅ Extracted features from rgb_20250719_113707_962196_instance-0.png in 20250719_113609_Saturday_chicken-124_batch-30_chicken-age-30\n",
            "✅ Extracted features from rgb_20250719_113710_574576_instance-0.png in 20250719_113609_Saturday_chicken-124_batch-30_chicken-age-30\n",
            "✅ Extracted features from rgb_20250719_113712_274770_instance-0.png in 20250719_113609_Saturday_chicken-124_batch-30_chicken-age-30\n",
            "✅ Extracted features from rgb_20250719_113713_673957_instance-0.png in 20250719_113609_Saturday_chicken-124_batch-30_chicken-age-30\n"
          ]
        },
        {
          "output_type": "stream",
          "name": "stderr",
          "text": [
            "\rProcessing Folders:  86%|████████▋ | 115/133 [20:02<04:06, 13.69s/it]"
          ]
        },
        {
          "output_type": "stream",
          "name": "stdout",
          "text": [
            "✅ Extracted features from rgb_20250719_113714_860365_instance-0.png in 20250719_113609_Saturday_chicken-124_batch-30_chicken-age-30\n",
            "\n",
            "📂 20250719_113740_Saturday_chicken-125_batch-30_chicken-age-30 → Found 7 PNG images\n",
            "✅ Extracted features from rgb_20250719_113750_341631_instance-0.png in 20250719_113740_Saturday_chicken-125_batch-30_chicken-age-30\n",
            "✅ Extracted features from rgb_20250719_113751_867218_instance-0.png in 20250719_113740_Saturday_chicken-125_batch-30_chicken-age-30\n",
            "✅ Extracted features from rgb_20250719_113753_259864_instance-0.png in 20250719_113740_Saturday_chicken-125_batch-30_chicken-age-30\n",
            "✅ Extracted features from rgb_20250719_113754_680894_instance-0.png in 20250719_113740_Saturday_chicken-125_batch-30_chicken-age-30\n",
            "✅ Extracted features from rgb_20250719_113756_216007_instance-0.png in 20250719_113740_Saturday_chicken-125_batch-30_chicken-age-30\n",
            "✅ Extracted features from rgb_20250719_113827_565092_instance-0.png in 20250719_113740_Saturday_chicken-125_batch-30_chicken-age-30\n"
          ]
        },
        {
          "output_type": "stream",
          "name": "stderr",
          "text": [
            "\rProcessing Folders:  87%|████████▋ | 116/133 [20:08<03:16, 11.59s/it]"
          ]
        },
        {
          "output_type": "stream",
          "name": "stdout",
          "text": [
            "✅ Extracted features from rgb_20250719_113829_137226_instance-0.png in 20250719_113740_Saturday_chicken-125_batch-30_chicken-age-30\n",
            "\n",
            "📂 20250719_113841_Saturday_chicken-126_batch-30_chicken-age-30 → Found 18 PNG images\n",
            "✅ Extracted features from rgb_20250719_113851_921503_instance-0.png in 20250719_113841_Saturday_chicken-126_batch-30_chicken-age-30\n",
            "✅ Extracted features from rgb_20250719_113851_921503_instance-1.png in 20250719_113841_Saturday_chicken-126_batch-30_chicken-age-30\n",
            "✅ Extracted features from rgb_20250719_113853_797050_instance-0.png in 20250719_113841_Saturday_chicken-126_batch-30_chicken-age-30\n",
            "✅ Extracted features from rgb_20250719_113855_095688_instance-0.png in 20250719_113841_Saturday_chicken-126_batch-30_chicken-age-30\n",
            "✅ Extracted features from rgb_20250719_113856_599513_instance-0.png in 20250719_113841_Saturday_chicken-126_batch-30_chicken-age-30\n",
            "✅ Extracted features from rgb_20250719_113900_398912_instance-0.png in 20250719_113841_Saturday_chicken-126_batch-30_chicken-age-30\n",
            "✅ Extracted features from rgb_20250719_113903_387640_instance-0.png in 20250719_113841_Saturday_chicken-126_batch-30_chicken-age-30\n",
            "✅ Extracted features from rgb_20250719_113904_995063_instance-0.png in 20250719_113841_Saturday_chicken-126_batch-30_chicken-age-30\n",
            "✅ Extracted features from rgb_20250719_113910_152285_instance-0.png in 20250719_113841_Saturday_chicken-126_batch-30_chicken-age-30\n",
            "✅ Extracted features from rgb_20250719_113911_640922_instance-0.png in 20250719_113841_Saturday_chicken-126_batch-30_chicken-age-30\n",
            "✅ Extracted features from rgb_20250719_113914_427351_instance-0.png in 20250719_113841_Saturday_chicken-126_batch-30_chicken-age-30\n",
            "✅ Extracted features from rgb_20250719_113916_290690_instance-0.png in 20250719_113841_Saturday_chicken-126_batch-30_chicken-age-30\n",
            "✅ Extracted features from rgb_20250719_113917_706615_instance-0.png in 20250719_113841_Saturday_chicken-126_batch-30_chicken-age-30\n",
            "✅ Extracted features from rgb_20250719_113919_049471_instance-0.png in 20250719_113841_Saturday_chicken-126_batch-30_chicken-age-30\n",
            "✅ Extracted features from rgb_20250719_113920_321412_instance-0.png in 20250719_113841_Saturday_chicken-126_batch-30_chicken-age-30\n",
            "✅ Extracted features from rgb_20250719_113920_321412_instance-1.png in 20250719_113841_Saturday_chicken-126_batch-30_chicken-age-30\n",
            "✅ Extracted features from rgb_20250719_113921_866675_instance-0.png in 20250719_113841_Saturday_chicken-126_batch-30_chicken-age-30\n"
          ]
        },
        {
          "output_type": "stream",
          "name": "stderr",
          "text": [
            "\rProcessing Folders:  88%|████████▊ | 117/133 [20:26<03:33, 13.37s/it]"
          ]
        },
        {
          "output_type": "stream",
          "name": "stdout",
          "text": [
            "✅ Extracted features from rgb_20250719_113921_866675_instance-1.png in 20250719_113841_Saturday_chicken-126_batch-30_chicken-age-30\n",
            "\n",
            "📂 20250721_113012_Monday_chicken-127_batch-32_chicken-age-32 → Found 12 PNG images\n",
            "✅ Extracted features from rgb_20250721_113030_062626_instance-0.png in 20250721_113012_Monday_chicken-127_batch-32_chicken-age-32\n",
            "✅ Extracted features from rgb_20250721_113031_663290_instance-0.png in 20250721_113012_Monday_chicken-127_batch-32_chicken-age-32\n",
            "✅ Extracted features from rgb_20250721_113033_380519_instance-0.png in 20250721_113012_Monday_chicken-127_batch-32_chicken-age-32\n",
            "✅ Extracted features from rgb_20250721_113035_048700_instance-0.png in 20250721_113012_Monday_chicken-127_batch-32_chicken-age-32\n",
            "✅ Extracted features from rgb_20250721_113036_745459_instance-0.png in 20250721_113012_Monday_chicken-127_batch-32_chicken-age-32\n",
            "✅ Extracted features from rgb_20250721_113038_882125_instance-0.png in 20250721_113012_Monday_chicken-127_batch-32_chicken-age-32\n",
            "✅ Extracted features from rgb_20250721_113041_048107_instance-0.png in 20250721_113012_Monday_chicken-127_batch-32_chicken-age-32\n",
            "✅ Extracted features from rgb_20250721_113043_456014_instance-0.png in 20250721_113012_Monday_chicken-127_batch-32_chicken-age-32\n",
            "✅ Extracted features from rgb_20250721_113054_589120_instance-0.png in 20250721_113012_Monday_chicken-127_batch-32_chicken-age-32\n",
            "✅ Extracted features from rgb_20250721_113056_576392_instance-0.png in 20250721_113012_Monday_chicken-127_batch-32_chicken-age-32\n",
            "✅ Extracted features from rgb_20250721_113058_845450_instance-0.png in 20250721_113012_Monday_chicken-127_batch-32_chicken-age-32\n"
          ]
        },
        {
          "output_type": "stream",
          "name": "stderr",
          "text": [
            "\rProcessing Folders:  89%|████████▊ | 118/133 [20:37<03:09, 12.67s/it]"
          ]
        },
        {
          "output_type": "stream",
          "name": "stdout",
          "text": [
            "✅ Extracted features from rgb_20250721_113100_514014_instance-0.png in 20250721_113012_Monday_chicken-127_batch-32_chicken-age-32\n",
            "\n",
            "📂 20250721_113131_Monday_chicken-128_batch-32_chicken-age-32 → Found 11 PNG images\n",
            "✅ Extracted features from rgb_20250721_113134_933016_instance-0.png in 20250721_113131_Monday_chicken-128_batch-32_chicken-age-32\n",
            "✅ Extracted features from rgb_20250721_113136_052957_instance-0.png in 20250721_113131_Monday_chicken-128_batch-32_chicken-age-32\n",
            "✅ Extracted features from rgb_20250721_113137_357941_instance-0.png in 20250721_113131_Monday_chicken-128_batch-32_chicken-age-32\n",
            "✅ Extracted features from rgb_20250721_113138_753447_instance-0.png in 20250721_113131_Monday_chicken-128_batch-32_chicken-age-32\n",
            "✅ Extracted features from rgb_20250721_113140_140463_instance-0.png in 20250721_113131_Monday_chicken-128_batch-32_chicken-age-32\n",
            "✅ Extracted features from rgb_20250721_113141_207479_instance-0.png in 20250721_113131_Monday_chicken-128_batch-32_chicken-age-32\n",
            "✅ Extracted features from rgb_20250721_113142_343705_instance-0.png in 20250721_113131_Monday_chicken-128_batch-32_chicken-age-32\n",
            "✅ Extracted features from rgb_20250721_113143_251112_instance-0.png in 20250721_113131_Monday_chicken-128_batch-32_chicken-age-32\n",
            "✅ Extracted features from rgb_20250721_113144_339305_instance-0.png in 20250721_113131_Monday_chicken-128_batch-32_chicken-age-32\n",
            "✅ Extracted features from rgb_20250721_113145_721217_instance-0.png in 20250721_113131_Monday_chicken-128_batch-32_chicken-age-32\n"
          ]
        },
        {
          "output_type": "stream",
          "name": "stderr",
          "text": [
            "\rProcessing Folders:  89%|████████▉ | 119/133 [20:47<02:45, 11.82s/it]"
          ]
        },
        {
          "output_type": "stream",
          "name": "stdout",
          "text": [
            "✅ Extracted features from rgb_20250721_113147_864362_instance-0.png in 20250721_113131_Monday_chicken-128_batch-32_chicken-age-32\n",
            "\n",
            "📂 20250721_113210_Monday_chicken-129_batch-32_chicken-age-32 → Found 16 PNG images\n",
            "✅ Extracted features from rgb_20250721_113234_711672_instance-0.png in 20250721_113210_Monday_chicken-129_batch-32_chicken-age-32\n",
            "✅ Extracted features from rgb_20250721_113235_783771_instance-0.png in 20250721_113210_Monday_chicken-129_batch-32_chicken-age-32\n",
            "✅ Extracted features from rgb_20250721_113237_032050_instance-0.png in 20250721_113210_Monday_chicken-129_batch-32_chicken-age-32\n",
            "✅ Extracted features from rgb_20250721_113238_740725_instance-0.png in 20250721_113210_Monday_chicken-129_batch-32_chicken-age-32\n",
            "✅ Extracted features from rgb_20250721_113240_252743_instance-0.png in 20250721_113210_Monday_chicken-129_batch-32_chicken-age-32\n",
            "✅ Extracted features from rgb_20250721_113242_392735_instance-0.png in 20250721_113210_Monday_chicken-129_batch-32_chicken-age-32\n",
            "✅ Extracted features from rgb_20250721_113244_496504_instance-0.png in 20250721_113210_Monday_chicken-129_batch-32_chicken-age-32\n",
            "✅ Extracted features from rgb_20250721_113245_875005_instance-0.png in 20250721_113210_Monday_chicken-129_batch-32_chicken-age-32\n",
            "✅ Extracted features from rgb_20250721_113247_468932_instance-0.png in 20250721_113210_Monday_chicken-129_batch-32_chicken-age-32\n",
            "✅ Extracted features from rgb_20250721_113249_427297_instance-0.png in 20250721_113210_Monday_chicken-129_batch-32_chicken-age-32\n",
            "✅ Extracted features from rgb_20250721_113251_369980_instance-0.png in 20250721_113210_Monday_chicken-129_batch-32_chicken-age-32\n",
            "✅ Extracted features from rgb_20250721_113253_368910_instance-0.png in 20250721_113210_Monday_chicken-129_batch-32_chicken-age-32\n",
            "✅ Extracted features from rgb_20250721_113255_337167_instance-0.png in 20250721_113210_Monday_chicken-129_batch-32_chicken-age-32\n",
            "✅ Extracted features from rgb_20250721_113300_628349_instance-0.png in 20250721_113210_Monday_chicken-129_batch-32_chicken-age-32\n",
            "✅ Extracted features from rgb_20250721_113302_109315_instance-0.png in 20250721_113210_Monday_chicken-129_batch-32_chicken-age-32\n"
          ]
        },
        {
          "output_type": "stream",
          "name": "stderr",
          "text": [
            "\rProcessing Folders:  90%|█████████ | 120/133 [21:02<02:47, 12.88s/it]"
          ]
        },
        {
          "output_type": "stream",
          "name": "stdout",
          "text": [
            "✅ Extracted features from rgb_20250721_113303_542007_instance-0.png in 20250721_113210_Monday_chicken-129_batch-32_chicken-age-32\n",
            "\n",
            "📂 20250721_113330_Monday_chicken-130_batch-32_chicken-age-32 → Found 12 PNG images\n",
            "✅ Extracted features from rgb_20250721_113337_384653_instance-0.png in 20250721_113330_Monday_chicken-130_batch-32_chicken-age-32\n",
            "✅ Extracted features from rgb_20250721_113339_828001_instance-0.png in 20250721_113330_Monday_chicken-130_batch-32_chicken-age-32\n",
            "✅ Extracted features from rgb_20250721_113341_438359_instance-0.png in 20250721_113330_Monday_chicken-130_batch-32_chicken-age-32\n",
            "✅ Extracted features from rgb_20250721_113342_846200_instance-0.png in 20250721_113330_Monday_chicken-130_batch-32_chicken-age-32\n",
            "✅ Extracted features from rgb_20250721_113344_192547_instance-0.png in 20250721_113330_Monday_chicken-130_batch-32_chicken-age-32\n",
            "✅ Extracted features from rgb_20250721_113359_366482_instance-0.png in 20250721_113330_Monday_chicken-130_batch-32_chicken-age-32\n",
            "✅ Extracted features from rgb_20250721_113400_581530_instance-0.png in 20250721_113330_Monday_chicken-130_batch-32_chicken-age-32\n",
            "✅ Extracted features from rgb_20250721_113401_733448_instance-0.png in 20250721_113330_Monday_chicken-130_batch-32_chicken-age-32\n",
            "✅ Extracted features from rgb_20250721_113403_225822_instance-0.png in 20250721_113330_Monday_chicken-130_batch-32_chicken-age-32\n",
            "✅ Extracted features from rgb_20250721_113404_421979_instance-0.png in 20250721_113330_Monday_chicken-130_batch-32_chicken-age-32\n",
            "✅ Extracted features from rgb_20250721_113405_755256_instance-0.png in 20250721_113330_Monday_chicken-130_batch-32_chicken-age-32\n"
          ]
        },
        {
          "output_type": "stream",
          "name": "stderr",
          "text": [
            "\rProcessing Folders:  91%|█████████ | 121/133 [21:13<02:28, 12.40s/it]"
          ]
        },
        {
          "output_type": "stream",
          "name": "stdout",
          "text": [
            "✅ Extracted features from rgb_20250721_113408_853625_instance-0.png in 20250721_113330_Monday_chicken-130_batch-32_chicken-age-32\n",
            "\n",
            "📂 20250721_113438_Monday_chicken-131_batch-32_chicken-age-32 → Found 8 PNG images\n",
            "✅ Extracted features from rgb_20250721_113452_325199_instance-0.png in 20250721_113438_Monday_chicken-131_batch-32_chicken-age-32\n",
            "✅ Extracted features from rgb_20250721_113453_587670_instance-0.png in 20250721_113438_Monday_chicken-131_batch-32_chicken-age-32\n",
            "✅ Extracted features from rgb_20250721_113454_938876_instance-0.png in 20250721_113438_Monday_chicken-131_batch-32_chicken-age-32\n",
            "✅ Extracted features from rgb_20250721_113457_040262_instance-0.png in 20250721_113438_Monday_chicken-131_batch-32_chicken-age-32\n",
            "✅ Extracted features from rgb_20250721_113500_461391_instance-0.png in 20250721_113438_Monday_chicken-131_batch-32_chicken-age-32\n",
            "✅ Extracted features from rgb_20250721_113504_507531_instance-0.png in 20250721_113438_Monday_chicken-131_batch-32_chicken-age-32\n",
            "✅ Extracted features from rgb_20250721_113506_422722_instance-0.png in 20250721_113438_Monday_chicken-131_batch-32_chicken-age-32\n"
          ]
        },
        {
          "output_type": "stream",
          "name": "stderr",
          "text": [
            "\rProcessing Folders:  92%|█████████▏| 122/133 [21:21<02:00, 10.96s/it]"
          ]
        },
        {
          "output_type": "stream",
          "name": "stdout",
          "text": [
            "✅ Extracted features from rgb_20250721_113508_085891_instance-0.png in 20250721_113438_Monday_chicken-131_batch-32_chicken-age-32\n",
            "\n",
            "📂 20250721_113530_Monday_chicken-132_batch-32_chicken-age-32 → Found 13 PNG images\n",
            "✅ Extracted features from rgb_20250721_113544_755369_instance-0.png in 20250721_113530_Monday_chicken-132_batch-32_chicken-age-32\n",
            "✅ Extracted features from rgb_20250721_113546_432189_instance-0.png in 20250721_113530_Monday_chicken-132_batch-32_chicken-age-32\n",
            "✅ Extracted features from rgb_20250721_113548_686237_instance-0.png in 20250721_113530_Monday_chicken-132_batch-32_chicken-age-32\n",
            "✅ Extracted features from rgb_20250721_113550_562669_instance-0.png in 20250721_113530_Monday_chicken-132_batch-32_chicken-age-32\n",
            "✅ Extracted features from rgb_20250721_113551_945531_instance-0.png in 20250721_113530_Monday_chicken-132_batch-32_chicken-age-32\n",
            "✅ Extracted features from rgb_20250721_113555_514532_instance-0.png in 20250721_113530_Monday_chicken-132_batch-32_chicken-age-32\n",
            "✅ Extracted features from rgb_20250721_113557_388907_instance-0.png in 20250721_113530_Monday_chicken-132_batch-32_chicken-age-32\n",
            "✅ Extracted features from rgb_20250721_113558_981437_instance-0.png in 20250721_113530_Monday_chicken-132_batch-32_chicken-age-32\n",
            "✅ Extracted features from rgb_20250721_113600_832379_instance-0.png in 20250721_113530_Monday_chicken-132_batch-32_chicken-age-32\n",
            "✅ Extracted features from rgb_20250721_113603_229018_instance-0.png in 20250721_113530_Monday_chicken-132_batch-32_chicken-age-32\n",
            "✅ Extracted features from rgb_20250721_113605_345347_instance-0.png in 20250721_113530_Monday_chicken-132_batch-32_chicken-age-32\n",
            "✅ Extracted features from rgb_20250721_113607_021945_instance-0.png in 20250721_113530_Monday_chicken-132_batch-32_chicken-age-32\n"
          ]
        },
        {
          "output_type": "stream",
          "name": "stderr",
          "text": [
            "\rProcessing Folders:  92%|█████████▏| 123/133 [21:33<01:54, 11.44s/it]"
          ]
        },
        {
          "output_type": "stream",
          "name": "stdout",
          "text": [
            "✅ Extracted features from rgb_20250721_113608_909306_instance-0.png in 20250721_113530_Monday_chicken-132_batch-32_chicken-age-32\n",
            "\n",
            "📂 20250721_113632_Monday_chicken-133_batch-32_chicken-age-32 → Found 6 PNG images\n",
            "✅ Extracted features from rgb_20250721_113647_471744_instance-0.png in 20250721_113632_Monday_chicken-133_batch-32_chicken-age-32\n",
            "✅ Extracted features from rgb_20250721_113649_600337_instance-0.png in 20250721_113632_Monday_chicken-133_batch-32_chicken-age-32\n",
            "✅ Extracted features from rgb_20250721_113651_572799_instance-0.png in 20250721_113632_Monday_chicken-133_batch-32_chicken-age-32\n",
            "✅ Extracted features from rgb_20250721_113653_989852_instance-0.png in 20250721_113632_Monday_chicken-133_batch-32_chicken-age-32\n",
            "✅ Extracted features from rgb_20250721_113701_714571_instance-0.png in 20250721_113632_Monday_chicken-133_batch-32_chicken-age-32\n"
          ]
        },
        {
          "output_type": "stream",
          "name": "stderr",
          "text": [
            "\rProcessing Folders:  93%|█████████▎| 124/133 [21:39<01:27,  9.67s/it]"
          ]
        },
        {
          "output_type": "stream",
          "name": "stdout",
          "text": [
            "✅ Extracted features from rgb_20250721_113706_247094_instance-0.png in 20250721_113632_Monday_chicken-133_batch-32_chicken-age-32\n",
            "\n",
            "📂 20250721_113723_Monday_chicken-134_batch-32_chicken-age-32 → Found 15 PNG images\n",
            "✅ Extracted features from rgb_20250721_113738_896521_instance-0.png in 20250721_113723_Monday_chicken-134_batch-32_chicken-age-32\n",
            "✅ Extracted features from rgb_20250721_113738_896521_instance-1.png in 20250721_113723_Monday_chicken-134_batch-32_chicken-age-32\n",
            "✅ Extracted features from rgb_20250721_113740_974448_instance-0.png in 20250721_113723_Monday_chicken-134_batch-32_chicken-age-32\n",
            "✅ Extracted features from rgb_20250721_113742_566347_instance-0.png in 20250721_113723_Monday_chicken-134_batch-32_chicken-age-32\n",
            "✅ Extracted features from rgb_20250721_113744_541359_instance-0.png in 20250721_113723_Monday_chicken-134_batch-32_chicken-age-32\n",
            "✅ Extracted features from rgb_20250721_113745_189727_instance-0.png in 20250721_113723_Monday_chicken-134_batch-32_chicken-age-32\n",
            "✅ Extracted features from rgb_20250721_113746_850447_instance-0.png in 20250721_113723_Monday_chicken-134_batch-32_chicken-age-32\n",
            "✅ Extracted features from rgb_20250721_113748_238556_instance-0.png in 20250721_113723_Monday_chicken-134_batch-32_chicken-age-32\n",
            "✅ Extracted features from rgb_20250721_113755_196500_instance-0.png in 20250721_113723_Monday_chicken-134_batch-32_chicken-age-32\n",
            "✅ Extracted features from rgb_20250721_113756_956560_instance-0.png in 20250721_113723_Monday_chicken-134_batch-32_chicken-age-32\n",
            "✅ Extracted features from rgb_20250721_113801_371077_instance-0.png in 20250721_113723_Monday_chicken-134_batch-32_chicken-age-32\n",
            "✅ Extracted features from rgb_20250721_113807_312488_instance-0.png in 20250721_113723_Monday_chicken-134_batch-32_chicken-age-32\n",
            "✅ Extracted features from rgb_20250721_113811_593466_instance-0.png in 20250721_113723_Monday_chicken-134_batch-32_chicken-age-32\n",
            "✅ Extracted features from rgb_20250721_113812_267972_instance-0.png in 20250721_113723_Monday_chicken-134_batch-32_chicken-age-32\n"
          ]
        },
        {
          "output_type": "stream",
          "name": "stderr",
          "text": [
            "\rProcessing Folders:  94%|█████████▍| 125/133 [21:53<01:27, 10.89s/it]"
          ]
        },
        {
          "output_type": "stream",
          "name": "stdout",
          "text": [
            "✅ Extracted features from rgb_20250721_113812_267972_instance-1.png in 20250721_113723_Monday_chicken-134_batch-32_chicken-age-32\n",
            "\n",
            "📂 20250721_113831_Monday_chicken-135_batch-32_chicken-age-32 → Found 11 PNG images\n",
            "✅ Extracted features from rgb_20250721_113841_334776_instance-0.png in 20250721_113831_Monday_chicken-135_batch-32_chicken-age-32\n",
            "✅ Extracted features from rgb_20250721_113850_129952_instance-0.png in 20250721_113831_Monday_chicken-135_batch-32_chicken-age-32\n",
            "✅ Extracted features from rgb_20250721_113851_903855_instance-0.png in 20250721_113831_Monday_chicken-135_batch-32_chicken-age-32\n",
            "✅ Extracted features from rgb_20250721_113851_903855_instance-1.png in 20250721_113831_Monday_chicken-135_batch-32_chicken-age-32\n",
            "✅ Extracted features from rgb_20250721_113854_740976_instance-0.png in 20250721_113831_Monday_chicken-135_batch-32_chicken-age-32\n",
            "✅ Extracted features from rgb_20250721_113905_119947_instance-0.png in 20250721_113831_Monday_chicken-135_batch-32_chicken-age-32\n",
            "✅ Extracted features from rgb_20250721_113907_364385_instance-0.png in 20250721_113831_Monday_chicken-135_batch-32_chicken-age-32\n",
            "✅ Extracted features from rgb_20250721_113909_015671_instance-0.png in 20250721_113831_Monday_chicken-135_batch-32_chicken-age-32\n",
            "✅ Extracted features from rgb_20250721_113910_297701_instance-0.png in 20250721_113831_Monday_chicken-135_batch-32_chicken-age-32\n",
            "✅ Extracted features from rgb_20250721_113910_949442_instance-0.png in 20250721_113831_Monday_chicken-135_batch-32_chicken-age-32\n"
          ]
        },
        {
          "output_type": "stream",
          "name": "stderr",
          "text": [
            "\rProcessing Folders:  95%|█████████▍| 126/133 [22:02<01:13, 10.57s/it]"
          ]
        },
        {
          "output_type": "stream",
          "name": "stdout",
          "text": [
            "✅ Extracted features from rgb_20250721_113912_113730_instance-0.png in 20250721_113831_Monday_chicken-135_batch-32_chicken-age-32\n",
            "\n",
            "📂 20250721_113941_Monday_chicken-136_batch-32_chicken-age-32 → Found 15 PNG images\n",
            "✅ Extracted features from rgb_20250721_113957_218933_instance-0.png in 20250721_113941_Monday_chicken-136_batch-32_chicken-age-32\n",
            "✅ Extracted features from rgb_20250721_113958_456191_instance-0.png in 20250721_113941_Monday_chicken-136_batch-32_chicken-age-32\n",
            "✅ Extracted features from rgb_20250721_113959_787259_instance-0.png in 20250721_113941_Monday_chicken-136_batch-32_chicken-age-32\n",
            "✅ Extracted features from rgb_20250721_114001_573251_instance-0.png in 20250721_113941_Monday_chicken-136_batch-32_chicken-age-32\n",
            "✅ Extracted features from rgb_20250721_114002_880075_instance-0.png in 20250721_113941_Monday_chicken-136_batch-32_chicken-age-32\n",
            "✅ Extracted features from rgb_20250721_114004_702013_instance-0.png in 20250721_113941_Monday_chicken-136_batch-32_chicken-age-32\n",
            "✅ Extracted features from rgb_20250721_114005_784553_instance-0.png in 20250721_113941_Monday_chicken-136_batch-32_chicken-age-32\n",
            "✅ Extracted features from rgb_20250721_114007_361384_instance-0.png in 20250721_113941_Monday_chicken-136_batch-32_chicken-age-32\n",
            "✅ Extracted features from rgb_20250721_114008_837152_instance-0.png in 20250721_113941_Monday_chicken-136_batch-32_chicken-age-32\n",
            "✅ Extracted features from rgb_20250721_114010_163097_instance-0.png in 20250721_113941_Monday_chicken-136_batch-32_chicken-age-32\n",
            "✅ Extracted features from rgb_20250721_114011_171395_instance-0.png in 20250721_113941_Monday_chicken-136_batch-32_chicken-age-32\n",
            "✅ Extracted features from rgb_20250721_114012_718069_instance-0.png in 20250721_113941_Monday_chicken-136_batch-32_chicken-age-32\n",
            "✅ Extracted features from rgb_20250721_114014_710054_instance-0.png in 20250721_113941_Monday_chicken-136_batch-32_chicken-age-32\n",
            "✅ Extracted features from rgb_20250721_114016_115864_instance-0.png in 20250721_113941_Monday_chicken-136_batch-32_chicken-age-32\n"
          ]
        },
        {
          "output_type": "stream",
          "name": "stderr",
          "text": [
            "\rProcessing Folders:  95%|█████████▌| 127/133 [22:16<01:09, 11.60s/it]"
          ]
        },
        {
          "output_type": "stream",
          "name": "stdout",
          "text": [
            "✅ Extracted features from rgb_20250721_114017_502406_instance-0.png in 20250721_113941_Monday_chicken-136_batch-32_chicken-age-32\n",
            "\n",
            "📂 20250721_114101_Monday_chicken-137_batch-32_chicken-age-32 → Found 12 PNG images\n",
            "✅ Extracted features from rgb_20250721_114112_894569_instance-0.png in 20250721_114101_Monday_chicken-137_batch-32_chicken-age-32\n",
            "✅ Extracted features from rgb_20250721_114114_033553_instance-0.png in 20250721_114101_Monday_chicken-137_batch-32_chicken-age-32\n",
            "✅ Extracted features from rgb_20250721_114115_413448_instance-0.png in 20250721_114101_Monday_chicken-137_batch-32_chicken-age-32\n",
            "✅ Extracted features from rgb_20250721_114116_671370_instance-0.png in 20250721_114101_Monday_chicken-137_batch-32_chicken-age-32\n",
            "✅ Extracted features from rgb_20250721_114119_348757_instance-0.png in 20250721_114101_Monday_chicken-137_batch-32_chicken-age-32\n",
            "✅ Extracted features from rgb_20250721_114120_936236_instance-0.png in 20250721_114101_Monday_chicken-137_batch-32_chicken-age-32\n",
            "✅ Extracted features from rgb_20250721_114135_658931_instance-0.png in 20250721_114101_Monday_chicken-137_batch-32_chicken-age-32\n",
            "✅ Extracted features from rgb_20250721_114136_715966_instance-0.png in 20250721_114101_Monday_chicken-137_batch-32_chicken-age-32\n",
            "✅ Extracted features from rgb_20250721_114137_904726_instance-0.png in 20250721_114101_Monday_chicken-137_batch-32_chicken-age-32\n",
            "✅ Extracted features from rgb_20250721_114139_181115_instance-0.png in 20250721_114101_Monday_chicken-137_batch-32_chicken-age-32\n",
            "✅ Extracted features from rgb_20250721_114140_285612_instance-0.png in 20250721_114101_Monday_chicken-137_batch-32_chicken-age-32\n"
          ]
        },
        {
          "output_type": "stream",
          "name": "stderr",
          "text": [
            "\rProcessing Folders:  96%|█████████▌| 128/133 [22:28<00:58, 11.67s/it]"
          ]
        },
        {
          "output_type": "stream",
          "name": "stdout",
          "text": [
            "✅ Extracted features from rgb_20250721_114142_566403_instance-0.png in 20250721_114101_Monday_chicken-137_batch-32_chicken-age-32\n",
            "\n",
            "📂 20250721_114230_Monday_chicken-138_batch-32_chicken-age-32 → Found 21 PNG images\n",
            "✅ Extracted features from rgb_20250721_114246_002555_instance-0.png in 20250721_114230_Monday_chicken-138_batch-32_chicken-age-32\n",
            "✅ Extracted features from rgb_20250721_114247_470019_instance-0.png in 20250721_114230_Monday_chicken-138_batch-32_chicken-age-32\n",
            "✅ Extracted features from rgb_20250721_114248_900589_instance-0.png in 20250721_114230_Monday_chicken-138_batch-32_chicken-age-32\n",
            "✅ Extracted features from rgb_20250721_114250_115878_instance-0.png in 20250721_114230_Monday_chicken-138_batch-32_chicken-age-32\n",
            "✅ Extracted features from rgb_20250721_114251_348948_instance-0.png in 20250721_114230_Monday_chicken-138_batch-32_chicken-age-32\n",
            "✅ Extracted features from rgb_20250721_114252_611872_instance-0.png in 20250721_114230_Monday_chicken-138_batch-32_chicken-age-32\n",
            "✅ Extracted features from rgb_20250721_114253_697190_instance-0.png in 20250721_114230_Monday_chicken-138_batch-32_chicken-age-32\n",
            "✅ Extracted features from rgb_20250721_114254_846280_instance-0.png in 20250721_114230_Monday_chicken-138_batch-32_chicken-age-32\n",
            "✅ Extracted features from rgb_20250721_114256_334887_instance-0.png in 20250721_114230_Monday_chicken-138_batch-32_chicken-age-32\n",
            "✅ Extracted features from rgb_20250721_114258_026218_instance-0.png in 20250721_114230_Monday_chicken-138_batch-32_chicken-age-32\n",
            "✅ Extracted features from rgb_20250721_114259_863506_instance-0.png in 20250721_114230_Monday_chicken-138_batch-32_chicken-age-32\n",
            "✅ Extracted features from rgb_20250721_114301_688757_instance-0.png in 20250721_114230_Monday_chicken-138_batch-32_chicken-age-32\n",
            "✅ Extracted features from rgb_20250721_114303_782301_instance-0.png in 20250721_114230_Monday_chicken-138_batch-32_chicken-age-32\n",
            "✅ Extracted features from rgb_20250721_114305_829332_instance-0.png in 20250721_114230_Monday_chicken-138_batch-32_chicken-age-32\n",
            "✅ Extracted features from rgb_20250721_114307_354379_instance-0.png in 20250721_114230_Monday_chicken-138_batch-32_chicken-age-32\n",
            "✅ Extracted features from rgb_20250721_114309_077482_instance-0.png in 20250721_114230_Monday_chicken-138_batch-32_chicken-age-32\n",
            "✅ Extracted features from rgb_20250721_114311_878191_instance-0.png in 20250721_114230_Monday_chicken-138_batch-32_chicken-age-32\n",
            "✅ Extracted features from rgb_20250721_114313_776557_instance-0.png in 20250721_114230_Monday_chicken-138_batch-32_chicken-age-32\n",
            "✅ Extracted features from rgb_20250721_114315_061423_instance-0.png in 20250721_114230_Monday_chicken-138_batch-32_chicken-age-32\n",
            "✅ Extracted features from rgb_20250721_114316_811387_instance-0.png in 20250721_114230_Monday_chicken-138_batch-32_chicken-age-32\n"
          ]
        },
        {
          "output_type": "stream",
          "name": "stderr",
          "text": [
            "\rProcessing Folders:  97%|█████████▋| 129/133 [22:49<00:56, 14.24s/it]"
          ]
        },
        {
          "output_type": "stream",
          "name": "stdout",
          "text": [
            "✅ Extracted features from rgb_20250721_114318_373565_instance-0.png in 20250721_114230_Monday_chicken-138_batch-32_chicken-age-32\n",
            "\n",
            "📂 20250721_114336_Monday_chicken-139_batch-32_chicken-age-32 → Found 9 PNG images\n",
            "✅ Extracted features from rgb_20250721_114401_874335_instance-0.png in 20250721_114336_Monday_chicken-139_batch-32_chicken-age-32\n",
            "✅ Extracted features from rgb_20250721_114412_116475_instance-0.png in 20250721_114336_Monday_chicken-139_batch-32_chicken-age-32\n",
            "✅ Extracted features from rgb_20250721_114413_396726_instance-0.png in 20250721_114336_Monday_chicken-139_batch-32_chicken-age-32\n",
            "✅ Extracted features from rgb_20250721_114414_807467_instance-0.png in 20250721_114336_Monday_chicken-139_batch-32_chicken-age-32\n",
            "✅ Extracted features from rgb_20250721_114416_417030_instance-0.png in 20250721_114336_Monday_chicken-139_batch-32_chicken-age-32\n",
            "✅ Extracted features from rgb_20250721_114417_675964_instance-0.png in 20250721_114336_Monday_chicken-139_batch-32_chicken-age-32\n",
            "✅ Extracted features from rgb_20250721_114419_193394_instance-0.png in 20250721_114336_Monday_chicken-139_batch-32_chicken-age-32\n",
            "✅ Extracted features from rgb_20250721_114421_390118_instance-0.png in 20250721_114336_Monday_chicken-139_batch-32_chicken-age-32\n"
          ]
        },
        {
          "output_type": "stream",
          "name": "stderr",
          "text": [
            "\rProcessing Folders:  98%|█████████▊| 130/133 [22:57<00:37, 12.46s/it]"
          ]
        },
        {
          "output_type": "stream",
          "name": "stdout",
          "text": [
            "✅ Extracted features from rgb_20250721_114422_372646_instance-0.png in 20250721_114336_Monday_chicken-139_batch-32_chicken-age-32\n",
            "\n",
            "📂 20250721_114526_Monday_chicken-140_batch-32_chicken-age-32 → Found 16 PNG images\n",
            "✅ Extracted features from rgb_20250721_114531_526711_instance-0.png in 20250721_114526_Monday_chicken-140_batch-32_chicken-age-32\n",
            "✅ Extracted features from rgb_20250721_114533_366514_instance-0.png in 20250721_114526_Monday_chicken-140_batch-32_chicken-age-32\n",
            "✅ Extracted features from rgb_20250721_114535_202927_instance-0.png in 20250721_114526_Monday_chicken-140_batch-32_chicken-age-32\n",
            "✅ Extracted features from rgb_20250721_114537_350986_instance-0.png in 20250721_114526_Monday_chicken-140_batch-32_chicken-age-32\n",
            "✅ Extracted features from rgb_20250721_114537_350986_instance-1.png in 20250721_114526_Monday_chicken-140_batch-32_chicken-age-32\n",
            "✅ Extracted features from rgb_20250721_114557_308901_instance-0.png in 20250721_114526_Monday_chicken-140_batch-32_chicken-age-32\n",
            "✅ Extracted features from rgb_20250721_114601_191804_instance-0.png in 20250721_114526_Monday_chicken-140_batch-32_chicken-age-32\n",
            "✅ Extracted features from rgb_20250721_114602_349156_instance-0.png in 20250721_114526_Monday_chicken-140_batch-32_chicken-age-32\n",
            "✅ Extracted features from rgb_20250721_114603_594623_instance-0.png in 20250721_114526_Monday_chicken-140_batch-32_chicken-age-32\n",
            "✅ Extracted features from rgb_20250721_114604_764331_instance-0.png in 20250721_114526_Monday_chicken-140_batch-32_chicken-age-32\n",
            "✅ Extracted features from rgb_20250721_114605_944502_instance-0.png in 20250721_114526_Monday_chicken-140_batch-32_chicken-age-32\n",
            "✅ Extracted features from rgb_20250721_114607_052384_instance-0.png in 20250721_114526_Monday_chicken-140_batch-32_chicken-age-32\n",
            "✅ Extracted features from rgb_20250721_114608_133427_instance-0.png in 20250721_114526_Monday_chicken-140_batch-32_chicken-age-32\n",
            "✅ Extracted features from rgb_20250721_114609_245964_instance-0.png in 20250721_114526_Monday_chicken-140_batch-32_chicken-age-32\n",
            "✅ Extracted features from rgb_20250721_114610_295372_instance-0.png in 20250721_114526_Monday_chicken-140_batch-32_chicken-age-32\n"
          ]
        },
        {
          "output_type": "stream",
          "name": "stderr",
          "text": [
            "\rProcessing Folders:  98%|█████████▊| 131/133 [23:12<00:26, 13.18s/it]"
          ]
        },
        {
          "output_type": "stream",
          "name": "stdout",
          "text": [
            "✅ Extracted features from rgb_20250721_114610_969820_instance-0.png in 20250721_114526_Monday_chicken-140_batch-32_chicken-age-32\n",
            "\n",
            "📂 20250721_114639_Monday_chicken-141_batch-32_chicken-age-32 → Found 19 PNG images\n",
            "✅ Extracted features from rgb_20250721_114651_766327_instance-0.png in 20250721_114639_Monday_chicken-141_batch-32_chicken-age-32\n",
            "✅ Extracted features from rgb_20250721_114653_366005_instance-0.png in 20250721_114639_Monday_chicken-141_batch-32_chicken-age-32\n",
            "✅ Extracted features from rgb_20250721_114658_741842_instance-0.png in 20250721_114639_Monday_chicken-141_batch-32_chicken-age-32\n",
            "✅ Extracted features from rgb_20250721_114659_908571_instance-0.png in 20250721_114639_Monday_chicken-141_batch-32_chicken-age-32\n",
            "✅ Extracted features from rgb_20250721_114703_267007_instance-0.png in 20250721_114639_Monday_chicken-141_batch-32_chicken-age-32\n",
            "✅ Extracted features from rgb_20250721_114703_267007_instance-1.png in 20250721_114639_Monday_chicken-141_batch-32_chicken-age-32\n",
            "✅ Extracted features from rgb_20250721_114704_443857_instance-0.png in 20250721_114639_Monday_chicken-141_batch-32_chicken-age-32\n",
            "✅ Extracted features from rgb_20250721_114705_385375_instance-0.png in 20250721_114639_Monday_chicken-141_batch-32_chicken-age-32\n",
            "✅ Extracted features from rgb_20250721_114706_240296_instance-0.png in 20250721_114639_Monday_chicken-141_batch-32_chicken-age-32\n",
            "✅ Extracted features from rgb_20250721_114706_990587_instance-0.png in 20250721_114639_Monday_chicken-141_batch-32_chicken-age-32\n",
            "✅ Extracted features from rgb_20250721_114707_850229_instance-0.png in 20250721_114639_Monday_chicken-141_batch-32_chicken-age-32\n",
            "✅ Extracted features from rgb_20250721_114708_750957_instance-0.png in 20250721_114639_Monday_chicken-141_batch-32_chicken-age-32\n",
            "✅ Extracted features from rgb_20250721_114709_728772_instance-0.png in 20250721_114639_Monday_chicken-141_batch-32_chicken-age-32\n",
            "✅ Extracted features from rgb_20250721_114710_790354_instance-0.png in 20250721_114639_Monday_chicken-141_batch-32_chicken-age-32\n",
            "✅ Extracted features from rgb_20250721_114711_911962_instance-0.png in 20250721_114639_Monday_chicken-141_batch-32_chicken-age-32\n",
            "✅ Extracted features from rgb_20250721_114712_980229_instance-0.png in 20250721_114639_Monday_chicken-141_batch-32_chicken-age-32\n",
            "✅ Extracted features from rgb_20250721_114715_056871_instance-0.png in 20250721_114639_Monday_chicken-141_batch-32_chicken-age-32\n",
            "✅ Extracted features from rgb_20250721_114716_145091_instance-0.png in 20250721_114639_Monday_chicken-141_batch-32_chicken-age-32\n"
          ]
        },
        {
          "output_type": "stream",
          "name": "stderr",
          "text": [
            "\rProcessing Folders:  99%|█████████▉| 132/133 [23:29<00:14, 14.51s/it]"
          ]
        },
        {
          "output_type": "stream",
          "name": "stdout",
          "text": [
            "✅ Extracted features from rgb_20250721_114719_660703_instance-0.png in 20250721_114639_Monday_chicken-141_batch-32_chicken-age-32\n",
            "\n",
            "📂 20250721_114738_Monday_chicken-142_batch-32_chicken-age-32 → Found 5 PNG images\n",
            "✅ Extracted features from rgb_20250721_114754_315564_instance-0.png in 20250721_114738_Monday_chicken-142_batch-32_chicken-age-32\n",
            "✅ Extracted features from rgb_20250721_114755_603016_instance-0.png in 20250721_114738_Monday_chicken-142_batch-32_chicken-age-32\n",
            "✅ Extracted features from rgb_20250721_114757_597159_instance-0.png in 20250721_114738_Monday_chicken-142_batch-32_chicken-age-32\n",
            "✅ Extracted features from rgb_20250721_114759_843131_instance-0.png in 20250721_114738_Monday_chicken-142_batch-32_chicken-age-32\n"
          ]
        },
        {
          "output_type": "stream",
          "name": "stderr",
          "text": [
            "Processing Folders: 100%|██████████| 133/133 [23:34<00:00, 10.64s/it]"
          ]
        },
        {
          "output_type": "stream",
          "name": "stdout",
          "text": [
            "✅ Extracted features from rgb_20250721_114802_268593_instance-0.png in 20250721_114738_Monday_chicken-142_batch-32_chicken-age-32\n",
            "\n",
            "📊 Feature Extraction Summary:\n",
            "✅ Total folders processed: 133\n",
            "✅ Total images processed: 1492\n",
            "✅ Sample row: ['20250712_105816_Saturday_chicken-2_batch-23_chicken-age-23', 'rgb_20250712_105832_715015_instance-0.png', 0.2315637618303299, 0.7837387323379517, 0.6818743348121643]\n"
          ]
        },
        {
          "output_type": "stream",
          "name": "stderr",
          "text": [
            "\n"
          ]
        }
      ]
    },
    {
      "cell_type": "code",
      "source": [
        "# Define column headers: metadata + 2048 features\n",
        "columns = ['Chicken_ID', 'Image_ID'] + [f'Feature_{i}' for i in range(2048)]\n",
        "\n",
        "# Check if we have features to save\n",
        "if len(output_rows) == 0:\n",
        "    print(\"❌ No features to save. CSV not generated.\")\n",
        "else:\n",
        "    # Create DataFrame\n",
        "    df = pd.DataFrame(output_rows, columns=columns)\n",
        "\n",
        "    # Define save path in Google Drive\n",
        "    output_path = \"/content/drive/MyDrive/broiler_features.csv\"\n",
        "\n",
        "    # Save the DataFrame\n",
        "    df.to_csv(output_path, index=False)\n",
        "\n",
        "    print(f\"\\n✅ CSV successfully saved at: {output_path}\")\n",
        "    print(f\"🔎 Rows: {len(df)}, Columns: {len(df.columns)}\")\n",
        "    print(\"📌 Preview:\")\n",
        "    display(df.head())\n"
      ],
      "metadata": {
        "colab": {
          "base_uri": "https://localhost:8080/",
          "height": 412
        },
        "id": "W-eDr9evWmMn",
        "outputId": "17e49a77-24fd-49ba-d761-17d65b729637"
      },
      "execution_count": null,
      "outputs": [
        {
          "output_type": "stream",
          "name": "stdout",
          "text": [
            "\n",
            "✅ CSV successfully saved at: /content/drive/MyDrive/broiler_features.csv\n",
            "🔎 Rows: 1492, Columns: 2050\n",
            "📌 Preview:\n"
          ]
        },
        {
          "output_type": "display_data",
          "data": {
            "text/plain": [
              "                                          Chicken_ID  \\\n",
              "0  20250712_105816_Saturday_chicken-2_batch-23_ch...   \n",
              "1  20250712_105816_Saturday_chicken-2_batch-23_ch...   \n",
              "2  20250712_105816_Saturday_chicken-2_batch-23_ch...   \n",
              "3  20250712_105816_Saturday_chicken-2_batch-23_ch...   \n",
              "4  20250712_105816_Saturday_chicken-2_batch-23_ch...   \n",
              "\n",
              "                                    Image_ID  Feature_0  Feature_1  Feature_2  \\\n",
              "0  rgb_20250712_105832_715015_instance-0.png   0.231564   0.783739   0.681874   \n",
              "1  rgb_20250712_105835_034034_instance-0.png   0.227791   0.311679   0.780369   \n",
              "2  rgb_20250712_105837_126723_instance-0.png   0.140049   0.771959   0.575042   \n",
              "3  rgb_20250712_105841_967950_instance-0.png   0.111779   0.665938   0.461407   \n",
              "4  rgb_20250712_105843_945226_instance-0.png   0.153487   1.009318   0.510623   \n",
              "\n",
              "   Feature_3  Feature_4  Feature_5  Feature_6  Feature_7  ...  Feature_2038  \\\n",
              "0   0.671735   0.423946   0.125335   0.364921   0.564257  ...      0.278484   \n",
              "1   1.097455   0.533584   0.379554   0.140341   0.647661  ...      0.431649   \n",
              "2   0.526495   0.687173   0.764766   0.382077   0.548400  ...      0.038213   \n",
              "3   0.517627   0.271816   0.270046   0.362527   0.414530  ...      0.267259   \n",
              "4   0.187988   0.489786   0.192919   0.477994   0.284584  ...      0.070210   \n",
              "\n",
              "   Feature_2039  Feature_2040  Feature_2041  Feature_2042  Feature_2043  \\\n",
              "0      0.147399      1.011837      0.444904      0.214096      0.145934   \n",
              "1      0.309159      0.548404      0.189144      0.256014      0.265751   \n",
              "2      0.060250      0.341898      0.149625      0.489923      0.194420   \n",
              "3      0.434148      0.527527      0.134241      0.349515      0.291169   \n",
              "4      0.416563      0.559865      0.223223      0.206875      0.218620   \n",
              "\n",
              "   Feature_2044  Feature_2045  Feature_2046  Feature_2047  \n",
              "0      0.201196      0.394381      0.340130      0.773048  \n",
              "1      0.233600      0.026647      0.354563      1.078711  \n",
              "2      0.279601      0.249994      0.324571      0.718451  \n",
              "3      0.632144      0.346420      0.345855      0.928557  \n",
              "4      0.310413      0.092263      0.307174      1.277710  \n",
              "\n",
              "[5 rows x 2050 columns]"
            ],
            "text/html": [
              "\n",
              "  <div id=\"df-1c28e40d-f1a4-481b-a18a-8f362f9306db\" class=\"colab-df-container\">\n",
              "    <div>\n",
              "<style scoped>\n",
              "    .dataframe tbody tr th:only-of-type {\n",
              "        vertical-align: middle;\n",
              "    }\n",
              "\n",
              "    .dataframe tbody tr th {\n",
              "        vertical-align: top;\n",
              "    }\n",
              "\n",
              "    .dataframe thead th {\n",
              "        text-align: right;\n",
              "    }\n",
              "</style>\n",
              "<table border=\"1\" class=\"dataframe\">\n",
              "  <thead>\n",
              "    <tr style=\"text-align: right;\">\n",
              "      <th></th>\n",
              "      <th>Chicken_ID</th>\n",
              "      <th>Image_ID</th>\n",
              "      <th>Feature_0</th>\n",
              "      <th>Feature_1</th>\n",
              "      <th>Feature_2</th>\n",
              "      <th>Feature_3</th>\n",
              "      <th>Feature_4</th>\n",
              "      <th>Feature_5</th>\n",
              "      <th>Feature_6</th>\n",
              "      <th>Feature_7</th>\n",
              "      <th>...</th>\n",
              "      <th>Feature_2038</th>\n",
              "      <th>Feature_2039</th>\n",
              "      <th>Feature_2040</th>\n",
              "      <th>Feature_2041</th>\n",
              "      <th>Feature_2042</th>\n",
              "      <th>Feature_2043</th>\n",
              "      <th>Feature_2044</th>\n",
              "      <th>Feature_2045</th>\n",
              "      <th>Feature_2046</th>\n",
              "      <th>Feature_2047</th>\n",
              "    </tr>\n",
              "  </thead>\n",
              "  <tbody>\n",
              "    <tr>\n",
              "      <th>0</th>\n",
              "      <td>20250712_105816_Saturday_chicken-2_batch-23_ch...</td>\n",
              "      <td>rgb_20250712_105832_715015_instance-0.png</td>\n",
              "      <td>0.231564</td>\n",
              "      <td>0.783739</td>\n",
              "      <td>0.681874</td>\n",
              "      <td>0.671735</td>\n",
              "      <td>0.423946</td>\n",
              "      <td>0.125335</td>\n",
              "      <td>0.364921</td>\n",
              "      <td>0.564257</td>\n",
              "      <td>...</td>\n",
              "      <td>0.278484</td>\n",
              "      <td>0.147399</td>\n",
              "      <td>1.011837</td>\n",
              "      <td>0.444904</td>\n",
              "      <td>0.214096</td>\n",
              "      <td>0.145934</td>\n",
              "      <td>0.201196</td>\n",
              "      <td>0.394381</td>\n",
              "      <td>0.340130</td>\n",
              "      <td>0.773048</td>\n",
              "    </tr>\n",
              "    <tr>\n",
              "      <th>1</th>\n",
              "      <td>20250712_105816_Saturday_chicken-2_batch-23_ch...</td>\n",
              "      <td>rgb_20250712_105835_034034_instance-0.png</td>\n",
              "      <td>0.227791</td>\n",
              "      <td>0.311679</td>\n",
              "      <td>0.780369</td>\n",
              "      <td>1.097455</td>\n",
              "      <td>0.533584</td>\n",
              "      <td>0.379554</td>\n",
              "      <td>0.140341</td>\n",
              "      <td>0.647661</td>\n",
              "      <td>...</td>\n",
              "      <td>0.431649</td>\n",
              "      <td>0.309159</td>\n",
              "      <td>0.548404</td>\n",
              "      <td>0.189144</td>\n",
              "      <td>0.256014</td>\n",
              "      <td>0.265751</td>\n",
              "      <td>0.233600</td>\n",
              "      <td>0.026647</td>\n",
              "      <td>0.354563</td>\n",
              "      <td>1.078711</td>\n",
              "    </tr>\n",
              "    <tr>\n",
              "      <th>2</th>\n",
              "      <td>20250712_105816_Saturday_chicken-2_batch-23_ch...</td>\n",
              "      <td>rgb_20250712_105837_126723_instance-0.png</td>\n",
              "      <td>0.140049</td>\n",
              "      <td>0.771959</td>\n",
              "      <td>0.575042</td>\n",
              "      <td>0.526495</td>\n",
              "      <td>0.687173</td>\n",
              "      <td>0.764766</td>\n",
              "      <td>0.382077</td>\n",
              "      <td>0.548400</td>\n",
              "      <td>...</td>\n",
              "      <td>0.038213</td>\n",
              "      <td>0.060250</td>\n",
              "      <td>0.341898</td>\n",
              "      <td>0.149625</td>\n",
              "      <td>0.489923</td>\n",
              "      <td>0.194420</td>\n",
              "      <td>0.279601</td>\n",
              "      <td>0.249994</td>\n",
              "      <td>0.324571</td>\n",
              "      <td>0.718451</td>\n",
              "    </tr>\n",
              "    <tr>\n",
              "      <th>3</th>\n",
              "      <td>20250712_105816_Saturday_chicken-2_batch-23_ch...</td>\n",
              "      <td>rgb_20250712_105841_967950_instance-0.png</td>\n",
              "      <td>0.111779</td>\n",
              "      <td>0.665938</td>\n",
              "      <td>0.461407</td>\n",
              "      <td>0.517627</td>\n",
              "      <td>0.271816</td>\n",
              "      <td>0.270046</td>\n",
              "      <td>0.362527</td>\n",
              "      <td>0.414530</td>\n",
              "      <td>...</td>\n",
              "      <td>0.267259</td>\n",
              "      <td>0.434148</td>\n",
              "      <td>0.527527</td>\n",
              "      <td>0.134241</td>\n",
              "      <td>0.349515</td>\n",
              "      <td>0.291169</td>\n",
              "      <td>0.632144</td>\n",
              "      <td>0.346420</td>\n",
              "      <td>0.345855</td>\n",
              "      <td>0.928557</td>\n",
              "    </tr>\n",
              "    <tr>\n",
              "      <th>4</th>\n",
              "      <td>20250712_105816_Saturday_chicken-2_batch-23_ch...</td>\n",
              "      <td>rgb_20250712_105843_945226_instance-0.png</td>\n",
              "      <td>0.153487</td>\n",
              "      <td>1.009318</td>\n",
              "      <td>0.510623</td>\n",
              "      <td>0.187988</td>\n",
              "      <td>0.489786</td>\n",
              "      <td>0.192919</td>\n",
              "      <td>0.477994</td>\n",
              "      <td>0.284584</td>\n",
              "      <td>...</td>\n",
              "      <td>0.070210</td>\n",
              "      <td>0.416563</td>\n",
              "      <td>0.559865</td>\n",
              "      <td>0.223223</td>\n",
              "      <td>0.206875</td>\n",
              "      <td>0.218620</td>\n",
              "      <td>0.310413</td>\n",
              "      <td>0.092263</td>\n",
              "      <td>0.307174</td>\n",
              "      <td>1.277710</td>\n",
              "    </tr>\n",
              "  </tbody>\n",
              "</table>\n",
              "<p>5 rows × 2050 columns</p>\n",
              "</div>\n",
              "    <div class=\"colab-df-buttons\">\n",
              "\n",
              "  <div class=\"colab-df-container\">\n",
              "    <button class=\"colab-df-convert\" onclick=\"convertToInteractive('df-1c28e40d-f1a4-481b-a18a-8f362f9306db')\"\n",
              "            title=\"Convert this dataframe to an interactive table.\"\n",
              "            style=\"display:none;\">\n",
              "\n",
              "  <svg xmlns=\"http://www.w3.org/2000/svg\" height=\"24px\" viewBox=\"0 -960 960 960\">\n",
              "    <path d=\"M120-120v-720h720v720H120Zm60-500h600v-160H180v160Zm220 220h160v-160H400v160Zm0 220h160v-160H400v160ZM180-400h160v-160H180v160Zm440 0h160v-160H620v160ZM180-180h160v-160H180v160Zm440 0h160v-160H620v160Z\"/>\n",
              "  </svg>\n",
              "    </button>\n",
              "\n",
              "  <style>\n",
              "    .colab-df-container {\n",
              "      display:flex;\n",
              "      gap: 12px;\n",
              "    }\n",
              "\n",
              "    .colab-df-convert {\n",
              "      background-color: #E8F0FE;\n",
              "      border: none;\n",
              "      border-radius: 50%;\n",
              "      cursor: pointer;\n",
              "      display: none;\n",
              "      fill: #1967D2;\n",
              "      height: 32px;\n",
              "      padding: 0 0 0 0;\n",
              "      width: 32px;\n",
              "    }\n",
              "\n",
              "    .colab-df-convert:hover {\n",
              "      background-color: #E2EBFA;\n",
              "      box-shadow: 0px 1px 2px rgba(60, 64, 67, 0.3), 0px 1px 3px 1px rgba(60, 64, 67, 0.15);\n",
              "      fill: #174EA6;\n",
              "    }\n",
              "\n",
              "    .colab-df-buttons div {\n",
              "      margin-bottom: 4px;\n",
              "    }\n",
              "\n",
              "    [theme=dark] .colab-df-convert {\n",
              "      background-color: #3B4455;\n",
              "      fill: #D2E3FC;\n",
              "    }\n",
              "\n",
              "    [theme=dark] .colab-df-convert:hover {\n",
              "      background-color: #434B5C;\n",
              "      box-shadow: 0px 1px 3px 1px rgba(0, 0, 0, 0.15);\n",
              "      filter: drop-shadow(0px 1px 2px rgba(0, 0, 0, 0.3));\n",
              "      fill: #FFFFFF;\n",
              "    }\n",
              "  </style>\n",
              "\n",
              "    <script>\n",
              "      const buttonEl =\n",
              "        document.querySelector('#df-1c28e40d-f1a4-481b-a18a-8f362f9306db button.colab-df-convert');\n",
              "      buttonEl.style.display =\n",
              "        google.colab.kernel.accessAllowed ? 'block' : 'none';\n",
              "\n",
              "      async function convertToInteractive(key) {\n",
              "        const element = document.querySelector('#df-1c28e40d-f1a4-481b-a18a-8f362f9306db');\n",
              "        const dataTable =\n",
              "          await google.colab.kernel.invokeFunction('convertToInteractive',\n",
              "                                                    [key], {});\n",
              "        if (!dataTable) return;\n",
              "\n",
              "        const docLinkHtml = 'Like what you see? Visit the ' +\n",
              "          '<a target=\"_blank\" href=https://colab.research.google.com/notebooks/data_table.ipynb>data table notebook</a>'\n",
              "          + ' to learn more about interactive tables.';\n",
              "        element.innerHTML = '';\n",
              "        dataTable['output_type'] = 'display_data';\n",
              "        await google.colab.output.renderOutput(dataTable, element);\n",
              "        const docLink = document.createElement('div');\n",
              "        docLink.innerHTML = docLinkHtml;\n",
              "        element.appendChild(docLink);\n",
              "      }\n",
              "    </script>\n",
              "  </div>\n",
              "\n",
              "\n",
              "    <div id=\"df-e21d3736-71f5-4885-9015-7ece248854c3\">\n",
              "      <button class=\"colab-df-quickchart\" onclick=\"quickchart('df-e21d3736-71f5-4885-9015-7ece248854c3')\"\n",
              "                title=\"Suggest charts\"\n",
              "                style=\"display:none;\">\n",
              "\n",
              "<svg xmlns=\"http://www.w3.org/2000/svg\" height=\"24px\"viewBox=\"0 0 24 24\"\n",
              "     width=\"24px\">\n",
              "    <g>\n",
              "        <path d=\"M19 3H5c-1.1 0-2 .9-2 2v14c0 1.1.9 2 2 2h14c1.1 0 2-.9 2-2V5c0-1.1-.9-2-2-2zM9 17H7v-7h2v7zm4 0h-2V7h2v10zm4 0h-2v-4h2v4z\"/>\n",
              "    </g>\n",
              "</svg>\n",
              "      </button>\n",
              "\n",
              "<style>\n",
              "  .colab-df-quickchart {\n",
              "      --bg-color: #E8F0FE;\n",
              "      --fill-color: #1967D2;\n",
              "      --hover-bg-color: #E2EBFA;\n",
              "      --hover-fill-color: #174EA6;\n",
              "      --disabled-fill-color: #AAA;\n",
              "      --disabled-bg-color: #DDD;\n",
              "  }\n",
              "\n",
              "  [theme=dark] .colab-df-quickchart {\n",
              "      --bg-color: #3B4455;\n",
              "      --fill-color: #D2E3FC;\n",
              "      --hover-bg-color: #434B5C;\n",
              "      --hover-fill-color: #FFFFFF;\n",
              "      --disabled-bg-color: #3B4455;\n",
              "      --disabled-fill-color: #666;\n",
              "  }\n",
              "\n",
              "  .colab-df-quickchart {\n",
              "    background-color: var(--bg-color);\n",
              "    border: none;\n",
              "    border-radius: 50%;\n",
              "    cursor: pointer;\n",
              "    display: none;\n",
              "    fill: var(--fill-color);\n",
              "    height: 32px;\n",
              "    padding: 0;\n",
              "    width: 32px;\n",
              "  }\n",
              "\n",
              "  .colab-df-quickchart:hover {\n",
              "    background-color: var(--hover-bg-color);\n",
              "    box-shadow: 0 1px 2px rgba(60, 64, 67, 0.3), 0 1px 3px 1px rgba(60, 64, 67, 0.15);\n",
              "    fill: var(--button-hover-fill-color);\n",
              "  }\n",
              "\n",
              "  .colab-df-quickchart-complete:disabled,\n",
              "  .colab-df-quickchart-complete:disabled:hover {\n",
              "    background-color: var(--disabled-bg-color);\n",
              "    fill: var(--disabled-fill-color);\n",
              "    box-shadow: none;\n",
              "  }\n",
              "\n",
              "  .colab-df-spinner {\n",
              "    border: 2px solid var(--fill-color);\n",
              "    border-color: transparent;\n",
              "    border-bottom-color: var(--fill-color);\n",
              "    animation:\n",
              "      spin 1s steps(1) infinite;\n",
              "  }\n",
              "\n",
              "  @keyframes spin {\n",
              "    0% {\n",
              "      border-color: transparent;\n",
              "      border-bottom-color: var(--fill-color);\n",
              "      border-left-color: var(--fill-color);\n",
              "    }\n",
              "    20% {\n",
              "      border-color: transparent;\n",
              "      border-left-color: var(--fill-color);\n",
              "      border-top-color: var(--fill-color);\n",
              "    }\n",
              "    30% {\n",
              "      border-color: transparent;\n",
              "      border-left-color: var(--fill-color);\n",
              "      border-top-color: var(--fill-color);\n",
              "      border-right-color: var(--fill-color);\n",
              "    }\n",
              "    40% {\n",
              "      border-color: transparent;\n",
              "      border-right-color: var(--fill-color);\n",
              "      border-top-color: var(--fill-color);\n",
              "    }\n",
              "    60% {\n",
              "      border-color: transparent;\n",
              "      border-right-color: var(--fill-color);\n",
              "    }\n",
              "    80% {\n",
              "      border-color: transparent;\n",
              "      border-right-color: var(--fill-color);\n",
              "      border-bottom-color: var(--fill-color);\n",
              "    }\n",
              "    90% {\n",
              "      border-color: transparent;\n",
              "      border-bottom-color: var(--fill-color);\n",
              "    }\n",
              "  }\n",
              "</style>\n",
              "\n",
              "      <script>\n",
              "        async function quickchart(key) {\n",
              "          const quickchartButtonEl =\n",
              "            document.querySelector('#' + key + ' button');\n",
              "          quickchartButtonEl.disabled = true;  // To prevent multiple clicks.\n",
              "          quickchartButtonEl.classList.add('colab-df-spinner');\n",
              "          try {\n",
              "            const charts = await google.colab.kernel.invokeFunction(\n",
              "                'suggestCharts', [key], {});\n",
              "          } catch (error) {\n",
              "            console.error('Error during call to suggestCharts:', error);\n",
              "          }\n",
              "          quickchartButtonEl.classList.remove('colab-df-spinner');\n",
              "          quickchartButtonEl.classList.add('colab-df-quickchart-complete');\n",
              "        }\n",
              "        (() => {\n",
              "          let quickchartButtonEl =\n",
              "            document.querySelector('#df-e21d3736-71f5-4885-9015-7ece248854c3 button');\n",
              "          quickchartButtonEl.style.display =\n",
              "            google.colab.kernel.accessAllowed ? 'block' : 'none';\n",
              "        })();\n",
              "      </script>\n",
              "    </div>\n",
              "\n",
              "    </div>\n",
              "  </div>\n"
            ],
            "application/vnd.google.colaboratory.intrinsic+json": {
              "type": "dataframe"
            }
          },
          "metadata": {}
        }
      ]
    },
    {
      "cell_type": "code",
      "source": [
        "# Cell 1: Imports and Setup\n",
        "import os\n",
        "import cv2\n",
        "import numpy as np\n",
        "import pandas as pd\n",
        "from pathlib import Path\n",
        "from typing import Dict, List, Tuple\n",
        "import glob\n",
        "from tqdm import tqdm\n",
        "import warnings\n",
        "warnings.filterwarnings('ignore')\n"
      ],
      "metadata": {
        "id": "b6i94YKJFnqr"
      },
      "execution_count": null,
      "outputs": []
    },
    {
      "cell_type": "code",
      "source": [
        "def extract_2d_features_from_image(png_path: str) -> Dict[str, float]:\n",
        "    \"\"\"Extract 2D geometric features from PNG image.\"\"\"\n",
        "    try:\n",
        "        # Preprocess image and get contour\n",
        "        image, binary, contour = preprocess_image(png_path)\n",
        "\n",
        "        # Extract geometric features\n",
        "        features_2d = extract_geometric_features(contour, pixel_to_mm=1.0)\n",
        "\n",
        "        return features_2d\n",
        "\n",
        "    except Exception as e:\n",
        "        print(f\"Error extracting 2D features from {png_path}: {e}\")\n",
        "        # Return default values if extraction fails\n",
        "        return {\n",
        "            'projected_area': 0.0,\n",
        "            'perimeter': 0.0,\n",
        "            'width': 0.0,\n",
        "            'height': 0.0,\n",
        "            'convex_hull_area': 0.0,\n",
        "            'minor_axis_length': 0.0,\n",
        "            'major_axis_length': 0.0,\n",
        "            'eccentricity': 0.0,\n",
        "            'convex_hull_perimeter': 0.0,\n",
        "            'approx_area': 0.0,\n",
        "            'approx_perimeter': 0.0,\n",
        "            'area_ratio_rect': 0.0,\n",
        "            'area_ratio_hull': 0.0,\n",
        "            'max_convexity_defect': 0.0,\n",
        "            'sum_convexity_defects': 0.0,\n",
        "            'equiv_diameter': 0.0\n",
        "        }\n"
      ],
      "metadata": {
        "id": "GSvH-8Y35axF"
      },
      "execution_count": null,
      "outputs": []
    },
    {
      "cell_type": "code",
      "source": [
        "def preprocess_image(image_path: str) -> Tuple[np.ndarray, np.ndarray, np.ndarray]:\n",
        "    \"\"\"\n",
        "    Preprocess image and extract largest contour.\n",
        "    Returns:\n",
        "        Tuple of (original_image, binary_image, largest_contour)\n",
        "    \"\"\"\n",
        "    import cv2\n",
        "    import numpy as np\n",
        "\n",
        "    image = cv2.imread(image_path)\n",
        "    if image is None:\n",
        "        raise ValueError(f\"Could not read image at {image_path}\")\n",
        "\n",
        "    gray = cv2.cvtColor(image, cv2.COLOR_BGR2GRAY)\n",
        "    blurred = cv2.GaussianBlur(gray, (5, 5), 0)\n",
        "    binary = cv2.adaptiveThreshold(\n",
        "        blurred, 255, cv2.ADAPTIVE_THRESH_GAUSSIAN_C,\n",
        "        cv2.THRESH_BINARY_INV, 11, 2\n",
        "    )\n",
        "\n",
        "    kernel = np.ones((3, 3), np.uint8)\n",
        "    binary = cv2.morphologyEx(binary, cv2.MORPH_CLOSE, kernel)\n",
        "    binary = cv2.morphologyEx(binary, cv2.MORPH_OPEN, kernel)\n",
        "\n",
        "    contours, _ = cv2.findContours(binary, cv2.RETR_EXTERNAL, cv2.CHAIN_APPROX_SIMPLE)\n",
        "    if not contours:\n",
        "        raise ValueError(\"No contours found in the image\")\n",
        "\n",
        "    largest_contour = max(contours, key=cv2.contourArea)\n",
        "\n",
        "    return image, binary, largest_contour\n"
      ],
      "metadata": {
        "id": "wawjUEwM581M"
      },
      "execution_count": null,
      "outputs": []
    },
    {
      "cell_type": "code",
      "source": [
        "def extract_3d_features_from_depth(npy_path: str) -> Dict[str, float]:\n",
        "    \"\"\"Extract 3D features from depth data.\"\"\"\n",
        "    import numpy as np\n",
        "\n",
        "    try:\n",
        "        depth_data = np.load(npy_path)\n",
        "        mask = (depth_data > 0).astype(np.uint8)\n",
        "        segmented_depth = depth_data[mask > 0]\n",
        "\n",
        "        if segmented_depth.size == 0:\n",
        "            raise ValueError(\"No valid depth pixels found.\")\n",
        "\n",
        "        max_d = np.max(segmented_depth)\n",
        "        min_d = np.min(segmented_depth)\n",
        "        avg_d = np.mean(segmented_depth)\n",
        "        std_d = np.std(segmented_depth)\n",
        "        sum_d = np.sum(segmented_depth)\n",
        "        range_d = max_d - min_d\n",
        "        min_minus_avg = np.abs(min_d - avg_d)\n",
        "        max_minus_avg = np.abs(max_d - avg_d)\n",
        "        projected_area = segmented_depth.size\n",
        "        approx_volume = projected_area * max_d - sum_d\n",
        "\n",
        "        return {\n",
        "            'Feature17_ApproxVolume': float(approx_volume),\n",
        "            'Feature18_MaxDepth': float(max_d),\n",
        "            'Feature19_MinDepth': float(min_d),\n",
        "            'Feature20_AvgDepth': float(avg_d),\n",
        "            'Feature21_DepthRange': float(range_d),\n",
        "            'Feature22_StdDepth': float(std_d),\n",
        "            'Feature23_SumDepth': float(sum_d),\n",
        "            'Feature24_MinMinusAvg': float(min_minus_avg),\n",
        "            'Feature25_MaxMinusAvg': float(max_minus_avg)\n",
        "        }\n",
        "\n",
        "    except Exception as e:\n",
        "        print(f\"Error extracting 3D features from {npy_path}: {e}\")\n",
        "        return {\n",
        "            'Feature17_ApproxVolume': 0.0,\n",
        "            'Feature18_MaxDepth': 0.0,\n",
        "            'Feature19_MinDepth': 0.0,\n",
        "            'Feature20_AvgDepth': 0.0,\n",
        "            'Feature21_DepthRange': 0.0,\n",
        "            'Feature22_StdDepth': 0.0,\n",
        "            'Feature23_SumDepth': 0.0,\n",
        "            'Feature24_MinMinusAvg': 0.0,\n",
        "            'Feature25_MaxMinusAvg': 0.0\n",
        "        }\n"
      ],
      "metadata": {
        "id": "I3TSSWMA5_YH"
      },
      "execution_count": null,
      "outputs": []
    },
    {
      "cell_type": "code",
      "source": [
        "import cv2\n",
        "import numpy as np\n",
        "\n",
        "def point_to_line_distance(point, line_start, line_end):\n",
        "    x0, y0 = point\n",
        "    x1, y1 = line_start\n",
        "    x2, y2 = line_end\n",
        "    num = abs((y2 - y1) * x0 - (x2 - x1) * y0 + x2 * y1 - y2 * x1)\n",
        "    den = np.sqrt((y2 - y1)**2 + (x2 - x1)**2)\n",
        "    return num / den if den != 0 else np.linalg.norm(np.array(point) - np.array(line_start))\n",
        "\n",
        "def douglas_peucker(points, epsilon):\n",
        "    if len(points) <= 2:\n",
        "        return points\n",
        "    max_dist, max_idx = max((point_to_line_distance(points[i], points[0], points[-1]), i) for i in range(1, len(points) - 1))\n",
        "    if max_dist > epsilon:\n",
        "        return douglas_peucker(points[:max_idx+1], epsilon)[:-1] + douglas_peucker(points[max_idx:], epsilon)\n",
        "    return [points[0], points[-1]]\n",
        "\n",
        "def calculate_convexity_defects(contour):\n",
        "    if contour is None or len(contour) <= 3:\n",
        "        return (0.0, 0.0)\n",
        "    try:\n",
        "        hull = cv2.convexHull(contour, returnPoints=False)\n",
        "        if len(hull) <= 3:\n",
        "            return (0.0, 0.0)\n",
        "        defects = cv2.convexityDefects(contour, hull)\n",
        "        if defects is None:\n",
        "            return (0.0, 0.0)\n",
        "        depths = defects[:, 0, 3] / 256.0\n",
        "        return float(np.max(depths)), float(np.sum(depths))\n",
        "    except Exception as e:\n",
        "        print(f\"Warning: Error calculating convexity defects: {e}\")\n",
        "        return (0.0, 0.0)\n",
        "\n",
        "def extract_geometric_features(contour, pixel_to_mm=1.0):\n",
        "    features = {}\n",
        "    area = cv2.contourArea(contour) * (pixel_to_mm ** 2)\n",
        "    features['projected_area'] = float(area)\n",
        "    perimeter = cv2.arcLength(contour, True) * pixel_to_mm\n",
        "    features['perimeter'] = float(perimeter)\n",
        "    x, y, w, h = cv2.boundingRect(contour)\n",
        "    features['width'] = float(w * pixel_to_mm)\n",
        "    features['height'] = float(h * pixel_to_mm)\n",
        "    hull = cv2.convexHull(contour)\n",
        "    hull_area = cv2.contourArea(hull) * (pixel_to_mm ** 2)\n",
        "    features['convex_hull_area'] = float(hull_area)\n",
        "    if len(contour) >= 5:\n",
        "        (_, (major, minor), _) = cv2.fitEllipse(contour)\n",
        "        features['minor_axis_length'] = float(minor * pixel_to_mm)\n",
        "        features['major_axis_length'] = float(major * pixel_to_mm)\n",
        "        features['eccentricity'] = float(np.sqrt(1 - (minor / major) ** 2)) if major > 0 else 0.0\n",
        "    else:\n",
        "        features['minor_axis_length'] = 0.0\n",
        "        features['major_axis_length'] = 0.0\n",
        "        features['eccentricity'] = 0.0\n",
        "    hull_perimeter = cv2.arcLength(hull, True) * pixel_to_mm\n",
        "    features['convex_hull_perimeter'] = float(hull_perimeter)\n",
        "    epsilon = 0.01 * perimeter\n",
        "    approx = douglas_peucker([(p[0][0], p[0][1]) for p in contour], epsilon)\n",
        "    approx_cnt = np.array([[[int(x), int(y)]] for x, y in approx], dtype=np.int32)\n",
        "    features['approx_area'] = float(cv2.contourArea(approx_cnt) * (pixel_to_mm ** 2))\n",
        "    features['approx_perimeter'] = float(cv2.arcLength(approx_cnt, True) * pixel_to_mm)\n",
        "    rect_area = w * h * (pixel_to_mm ** 2)\n",
        "    features['area_ratio_rect'] = float(area / rect_area) if rect_area > 0 else 0.0\n",
        "    features['area_ratio_hull'] = float(area / hull_area) if hull_area > 0 else 0.0\n",
        "    max_defect, sum_defects = calculate_convexity_defects(contour)\n",
        "    features['max_convexity_defect'] = float(max_defect * pixel_to_mm)\n",
        "    features['sum_convexity_defects'] = float(sum_defects * pixel_to_mm)\n",
        "    features['equiv_diameter'] = float(2 * np.sqrt(area / np.pi))\n",
        "    features['approx_volume'] = float(area * np.sqrt(area / np.pi) / 3)\n",
        "    return features\n",
        "\n",
        "\n",
        "def extract_3d_features(segmented_depth, mask):\n",
        "    valid_depths = segmented_depth[segmented_depth > 0]  # ✅ Define first\n",
        "\n",
        "    if valid_depths.size == 0:\n",
        "        min_d = max_d = avg_d = std_d = sum_d = depth_range = min_minus_avg = max_minus_avg = 0.0\n",
        "    else:\n",
        "        min_d = np.min(valid_depths)\n",
        "        max_d = np.max(valid_depths)\n",
        "        avg_d = np.mean(valid_depths)\n",
        "        std_d = np.std(valid_depths)\n",
        "        sum_d = np.sum(valid_depths)\n",
        "        depth_range = max_d - min_d\n",
        "        min_minus_avg = abs(min_d - avg_d)\n",
        "        max_minus_avg = abs(max_d - avg_d)\n",
        "\n",
        "    projected_area = np.count_nonzero(mask)\n",
        "    approx_volume = projected_area * max_d - sum_d\n",
        "\n",
        "    return {\n",
        "        \"Feature17_ApproxVolume\": approx_volume,\n",
        "        \"Feature18_MaxDepth\": max_d,\n",
        "        \"Feature19_MinDepth\": min_d,\n",
        "        \"Feature20_AvgDepth\": avg_d,\n",
        "        \"Feature21_DepthRange\": depth_range,\n",
        "        \"Feature22_StdDepth\": std_d,\n",
        "        \"Feature23_SumDepth\": sum_d,\n",
        "        \"Feature24_MinMinusAvg\": min_minus_avg,\n",
        "        \"Feature25_MaxMinusAvg\": max_minus_avg,\n",
        "    }\n",
        "\n"
      ],
      "metadata": {
        "id": "tRRbtJPkUK2y"
      },
      "execution_count": null,
      "outputs": []
    },
    {
      "cell_type": "code",
      "source": [
        "# Cell 3: Processing Folders and Extracting Features\n",
        "def get_chicken_info_from_path(folder_path: str) -> Dict[str, str]:\n",
        "    folder_name = os.path.basename(folder_path)\n",
        "    parts = folder_name.split('_')\n",
        "    try:\n",
        "        date_str = f\"{parts[0]}_{parts[1]}\"\n",
        "        day_of_week = parts[2]\n",
        "        time_str = parts[3]\n",
        "        chicken_batch_age = '_'.join(parts[4:])\n",
        "        chicken_id = chicken_batch_age.split('chicken-')[1].split('_')[0]\n",
        "        batch_id = chicken_batch_age.split('batch-')[1].split('_')[0]\n",
        "        chicken_age = chicken_batch_age.split('chicken-age-')[1]\n",
        "        return {'date': date_str, 'day_of_week': day_of_week, 'time': time_str, 'chicken_id': chicken_id, 'batch_id': batch_id, 'chicken_age': chicken_age, 'folder_name': folder_name}\n",
        "    except Exception as e:\n",
        "        print(f\"Error parsing folder name '{folder_name}': {e}\")\n",
        "        return {'date': 'unknown', 'day_of_week': 'unknown', 'time': 'unknown', 'chicken_id': 'unknown', 'batch_id': 'unknown', 'chicken_age': 'unknown', 'folder_name': folder_name}\n",
        "\n",
        "def find_matching_files(chicken_folder: str) -> List[Tuple[str, str]]:\n",
        "    png_files = glob.glob(os.path.join(chicken_folder, \"*.png\"))\n",
        "    npy_files = glob.glob(os.path.join(chicken_folder, \"*.npy\"))\n",
        "    png_dict = {os.path.splitext(os.path.basename(f))[0]: f for f in png_files}\n",
        "    npy_dict = {os.path.splitext(os.path.basename(f))[0]: f for f in npy_files}\n",
        "    return [(png_dict[base], npy_dict[base]) for base in png_dict if base in npy_dict]\n",
        "\n",
        "def process_chicken_folder(chicken_folder: str) -> List[Dict]:\n",
        "    chicken_info = get_chicken_info_from_path(chicken_folder)\n",
        "    matching_pairs = find_matching_files(chicken_folder)\n",
        "    features_list = []\n",
        "    for png_path, npy_path in matching_pairs:\n",
        "        try:\n",
        "            features_2d = extract_2d_features_from_image(png_path)\n",
        "            features_3d = extract_3d_features_from_depth(npy_path)\n",
        "            combined_features = {**features_2d, **features_3d, 'png_path': png_path, 'npy_path': npy_path}\n",
        "            features_list.append(combined_features)\n",
        "        except Exception as e:\n",
        "            print(f\"Error processing {png_path}: {e}\")\n",
        "            continue\n",
        "    return features_list\n"
      ],
      "metadata": {
        "id": "JB53VHwCUOUo"
      },
      "execution_count": null,
      "outputs": []
    },
    {
      "cell_type": "code",
      "source": [
        "# Cell 4: Process All Chicken Folders and Extract Features\n",
        "def process_chicken_folder(chicken_folder: str) -> List[Dict]:\n",
        "    chicken_info = get_chicken_info_from_path(chicken_folder)\n",
        "    matching_pairs = find_matching_files(chicken_folder)\n",
        "    features_list = []\n",
        "    for png_path, npy_path in matching_pairs:\n",
        "        try:\n",
        "            features_2d = extract_2d_features_from_image(png_path)\n",
        "            features_3d = extract_3d_features_from_depth(npy_path)\n",
        "            combined_features = {**features_2d, **features_3d, 'png_path': png_path, 'npy_path': npy_path}\n",
        "            features_list.append(combined_features)\n",
        "        except Exception as e:\n",
        "            print(f\"Error processing {png_path}: {e}\")\n",
        "            continue\n",
        "    return features_list\n"
      ],
      "metadata": {
        "id": "YWFVLipjUUi4"
      },
      "execution_count": null,
      "outputs": []
    },
    {
      "cell_type": "code",
      "source": [
        "# Cell 5: Extract Features from All Chicken Folders\n",
        "def main():\n",
        "    segmented_dir = \"/content/drive/MyDrive/segmented\"  # Path to the segmented folder\n",
        "    if not os.path.exists(segmented_dir):\n",
        "        print(f\"Error: {segmented_dir} directory not found!\")\n",
        "        return\n",
        "\n",
        "    chicken_folders = [f for f in os.listdir(segmented_dir) if os.path.isdir(os.path.join(segmented_dir, f))]\n",
        "\n",
        "    print(f\"Found {len(chicken_folders)} chicken folders to process\")\n",
        "\n",
        "    all_features = []\n",
        "\n",
        "    for chicken_folder in tqdm(chicken_folders, desc=\"Processing chicken folders\"):\n",
        "        folder_path = os.path.join(segmented_dir, chicken_folder)\n",
        "        try:\n",
        "            features_list = process_chicken_folder(folder_path)\n",
        "            all_features.extend(features_list)\n",
        "            print(f\"Processed {chicken_folder}: {len(features_list)} instances\")\n",
        "        except Exception as e:\n",
        "            print(f\"Error processing folder {chicken_folder}: {e}\")\n",
        "            continue\n",
        "\n",
        "    if all_features:\n",
        "        df = pd.DataFrame(all_features)\n",
        "        output_csv = \"/content/drive/MyDrive/all_features_clean.csv\"\n",
        "        df.to_csv(output_csv, index=False)\n",
        "\n",
        "        print(f\"Feature extraction completed!\")\n",
        "        print(f\"Output saved to: {output_csv}\")\n",
        "    else:\n",
        "        print(\"No features were extracted!\")\n",
        "\n",
        "# Run the main function\n",
        "main()\n"
      ],
      "metadata": {
        "colab": {
          "base_uri": "https://localhost:8080/"
        },
        "id": "_z_wrhcQbEBm",
        "outputId": "3f805a76-f64e-4bdd-cf51-a8c1b09d42a3"
      },
      "execution_count": null,
      "outputs": [
        {
          "output_type": "stream",
          "name": "stdout",
          "text": [
            "Found 133 chicken folders to process\n"
          ]
        },
        {
          "output_type": "stream",
          "name": "stderr",
          "text": [
            "Processing chicken folders:   1%|          | 1/133 [00:15<33:48, 15.37s/it]"
          ]
        },
        {
          "output_type": "stream",
          "name": "stdout",
          "text": [
            "Processed 20250721_114639_Monday_chicken-141_batch-32_chicken-age-32: 19 instances\n"
          ]
        },
        {
          "output_type": "stream",
          "name": "stderr",
          "text": [
            "\rProcessing chicken folders:   2%|▏         | 2/133 [00:27<29:14, 13.39s/it]"
          ]
        },
        {
          "output_type": "stream",
          "name": "stdout",
          "text": [
            "Processed 20250721_114526_Monday_chicken-140_batch-32_chicken-age-32: 16 instances\n"
          ]
        },
        {
          "output_type": "stream",
          "name": "stderr",
          "text": [
            "\rProcessing chicken folders:   2%|▏         | 3/133 [00:35<24:05, 11.12s/it]"
          ]
        },
        {
          "output_type": "stream",
          "name": "stdout",
          "text": [
            "Processed 20250721_114336_Monday_chicken-139_batch-32_chicken-age-32: 9 instances\n"
          ]
        },
        {
          "output_type": "stream",
          "name": "stderr",
          "text": [
            "\rProcessing chicken folders:   3%|▎         | 4/133 [00:48<24:54, 11.58s/it]"
          ]
        },
        {
          "output_type": "stream",
          "name": "stdout",
          "text": [
            "Processed 20250721_113941_Monday_chicken-136_batch-32_chicken-age-32: 15 instances\n"
          ]
        },
        {
          "output_type": "stream",
          "name": "stderr",
          "text": [
            "\rProcessing chicken folders:   4%|▍         | 5/133 [01:04<28:40, 13.44s/it]"
          ]
        },
        {
          "output_type": "stream",
          "name": "stdout",
          "text": [
            "Processed 20250721_114230_Monday_chicken-138_batch-32_chicken-age-32: 21 instances\n"
          ]
        },
        {
          "output_type": "stream",
          "name": "stderr",
          "text": [
            "\rProcessing chicken folders:   5%|▍         | 6/133 [01:08<21:25, 10.12s/it]"
          ]
        },
        {
          "output_type": "stream",
          "name": "stdout",
          "text": [
            "Processed 20250721_114738_Monday_chicken-142_batch-32_chicken-age-32: 5 instances\n",
            "Error extracting 3D features from /content/drive/MyDrive/segmented/20250721_114101_Monday_chicken-137_batch-32_chicken-age-32/rgb_20250721_114120_936236_instance-0.npy: Python integer 65777 out of bounds for uint16\n"
          ]
        },
        {
          "output_type": "stream",
          "name": "stderr",
          "text": [
            "\rProcessing chicken folders:   5%|▌         | 7/133 [01:19<21:47, 10.38s/it]"
          ]
        },
        {
          "output_type": "stream",
          "name": "stdout",
          "text": [
            "Processed 20250721_114101_Monday_chicken-137_batch-32_chicken-age-32: 12 instances\n"
          ]
        },
        {
          "output_type": "stream",
          "name": "stderr",
          "text": [
            "\rProcessing chicken folders:   6%|▌         | 8/133 [01:27<20:01,  9.62s/it]"
          ]
        },
        {
          "output_type": "stream",
          "name": "stdout",
          "text": [
            "Processed 20250721_113831_Monday_chicken-135_batch-32_chicken-age-32: 11 instances\n"
          ]
        },
        {
          "output_type": "stream",
          "name": "stderr",
          "text": [
            "\rProcessing chicken folders:   7%|▋         | 9/133 [01:38<20:50, 10.09s/it]"
          ]
        },
        {
          "output_type": "stream",
          "name": "stdout",
          "text": [
            "Processed 20250721_113723_Monday_chicken-134_batch-32_chicken-age-32: 15 instances\n"
          ]
        },
        {
          "output_type": "stream",
          "name": "stderr",
          "text": [
            "\rProcessing chicken folders:   8%|▊         | 10/133 [01:42<17:01,  8.30s/it]"
          ]
        },
        {
          "output_type": "stream",
          "name": "stdout",
          "text": [
            "Processed 20250721_113632_Monday_chicken-133_batch-32_chicken-age-32: 6 instances\n"
          ]
        },
        {
          "output_type": "stream",
          "name": "stderr",
          "text": [
            "\rProcessing chicken folders:   8%|▊         | 11/133 [01:53<18:20,  9.02s/it]"
          ]
        },
        {
          "output_type": "stream",
          "name": "stdout",
          "text": [
            "Processed 20250721_113530_Monday_chicken-132_batch-32_chicken-age-32: 13 instances\n"
          ]
        },
        {
          "output_type": "stream",
          "name": "stderr",
          "text": [
            "\rProcessing chicken folders:   9%|▉         | 12/133 [02:03<18:41,  9.27s/it]"
          ]
        },
        {
          "output_type": "stream",
          "name": "stdout",
          "text": [
            "Processed 20250721_113330_Monday_chicken-130_batch-32_chicken-age-32: 12 instances\n"
          ]
        },
        {
          "output_type": "stream",
          "name": "stderr",
          "text": [
            "\rProcessing chicken folders:  10%|▉         | 13/133 [02:09<16:31,  8.26s/it]"
          ]
        },
        {
          "output_type": "stream",
          "name": "stdout",
          "text": [
            "Processed 20250721_113438_Monday_chicken-131_batch-32_chicken-age-32: 8 instances\n"
          ]
        },
        {
          "output_type": "stream",
          "name": "stderr",
          "text": [
            "\rProcessing chicken folders:  11%|█         | 14/133 [02:21<19:01,  9.59s/it]"
          ]
        },
        {
          "output_type": "stream",
          "name": "stdout",
          "text": [
            "Processed 20250721_113210_Monday_chicken-129_batch-32_chicken-age-32: 16 instances\n"
          ]
        },
        {
          "output_type": "stream",
          "name": "stderr",
          "text": [
            "\rProcessing chicken folders:  11%|█▏        | 15/133 [02:30<18:18,  9.31s/it]"
          ]
        },
        {
          "output_type": "stream",
          "name": "stdout",
          "text": [
            "Processed 20250721_113012_Monday_chicken-127_batch-32_chicken-age-32: 12 instances\n"
          ]
        },
        {
          "output_type": "stream",
          "name": "stderr",
          "text": [
            "\rProcessing chicken folders:  12%|█▏        | 16/133 [02:38<17:16,  8.86s/it]"
          ]
        },
        {
          "output_type": "stream",
          "name": "stdout",
          "text": [
            "Processed 20250721_113131_Monday_chicken-128_batch-32_chicken-age-32: 11 instances\n",
            "Error extracting 3D features from /content/drive/MyDrive/segmented/20250719_113841_Saturday_chicken-126_batch-30_chicken-age-30/rgb_20250719_113921_866675_instance-0.npy: Python integer 70873 out of bounds for uint16\n"
          ]
        },
        {
          "output_type": "stream",
          "name": "stderr",
          "text": [
            "\rProcessing chicken folders:  13%|█▎        | 17/133 [02:51<19:31, 10.10s/it]"
          ]
        },
        {
          "output_type": "stream",
          "name": "stdout",
          "text": [
            "Processed 20250719_113841_Saturday_chicken-126_batch-30_chicken-age-30: 18 instances\n"
          ]
        },
        {
          "output_type": "stream",
          "name": "stderr",
          "text": [
            "\rProcessing chicken folders:  14%|█▎        | 18/133 [02:58<17:38,  9.20s/it]"
          ]
        },
        {
          "output_type": "stream",
          "name": "stdout",
          "text": [
            "Processed 20250719_113740_Saturday_chicken-125_batch-30_chicken-age-30: 7 instances\n",
            "Error extracting 3D features from /content/drive/MyDrive/segmented/20250719_113609_Saturday_chicken-124_batch-30_chicken-age-30/rgb_20250719_113644_560043_instance-0.npy: Python integer 72242 out of bounds for uint16\n"
          ]
        },
        {
          "output_type": "stream",
          "name": "stderr",
          "text": [
            "\rProcessing chicken folders:  14%|█▍        | 19/133 [03:12<20:11, 10.63s/it]"
          ]
        },
        {
          "output_type": "stream",
          "name": "stdout",
          "text": [
            "Error extracting 3D features from /content/drive/MyDrive/segmented/20250719_113609_Saturday_chicken-124_batch-30_chicken-age-30/rgb_20250719_113714_860365_instance-0.npy: Python integer 67202 out of bounds for uint16\n",
            "Processed 20250719_113609_Saturday_chicken-124_batch-30_chicken-age-30: 19 instances\n"
          ]
        },
        {
          "output_type": "stream",
          "name": "stderr",
          "text": [
            "\rProcessing chicken folders:  15%|█▌        | 20/133 [03:22<19:29, 10.35s/it]"
          ]
        },
        {
          "output_type": "stream",
          "name": "stdout",
          "text": [
            "Processed 20250719_113453_Saturday_chicken-123_batch-30_chicken-age-30: 14 instances\n"
          ]
        },
        {
          "output_type": "stream",
          "name": "stderr",
          "text": [
            "\rProcessing chicken folders:  16%|█▌        | 21/133 [03:32<19:06, 10.24s/it]"
          ]
        },
        {
          "output_type": "stream",
          "name": "stdout",
          "text": [
            "Processed 20250719_113354_Saturday_chicken-122_batch-30_chicken-age-30: 14 instances\n"
          ]
        },
        {
          "output_type": "stream",
          "name": "stderr",
          "text": [
            "\rProcessing chicken folders:  17%|█▋        | 22/133 [03:46<21:12, 11.47s/it]"
          ]
        },
        {
          "output_type": "stream",
          "name": "stdout",
          "text": [
            "Processed 20250719_113251_Saturday_chicken-121_batch-30_chicken-age-30: 19 instances\n",
            "Error extracting 3D features from /content/drive/MyDrive/segmented/20250719_113140_Saturday_chicken-120_batch-30_chicken-age-30/rgb_20250719_113206_627884_instance-0.npy: Python integer 67702 out of bounds for uint16\n"
          ]
        },
        {
          "output_type": "stream",
          "name": "stderr",
          "text": [
            "\rProcessing chicken folders:  17%|█▋        | 23/133 [03:50<17:06,  9.33s/it]"
          ]
        },
        {
          "output_type": "stream",
          "name": "stdout",
          "text": [
            "Processed 20250719_113140_Saturday_chicken-120_batch-30_chicken-age-30: 5 instances\n",
            "Error extracting 3D features from /content/drive/MyDrive/segmented/20250719_113043_Saturday_chicken-119_batch-30_chicken-age-30/rgb_20250719_113100_833671_instance-0.npy: Python integer 65853 out of bounds for uint16\n"
          ]
        },
        {
          "output_type": "stream",
          "name": "stderr",
          "text": [
            "\rProcessing chicken folders:  18%|█▊        | 24/133 [04:01<17:39,  9.72s/it]"
          ]
        },
        {
          "output_type": "stream",
          "name": "stdout",
          "text": [
            "Processed 20250719_113043_Saturday_chicken-119_batch-30_chicken-age-30: 13 instances\n",
            "Error extracting 3D features from /content/drive/MyDrive/segmented/20250719_112753_Saturday_chicken-117_batch-30_chicken-age-30/rgb_20250719_112856_432171_instance-0.npy: Python integer 70524 out of bounds for uint16\n",
            "Error extracting 3D features from /content/drive/MyDrive/segmented/20250719_112753_Saturday_chicken-117_batch-30_chicken-age-30/rgb_20250719_112854_641564_instance-0.npy: Python integer 72050 out of bounds for uint16\n"
          ]
        },
        {
          "output_type": "stream",
          "name": "stderr",
          "text": [
            "\rProcessing chicken folders:  19%|█▉        | 25/133 [04:09<16:45,  9.31s/it]"
          ]
        },
        {
          "output_type": "stream",
          "name": "stdout",
          "text": [
            "Processed 20250719_112753_Saturday_chicken-117_batch-30_chicken-age-30: 11 instances\n"
          ]
        },
        {
          "output_type": "stream",
          "name": "stderr",
          "text": [
            "\rProcessing chicken folders:  20%|█▉        | 26/133 [04:10<11:58,  6.71s/it]"
          ]
        },
        {
          "output_type": "stream",
          "name": "stdout",
          "text": [
            "Processed 20250719_112928_Saturday_chicken-118_batch-30_chicken-age-30: 1 instances\n"
          ]
        },
        {
          "output_type": "stream",
          "name": "stderr",
          "text": [
            "\rProcessing chicken folders:  20%|██        | 27/133 [04:20<13:39,  7.73s/it]"
          ]
        },
        {
          "output_type": "stream",
          "name": "stdout",
          "text": [
            "Processed 20250719_112655_Saturday_chicken-116_batch-30_chicken-age-30: 12 instances\n",
            "Error extracting 3D features from /content/drive/MyDrive/segmented/20250719_112536_Saturday_chicken-115_batch-30_chicken-age-30/rgb_20250719_112624_516646_instance-0.npy: Python integer 67525 out of bounds for uint16\n",
            "Error extracting 3D features from /content/drive/MyDrive/segmented/20250719_112536_Saturday_chicken-115_batch-30_chicken-age-30/rgb_20250719_112617_009979_instance-0.npy: Python integer 65753 out of bounds for uint16\n",
            "Error extracting 3D features from /content/drive/MyDrive/segmented/20250719_112536_Saturday_chicken-115_batch-30_chicken-age-30/rgb_20250719_112612_715826_instance-0.npy: Python integer 68242 out of bounds for uint16\n",
            "Error extracting 3D features from /content/drive/MyDrive/segmented/20250719_112536_Saturday_chicken-115_batch-30_chicken-age-30/rgb_20250719_112616_042992_instance-0.npy: Python integer 67867 out of bounds for uint16\n",
            "Error extracting 3D features from /content/drive/MyDrive/segmented/20250719_112536_Saturday_chicken-115_batch-30_chicken-age-30/rgb_20250719_112619_815569_instance-0.npy: Python integer 67407 out of bounds for uint16\n",
            "Error extracting 3D features from /content/drive/MyDrive/segmented/20250719_112536_Saturday_chicken-115_batch-30_chicken-age-30/rgb_20250719_112611_376530_instance-0.npy: Python integer 67881 out of bounds for uint16\n",
            "Error extracting 3D features from /content/drive/MyDrive/segmented/20250719_112536_Saturday_chicken-115_batch-30_chicken-age-30/rgb_20250719_112613_955026_instance-0.npy: Python integer 68084 out of bounds for uint16\n"
          ]
        },
        {
          "output_type": "stream",
          "name": "stderr",
          "text": [
            "\rProcessing chicken folders:  21%|██        | 28/133 [04:29<14:06,  8.06s/it]"
          ]
        },
        {
          "output_type": "stream",
          "name": "stdout",
          "text": [
            "Processed 20250719_112536_Saturday_chicken-115_batch-30_chicken-age-30: 11 instances\n"
          ]
        },
        {
          "output_type": "stream",
          "name": "stderr",
          "text": [
            "\rProcessing chicken folders:  22%|██▏       | 29/133 [04:34<12:13,  7.05s/it]"
          ]
        },
        {
          "output_type": "stream",
          "name": "stdout",
          "text": [
            "Processed 20250719_112422_Saturday_chicken-114_batch-30_chicken-age-30: 7 instances\n"
          ]
        },
        {
          "output_type": "stream",
          "name": "stderr",
          "text": [
            "\rProcessing chicken folders:  23%|██▎       | 30/133 [04:39<11:24,  6.65s/it]"
          ]
        },
        {
          "output_type": "stream",
          "name": "stdout",
          "text": [
            "Error extracting 3D features from /content/drive/MyDrive/segmented/20250719_112309_Saturday_chicken-113_batch-30_chicken-age-30/rgb_20250719_112344_172710_instance-0.npy: Python integer 69360 out of bounds for uint16\n",
            "Processed 20250719_112309_Saturday_chicken-113_batch-30_chicken-age-30: 8 instances\n"
          ]
        },
        {
          "output_type": "stream",
          "name": "stderr",
          "text": [
            "\rProcessing chicken folders:  23%|██▎       | 31/133 [04:48<12:14,  7.20s/it]"
          ]
        },
        {
          "output_type": "stream",
          "name": "stdout",
          "text": [
            "Processed 20250719_112204_Saturday_chicken-112_batch-30_chicken-age-30: 11 instances\n"
          ]
        },
        {
          "output_type": "stream",
          "name": "stderr",
          "text": [
            "\rProcessing chicken folders:  24%|██▍       | 32/133 [04:57<13:20,  7.93s/it]"
          ]
        },
        {
          "output_type": "stream",
          "name": "stdout",
          "text": [
            "Processed 20250719_112051_Saturday_chicken-111_batch-30_chicken-age-30: 12 instances\n"
          ]
        },
        {
          "output_type": "stream",
          "name": "stderr",
          "text": [
            "\rProcessing chicken folders:  25%|██▍       | 33/133 [05:01<10:57,  6.57s/it]"
          ]
        },
        {
          "output_type": "stream",
          "name": "stdout",
          "text": [
            "Processed 20250719_111929_Saturday_chicken-110_batch-30_chicken-age-30: 5 instances\n",
            "Error extracting 3D features from /content/drive/MyDrive/segmented/20250719_111246_Saturday_chicken-104_batch-30_chicken-age-30/rgb_20250719_111324_770962_instance-0.npy: Python integer 71570 out of bounds for uint16\n",
            "Error extracting 3D features from /content/drive/MyDrive/segmented/20250719_111246_Saturday_chicken-104_batch-30_chicken-age-30/rgb_20250719_111316_842927_instance-0.npy: Python integer 70919 out of bounds for uint16\n",
            "Error extracting 3D features from /content/drive/MyDrive/segmented/20250719_111246_Saturday_chicken-104_batch-30_chicken-age-30/rgb_20250719_111322_436615_instance-0.npy: Python integer 71417 out of bounds for uint16\n",
            "Error extracting 3D features from /content/drive/MyDrive/segmented/20250719_111246_Saturday_chicken-104_batch-30_chicken-age-30/rgb_20250719_111325_700541_instance-0.npy: Python integer 70367 out of bounds for uint16\n",
            "Error extracting 3D features from /content/drive/MyDrive/segmented/20250719_111246_Saturday_chicken-104_batch-30_chicken-age-30/rgb_20250719_111330_827702_instance-0.npy: Python integer 68769 out of bounds for uint16\n",
            "Error extracting 3D features from /content/drive/MyDrive/segmented/20250719_111246_Saturday_chicken-104_batch-30_chicken-age-30/rgb_20250719_111320_038218_instance-0.npy: Python integer 71862 out of bounds for uint16\n",
            "Error extracting 3D features from /content/drive/MyDrive/segmented/20250719_111246_Saturday_chicken-104_batch-30_chicken-age-30/rgb_20250719_111336_872621_instance-0.npy: Python integer 66765 out of bounds for uint16\n",
            "Error extracting 3D features from /content/drive/MyDrive/segmented/20250719_111246_Saturday_chicken-104_batch-30_chicken-age-30/rgb_20250719_111318_112229_instance-0.npy: Python integer 70413 out of bounds for uint16\n",
            "Error extracting 3D features from /content/drive/MyDrive/segmented/20250719_111246_Saturday_chicken-104_batch-30_chicken-age-30/rgb_20250719_111333_585278_instance-0.npy: Python integer 68447 out of bounds for uint16\n",
            "Error extracting 3D features from /content/drive/MyDrive/segmented/20250719_111246_Saturday_chicken-104_batch-30_chicken-age-30/rgb_20250719_111323_631347_instance-0.npy: Python integer 71916 out of bounds for uint16\n",
            "Error extracting 3D features from /content/drive/MyDrive/segmented/20250719_111246_Saturday_chicken-104_batch-30_chicken-age-30/rgb_20250719_111315_459400_instance-0.npy: Python integer 69206 out of bounds for uint16\n",
            "Error extracting 3D features from /content/drive/MyDrive/segmented/20250719_111246_Saturday_chicken-104_batch-30_chicken-age-30/rgb_20250719_111328_651425_instance-0.npy: Python integer 68878 out of bounds for uint16\n",
            "Error extracting 3D features from /content/drive/MyDrive/segmented/20250719_111246_Saturday_chicken-104_batch-30_chicken-age-30/rgb_20250719_111321_209981_instance-0.npy: Python integer 70544 out of bounds for uint16\n"
          ]
        },
        {
          "output_type": "stream",
          "name": "stderr",
          "text": [
            "\rProcessing chicken folders:  26%|██▌       | 34/133 [05:11<12:43,  7.71s/it]"
          ]
        },
        {
          "output_type": "stream",
          "name": "stdout",
          "text": [
            "Error extracting 3D features from /content/drive/MyDrive/segmented/20250719_111246_Saturday_chicken-104_batch-30_chicken-age-30/rgb_20250719_111335_694357_instance-0.npy: Python integer 68447 out of bounds for uint16\n",
            "Processed 20250719_111246_Saturday_chicken-104_batch-30_chicken-age-30: 14 instances\n"
          ]
        },
        {
          "output_type": "stream",
          "name": "stderr",
          "text": [
            "\rProcessing chicken folders:  26%|██▋       | 35/133 [05:21<13:32,  8.29s/it]"
          ]
        },
        {
          "output_type": "stream",
          "name": "stdout",
          "text": [
            "Processed 20250719_111151_Saturday_chicken-103_batch-30_chicken-age-30: 10 instances\n",
            "Error extracting 3D features from /content/drive/MyDrive/segmented/20250719_111628_Saturday_chicken-107_batch-30_chicken-age-30/rgb_20250719_111640_242585_instance-0.npy: Python integer 66911 out of bounds for uint16\n",
            "Error extracting 3D features from /content/drive/MyDrive/segmented/20250719_111628_Saturday_chicken-107_batch-30_chicken-age-30/rgb_20250719_111656_370628_instance-0.npy: Python integer 66899 out of bounds for uint16\n"
          ]
        },
        {
          "output_type": "stream",
          "name": "stderr",
          "text": [
            "\rProcessing chicken folders:  27%|██▋       | 36/133 [05:32<14:35,  9.02s/it]"
          ]
        },
        {
          "output_type": "stream",
          "name": "stdout",
          "text": [
            "Processed 20250719_111628_Saturday_chicken-107_batch-30_chicken-age-30: 15 instances\n"
          ]
        },
        {
          "output_type": "stream",
          "name": "stderr",
          "text": [
            "\rProcessing chicken folders:  28%|██▊       | 37/133 [05:38<13:25,  8.39s/it]"
          ]
        },
        {
          "output_type": "stream",
          "name": "stdout",
          "text": [
            "Processed 20250719_111521_Saturday_chicken-106_batch-30_chicken-age-30: 10 instances\n",
            "Error extracting 3D features from /content/drive/MyDrive/segmented/20250719_111415_Saturday_chicken-105_batch-30_chicken-age-30/rgb_20250719_111448_591300_instance-0.npy: Python integer 80954 out of bounds for uint16\n"
          ]
        },
        {
          "output_type": "stream",
          "name": "stderr",
          "text": [
            "\rProcessing chicken folders:  29%|██▊       | 38/133 [05:51<15:17,  9.66s/it]"
          ]
        },
        {
          "output_type": "stream",
          "name": "stdout",
          "text": [
            "Processed 20250719_111415_Saturday_chicken-105_batch-30_chicken-age-30: 13 instances\n",
            "Error extracting 3D features from /content/drive/MyDrive/segmented/20250719_111827_Saturday_chicken-109_batch-30_chicken-age-30/rgb_20250719_111842_981912_instance-0.npy: Python integer 71964 out of bounds for uint16\n",
            "Error extracting 3D features from /content/drive/MyDrive/segmented/20250719_111827_Saturday_chicken-109_batch-30_chicken-age-30/rgb_20250719_111844_093430_instance-0.npy: Python integer 70158 out of bounds for uint16\n"
          ]
        },
        {
          "output_type": "stream",
          "name": "stderr",
          "text": [
            "\rProcessing chicken folders:  29%|██▉       | 39/133 [06:00<14:54,  9.52s/it]"
          ]
        },
        {
          "output_type": "stream",
          "name": "stdout",
          "text": [
            "Processed 20250719_111827_Saturday_chicken-109_batch-30_chicken-age-30: 13 instances\n",
            "Error extracting 3D features from /content/drive/MyDrive/segmented/20250719_111728_Saturday_chicken-108_batch-30_chicken-age-30/rgb_20250719_111741_074108_instance-0.npy: Python integer 69222 out of bounds for uint16\n",
            "Error extracting 3D features from /content/drive/MyDrive/segmented/20250719_111728_Saturday_chicken-108_batch-30_chicken-age-30/rgb_20250719_111752_627617_instance-0.npy: Python integer 65640 out of bounds for uint16\n",
            "Error extracting 3D features from /content/drive/MyDrive/segmented/20250719_111728_Saturday_chicken-108_batch-30_chicken-age-30/rgb_20250719_111821_130767_instance-0.npy: Python integer 69177 out of bounds for uint16\n"
          ]
        },
        {
          "output_type": "stream",
          "name": "stderr",
          "text": [
            "\rProcessing chicken folders:  30%|███       | 40/133 [06:19<19:05, 12.32s/it]"
          ]
        },
        {
          "output_type": "stream",
          "name": "stdout",
          "text": [
            "Processed 20250719_111728_Saturday_chicken-108_batch-30_chicken-age-30: 23 instances\n"
          ]
        },
        {
          "output_type": "stream",
          "name": "stderr",
          "text": [
            "\rProcessing chicken folders:  31%|███       | 41/133 [06:25<16:03, 10.48s/it]"
          ]
        },
        {
          "output_type": "stream",
          "name": "stdout",
          "text": [
            "Error extracting 3D features from /content/drive/MyDrive/segmented/20250719_111035_Saturday_chicken-102_batch-30_chicken-age-30/rgb_20250719_111107_343848_instance-0.npy: Python integer 70623 out of bounds for uint16\n",
            "Processed 20250719_111035_Saturday_chicken-102_batch-30_chicken-age-30: 8 instances\n",
            "Error extracting 3D features from /content/drive/MyDrive/segmented/20250719_110946_Saturday_chicken-101_batch-30_chicken-age-30/rgb_20250719_111014_726379_instance-0.npy: Python integer 70587 out of bounds for uint16\n",
            "Error extracting 3D features from /content/drive/MyDrive/segmented/20250719_110946_Saturday_chicken-101_batch-30_chicken-age-30/rgb_20250719_111006_191748_instance-0.npy: Python integer 67163 out of bounds for uint16\n",
            "Error extracting 3D features from /content/drive/MyDrive/segmented/20250719_110946_Saturday_chicken-101_batch-30_chicken-age-30/rgb_20250719_110959_457180_instance-0.npy: Python integer 67712 out of bounds for uint16\n",
            "Error extracting 3D features from /content/drive/MyDrive/segmented/20250719_110946_Saturday_chicken-101_batch-30_chicken-age-30/rgb_20250719_111016_527172_instance-0.npy: Python integer 71689 out of bounds for uint16\n",
            "Error extracting 3D features from /content/drive/MyDrive/segmented/20250719_110946_Saturday_chicken-101_batch-30_chicken-age-30/rgb_20250719_111000_860819_instance-0.npy: Python integer 66568 out of bounds for uint16\n",
            "Error extracting 3D features from /content/drive/MyDrive/segmented/20250719_110946_Saturday_chicken-101_batch-30_chicken-age-30/rgb_20250719_111004_407816_instance-0.npy: Python integer 67250 out of bounds for uint16\n",
            "Error extracting 3D features from /content/drive/MyDrive/segmented/20250719_110946_Saturday_chicken-101_batch-30_chicken-age-30/rgb_20250719_110957_702482_instance-0.npy: Python integer 66812 out of bounds for uint16\n"
          ]
        },
        {
          "output_type": "stream",
          "name": "stderr",
          "text": [
            "\rProcessing chicken folders:  32%|███▏      | 42/133 [06:32<14:02,  9.25s/it]"
          ]
        },
        {
          "output_type": "stream",
          "name": "stdout",
          "text": [
            "Error extracting 3D features from /content/drive/MyDrive/segmented/20250719_110946_Saturday_chicken-101_batch-30_chicken-age-30/rgb_20250719_111018_458197_instance-0.npy: Python integer 72639 out of bounds for uint16\n",
            "Processed 20250719_110946_Saturday_chicken-101_batch-30_chicken-age-30: 8 instances\n",
            "Error extracting 3D features from /content/drive/MyDrive/segmented/20250719_110852_Saturday_chicken-100_batch-30_chicken-age-30/rgb_20250719_110910_744165_instance-0.npy: Python integer 68262 out of bounds for uint16\n",
            "Error extracting 3D features from /content/drive/MyDrive/segmented/20250719_110852_Saturday_chicken-100_batch-30_chicken-age-30/rgb_20250719_110925_873003_instance-0.npy: Python integer 67847 out of bounds for uint16\n",
            "Error extracting 3D features from /content/drive/MyDrive/segmented/20250719_110852_Saturday_chicken-100_batch-30_chicken-age-30/rgb_20250719_110927_716063_instance-0.npy: Python integer 69325 out of bounds for uint16\n",
            "Error extracting 3D features from /content/drive/MyDrive/segmented/20250719_110852_Saturday_chicken-100_batch-30_chicken-age-30/rgb_20250719_110918_222851_instance-0.npy: Python integer 66597 out of bounds for uint16\n",
            "Error extracting 3D features from /content/drive/MyDrive/segmented/20250719_110852_Saturday_chicken-100_batch-30_chicken-age-30/rgb_20250719_110913_903441_instance-0.npy: Python integer 68562 out of bounds for uint16\n",
            "Error extracting 3D features from /content/drive/MyDrive/segmented/20250719_110852_Saturday_chicken-100_batch-30_chicken-age-30/rgb_20250719_110907_829713_instance-0.npy: Python integer 69488 out of bounds for uint16\n",
            "Error extracting 3D features from /content/drive/MyDrive/segmented/20250719_110852_Saturday_chicken-100_batch-30_chicken-age-30/rgb_20250719_110912_633657_instance-0.npy: Python integer 68997 out of bounds for uint16\n"
          ]
        },
        {
          "output_type": "stream",
          "name": "stderr",
          "text": [
            "\rProcessing chicken folders:  32%|███▏      | 43/133 [06:39<13:12,  8.81s/it]"
          ]
        },
        {
          "output_type": "stream",
          "name": "stdout",
          "text": [
            "Error extracting 3D features from /content/drive/MyDrive/segmented/20250719_110852_Saturday_chicken-100_batch-30_chicken-age-30/rgb_20250719_110915_561662_instance-0.npy: Python integer 67269 out of bounds for uint16\n",
            "Processed 20250719_110852_Saturday_chicken-100_batch-30_chicken-age-30: 11 instances\n"
          ]
        },
        {
          "output_type": "stream",
          "name": "stderr",
          "text": [
            "\rProcessing chicken folders:  33%|███▎      | 44/133 [06:56<16:43, 11.27s/it]"
          ]
        },
        {
          "output_type": "stream",
          "name": "stdout",
          "text": [
            "Processed 20250719_110739_Saturday_chicken-99_batch-30_chicken-age-30: 23 instances\n"
          ]
        },
        {
          "output_type": "stream",
          "name": "stderr",
          "text": [
            "\rProcessing chicken folders:  34%|███▍      | 45/133 [07:04<14:48, 10.10s/it]"
          ]
        },
        {
          "output_type": "stream",
          "name": "stdout",
          "text": [
            "Processed 20250719_110629_Saturday_chicken-98_batch-30_chicken-age-30: 10 instances\n"
          ]
        },
        {
          "output_type": "stream",
          "name": "stderr",
          "text": [
            "\rProcessing chicken folders:  35%|███▍      | 46/133 [07:17<16:09, 11.15s/it]"
          ]
        },
        {
          "output_type": "stream",
          "name": "stdout",
          "text": [
            "Processed 20250717_112309_Thursday_chicken-97_batch-28_chicken-age-28: 18 instances\n"
          ]
        },
        {
          "output_type": "stream",
          "name": "stderr",
          "text": [
            "\rProcessing chicken folders:  35%|███▌      | 47/133 [07:28<15:31, 10.83s/it]"
          ]
        },
        {
          "output_type": "stream",
          "name": "stdout",
          "text": [
            "Processed 20250717_112155_Thursday_chicken-96_batch-28_chicken-age-28: 14 instances\n"
          ]
        },
        {
          "output_type": "stream",
          "name": "stderr",
          "text": [
            "\rProcessing chicken folders:  36%|███▌      | 48/133 [07:36<14:08,  9.98s/it]"
          ]
        },
        {
          "output_type": "stream",
          "name": "stdout",
          "text": [
            "Processed 20250717_112030_Thursday_chicken-95_batch-28_chicken-age-28: 11 instances\n"
          ]
        },
        {
          "output_type": "stream",
          "name": "stderr",
          "text": [
            "\rProcessing chicken folders:  37%|███▋      | 49/133 [07:44<13:29,  9.64s/it]"
          ]
        },
        {
          "output_type": "stream",
          "name": "stdout",
          "text": [
            "Processed 20250717_111924_Thursday_chicken-94_batch-28_chicken-age-28: 12 instances\n"
          ]
        },
        {
          "output_type": "stream",
          "name": "stderr",
          "text": [
            "\rProcessing chicken folders:  38%|███▊      | 50/133 [07:52<12:36,  9.11s/it]"
          ]
        },
        {
          "output_type": "stream",
          "name": "stdout",
          "text": [
            "Processed 20250717_111815_Thursday_chicken-93_batch-28_chicken-age-28: 11 instances\n"
          ]
        },
        {
          "output_type": "stream",
          "name": "stderr",
          "text": [
            "\rProcessing chicken folders:  38%|███▊      | 51/133 [08:07<14:50, 10.86s/it]"
          ]
        },
        {
          "output_type": "stream",
          "name": "stdout",
          "text": [
            "Processed 20250717_111714_Thursday_chicken-92_batch-28_chicken-age-28: 20 instances\n"
          ]
        },
        {
          "output_type": "stream",
          "name": "stderr",
          "text": [
            "\rProcessing chicken folders:  39%|███▉      | 52/133 [08:19<15:10, 11.24s/it]"
          ]
        },
        {
          "output_type": "stream",
          "name": "stdout",
          "text": [
            "Processed 20250717_111555_Thursday_chicken-91_batch-28_chicken-age-28: 16 instances\n"
          ]
        },
        {
          "output_type": "stream",
          "name": "stderr",
          "text": [
            "\rProcessing chicken folders:  40%|███▉      | 53/133 [08:25<12:53,  9.67s/it]"
          ]
        },
        {
          "output_type": "stream",
          "name": "stdout",
          "text": [
            "Processed 20250717_111445_Thursday_chicken-90_batch-28_chicken-age-28: 8 instances\n"
          ]
        },
        {
          "output_type": "stream",
          "name": "stderr",
          "text": [
            "\rProcessing chicken folders:  41%|████      | 54/133 [08:51<19:02, 14.46s/it]"
          ]
        },
        {
          "output_type": "stream",
          "name": "stdout",
          "text": [
            "Processed 20250717_111337_Thursday_chicken-89_batch-28_chicken-age-28: 36 instances\n"
          ]
        },
        {
          "output_type": "stream",
          "name": "stderr",
          "text": [
            "\rProcessing chicken folders:  41%|████▏     | 55/133 [08:57<15:41, 12.07s/it]"
          ]
        },
        {
          "output_type": "stream",
          "name": "stdout",
          "text": [
            "Processed 20250717_111226_Thursday_chicken-88_batch-28_chicken-age-28: 9 instances\n"
          ]
        },
        {
          "output_type": "stream",
          "name": "stderr",
          "text": [
            "\rProcessing chicken folders:  42%|████▏     | 56/133 [09:13<17:00, 13.25s/it]"
          ]
        },
        {
          "output_type": "stream",
          "name": "stdout",
          "text": [
            "Processed 20250717_111103_Thursday_chicken-87_batch-28_chicken-age-28: 22 instances\n"
          ]
        },
        {
          "output_type": "stream",
          "name": "stderr",
          "text": [
            "\rProcessing chicken folders:  43%|████▎     | 57/133 [09:27<16:43, 13.20s/it]"
          ]
        },
        {
          "output_type": "stream",
          "name": "stdout",
          "text": [
            "Processed 20250717_110940_Thursday_chicken-86_batch-28_chicken-age-28: 18 instances\n"
          ]
        },
        {
          "output_type": "stream",
          "name": "stderr",
          "text": [
            "\rProcessing chicken folders:  44%|████▎     | 58/133 [09:34<14:19, 11.46s/it]"
          ]
        },
        {
          "output_type": "stream",
          "name": "stdout",
          "text": [
            "Processed 20250717_110825_Thursday_chicken-85_batch-28_chicken-age-28: 10 instances\n"
          ]
        },
        {
          "output_type": "stream",
          "name": "stderr",
          "text": [
            "\rProcessing chicken folders:  44%|████▍     | 59/133 [09:38<11:30,  9.33s/it]"
          ]
        },
        {
          "output_type": "stream",
          "name": "stdout",
          "text": [
            "Processed 20250717_110713_Thursday_chicken-84_batch-28_chicken-age-28: 6 instances\n"
          ]
        },
        {
          "output_type": "stream",
          "name": "stderr",
          "text": [
            "\rProcessing chicken folders:  45%|████▌     | 60/133 [09:47<11:09,  9.18s/it]"
          ]
        },
        {
          "output_type": "stream",
          "name": "stdout",
          "text": [
            "Processed 20250717_110533_Thursday_chicken-83_batch-28_chicken-age-28: 12 instances\n"
          ]
        },
        {
          "output_type": "stream",
          "name": "stderr",
          "text": [
            "\rProcessing chicken folders:  46%|████▌     | 61/133 [09:59<11:49,  9.85s/it]"
          ]
        },
        {
          "output_type": "stream",
          "name": "stdout",
          "text": [
            "Processed 20250717_110353_Thursday_chicken-82_batch-28_chicken-age-28: 15 instances\n"
          ]
        },
        {
          "output_type": "stream",
          "name": "stderr",
          "text": [
            "\rProcessing chicken folders:  47%|████▋     | 62/133 [10:06<10:43,  9.06s/it]"
          ]
        },
        {
          "output_type": "stream",
          "name": "stdout",
          "text": [
            "Processed 20250717_110245_Thursday_chicken-81_batch-28_chicken-age-28: 10 instances\n"
          ]
        },
        {
          "output_type": "stream",
          "name": "stderr",
          "text": [
            "\rProcessing chicken folders:  47%|████▋     | 63/133 [10:17<11:15,  9.65s/it]"
          ]
        },
        {
          "output_type": "stream",
          "name": "stdout",
          "text": [
            "Processed 20250717_110155_Thursday_chicken-80_batch-28_chicken-age-28: 16 instances\n"
          ]
        },
        {
          "output_type": "stream",
          "name": "stderr",
          "text": [
            "\rProcessing chicken folders:  48%|████▊     | 64/133 [10:22<09:42,  8.44s/it]"
          ]
        },
        {
          "output_type": "stream",
          "name": "stdout",
          "text": [
            "Processed 20250717_110102_Thursday_chicken-79_batch-28_chicken-age-28: 8 instances\n"
          ]
        },
        {
          "output_type": "stream",
          "name": "stderr",
          "text": [
            "\rProcessing chicken folders:  49%|████▉     | 65/133 [10:29<08:54,  7.86s/it]"
          ]
        },
        {
          "output_type": "stream",
          "name": "stdout",
          "text": [
            "Processed 20250717_110007_Thursday_chicken-78_batch-28_chicken-age-28: 9 instances\n"
          ]
        },
        {
          "output_type": "stream",
          "name": "stderr",
          "text": [
            "\rProcessing chicken folders:  50%|████▉     | 66/133 [10:36<08:39,  7.75s/it]"
          ]
        },
        {
          "output_type": "stream",
          "name": "stdout",
          "text": [
            "Processed 20250717_105924_Thursday_chicken-77_batch-28_chicken-age-28: 10 instances\n"
          ]
        },
        {
          "output_type": "stream",
          "name": "stderr",
          "text": [
            "\rProcessing chicken folders:  50%|█████     | 67/133 [10:48<09:52,  8.97s/it]"
          ]
        },
        {
          "output_type": "stream",
          "name": "stdout",
          "text": [
            "Processed 20250717_105809_Thursday_chicken-76_batch-28_chicken-age-28: 16 instances\n"
          ]
        },
        {
          "output_type": "stream",
          "name": "stderr",
          "text": [
            "\rProcessing chicken folders:  51%|█████     | 68/133 [10:59<10:10,  9.39s/it]"
          ]
        },
        {
          "output_type": "stream",
          "name": "stdout",
          "text": [
            "Processed 20250717_105713_Thursday_chicken-75_batch-28_chicken-age-28: 12 instances\n"
          ]
        },
        {
          "output_type": "stream",
          "name": "stderr",
          "text": [
            "\rProcessing chicken folders:  52%|█████▏    | 69/133 [11:11<11:04, 10.39s/it]"
          ]
        },
        {
          "output_type": "stream",
          "name": "stdout",
          "text": [
            "Processed 20250717_105614_Thursday_chicken-74_batch-28_chicken-age-28: 14 instances\n"
          ]
        },
        {
          "output_type": "stream",
          "name": "stderr",
          "text": [
            "\rProcessing chicken folders:  53%|█████▎    | 70/133 [11:17<09:24,  8.96s/it]"
          ]
        },
        {
          "output_type": "stream",
          "name": "stdout",
          "text": [
            "Processed 20250716_144657_Wednesday_chicken-69_batch-27_chicken-age-27: 8 instances\n"
          ]
        },
        {
          "output_type": "stream",
          "name": "stderr",
          "text": [
            "\rProcessing chicken folders:  53%|█████▎    | 71/133 [11:25<09:04,  8.78s/it]"
          ]
        },
        {
          "output_type": "stream",
          "name": "stdout",
          "text": [
            "Processed 20250716_144555_Wednesday_chicken-68_batch-27_chicken-age-27: 10 instances\n"
          ]
        },
        {
          "output_type": "stream",
          "name": "stderr",
          "text": [
            "\rProcessing chicken folders:  54%|█████▍    | 72/133 [11:33<08:38,  8.50s/it]"
          ]
        },
        {
          "output_type": "stream",
          "name": "stdout",
          "text": [
            "Processed 20250716_144513_Wednesday_chicken-67_batch-27_chicken-age-27: 10 instances\n"
          ]
        },
        {
          "output_type": "stream",
          "name": "stderr",
          "text": [
            "\rProcessing chicken folders:  55%|█████▍    | 73/133 [11:38<07:32,  7.54s/it]"
          ]
        },
        {
          "output_type": "stream",
          "name": "stdout",
          "text": [
            "Processed 20250716_144440_Wednesday_chicken-66_batch-27_chicken-age-27: 7 instances\n"
          ]
        },
        {
          "output_type": "stream",
          "name": "stderr",
          "text": [
            "\rProcessing chicken folders:  56%|█████▌    | 74/133 [11:45<07:11,  7.31s/it]"
          ]
        },
        {
          "output_type": "stream",
          "name": "stdout",
          "text": [
            "Processed 20250716_144345_Wednesday_chicken-65_batch-27_chicken-age-27: 9 instances\n"
          ]
        },
        {
          "output_type": "stream",
          "name": "stderr",
          "text": [
            "\rProcessing chicken folders:  56%|█████▋    | 75/133 [11:51<06:38,  6.88s/it]"
          ]
        },
        {
          "output_type": "stream",
          "name": "stdout",
          "text": [
            "Processed 20250716_144214_Wednesday_chicken-63_batch-27_chicken-age-27: 8 instances\n"
          ]
        },
        {
          "output_type": "stream",
          "name": "stderr",
          "text": [
            "\rProcessing chicken folders:  57%|█████▋    | 76/133 [11:57<06:09,  6.49s/it]"
          ]
        },
        {
          "output_type": "stream",
          "name": "stdout",
          "text": [
            "Processed 20250716_144125_Wednesday_chicken-62_batch-27_chicken-age-27: 8 instances\n"
          ]
        },
        {
          "output_type": "stream",
          "name": "stderr",
          "text": [
            "\rProcessing chicken folders:  58%|█████▊    | 77/133 [12:06<06:47,  7.27s/it]"
          ]
        },
        {
          "output_type": "stream",
          "name": "stdout",
          "text": [
            "Processed 20250716_144038_Wednesday_chicken-61_batch-27_chicken-age-27: 12 instances\n"
          ]
        },
        {
          "output_type": "stream",
          "name": "stderr",
          "text": [
            "\rProcessing chicken folders:  59%|█████▊    | 78/133 [12:09<05:39,  6.17s/it]"
          ]
        },
        {
          "output_type": "stream",
          "name": "stdout",
          "text": [
            "Processed 20250716_143734_Wednesday_chicken-60_batch-27_chicken-age-27: 5 instances\n"
          ]
        },
        {
          "output_type": "stream",
          "name": "stderr",
          "text": [
            "\rProcessing chicken folders:  59%|█████▉    | 79/133 [12:22<07:16,  8.09s/it]"
          ]
        },
        {
          "output_type": "stream",
          "name": "stdout",
          "text": [
            "Processed 20250714_132846_Monday_chicken-58_batch-25_chicken-age-25: 16 instances\n"
          ]
        },
        {
          "output_type": "stream",
          "name": "stderr",
          "text": [
            "\rProcessing chicken folders:  60%|██████    | 80/133 [12:30<07:07,  8.06s/it]"
          ]
        },
        {
          "output_type": "stream",
          "name": "stdout",
          "text": [
            "Processed 20250714_132806_Monday_chicken-57_batch-25_chicken-age-25: 11 instances\n"
          ]
        },
        {
          "output_type": "stream",
          "name": "stderr",
          "text": [
            "\rProcessing chicken folders:  61%|██████    | 81/133 [12:38<06:54,  7.98s/it]"
          ]
        },
        {
          "output_type": "stream",
          "name": "stdout",
          "text": [
            "Processed 20250714_132733_Monday_chicken-56_batch-25_chicken-age-25: 11 instances\n"
          ]
        },
        {
          "output_type": "stream",
          "name": "stderr",
          "text": [
            "\rProcessing chicken folders:  62%|██████▏   | 82/133 [12:46<06:59,  8.22s/it]"
          ]
        },
        {
          "output_type": "stream",
          "name": "stdout",
          "text": [
            "Processed 20250714_132703_Monday_chicken-55_batch-25_chicken-age-25: 11 instances\n"
          ]
        },
        {
          "output_type": "stream",
          "name": "stderr",
          "text": [
            "\rProcessing chicken folders:  62%|██████▏   | 83/133 [12:53<06:24,  7.69s/it]"
          ]
        },
        {
          "output_type": "stream",
          "name": "stdout",
          "text": [
            "Processed 20250714_132552_Monday_chicken-54_batch-25_chicken-age-25: 9 instances\n"
          ]
        },
        {
          "output_type": "stream",
          "name": "stderr",
          "text": [
            "\rProcessing chicken folders:  63%|██████▎   | 84/133 [13:00<06:14,  7.64s/it]"
          ]
        },
        {
          "output_type": "stream",
          "name": "stdout",
          "text": [
            "Processed 20250714_132515_Monday_chicken-53_batch-25_chicken-age-25: 9 instances\n"
          ]
        },
        {
          "output_type": "stream",
          "name": "stderr",
          "text": [
            "\rProcessing chicken folders:  64%|██████▍   | 85/133 [13:07<05:51,  7.31s/it]"
          ]
        },
        {
          "output_type": "stream",
          "name": "stdout",
          "text": [
            "Processed 20250714_132429_Monday_chicken-52_batch-25_chicken-age-25: 9 instances\n"
          ]
        },
        {
          "output_type": "stream",
          "name": "stderr",
          "text": [
            "\rProcessing chicken folders:  65%|██████▍   | 86/133 [13:16<06:11,  7.91s/it]"
          ]
        },
        {
          "output_type": "stream",
          "name": "stdout",
          "text": [
            "Processed 20250714_132335_Monday_chicken-51_batch-25_chicken-age-25: 11 instances\n"
          ]
        },
        {
          "output_type": "stream",
          "name": "stderr",
          "text": [
            "\rProcessing chicken folders:  65%|██████▌   | 87/133 [13:25<06:13,  8.12s/it]"
          ]
        },
        {
          "output_type": "stream",
          "name": "stdout",
          "text": [
            "Processed 20250714_132250_Monday_chicken-50_batch-25_chicken-age-25: 11 instances\n"
          ]
        },
        {
          "output_type": "stream",
          "name": "stderr",
          "text": [
            "\rProcessing chicken folders:  66%|██████▌   | 88/133 [13:38<07:10,  9.58s/it]"
          ]
        },
        {
          "output_type": "stream",
          "name": "stdout",
          "text": [
            "Processed 20250714_132202_Monday_chicken-49_batch-25_chicken-age-25: 18 instances\n"
          ]
        },
        {
          "output_type": "stream",
          "name": "stderr",
          "text": [
            "\rProcessing chicken folders:  67%|██████▋   | 89/133 [13:46<06:38,  9.05s/it]"
          ]
        },
        {
          "output_type": "stream",
          "name": "stdout",
          "text": [
            "Processed 20250714_132121_Monday_chicken-48_batch-25_chicken-age-25: 11 instances\n"
          ]
        },
        {
          "output_type": "stream",
          "name": "stderr",
          "text": [
            "\rProcessing chicken folders:  68%|██████▊   | 90/133 [13:53<06:09,  8.59s/it]"
          ]
        },
        {
          "output_type": "stream",
          "name": "stdout",
          "text": [
            "Processed 20250714_132050_Monday_chicken-47_batch-25_chicken-age-25: 9 instances\n"
          ]
        },
        {
          "output_type": "stream",
          "name": "stderr",
          "text": [
            "\rProcessing chicken folders:  68%|██████▊   | 91/133 [13:59<05:24,  7.74s/it]"
          ]
        },
        {
          "output_type": "stream",
          "name": "stdout",
          "text": [
            "Processed 20250714_132011_Monday_chicken-46_batch-25_chicken-age-25: 8 instances\n"
          ]
        },
        {
          "output_type": "stream",
          "name": "stderr",
          "text": [
            "\rProcessing chicken folders:  69%|██████▉   | 92/133 [14:10<05:57,  8.72s/it]"
          ]
        },
        {
          "output_type": "stream",
          "name": "stdout",
          "text": [
            "Processed 20250714_131934_Monday_chicken-45_batch-25_chicken-age-25: 15 instances\n"
          ]
        },
        {
          "output_type": "stream",
          "name": "stderr",
          "text": [
            "\rProcessing chicken folders:  70%|██████▉   | 93/133 [14:17<05:28,  8.22s/it]"
          ]
        },
        {
          "output_type": "stream",
          "name": "stdout",
          "text": [
            "Processed 20250714_131900_Monday_chicken-44_batch-25_chicken-age-25: 10 instances\n"
          ]
        },
        {
          "output_type": "stream",
          "name": "stderr",
          "text": [
            "\rProcessing chicken folders:  71%|███████   | 94/133 [14:26<05:33,  8.55s/it]"
          ]
        },
        {
          "output_type": "stream",
          "name": "stdout",
          "text": [
            "Processed 20250714_131748_Monday_chicken-42_batch-25_chicken-age-25: 10 instances\n"
          ]
        },
        {
          "output_type": "stream",
          "name": "stderr",
          "text": [
            "\rProcessing chicken folders:  71%|███████▏  | 95/133 [14:33<05:03,  7.98s/it]"
          ]
        },
        {
          "output_type": "stream",
          "name": "stdout",
          "text": [
            "Processed 20250714_131823_Monday_chicken-43_batch-25_chicken-age-25: 9 instances\n"
          ]
        },
        {
          "output_type": "stream",
          "name": "stderr",
          "text": [
            "\rProcessing chicken folders:  72%|███████▏  | 96/133 [14:40<04:48,  7.80s/it]"
          ]
        },
        {
          "output_type": "stream",
          "name": "stdout",
          "text": [
            "Processed 20250714_131706_Monday_chicken-41_batch-25_chicken-age-25: 10 instances\n"
          ]
        },
        {
          "output_type": "stream",
          "name": "stderr",
          "text": [
            "\rProcessing chicken folders:  73%|███████▎  | 97/133 [14:48<04:36,  7.69s/it]"
          ]
        },
        {
          "output_type": "stream",
          "name": "stdout",
          "text": [
            "Processed 20250714_131634_Monday_chicken-40_batch-25_chicken-age-25: 9 instances\n"
          ]
        },
        {
          "output_type": "stream",
          "name": "stderr",
          "text": [
            "\rProcessing chicken folders:  74%|███████▎  | 98/133 [14:53<04:04,  6.97s/it]"
          ]
        },
        {
          "output_type": "stream",
          "name": "stdout",
          "text": [
            "Processed 20250714_131602_Monday_chicken-39_batch-25_chicken-age-25: 7 instances\n"
          ]
        },
        {
          "output_type": "stream",
          "name": "stderr",
          "text": [
            "\rProcessing chicken folders:  74%|███████▍  | 99/133 [14:58<03:38,  6.44s/it]"
          ]
        },
        {
          "output_type": "stream",
          "name": "stdout",
          "text": [
            "Processed 20250714_131453_Monday_chicken-38_batch-25_chicken-age-25: 7 instances\n",
            "Error extracting 3D features from /content/drive/MyDrive/segmented/20250714_131357_Monday_chicken-37_batch-25_chicken-age-25/rgb_20250714_131444_952858_instance-0.npy: Python integer 66127 out of bounds for uint16\n"
          ]
        },
        {
          "output_type": "stream",
          "name": "stderr",
          "text": [
            "\rProcessing chicken folders:  75%|███████▌  | 100/133 [15:03<03:16,  5.96s/it]"
          ]
        },
        {
          "output_type": "stream",
          "name": "stdout",
          "text": [
            "Processed 20250714_131357_Monday_chicken-37_batch-25_chicken-age-25: 7 instances\n"
          ]
        },
        {
          "output_type": "stream",
          "name": "stderr",
          "text": [
            "\rProcessing chicken folders:  76%|███████▌  | 101/133 [15:09<03:04,  5.77s/it]"
          ]
        },
        {
          "output_type": "stream",
          "name": "stdout",
          "text": [
            "Processed 20250714_131323_Monday_chicken-36_batch-25_chicken-age-25: 8 instances\n"
          ]
        },
        {
          "output_type": "stream",
          "name": "stderr",
          "text": [
            "\rProcessing chicken folders:  77%|███████▋  | 102/133 [15:15<03:08,  6.07s/it]"
          ]
        },
        {
          "output_type": "stream",
          "name": "stdout",
          "text": [
            "Processed 20250714_131221_Monday_chicken-35_batch-25_chicken-age-25: 8 instances\n"
          ]
        },
        {
          "output_type": "stream",
          "name": "stderr",
          "text": [
            "\rProcessing chicken folders:  77%|███████▋  | 103/133 [15:21<03:02,  6.10s/it]"
          ]
        },
        {
          "output_type": "stream",
          "name": "stdout",
          "text": [
            "Processed 20250714_131124_Monday_chicken-34_batch-25_chicken-age-25: 8 instances\n"
          ]
        },
        {
          "output_type": "stream",
          "name": "stderr",
          "text": [
            "\rProcessing chicken folders:  78%|███████▊  | 104/133 [15:27<02:55,  6.07s/it]"
          ]
        },
        {
          "output_type": "stream",
          "name": "stdout",
          "text": [
            "Processed 20250712_112515_Saturday_chicken-30_batch-23_chicken-age-23: 8 instances\n"
          ]
        },
        {
          "output_type": "stream",
          "name": "stderr",
          "text": [
            "\rProcessing chicken folders:  79%|███████▉  | 105/133 [15:34<02:55,  6.26s/it]"
          ]
        },
        {
          "output_type": "stream",
          "name": "stdout",
          "text": [
            "Processed 20250714_131039_Monday_chicken-33_batch-25_chicken-age-25: 10 instances\n"
          ]
        },
        {
          "output_type": "stream",
          "name": "stderr",
          "text": [
            "\rProcessing chicken folders:  80%|███████▉  | 106/133 [15:39<02:33,  5.70s/it]"
          ]
        },
        {
          "output_type": "stream",
          "name": "stdout",
          "text": [
            "Processed 20250712_112435_Saturday_chicken-29_batch-23_chicken-age-23: 6 instances\n"
          ]
        },
        {
          "output_type": "stream",
          "name": "stderr",
          "text": [
            "\rProcessing chicken folders:  80%|████████  | 107/133 [15:46<02:40,  6.18s/it]"
          ]
        },
        {
          "output_type": "stream",
          "name": "stdout",
          "text": [
            "Processed 20250712_112404_Saturday_chicken-28_batch-23_chicken-age-23: 10 instances\n"
          ]
        },
        {
          "output_type": "stream",
          "name": "stderr",
          "text": [
            "\rProcessing chicken folders:  81%|████████  | 108/133 [15:50<02:18,  5.53s/it]"
          ]
        },
        {
          "output_type": "stream",
          "name": "stdout",
          "text": [
            "Processed 20250712_112329_Saturday_chicken-27_batch-23_chicken-age-23: 6 instances\n"
          ]
        },
        {
          "output_type": "stream",
          "name": "stderr",
          "text": [
            "\rProcessing chicken folders:  82%|████████▏ | 109/133 [15:57<02:24,  6.02s/it]"
          ]
        },
        {
          "output_type": "stream",
          "name": "stdout",
          "text": [
            "Processed 20250712_112247_Saturday_chicken-26_batch-23_chicken-age-23: 10 instances\n"
          ]
        },
        {
          "output_type": "stream",
          "name": "stderr",
          "text": [
            "\rProcessing chicken folders:  83%|████████▎ | 110/133 [16:02<02:13,  5.78s/it]"
          ]
        },
        {
          "output_type": "stream",
          "name": "stdout",
          "text": [
            "Processed 20250712_112136_Saturday_chicken-25_batch-23_chicken-age-23: 7 instances\n"
          ]
        },
        {
          "output_type": "stream",
          "name": "stderr",
          "text": [
            "\rProcessing chicken folders:  83%|████████▎ | 111/133 [16:11<02:23,  6.52s/it]"
          ]
        },
        {
          "output_type": "stream",
          "name": "stdout",
          "text": [
            "Processed 20250712_112032_Saturday_chicken-24_batch-23_chicken-age-23: 10 instances\n"
          ]
        },
        {
          "output_type": "stream",
          "name": "stderr",
          "text": [
            "\rProcessing chicken folders:  84%|████████▍ | 112/133 [16:19<02:28,  7.08s/it]"
          ]
        },
        {
          "output_type": "stream",
          "name": "stdout",
          "text": [
            "Processed 20250712_111954_Saturday_chicken-23_batch-23_chicken-age-23: 11 instances\n"
          ]
        },
        {
          "output_type": "stream",
          "name": "stderr",
          "text": [
            "\rProcessing chicken folders:  85%|████████▍ | 113/133 [16:25<02:16,  6.83s/it]"
          ]
        },
        {
          "output_type": "stream",
          "name": "stdout",
          "text": [
            "Processed 20250712_111926_Saturday_chicken-22_batch-23_chicken-age-23: 9 instances\n"
          ]
        },
        {
          "output_type": "stream",
          "name": "stderr",
          "text": [
            "\rProcessing chicken folders:  86%|████████▌ | 114/133 [16:33<02:13,  7.03s/it]"
          ]
        },
        {
          "output_type": "stream",
          "name": "stdout",
          "text": [
            "Processed 20250712_111844_Saturday_chicken-21_batch-23_chicken-age-23: 10 instances\n"
          ]
        },
        {
          "output_type": "stream",
          "name": "stderr",
          "text": [
            "\rProcessing chicken folders:  86%|████████▋ | 115/133 [16:40<02:07,  7.10s/it]"
          ]
        },
        {
          "output_type": "stream",
          "name": "stdout",
          "text": [
            "Processed 20250712_111718_Saturday_chicken-20_batch-23_chicken-age-23: 10 instances\n"
          ]
        },
        {
          "output_type": "stream",
          "name": "stderr",
          "text": [
            "\rProcessing chicken folders:  87%|████████▋ | 116/133 [16:44<01:46,  6.29s/it]"
          ]
        },
        {
          "output_type": "stream",
          "name": "stdout",
          "text": [
            "Processed 20250712_111648_Saturday_chicken-19_batch-23_chicken-age-23: 5 instances\n"
          ]
        },
        {
          "output_type": "stream",
          "name": "stderr",
          "text": [
            "\rProcessing chicken folders:  88%|████████▊ | 117/133 [16:55<01:59,  7.49s/it]"
          ]
        },
        {
          "output_type": "stream",
          "name": "stdout",
          "text": [
            "Processed 20250712_111529_Saturday_chicken-18_batch-23_chicken-age-23: 14 instances\n"
          ]
        },
        {
          "output_type": "stream",
          "name": "stderr",
          "text": [
            "\rProcessing chicken folders:  89%|████████▊ | 118/133 [17:06<02:08,  8.55s/it]"
          ]
        },
        {
          "output_type": "stream",
          "name": "stdout",
          "text": [
            "Processed 20250712_111357_Saturday_chicken-17_batch-23_chicken-age-23: 15 instances\n"
          ]
        },
        {
          "output_type": "stream",
          "name": "stderr",
          "text": [
            "\rProcessing chicken folders:  89%|████████▉ | 119/133 [17:14<02:00,  8.62s/it]"
          ]
        },
        {
          "output_type": "stream",
          "name": "stdout",
          "text": [
            "Processed 20250712_111227_Saturday_chicken-16_batch-23_chicken-age-23: 12 instances\n"
          ]
        },
        {
          "output_type": "stream",
          "name": "stderr",
          "text": [
            "\rProcessing chicken folders:  90%|█████████ | 120/133 [17:17<01:30,  6.95s/it]"
          ]
        },
        {
          "output_type": "stream",
          "name": "stdout",
          "text": [
            "Processed 20250712_111142_Saturday_chicken-15_batch-23_chicken-age-23: 4 instances\n"
          ]
        },
        {
          "output_type": "stream",
          "name": "stderr",
          "text": [
            "\rProcessing chicken folders:  91%|█████████ | 121/133 [17:23<01:18,  6.54s/it]"
          ]
        },
        {
          "output_type": "stream",
          "name": "stdout",
          "text": [
            "Processed 20250712_111055_Saturday_chicken-14_batch-23_chicken-age-23: 8 instances\n"
          ]
        },
        {
          "output_type": "stream",
          "name": "stderr",
          "text": [
            "\rProcessing chicken folders:  92%|█████████▏| 122/133 [17:28<01:06,  6.08s/it]"
          ]
        },
        {
          "output_type": "stream",
          "name": "stdout",
          "text": [
            "Processed 20250712_111012_Saturday_chicken-13_batch-23_chicken-age-23: 7 instances\n"
          ]
        },
        {
          "output_type": "stream",
          "name": "stderr",
          "text": [
            "\rProcessing chicken folders:  92%|█████████▏| 123/133 [17:38<01:12,  7.29s/it]"
          ]
        },
        {
          "output_type": "stream",
          "name": "stdout",
          "text": [
            "Processed 20250712_110908_Saturday_chicken-12_batch-23_chicken-age-23: 14 instances\n"
          ]
        },
        {
          "output_type": "stream",
          "name": "stderr",
          "text": [
            "\rProcessing chicken folders:  93%|█████████▎| 124/133 [17:50<01:17,  8.62s/it]"
          ]
        },
        {
          "output_type": "stream",
          "name": "stdout",
          "text": [
            "Processed 20250712_110728_Saturday_chicken-11_batch-23_chicken-age-23: 15 instances\n"
          ]
        },
        {
          "output_type": "stream",
          "name": "stderr",
          "text": [
            "\rProcessing chicken folders:  94%|█████████▍| 125/133 [17:56<01:01,  7.74s/it]"
          ]
        },
        {
          "output_type": "stream",
          "name": "stdout",
          "text": [
            "Processed 20250712_110543_Saturday_chicken-9_batch-23_chicken-age-23: 7 instances\n"
          ]
        },
        {
          "output_type": "stream",
          "name": "stderr",
          "text": [
            "\rProcessing chicken folders:  95%|█████████▍| 126/133 [17:59<00:45,  6.49s/it]"
          ]
        },
        {
          "output_type": "stream",
          "name": "stdout",
          "text": [
            "Processed 20250712_110635_Saturday_chicken-10_batch-23_chicken-age-23: 5 instances\n"
          ]
        },
        {
          "output_type": "stream",
          "name": "stderr",
          "text": [
            "\rProcessing chicken folders:  95%|█████████▌| 127/133 [18:05<00:37,  6.25s/it]"
          ]
        },
        {
          "output_type": "stream",
          "name": "stdout",
          "text": [
            "Processed 20250712_110443_Saturday_chicken-8_batch-23_chicken-age-23: 8 instances\n"
          ]
        },
        {
          "output_type": "stream",
          "name": "stderr",
          "text": [
            "\rProcessing chicken folders:  96%|█████████▌| 128/133 [18:14<00:35,  7.08s/it]"
          ]
        },
        {
          "output_type": "stream",
          "name": "stdout",
          "text": [
            "Processed 20250712_110310_Saturday_chicken-7_batch-23_chicken-age-23: 12 instances\n"
          ]
        },
        {
          "output_type": "stream",
          "name": "stderr",
          "text": [
            "\rProcessing chicken folders:  97%|█████████▋| 129/133 [18:21<00:28,  7.19s/it]"
          ]
        },
        {
          "output_type": "stream",
          "name": "stdout",
          "text": [
            "Processed 20250712_110210_Saturday_chicken-6_batch-23_chicken-age-23: 10 instances\n"
          ]
        },
        {
          "output_type": "stream",
          "name": "stderr",
          "text": [
            "\rProcessing chicken folders:  98%|█████████▊| 130/133 [18:31<00:23,  7.98s/it]"
          ]
        },
        {
          "output_type": "stream",
          "name": "stdout",
          "text": [
            "Processed 20250712_110126_Saturday_chicken-5_batch-23_chicken-age-23: 12 instances\n"
          ]
        },
        {
          "output_type": "stream",
          "name": "stderr",
          "text": [
            "\rProcessing chicken folders:  98%|█████████▊| 131/133 [18:37<00:14,  7.50s/it]"
          ]
        },
        {
          "output_type": "stream",
          "name": "stdout",
          "text": [
            "Processed 20250712_110040_Saturday_chicken-4_batch-23_chicken-age-23: 8 instances\n"
          ]
        },
        {
          "output_type": "stream",
          "name": "stderr",
          "text": [
            "\rProcessing chicken folders:  99%|█████████▉| 132/133 [19:01<00:12, 12.30s/it]"
          ]
        },
        {
          "output_type": "stream",
          "name": "stdout",
          "text": [
            "Processed 20250712_105946_Saturday_chicken-3_batch-23_chicken-age-23: 13 instances\n"
          ]
        },
        {
          "output_type": "stream",
          "name": "stderr",
          "text": [
            "Processing chicken folders: 100%|██████████| 133/133 [19:07<00:00,  8.63s/it]"
          ]
        },
        {
          "output_type": "stream",
          "name": "stdout",
          "text": [
            "Processed 20250712_105816_Saturday_chicken-2_batch-23_chicken-age-23: 8 instances\n",
            "Feature extraction completed!\n",
            "Output saved to: /content/drive/MyDrive/all_features_clean.csv\n"
          ]
        },
        {
          "output_type": "stream",
          "name": "stderr",
          "text": [
            "\n"
          ]
        }
      ]
    },
    {
      "cell_type": "code",
      "source": [
        "# Cell 5: Merging Extracted Features with 2048D Features\n",
        "# Load the 2048D features CSV\n",
        "fused_df = pd.read_csv(\"/content/drive/MyDrive/fused_features.csv\")\n",
        "\n",
        "# Load the 2D+3D features CSV\n",
        "features_2d_3d_df = pd.read_csv(\"/content/drive/MyDrive/all_features_clean.csv\")\n",
        "\n",
        "# Merge based on Image_ID or other relevant column\n",
        "final_merged_df = pd.merge(fused_df, features_2d_3d_df, left_on='Image_ID', right_on='png_path', how='left')\n",
        "\n",
        "# Save the merged dataset\n",
        "final_output_path = \"/content/drive/MyDrive/final_fused_with_2048_and_2d_3d_features.csv\"\n",
        "final_merged_df.to_csv(final_output_path, index=False)\n",
        "\n",
        "print(f\"Final merged file saved to: {final_output_path}\")\n"
      ],
      "metadata": {
        "id": "TuVmCiWqUaUi"
      },
      "execution_count": null,
      "outputs": []
    },
    {
      "cell_type": "code",
      "source": [
        "# Cell 6: Integrating Weight Data\n",
        "# Load the weights CSV\n",
        "weights_df = pd.read_csv(\"/content/drive/MyDrive/segmented/chicken_sessions.csv\")  # Update with your actual weight file path\n",
        "\n",
        "# Extract Chicken_ID from the session_path (from the weights CSV)\n",
        "def extract_chicken_id_from_path(session_path):\n",
        "    parts = session_path.split('\\\\')\n",
        "    for part in parts:\n",
        "        if \"chicken-\" in part:\n",
        "            return part.split('-')[1]\n",
        "    return None\n",
        "\n",
        "weights_df['Chicken_ID_from_path'] = weights_df['session_path'].apply(extract_chicken_id_from_path)\n",
        "final_merged_df['Chicken_ID_from_path'] = final_merged_df['Image_ID'].apply(lambda x: extract_chicken_id_from_path(x))\n",
        "\n",
        "# Merge the fused dataset with weight data based on Chicken_ID\n",
        "final_with_weights_df = pd.merge(final_merged_df, weights_df[['Chicken_ID_from_path', 'weight_kg']],\n",
        "                                  left_on='Chicken_ID_from_path', right_on='Chicken_ID_from_path', how='left')\n",
        "\n",
        "# Save the final dataset with weights\n",
        "final_output_with_weights_path = \"/content/drive/MyDrive/final_fused_with_weights.csv\"\n",
        "final_with_weights_df.to_csv(final_output_with_weights_path, index=False)\n",
        "\n",
        "print(f\"Final dataset with weights saved to: {final_output_with_weights_path}\")\n"
      ],
      "metadata": {
        "id": "KflLGsQwUZ-Q"
      },
      "execution_count": null,
      "outputs": []
    }
  ]
}